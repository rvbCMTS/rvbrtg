{
 "cells": [
  {
   "cell_type": "markdown",
   "metadata": {},
   "source": [
    "## Esofagus/Hypofarynx"
   ]
  },
  {
   "cell_type": "code",
   "execution_count": 1,
   "metadata": {},
   "outputs": [
    {
     "data": {
      "text/html": [
       "        <script type=\"text/javascript\">\n",
       "        window.PlotlyConfig = {MathJaxConfig: 'local'};\n",
       "        if (window.MathJax) {MathJax.Hub.Config({SVG: {font: \"STIX-Web\"}});}\n",
       "        if (typeof require !== 'undefined') {\n",
       "        require.undef(\"plotly\");\n",
       "        requirejs.config({\n",
       "            paths: {\n",
       "                'plotly': ['https://cdn.plot.ly/plotly-latest.min']\n",
       "            }\n",
       "        });\n",
       "        require(['plotly'], function(Plotly) {\n",
       "            window._Plotly = Plotly;\n",
       "        });\n",
       "        }\n",
       "        </script>\n",
       "        "
      ]
     },
     "metadata": {},
     "output_type": "display_data"
    }
   ],
   "source": [
    "# Importera bibliotek\n",
    "import matplotlib.pyplot as plt # plots\n",
    "import numpy as np # math\n",
    "import pandas as pd\n",
    "pd.options.display.width = 0\n",
    "import plotly.offline as py\n",
    "import plotly.figure_factory as ff\n",
    "import plotly.graph_objs as go\n",
    "from plotly.subplots import make_subplots\n",
    "import plotly.io as pio\n",
    "import plotly.express as px\n",
    "#from scipy.interpolate import interp1d #används ej i denna kod\n",
    "import IPython\n",
    "py.offline.init_notebook_mode(connected=True)"
   ]
  },
  {
   "cell_type": "code",
   "execution_count": 2,
   "metadata": {},
   "outputs": [],
   "source": [
    "# Importera data\n",
    "data_path = 'CG_data/EsofagusHypofarynx2020.json'\n",
    "\n",
    "data = pd.read_json(data_path)\n",
    "\n",
    "# Översättningstabell\n",
    "names_data_path = 'CG_data/Operatörsöversättningslista.csv'\n",
    "\n",
    "names = pd.read_csv(names_data_path)"
   ]
  },
  {
   "cell_type": "code",
   "execution_count": 3,
   "metadata": {},
   "outputs": [
    {
     "name": "stdout",
     "output_type": "stream",
     "text": [
      "Index(['id', 'AcquisitionPlaneId', 'DoseAreaProductTotal', 'DoseRPTotal',\n",
      "       'FluoroDoseAreaProductTotal', 'FluoroDoseRPTotal', 'TotalFluoroTime',\n",
      "       'AcquisitionDoseAreaProductTotal', 'AcquisitionDoseRPTotal',\n",
      "       'TotalAcquisitionTime',\n",
      "       ...\n",
      "       'AETitle', 'DicomPort', 'InventorySystemId', 'AutoQAModalityModelId',\n",
      "       'AutoQASpecificMachineSettings', 'ActiveAutoQA', 'ActiveUpdateAutoQa',\n",
      "       'ModelName', 'MachineTypeId', 'ActiveREMBox'],\n",
      "      dtype='object', length=163)\n",
      "Index(['OperatorPseudonym', ' OperatorName'], dtype='object')\n",
      "Index(['PerformingPhysicianName', 'OperatorName'], dtype='object')\n"
     ]
    }
   ],
   "source": [
    "#Kontrollera vad kolumnerna heter\n",
    "#print(data.columns)\n",
    "#print(names.columns)\n",
    "\n",
    "#Ändra kolumn för att kunna göra en join\n",
    "names.columns = ['PerformingPhysicianName', 'OperatorName']\n",
    "\n",
    "#kontrollera att ändringen blev bra\n",
    "#print(names.columns)"
   ]
  },
  {
   "cell_type": "code",
   "execution_count": 47,
   "metadata": {},
   "outputs": [
    {
     "name": "stdout",
     "output_type": "stream",
     "text": [
      "['Image']\n"
     ]
    }
   ],
   "source": [
    "print(data_names_S08.SourceOfDoseInformation.unique())"
   ]
  },
  {
   "cell_type": "code",
   "execution_count": 4,
   "metadata": {},
   "outputs": [],
   "source": [
    "#Joina dataframes för att få in operatörsnamn\n",
    "data_names = pd.merge(data,names,how = 'left', on = ['PerformingPhysicianName'])\n",
    "\n",
    "#Print för att kolla så att det funkade\n",
    "#print(data_names.OperatorName)"
   ]
  },
  {
   "cell_type": "code",
   "execution_count": 5,
   "metadata": {},
   "outputs": [
    {
     "data": {
      "text/plain": [
       "15406"
      ]
     },
     "execution_count": 5,
     "metadata": {},
     "output_type": "execute_result"
    }
   ],
   "source": [
    "#Kontroll av antal rader (irradiation events)\n",
    "len(data)"
   ]
  },
  {
   "cell_type": "code",
   "execution_count": 6,
   "metadata": {},
   "outputs": [],
   "source": [
    "# Konvertera till rätt datumformat\n",
    "\n",
    "data['DateTimeStarted'] = pd.to_datetime(data['DateTimeStarted'],infer_datetime_format=True)\n",
    "\n",
    "#Kontroll så det funkade\n",
    "#data['DateTimeStarted']"
   ]
  },
  {
   "cell_type": "code",
   "execution_count": 33,
   "metadata": {},
   "outputs": [
    {
     "name": "stdout",
     "output_type": "stream",
     "text": [
      "['U110' 'L3' 'S08' 'U208']\n",
      "15406\n",
      "['S08']\n",
      "524\n"
     ]
    }
   ],
   "source": [
    "#Kolla vilka lab som är med i datat samt antal irradiation events\n",
    "Labs = data_names.DisplayName.unique()\n",
    "print(Labs)\n",
    "print(len(data_names))\n",
    "#Välj endast Skellefteå S08\n",
    "data_names_S08 = data_names[data_names.DisplayName == 'S08']\n",
    "Labs2 = data_names_S08.DisplayName.unique()\n",
    "print(Labs2)\n",
    "print(len(data_names_S08))"
   ]
  },
  {
   "cell_type": "code",
   "execution_count": 35,
   "metadata": {},
   "outputs": [
    {
     "name": "stdout",
     "output_type": "stream",
     "text": [
      "[' Malte Granten' ' Louise Berglund' ' Erik Lindberg' ' Hampus Studahl'\n",
      " ' Per Öberg' ' Malte Granten\\\\Malte Granten' ' Andreas Larsson'\n",
      " ' Peter Sundström' ' Lena Lindgren' nan ' Gataa Khaldun Ghali'\n",
      " ' Annika Öhman' ' Leif Carlgren' ' Athanasios Zouzos' ' Hampus'\n",
      " ' Lena Eriksson']\n"
     ]
    }
   ],
   "source": [
    "# Kontrollera specifika kolumner i Data\n",
    "operators_skel = data_names_S08.OperatorName.unique()\n",
    "print(operators_skel)"
   ]
  },
  {
   "cell_type": "code",
   "execution_count": 36,
   "metadata": {},
   "outputs": [
    {
     "name": "stdout",
     "output_type": "stream",
     "text": [
      "[' Malte Granten' ' Louise Berglund' ' Erik Lindberg' ' Hampus Studahl'\n",
      " ' Per Öberg' ' Andreas Larsson' ' Peter Sundström' ' Lena Lindgren' nan\n",
      " ' Gataa Khaldun Ghali' ' Annika Öhman' ' Leif Carlgren'\n",
      " ' Athanasios Zouzos' ' Lena Eriksson']\n"
     ]
    }
   ],
   "source": [
    "# Korrigera dubbletter\n",
    "data_names_S08_clean = data_names_S08.replace({'OperatorName': {' Malte Granten\\\\Malte Granten': ' Malte Granten',\n",
    "                                        ' Hampus': ' Hampus Studahl'}})\n",
    "\n",
    "operators_skel_clean = data_names_S08_clean.OperatorName.unique()\n",
    "print(operators_skel_clean)"
   ]
  },
  {
   "cell_type": "code",
   "execution_count": 41,
   "metadata": {},
   "outputs": [
    {
     "name": "stdout",
     "output_type": "stream",
     "text": [
      "60\n",
      "524\n"
     ]
    }
   ],
   "source": [
    "#Kopiera data och behåll bara en rad per studie\n",
    "data_studies_S08 = data_names_S08_clean.copy()\n",
    "data_studies_S08.drop_duplicates(subset =\"AccessionNumber\", keep = 'first', inplace = True)\n",
    "\n",
    "#Kontroll av antal rader som kvarstår\n",
    "print(len(data_studies_S08))\n",
    "print(len(data_names_S08_clean))"
   ]
  },
  {
   "cell_type": "code",
   "execution_count": 37,
   "metadata": {},
   "outputs": [
    {
     "data": {
      "text/html": [
       "<div>\n",
       "<style scoped>\n",
       "    .dataframe tbody tr th:only-of-type {\n",
       "        vertical-align: middle;\n",
       "    }\n",
       "\n",
       "    .dataframe tbody tr th {\n",
       "        vertical-align: top;\n",
       "    }\n",
       "\n",
       "    .dataframe thead th {\n",
       "        text-align: right;\n",
       "    }\n",
       "</style>\n",
       "<table border=\"1\" class=\"dataframe\">\n",
       "  <thead>\n",
       "    <tr style=\"text-align: right;\">\n",
       "      <th></th>\n",
       "      <th>AccessionNumber</th>\n",
       "      <th>id</th>\n",
       "      <th>StudyDateTime</th>\n",
       "      <th>DoseAreaProductTotal</th>\n",
       "      <th>DoseRPTotal</th>\n",
       "      <th>FluoroDoseAreaProductTotal</th>\n",
       "      <th>FluoroDoseRPTotal</th>\n",
       "      <th>TotalFluoroTime</th>\n",
       "      <th>AcquisitionDoseAreaProductTotal</th>\n",
       "      <th>AcquisitionDoseRPTotal</th>\n",
       "      <th>TotalAcquisitionTime</th>\n",
       "      <th>PatientAge</th>\n",
       "      <th>StudyDescription</th>\n",
       "      <th>PerformingPhysicianName</th>\n",
       "      <th>OperatorName</th>\n",
       "      <th>RequestedProcedureCode</th>\n",
       "      <th>DisplayName</th>\n",
       "    </tr>\n",
       "  </thead>\n",
       "  <tbody>\n",
       "    <tr>\n",
       "      <th>1635</th>\n",
       "      <td>SERSKE0007284571</td>\n",
       "      <td>40</td>\n",
       "      <td>2020-12-10T06:59:47</td>\n",
       "      <td>1.5945</td>\n",
       "      <td>NaN</td>\n",
       "      <td>1.5945</td>\n",
       "      <td>NaN</td>\n",
       "      <td>2382.0</td>\n",
       "      <td>NaN</td>\n",
       "      <td>NaN</td>\n",
       "      <td>NaN</td>\n",
       "      <td>76</td>\n",
       "      <td>ESOFAGUS BARIUM</td>\n",
       "      <td>PN_TgWnHFtSwu2uGK1Bc5KrVHBLXa5TLkDa3LLRaqJDgQE=</td>\n",
       "      <td>Malte Granten</td>\n",
       "      <td>41100.0</td>\n",
       "      <td>S08</td>\n",
       "    </tr>\n",
       "    <tr>\n",
       "      <th>1636</th>\n",
       "      <td>SERSKE0007284571</td>\n",
       "      <td>40</td>\n",
       "      <td>2020-12-10T06:59:47</td>\n",
       "      <td>1.5945</td>\n",
       "      <td>NaN</td>\n",
       "      <td>1.5945</td>\n",
       "      <td>NaN</td>\n",
       "      <td>2382.0</td>\n",
       "      <td>NaN</td>\n",
       "      <td>NaN</td>\n",
       "      <td>NaN</td>\n",
       "      <td>76</td>\n",
       "      <td>ESOFAGUS BARIUM</td>\n",
       "      <td>PN_TgWnHFtSwu2uGK1Bc5KrVHBLXa5TLkDa3LLRaqJDgQE=</td>\n",
       "      <td>Malte Granten</td>\n",
       "      <td>41100.0</td>\n",
       "      <td>S08</td>\n",
       "    </tr>\n",
       "    <tr>\n",
       "      <th>1637</th>\n",
       "      <td>SERSKE0007284571</td>\n",
       "      <td>40</td>\n",
       "      <td>2020-12-10T06:59:47</td>\n",
       "      <td>1.5945</td>\n",
       "      <td>NaN</td>\n",
       "      <td>1.5945</td>\n",
       "      <td>NaN</td>\n",
       "      <td>2382.0</td>\n",
       "      <td>NaN</td>\n",
       "      <td>NaN</td>\n",
       "      <td>NaN</td>\n",
       "      <td>76</td>\n",
       "      <td>ESOFAGUS BARIUM</td>\n",
       "      <td>PN_TgWnHFtSwu2uGK1Bc5KrVHBLXa5TLkDa3LLRaqJDgQE=</td>\n",
       "      <td>Malte Granten</td>\n",
       "      <td>41100.0</td>\n",
       "      <td>S08</td>\n",
       "    </tr>\n",
       "    <tr>\n",
       "      <th>1638</th>\n",
       "      <td>SERSKE0007284571</td>\n",
       "      <td>40</td>\n",
       "      <td>2020-12-10T06:59:47</td>\n",
       "      <td>1.5945</td>\n",
       "      <td>NaN</td>\n",
       "      <td>1.5945</td>\n",
       "      <td>NaN</td>\n",
       "      <td>2382.0</td>\n",
       "      <td>NaN</td>\n",
       "      <td>NaN</td>\n",
       "      <td>NaN</td>\n",
       "      <td>76</td>\n",
       "      <td>ESOFAGUS BARIUM</td>\n",
       "      <td>PN_TgWnHFtSwu2uGK1Bc5KrVHBLXa5TLkDa3LLRaqJDgQE=</td>\n",
       "      <td>Malte Granten</td>\n",
       "      <td>41100.0</td>\n",
       "      <td>S08</td>\n",
       "    </tr>\n",
       "    <tr>\n",
       "      <th>1639</th>\n",
       "      <td>SERSKE0007284571</td>\n",
       "      <td>40</td>\n",
       "      <td>2020-12-10T06:59:47</td>\n",
       "      <td>1.5945</td>\n",
       "      <td>NaN</td>\n",
       "      <td>1.5945</td>\n",
       "      <td>NaN</td>\n",
       "      <td>2382.0</td>\n",
       "      <td>NaN</td>\n",
       "      <td>NaN</td>\n",
       "      <td>NaN</td>\n",
       "      <td>76</td>\n",
       "      <td>ESOFAGUS BARIUM</td>\n",
       "      <td>PN_TgWnHFtSwu2uGK1Bc5KrVHBLXa5TLkDa3LLRaqJDgQE=</td>\n",
       "      <td>Malte Granten</td>\n",
       "      <td>41100.0</td>\n",
       "      <td>S08</td>\n",
       "    </tr>\n",
       "  </tbody>\n",
       "</table>\n",
       "</div>"
      ],
      "text/plain": [
       "       AccessionNumber  id        StudyDateTime  DoseAreaProductTotal  \\\n",
       "1635  SERSKE0007284571  40  2020-12-10T06:59:47                1.5945   \n",
       "1636  SERSKE0007284571  40  2020-12-10T06:59:47                1.5945   \n",
       "1637  SERSKE0007284571  40  2020-12-10T06:59:47                1.5945   \n",
       "1638  SERSKE0007284571  40  2020-12-10T06:59:47                1.5945   \n",
       "1639  SERSKE0007284571  40  2020-12-10T06:59:47                1.5945   \n",
       "\n",
       "      DoseRPTotal  FluoroDoseAreaProductTotal  FluoroDoseRPTotal  \\\n",
       "1635          NaN                      1.5945                NaN   \n",
       "1636          NaN                      1.5945                NaN   \n",
       "1637          NaN                      1.5945                NaN   \n",
       "1638          NaN                      1.5945                NaN   \n",
       "1639          NaN                      1.5945                NaN   \n",
       "\n",
       "      TotalFluoroTime  AcquisitionDoseAreaProductTotal  \\\n",
       "1635           2382.0                              NaN   \n",
       "1636           2382.0                              NaN   \n",
       "1637           2382.0                              NaN   \n",
       "1638           2382.0                              NaN   \n",
       "1639           2382.0                              NaN   \n",
       "\n",
       "      AcquisitionDoseRPTotal  TotalAcquisitionTime  PatientAge  \\\n",
       "1635                     NaN                   NaN          76   \n",
       "1636                     NaN                   NaN          76   \n",
       "1637                     NaN                   NaN          76   \n",
       "1638                     NaN                   NaN          76   \n",
       "1639                     NaN                   NaN          76   \n",
       "\n",
       "     StudyDescription                          PerformingPhysicianName  \\\n",
       "1635  ESOFAGUS BARIUM  PN_TgWnHFtSwu2uGK1Bc5KrVHBLXa5TLkDa3LLRaqJDgQE=   \n",
       "1636  ESOFAGUS BARIUM  PN_TgWnHFtSwu2uGK1Bc5KrVHBLXa5TLkDa3LLRaqJDgQE=   \n",
       "1637  ESOFAGUS BARIUM  PN_TgWnHFtSwu2uGK1Bc5KrVHBLXa5TLkDa3LLRaqJDgQE=   \n",
       "1638  ESOFAGUS BARIUM  PN_TgWnHFtSwu2uGK1Bc5KrVHBLXa5TLkDa3LLRaqJDgQE=   \n",
       "1639  ESOFAGUS BARIUM  PN_TgWnHFtSwu2uGK1Bc5KrVHBLXa5TLkDa3LLRaqJDgQE=   \n",
       "\n",
       "        OperatorName  RequestedProcedureCode DisplayName  \n",
       "1635   Malte Granten                 41100.0         S08  \n",
       "1636   Malte Granten                 41100.0         S08  \n",
       "1637   Malte Granten                 41100.0         S08  \n",
       "1638   Malte Granten                 41100.0         S08  \n",
       "1639   Malte Granten                 41100.0         S08  "
      ]
     },
     "execution_count": 37,
     "metadata": {},
     "output_type": "execute_result"
    }
   ],
   "source": [
    "series_S08 = data_names_S08_clean[[\"AccessionNumber\",\"id\",\"StudyDateTime\",\"DoseAreaProductTotal\",\"DoseRPTotal\",\n",
    "                                \"FluoroDoseAreaProductTotal\",\"FluoroDoseRPTotal\",\"TotalFluoroTime\",\n",
    "                                \"AcquisitionDoseAreaProductTotal\",\"AcquisitionDoseRPTotal\",\"TotalAcquisitionTime\",\n",
    "                                \"PatientAge\",\"StudyDescription\",\"PerformingPhysicianName\",\"OperatorName\",\n",
    "                                \"RequestedProcedureCode\",\"DisplayName\"]]\n",
    "series_S08.head()\n",
    "\n",
    "#NÅTT SKUMT HÄR EFTERSOM VI BARA HAR NULL I RP! FELSÖK!\n",
    "#TA ÄVEN MED FLER KOLUMNER OM DETTA SKA VARA PÅ SERIENIVÅ ISTÄLLET FÖR STUDYNIVÅ"
   ]
  },
  {
   "cell_type": "code",
   "execution_count": 38,
   "metadata": {},
   "outputs": [],
   "source": [
    "#Skriv ut dataframe till excel. För att få överblick.\n",
    "import xlwt\n",
    "import openpyxl\n",
    "import xlsxwriter\n",
    "\n",
    "writer = pd.ExcelWriter('CG_data/S08.xlsx', engine='xlsxwriter')\n",
    "series_S08.to_excel(writer, index=False)\n",
    "writer.save()"
   ]
  },
  {
   "cell_type": "code",
   "execution_count": 40,
   "metadata": {},
   "outputs": [
    {
     "data": {
      "application/vnd.plotly.v1+json": {
       "config": {
        "plotlyServerURL": "https://plot.ly"
       },
       "data": [
        {
         "domain": {
          "x": [
           0,
           1
          ],
          "y": [
           0,
           1
          ]
         },
         "hoverlabel": {
          "namelength": 0
         },
         "hovertemplate": "Protokoll=%{label}<br>Events=%{value}",
         "labels": [
          "FL Norm Esofagus Bari",
          "Esofagus Barium",
          "FL Låg Esofagus Bari",
          "Esofagus Jod",
          "FL Låg Esofagus Jod",
          "FL Normal Esofagus Jod",
          "FL Hög Esofagus Jod",
          "Gammal Esofagus Barium",
          "FL Normal Buk Uk/Jod",
          "FL Normal Buk Barium",
          "FL medel Esofagus",
          "Barium låg dos",
          "FL låg Esofagus"
         ],
         "legendgroup": "",
         "name": "",
         "showlegend": true,
         "type": "pie",
         "values": [
          157,
          114,
          100,
          33,
          31,
          39,
          4,
          2,
          3,
          2,
          11,
          24,
          4
         ]
        }
       ],
       "layout": {
        "legend": {
         "tracegroupgap": 0
        },
        "template": {
         "data": {
          "bar": [
           {
            "error_x": {
             "color": "#2a3f5f"
            },
            "error_y": {
             "color": "#2a3f5f"
            },
            "marker": {
             "line": {
              "color": "#E5ECF6",
              "width": 0.5
             }
            },
            "type": "bar"
           }
          ],
          "barpolar": [
           {
            "marker": {
             "line": {
              "color": "#E5ECF6",
              "width": 0.5
             }
            },
            "type": "barpolar"
           }
          ],
          "carpet": [
           {
            "aaxis": {
             "endlinecolor": "#2a3f5f",
             "gridcolor": "white",
             "linecolor": "white",
             "minorgridcolor": "white",
             "startlinecolor": "#2a3f5f"
            },
            "baxis": {
             "endlinecolor": "#2a3f5f",
             "gridcolor": "white",
             "linecolor": "white",
             "minorgridcolor": "white",
             "startlinecolor": "#2a3f5f"
            },
            "type": "carpet"
           }
          ],
          "choropleth": [
           {
            "colorbar": {
             "outlinewidth": 0,
             "ticks": ""
            },
            "type": "choropleth"
           }
          ],
          "contour": [
           {
            "colorbar": {
             "outlinewidth": 0,
             "ticks": ""
            },
            "colorscale": [
             [
              0,
              "#0d0887"
             ],
             [
              0.1111111111111111,
              "#46039f"
             ],
             [
              0.2222222222222222,
              "#7201a8"
             ],
             [
              0.3333333333333333,
              "#9c179e"
             ],
             [
              0.4444444444444444,
              "#bd3786"
             ],
             [
              0.5555555555555556,
              "#d8576b"
             ],
             [
              0.6666666666666666,
              "#ed7953"
             ],
             [
              0.7777777777777778,
              "#fb9f3a"
             ],
             [
              0.8888888888888888,
              "#fdca26"
             ],
             [
              1,
              "#f0f921"
             ]
            ],
            "type": "contour"
           }
          ],
          "contourcarpet": [
           {
            "colorbar": {
             "outlinewidth": 0,
             "ticks": ""
            },
            "type": "contourcarpet"
           }
          ],
          "heatmap": [
           {
            "colorbar": {
             "outlinewidth": 0,
             "ticks": ""
            },
            "colorscale": [
             [
              0,
              "#0d0887"
             ],
             [
              0.1111111111111111,
              "#46039f"
             ],
             [
              0.2222222222222222,
              "#7201a8"
             ],
             [
              0.3333333333333333,
              "#9c179e"
             ],
             [
              0.4444444444444444,
              "#bd3786"
             ],
             [
              0.5555555555555556,
              "#d8576b"
             ],
             [
              0.6666666666666666,
              "#ed7953"
             ],
             [
              0.7777777777777778,
              "#fb9f3a"
             ],
             [
              0.8888888888888888,
              "#fdca26"
             ],
             [
              1,
              "#f0f921"
             ]
            ],
            "type": "heatmap"
           }
          ],
          "heatmapgl": [
           {
            "colorbar": {
             "outlinewidth": 0,
             "ticks": ""
            },
            "colorscale": [
             [
              0,
              "#0d0887"
             ],
             [
              0.1111111111111111,
              "#46039f"
             ],
             [
              0.2222222222222222,
              "#7201a8"
             ],
             [
              0.3333333333333333,
              "#9c179e"
             ],
             [
              0.4444444444444444,
              "#bd3786"
             ],
             [
              0.5555555555555556,
              "#d8576b"
             ],
             [
              0.6666666666666666,
              "#ed7953"
             ],
             [
              0.7777777777777778,
              "#fb9f3a"
             ],
             [
              0.8888888888888888,
              "#fdca26"
             ],
             [
              1,
              "#f0f921"
             ]
            ],
            "type": "heatmapgl"
           }
          ],
          "histogram": [
           {
            "marker": {
             "colorbar": {
              "outlinewidth": 0,
              "ticks": ""
             }
            },
            "type": "histogram"
           }
          ],
          "histogram2d": [
           {
            "colorbar": {
             "outlinewidth": 0,
             "ticks": ""
            },
            "colorscale": [
             [
              0,
              "#0d0887"
             ],
             [
              0.1111111111111111,
              "#46039f"
             ],
             [
              0.2222222222222222,
              "#7201a8"
             ],
             [
              0.3333333333333333,
              "#9c179e"
             ],
             [
              0.4444444444444444,
              "#bd3786"
             ],
             [
              0.5555555555555556,
              "#d8576b"
             ],
             [
              0.6666666666666666,
              "#ed7953"
             ],
             [
              0.7777777777777778,
              "#fb9f3a"
             ],
             [
              0.8888888888888888,
              "#fdca26"
             ],
             [
              1,
              "#f0f921"
             ]
            ],
            "type": "histogram2d"
           }
          ],
          "histogram2dcontour": [
           {
            "colorbar": {
             "outlinewidth": 0,
             "ticks": ""
            },
            "colorscale": [
             [
              0,
              "#0d0887"
             ],
             [
              0.1111111111111111,
              "#46039f"
             ],
             [
              0.2222222222222222,
              "#7201a8"
             ],
             [
              0.3333333333333333,
              "#9c179e"
             ],
             [
              0.4444444444444444,
              "#bd3786"
             ],
             [
              0.5555555555555556,
              "#d8576b"
             ],
             [
              0.6666666666666666,
              "#ed7953"
             ],
             [
              0.7777777777777778,
              "#fb9f3a"
             ],
             [
              0.8888888888888888,
              "#fdca26"
             ],
             [
              1,
              "#f0f921"
             ]
            ],
            "type": "histogram2dcontour"
           }
          ],
          "mesh3d": [
           {
            "colorbar": {
             "outlinewidth": 0,
             "ticks": ""
            },
            "type": "mesh3d"
           }
          ],
          "parcoords": [
           {
            "line": {
             "colorbar": {
              "outlinewidth": 0,
              "ticks": ""
             }
            },
            "type": "parcoords"
           }
          ],
          "pie": [
           {
            "automargin": true,
            "type": "pie"
           }
          ],
          "scatter": [
           {
            "marker": {
             "colorbar": {
              "outlinewidth": 0,
              "ticks": ""
             }
            },
            "type": "scatter"
           }
          ],
          "scatter3d": [
           {
            "line": {
             "colorbar": {
              "outlinewidth": 0,
              "ticks": ""
             }
            },
            "marker": {
             "colorbar": {
              "outlinewidth": 0,
              "ticks": ""
             }
            },
            "type": "scatter3d"
           }
          ],
          "scattercarpet": [
           {
            "marker": {
             "colorbar": {
              "outlinewidth": 0,
              "ticks": ""
             }
            },
            "type": "scattercarpet"
           }
          ],
          "scattergeo": [
           {
            "marker": {
             "colorbar": {
              "outlinewidth": 0,
              "ticks": ""
             }
            },
            "type": "scattergeo"
           }
          ],
          "scattergl": [
           {
            "marker": {
             "colorbar": {
              "outlinewidth": 0,
              "ticks": ""
             }
            },
            "type": "scattergl"
           }
          ],
          "scattermapbox": [
           {
            "marker": {
             "colorbar": {
              "outlinewidth": 0,
              "ticks": ""
             }
            },
            "type": "scattermapbox"
           }
          ],
          "scatterpolar": [
           {
            "marker": {
             "colorbar": {
              "outlinewidth": 0,
              "ticks": ""
             }
            },
            "type": "scatterpolar"
           }
          ],
          "scatterpolargl": [
           {
            "marker": {
             "colorbar": {
              "outlinewidth": 0,
              "ticks": ""
             }
            },
            "type": "scatterpolargl"
           }
          ],
          "scatterternary": [
           {
            "marker": {
             "colorbar": {
              "outlinewidth": 0,
              "ticks": ""
             }
            },
            "type": "scatterternary"
           }
          ],
          "surface": [
           {
            "colorbar": {
             "outlinewidth": 0,
             "ticks": ""
            },
            "colorscale": [
             [
              0,
              "#0d0887"
             ],
             [
              0.1111111111111111,
              "#46039f"
             ],
             [
              0.2222222222222222,
              "#7201a8"
             ],
             [
              0.3333333333333333,
              "#9c179e"
             ],
             [
              0.4444444444444444,
              "#bd3786"
             ],
             [
              0.5555555555555556,
              "#d8576b"
             ],
             [
              0.6666666666666666,
              "#ed7953"
             ],
             [
              0.7777777777777778,
              "#fb9f3a"
             ],
             [
              0.8888888888888888,
              "#fdca26"
             ],
             [
              1,
              "#f0f921"
             ]
            ],
            "type": "surface"
           }
          ],
          "table": [
           {
            "cells": {
             "fill": {
              "color": "#EBF0F8"
             },
             "line": {
              "color": "white"
             }
            },
            "header": {
             "fill": {
              "color": "#C8D4E3"
             },
             "line": {
              "color": "white"
             }
            },
            "type": "table"
           }
          ]
         },
         "layout": {
          "annotationdefaults": {
           "arrowcolor": "#2a3f5f",
           "arrowhead": 0,
           "arrowwidth": 1
          },
          "coloraxis": {
           "colorbar": {
            "outlinewidth": 0,
            "ticks": ""
           }
          },
          "colorscale": {
           "diverging": [
            [
             0,
             "#8e0152"
            ],
            [
             0.1,
             "#c51b7d"
            ],
            [
             0.2,
             "#de77ae"
            ],
            [
             0.3,
             "#f1b6da"
            ],
            [
             0.4,
             "#fde0ef"
            ],
            [
             0.5,
             "#f7f7f7"
            ],
            [
             0.6,
             "#e6f5d0"
            ],
            [
             0.7,
             "#b8e186"
            ],
            [
             0.8,
             "#7fbc41"
            ],
            [
             0.9,
             "#4d9221"
            ],
            [
             1,
             "#276419"
            ]
           ],
           "sequential": [
            [
             0,
             "#0d0887"
            ],
            [
             0.1111111111111111,
             "#46039f"
            ],
            [
             0.2222222222222222,
             "#7201a8"
            ],
            [
             0.3333333333333333,
             "#9c179e"
            ],
            [
             0.4444444444444444,
             "#bd3786"
            ],
            [
             0.5555555555555556,
             "#d8576b"
            ],
            [
             0.6666666666666666,
             "#ed7953"
            ],
            [
             0.7777777777777778,
             "#fb9f3a"
            ],
            [
             0.8888888888888888,
             "#fdca26"
            ],
            [
             1,
             "#f0f921"
            ]
           ],
           "sequentialminus": [
            [
             0,
             "#0d0887"
            ],
            [
             0.1111111111111111,
             "#46039f"
            ],
            [
             0.2222222222222222,
             "#7201a8"
            ],
            [
             0.3333333333333333,
             "#9c179e"
            ],
            [
             0.4444444444444444,
             "#bd3786"
            ],
            [
             0.5555555555555556,
             "#d8576b"
            ],
            [
             0.6666666666666666,
             "#ed7953"
            ],
            [
             0.7777777777777778,
             "#fb9f3a"
            ],
            [
             0.8888888888888888,
             "#fdca26"
            ],
            [
             1,
             "#f0f921"
            ]
           ]
          },
          "colorway": [
           "#636efa",
           "#EF553B",
           "#00cc96",
           "#ab63fa",
           "#FFA15A",
           "#19d3f3",
           "#FF6692",
           "#B6E880",
           "#FF97FF",
           "#FECB52"
          ],
          "font": {
           "color": "#2a3f5f"
          },
          "geo": {
           "bgcolor": "white",
           "lakecolor": "white",
           "landcolor": "#E5ECF6",
           "showlakes": true,
           "showland": true,
           "subunitcolor": "white"
          },
          "hoverlabel": {
           "align": "left"
          },
          "hovermode": "closest",
          "mapbox": {
           "style": "light"
          },
          "paper_bgcolor": "white",
          "plot_bgcolor": "#E5ECF6",
          "polar": {
           "angularaxis": {
            "gridcolor": "white",
            "linecolor": "white",
            "ticks": ""
           },
           "bgcolor": "#E5ECF6",
           "radialaxis": {
            "gridcolor": "white",
            "linecolor": "white",
            "ticks": ""
           }
          },
          "scene": {
           "xaxis": {
            "backgroundcolor": "#E5ECF6",
            "gridcolor": "white",
            "gridwidth": 2,
            "linecolor": "white",
            "showbackground": true,
            "ticks": "",
            "zerolinecolor": "white"
           },
           "yaxis": {
            "backgroundcolor": "#E5ECF6",
            "gridcolor": "white",
            "gridwidth": 2,
            "linecolor": "white",
            "showbackground": true,
            "ticks": "",
            "zerolinecolor": "white"
           },
           "zaxis": {
            "backgroundcolor": "#E5ECF6",
            "gridcolor": "white",
            "gridwidth": 2,
            "linecolor": "white",
            "showbackground": true,
            "ticks": "",
            "zerolinecolor": "white"
           }
          },
          "shapedefaults": {
           "line": {
            "color": "#2a3f5f"
           }
          },
          "ternary": {
           "aaxis": {
            "gridcolor": "white",
            "linecolor": "white",
            "ticks": ""
           },
           "baxis": {
            "gridcolor": "white",
            "linecolor": "white",
            "ticks": ""
           },
           "bgcolor": "#E5ECF6",
           "caxis": {
            "gridcolor": "white",
            "linecolor": "white",
            "ticks": ""
           }
          },
          "title": {
           "x": 0.05
          },
          "xaxis": {
           "automargin": true,
           "gridcolor": "white",
           "linecolor": "white",
           "ticks": "",
           "title": {
            "standoff": 15
           },
           "zerolinecolor": "white",
           "zerolinewidth": 2
          },
          "yaxis": {
           "automargin": true,
           "gridcolor": "white",
           "linecolor": "white",
           "ticks": "",
           "title": {
            "standoff": 15
           },
           "zerolinecolor": "white",
           "zerolinewidth": 2
          }
         }
        },
        "title": {
         "text": "Fördelning av protokoll"
        }
       }
      },
      "text/html": [
       "<div>\n",
       "        \n",
       "        \n",
       "            <div id=\"7bce0143-953f-467b-bdbd-a6adadd7b6d1\" class=\"plotly-graph-div\" style=\"height:525px; width:100%;\"></div>\n",
       "            <script type=\"text/javascript\">\n",
       "                require([\"plotly\"], function(Plotly) {\n",
       "                    window.PLOTLYENV=window.PLOTLYENV || {};\n",
       "                    \n",
       "                if (document.getElementById(\"7bce0143-953f-467b-bdbd-a6adadd7b6d1\")) {\n",
       "                    Plotly.newPlot(\n",
       "                        '7bce0143-953f-467b-bdbd-a6adadd7b6d1',\n",
       "                        [{\"domain\": {\"x\": [0.0, 1.0], \"y\": [0.0, 1.0]}, \"hoverlabel\": {\"namelength\": 0}, \"hovertemplate\": \"Protokoll=%{label}<br>Events=%{value}\", \"labels\": [\"FL Norm Esofagus Bari\", \"Esofagus Barium\", \"FL L\\u00e5g Esofagus Bari\", \"Esofagus Jod\", \"FL L\\u00e5g Esofagus Jod\", \"FL Normal Esofagus Jod\", \"FL H\\u00f6g Esofagus Jod\", \"Gammal Esofagus Barium\", \"FL Normal Buk Uk/Jod\", \"FL Normal Buk Barium\", \"FL medel Esofagus\", \"Barium l\\u00e5g dos\", \"FL l\\u00e5g Esofagus\"], \"legendgroup\": \"\", \"name\": \"\", \"showlegend\": true, \"type\": \"pie\", \"values\": [157, 114, 100, 33, 31, 39, 4, 2, 3, 2, 11, 24, 4]}],\n",
       "                        {\"legend\": {\"tracegroupgap\": 0}, \"template\": {\"data\": {\"bar\": [{\"error_x\": {\"color\": \"#2a3f5f\"}, \"error_y\": {\"color\": \"#2a3f5f\"}, \"marker\": {\"line\": {\"color\": \"#E5ECF6\", \"width\": 0.5}}, \"type\": \"bar\"}], \"barpolar\": [{\"marker\": {\"line\": {\"color\": \"#E5ECF6\", \"width\": 0.5}}, \"type\": \"barpolar\"}], \"carpet\": [{\"aaxis\": {\"endlinecolor\": \"#2a3f5f\", \"gridcolor\": \"white\", \"linecolor\": \"white\", \"minorgridcolor\": \"white\", \"startlinecolor\": \"#2a3f5f\"}, \"baxis\": {\"endlinecolor\": \"#2a3f5f\", \"gridcolor\": \"white\", \"linecolor\": \"white\", \"minorgridcolor\": \"white\", \"startlinecolor\": \"#2a3f5f\"}, \"type\": \"carpet\"}], \"choropleth\": [{\"colorbar\": {\"outlinewidth\": 0, \"ticks\": \"\"}, \"type\": \"choropleth\"}], \"contour\": [{\"colorbar\": {\"outlinewidth\": 0, \"ticks\": \"\"}, \"colorscale\": [[0.0, \"#0d0887\"], [0.1111111111111111, \"#46039f\"], [0.2222222222222222, \"#7201a8\"], [0.3333333333333333, \"#9c179e\"], [0.4444444444444444, \"#bd3786\"], [0.5555555555555556, \"#d8576b\"], [0.6666666666666666, \"#ed7953\"], [0.7777777777777778, \"#fb9f3a\"], [0.8888888888888888, \"#fdca26\"], [1.0, \"#f0f921\"]], \"type\": \"contour\"}], \"contourcarpet\": [{\"colorbar\": {\"outlinewidth\": 0, \"ticks\": \"\"}, \"type\": \"contourcarpet\"}], \"heatmap\": [{\"colorbar\": {\"outlinewidth\": 0, \"ticks\": \"\"}, \"colorscale\": [[0.0, \"#0d0887\"], [0.1111111111111111, \"#46039f\"], [0.2222222222222222, \"#7201a8\"], [0.3333333333333333, \"#9c179e\"], [0.4444444444444444, \"#bd3786\"], [0.5555555555555556, \"#d8576b\"], [0.6666666666666666, \"#ed7953\"], [0.7777777777777778, \"#fb9f3a\"], [0.8888888888888888, \"#fdca26\"], [1.0, \"#f0f921\"]], \"type\": \"heatmap\"}], \"heatmapgl\": [{\"colorbar\": {\"outlinewidth\": 0, \"ticks\": \"\"}, \"colorscale\": [[0.0, \"#0d0887\"], [0.1111111111111111, \"#46039f\"], [0.2222222222222222, \"#7201a8\"], [0.3333333333333333, \"#9c179e\"], [0.4444444444444444, \"#bd3786\"], [0.5555555555555556, \"#d8576b\"], [0.6666666666666666, \"#ed7953\"], [0.7777777777777778, \"#fb9f3a\"], [0.8888888888888888, \"#fdca26\"], [1.0, \"#f0f921\"]], \"type\": \"heatmapgl\"}], \"histogram\": [{\"marker\": {\"colorbar\": {\"outlinewidth\": 0, \"ticks\": \"\"}}, \"type\": \"histogram\"}], \"histogram2d\": [{\"colorbar\": {\"outlinewidth\": 0, \"ticks\": \"\"}, \"colorscale\": [[0.0, \"#0d0887\"], [0.1111111111111111, \"#46039f\"], [0.2222222222222222, \"#7201a8\"], [0.3333333333333333, \"#9c179e\"], [0.4444444444444444, \"#bd3786\"], [0.5555555555555556, \"#d8576b\"], [0.6666666666666666, \"#ed7953\"], [0.7777777777777778, \"#fb9f3a\"], [0.8888888888888888, \"#fdca26\"], [1.0, \"#f0f921\"]], \"type\": \"histogram2d\"}], \"histogram2dcontour\": [{\"colorbar\": {\"outlinewidth\": 0, \"ticks\": \"\"}, \"colorscale\": [[0.0, \"#0d0887\"], [0.1111111111111111, \"#46039f\"], [0.2222222222222222, \"#7201a8\"], [0.3333333333333333, \"#9c179e\"], [0.4444444444444444, \"#bd3786\"], [0.5555555555555556, \"#d8576b\"], [0.6666666666666666, \"#ed7953\"], [0.7777777777777778, \"#fb9f3a\"], [0.8888888888888888, \"#fdca26\"], [1.0, \"#f0f921\"]], \"type\": \"histogram2dcontour\"}], \"mesh3d\": [{\"colorbar\": {\"outlinewidth\": 0, \"ticks\": \"\"}, \"type\": \"mesh3d\"}], \"parcoords\": [{\"line\": {\"colorbar\": {\"outlinewidth\": 0, \"ticks\": \"\"}}, \"type\": \"parcoords\"}], \"pie\": [{\"automargin\": true, \"type\": \"pie\"}], \"scatter\": [{\"marker\": {\"colorbar\": {\"outlinewidth\": 0, \"ticks\": \"\"}}, \"type\": \"scatter\"}], \"scatter3d\": [{\"line\": {\"colorbar\": {\"outlinewidth\": 0, \"ticks\": \"\"}}, \"marker\": {\"colorbar\": {\"outlinewidth\": 0, \"ticks\": \"\"}}, \"type\": \"scatter3d\"}], \"scattercarpet\": [{\"marker\": {\"colorbar\": {\"outlinewidth\": 0, \"ticks\": \"\"}}, \"type\": \"scattercarpet\"}], \"scattergeo\": [{\"marker\": {\"colorbar\": {\"outlinewidth\": 0, \"ticks\": \"\"}}, \"type\": \"scattergeo\"}], \"scattergl\": [{\"marker\": {\"colorbar\": {\"outlinewidth\": 0, \"ticks\": \"\"}}, \"type\": \"scattergl\"}], \"scattermapbox\": [{\"marker\": {\"colorbar\": {\"outlinewidth\": 0, \"ticks\": \"\"}}, \"type\": \"scattermapbox\"}], \"scatterpolar\": [{\"marker\": {\"colorbar\": {\"outlinewidth\": 0, \"ticks\": \"\"}}, \"type\": \"scatterpolar\"}], \"scatterpolargl\": [{\"marker\": {\"colorbar\": {\"outlinewidth\": 0, \"ticks\": \"\"}}, \"type\": \"scatterpolargl\"}], \"scatterternary\": [{\"marker\": {\"colorbar\": {\"outlinewidth\": 0, \"ticks\": \"\"}}, \"type\": \"scatterternary\"}], \"surface\": [{\"colorbar\": {\"outlinewidth\": 0, \"ticks\": \"\"}, \"colorscale\": [[0.0, \"#0d0887\"], [0.1111111111111111, \"#46039f\"], [0.2222222222222222, \"#7201a8\"], [0.3333333333333333, \"#9c179e\"], [0.4444444444444444, \"#bd3786\"], [0.5555555555555556, \"#d8576b\"], [0.6666666666666666, \"#ed7953\"], [0.7777777777777778, \"#fb9f3a\"], [0.8888888888888888, \"#fdca26\"], [1.0, \"#f0f921\"]], \"type\": \"surface\"}], \"table\": [{\"cells\": {\"fill\": {\"color\": \"#EBF0F8\"}, \"line\": {\"color\": \"white\"}}, \"header\": {\"fill\": {\"color\": \"#C8D4E3\"}, \"line\": {\"color\": \"white\"}}, \"type\": \"table\"}]}, \"layout\": {\"annotationdefaults\": {\"arrowcolor\": \"#2a3f5f\", \"arrowhead\": 0, \"arrowwidth\": 1}, \"coloraxis\": {\"colorbar\": {\"outlinewidth\": 0, \"ticks\": \"\"}}, \"colorscale\": {\"diverging\": [[0, \"#8e0152\"], [0.1, \"#c51b7d\"], [0.2, \"#de77ae\"], [0.3, \"#f1b6da\"], [0.4, \"#fde0ef\"], [0.5, \"#f7f7f7\"], [0.6, \"#e6f5d0\"], [0.7, \"#b8e186\"], [0.8, \"#7fbc41\"], [0.9, \"#4d9221\"], [1, \"#276419\"]], \"sequential\": [[0.0, \"#0d0887\"], [0.1111111111111111, \"#46039f\"], [0.2222222222222222, \"#7201a8\"], [0.3333333333333333, \"#9c179e\"], [0.4444444444444444, \"#bd3786\"], [0.5555555555555556, \"#d8576b\"], [0.6666666666666666, \"#ed7953\"], [0.7777777777777778, \"#fb9f3a\"], [0.8888888888888888, \"#fdca26\"], [1.0, \"#f0f921\"]], \"sequentialminus\": [[0.0, \"#0d0887\"], [0.1111111111111111, \"#46039f\"], [0.2222222222222222, \"#7201a8\"], [0.3333333333333333, \"#9c179e\"], [0.4444444444444444, \"#bd3786\"], [0.5555555555555556, \"#d8576b\"], [0.6666666666666666, \"#ed7953\"], [0.7777777777777778, \"#fb9f3a\"], [0.8888888888888888, \"#fdca26\"], [1.0, \"#f0f921\"]]}, \"colorway\": [\"#636efa\", \"#EF553B\", \"#00cc96\", \"#ab63fa\", \"#FFA15A\", \"#19d3f3\", \"#FF6692\", \"#B6E880\", \"#FF97FF\", \"#FECB52\"], \"font\": {\"color\": \"#2a3f5f\"}, \"geo\": {\"bgcolor\": \"white\", \"lakecolor\": \"white\", \"landcolor\": \"#E5ECF6\", \"showlakes\": true, \"showland\": true, \"subunitcolor\": \"white\"}, \"hoverlabel\": {\"align\": \"left\"}, \"hovermode\": \"closest\", \"mapbox\": {\"style\": \"light\"}, \"paper_bgcolor\": \"white\", \"plot_bgcolor\": \"#E5ECF6\", \"polar\": {\"angularaxis\": {\"gridcolor\": \"white\", \"linecolor\": \"white\", \"ticks\": \"\"}, \"bgcolor\": \"#E5ECF6\", \"radialaxis\": {\"gridcolor\": \"white\", \"linecolor\": \"white\", \"ticks\": \"\"}}, \"scene\": {\"xaxis\": {\"backgroundcolor\": \"#E5ECF6\", \"gridcolor\": \"white\", \"gridwidth\": 2, \"linecolor\": \"white\", \"showbackground\": true, \"ticks\": \"\", \"zerolinecolor\": \"white\"}, \"yaxis\": {\"backgroundcolor\": \"#E5ECF6\", \"gridcolor\": \"white\", \"gridwidth\": 2, \"linecolor\": \"white\", \"showbackground\": true, \"ticks\": \"\", \"zerolinecolor\": \"white\"}, \"zaxis\": {\"backgroundcolor\": \"#E5ECF6\", \"gridcolor\": \"white\", \"gridwidth\": 2, \"linecolor\": \"white\", \"showbackground\": true, \"ticks\": \"\", \"zerolinecolor\": \"white\"}}, \"shapedefaults\": {\"line\": {\"color\": \"#2a3f5f\"}}, \"ternary\": {\"aaxis\": {\"gridcolor\": \"white\", \"linecolor\": \"white\", \"ticks\": \"\"}, \"baxis\": {\"gridcolor\": \"white\", \"linecolor\": \"white\", \"ticks\": \"\"}, \"bgcolor\": \"#E5ECF6\", \"caxis\": {\"gridcolor\": \"white\", \"linecolor\": \"white\", \"ticks\": \"\"}}, \"title\": {\"x\": 0.05}, \"xaxis\": {\"automargin\": true, \"gridcolor\": \"white\", \"linecolor\": \"white\", \"ticks\": \"\", \"title\": {\"standoff\": 15}, \"zerolinecolor\": \"white\", \"zerolinewidth\": 2}, \"yaxis\": {\"automargin\": true, \"gridcolor\": \"white\", \"linecolor\": \"white\", \"ticks\": \"\", \"title\": {\"standoff\": 15}, \"zerolinecolor\": \"white\", \"zerolinewidth\": 2}}}, \"title\": {\"text\": \"F\\u00f6rdelning av protokoll\"}},\n",
       "                        {\"responsive\": true}\n",
       "                    ).then(function(){\n",
       "                            \n",
       "var gd = document.getElementById('7bce0143-953f-467b-bdbd-a6adadd7b6d1');\n",
       "var x = new MutationObserver(function (mutations, observer) {{\n",
       "        var display = window.getComputedStyle(gd).display;\n",
       "        if (!display || display === 'none') {{\n",
       "            console.log([gd, 'removed!']);\n",
       "            Plotly.purge(gd);\n",
       "            observer.disconnect();\n",
       "        }}\n",
       "}});\n",
       "\n",
       "// Listen for the removal of the full notebook cells\n",
       "var notebookContainer = gd.closest('#notebook-container');\n",
       "if (notebookContainer) {{\n",
       "    x.observe(notebookContainer, {childList: true});\n",
       "}}\n",
       "\n",
       "// Listen for the clearing of the current output cell\n",
       "var outputEl = gd.closest('.output');\n",
       "if (outputEl) {{\n",
       "    x.observe(outputEl, {childList: true});\n",
       "}}\n",
       "\n",
       "                        })\n",
       "                };\n",
       "                });\n",
       "            </script>\n",
       "        </div>"
      ]
     },
     "metadata": {},
     "output_type": "display_data"
    },
    {
     "name": "stdout",
     "output_type": "stream",
     "text": [
      "524\n"
     ]
    }
   ],
   "source": [
    "# Lista och visa alla använda protokoll\n",
    "unikprot = data_names_S08_clean.AcquisitionProtocol.unique()\n",
    "\n",
    "data_protokoll = pd.DataFrame(columns=['Protokoll', 'Events'])\n",
    "i=0\n",
    "for i in range(len(unikprot)):\n",
    "    data_protokoll = data_protokoll.append({'Protokoll': unikprot[i], \n",
    "                                            'Events': len(data_names_S08_clean[data_names_S08_clean['AcquisitionProtocol']==unikprot[i]])}, \n",
    "                                           ignore_index=True)\n",
    "\n",
    "fig = px.pie(data_protokoll, values='Events', names='Protokoll', title='Fördelning av protokoll')\n",
    "fig.show()\n",
    "print(len(data_names_S08_clean))"
   ]
  },
  {
   "cell_type": "code",
   "execution_count": 48,
   "metadata": {},
   "outputs": [
    {
     "data": {
      "application/vnd.plotly.v1+json": {
       "config": {
        "plotlyServerURL": "https://plot.ly"
       },
       "data": [
        {
         "type": "bar",
         "x": [
          " Malte Granten",
          " Malte Granten",
          " Malte Granten",
          " Malte Granten",
          " Malte Granten",
          " Malte Granten",
          " Malte Granten",
          " Malte Granten",
          " Malte Granten",
          " Malte Granten",
          " Malte Granten",
          " Malte Granten",
          " Malte Granten",
          " Malte Granten",
          " Malte Granten",
          " Malte Granten"
         ],
         "y": [
          2382,
          930,
          3223,
          2817,
          2653,
          3491,
          2507,
          786,
          5419,
          1741,
          1197,
          4328,
          2611,
          4594,
          992,
          2105
         ]
        },
        {
         "type": "bar",
         "x": [
          " Louise Berglund",
          " Louise Berglund"
         ],
         "y": [
          5894,
          2363
         ]
        },
        {
         "type": "bar",
         "x": [
          " Erik Lindberg",
          " Erik Lindberg"
         ],
         "y": [
          4785,
          2340
         ]
        },
        {
         "type": "bar",
         "x": [
          " Hampus Studahl",
          " Hampus Studahl",
          " Hampus Studahl",
          " Hampus Studahl",
          " Hampus Studahl",
          " Hampus Studahl",
          " Hampus Studahl",
          " Hampus Studahl"
         ],
         "y": [
          10759,
          7909,
          7890,
          17932,
          10968,
          18421,
          3424,
          7717
         ]
        },
        {
         "type": "bar",
         "x": [
          " Per Öberg",
          " Per Öberg",
          " Per Öberg",
          " Per Öberg",
          " Per Öberg",
          " Per Öberg",
          " Per Öberg",
          " Per Öberg",
          " Per Öberg",
          " Per Öberg",
          " Per Öberg"
         ],
         "y": [
          3641,
          5933,
          11532,
          2209,
          7540,
          4607,
          8915,
          4405,
          6297,
          2501,
          4457
         ]
        },
        {
         "type": "bar",
         "x": [
          " Andreas Larsson",
          " Andreas Larsson",
          " Andreas Larsson",
          " Andreas Larsson",
          " Andreas Larsson",
          " Andreas Larsson",
          " Andreas Larsson",
          " Andreas Larsson"
         ],
         "y": [
          9474,
          8983,
          7321,
          5546,
          8402,
          6471,
          4095,
          11253
         ]
        },
        {
         "type": "bar",
         "x": [
          " Peter Sundström",
          " Peter Sundström",
          " Peter Sundström"
         ],
         "y": [
          605,
          3071,
          474
         ]
        },
        {
         "type": "bar",
         "x": [
          " Lena Lindgren",
          " Lena Lindgren"
         ],
         "y": [
          1604,
          2336
         ]
        },
        {
         "type": "bar",
         "x": [],
         "y": []
        },
        {
         "type": "bar",
         "x": [
          " Gataa Khaldun Ghali"
         ],
         "y": [
          3599
         ]
        },
        {
         "type": "bar",
         "x": [
          " Annika Öhman",
          " Annika Öhman",
          " Annika Öhman"
         ],
         "y": [
          2980,
          3086,
          326
         ]
        },
        {
         "type": "bar",
         "x": [
          " Leif Carlgren"
         ],
         "y": [
          2889
         ]
        },
        {
         "type": "bar",
         "x": [
          " Athanasios Zouzos"
         ],
         "y": [
          718
         ]
        },
        {
         "type": "bar",
         "x": [
          " Lena Eriksson"
         ],
         "y": [
          1130
         ]
        }
       ],
       "layout": {
        "template": {
         "data": {
          "bar": [
           {
            "error_x": {
             "color": "#2a3f5f"
            },
            "error_y": {
             "color": "#2a3f5f"
            },
            "marker": {
             "line": {
              "color": "#E5ECF6",
              "width": 0.5
             }
            },
            "type": "bar"
           }
          ],
          "barpolar": [
           {
            "marker": {
             "line": {
              "color": "#E5ECF6",
              "width": 0.5
             }
            },
            "type": "barpolar"
           }
          ],
          "carpet": [
           {
            "aaxis": {
             "endlinecolor": "#2a3f5f",
             "gridcolor": "white",
             "linecolor": "white",
             "minorgridcolor": "white",
             "startlinecolor": "#2a3f5f"
            },
            "baxis": {
             "endlinecolor": "#2a3f5f",
             "gridcolor": "white",
             "linecolor": "white",
             "minorgridcolor": "white",
             "startlinecolor": "#2a3f5f"
            },
            "type": "carpet"
           }
          ],
          "choropleth": [
           {
            "colorbar": {
             "outlinewidth": 0,
             "ticks": ""
            },
            "type": "choropleth"
           }
          ],
          "contour": [
           {
            "colorbar": {
             "outlinewidth": 0,
             "ticks": ""
            },
            "colorscale": [
             [
              0,
              "#0d0887"
             ],
             [
              0.1111111111111111,
              "#46039f"
             ],
             [
              0.2222222222222222,
              "#7201a8"
             ],
             [
              0.3333333333333333,
              "#9c179e"
             ],
             [
              0.4444444444444444,
              "#bd3786"
             ],
             [
              0.5555555555555556,
              "#d8576b"
             ],
             [
              0.6666666666666666,
              "#ed7953"
             ],
             [
              0.7777777777777778,
              "#fb9f3a"
             ],
             [
              0.8888888888888888,
              "#fdca26"
             ],
             [
              1,
              "#f0f921"
             ]
            ],
            "type": "contour"
           }
          ],
          "contourcarpet": [
           {
            "colorbar": {
             "outlinewidth": 0,
             "ticks": ""
            },
            "type": "contourcarpet"
           }
          ],
          "heatmap": [
           {
            "colorbar": {
             "outlinewidth": 0,
             "ticks": ""
            },
            "colorscale": [
             [
              0,
              "#0d0887"
             ],
             [
              0.1111111111111111,
              "#46039f"
             ],
             [
              0.2222222222222222,
              "#7201a8"
             ],
             [
              0.3333333333333333,
              "#9c179e"
             ],
             [
              0.4444444444444444,
              "#bd3786"
             ],
             [
              0.5555555555555556,
              "#d8576b"
             ],
             [
              0.6666666666666666,
              "#ed7953"
             ],
             [
              0.7777777777777778,
              "#fb9f3a"
             ],
             [
              0.8888888888888888,
              "#fdca26"
             ],
             [
              1,
              "#f0f921"
             ]
            ],
            "type": "heatmap"
           }
          ],
          "heatmapgl": [
           {
            "colorbar": {
             "outlinewidth": 0,
             "ticks": ""
            },
            "colorscale": [
             [
              0,
              "#0d0887"
             ],
             [
              0.1111111111111111,
              "#46039f"
             ],
             [
              0.2222222222222222,
              "#7201a8"
             ],
             [
              0.3333333333333333,
              "#9c179e"
             ],
             [
              0.4444444444444444,
              "#bd3786"
             ],
             [
              0.5555555555555556,
              "#d8576b"
             ],
             [
              0.6666666666666666,
              "#ed7953"
             ],
             [
              0.7777777777777778,
              "#fb9f3a"
             ],
             [
              0.8888888888888888,
              "#fdca26"
             ],
             [
              1,
              "#f0f921"
             ]
            ],
            "type": "heatmapgl"
           }
          ],
          "histogram": [
           {
            "marker": {
             "colorbar": {
              "outlinewidth": 0,
              "ticks": ""
             }
            },
            "type": "histogram"
           }
          ],
          "histogram2d": [
           {
            "colorbar": {
             "outlinewidth": 0,
             "ticks": ""
            },
            "colorscale": [
             [
              0,
              "#0d0887"
             ],
             [
              0.1111111111111111,
              "#46039f"
             ],
             [
              0.2222222222222222,
              "#7201a8"
             ],
             [
              0.3333333333333333,
              "#9c179e"
             ],
             [
              0.4444444444444444,
              "#bd3786"
             ],
             [
              0.5555555555555556,
              "#d8576b"
             ],
             [
              0.6666666666666666,
              "#ed7953"
             ],
             [
              0.7777777777777778,
              "#fb9f3a"
             ],
             [
              0.8888888888888888,
              "#fdca26"
             ],
             [
              1,
              "#f0f921"
             ]
            ],
            "type": "histogram2d"
           }
          ],
          "histogram2dcontour": [
           {
            "colorbar": {
             "outlinewidth": 0,
             "ticks": ""
            },
            "colorscale": [
             [
              0,
              "#0d0887"
             ],
             [
              0.1111111111111111,
              "#46039f"
             ],
             [
              0.2222222222222222,
              "#7201a8"
             ],
             [
              0.3333333333333333,
              "#9c179e"
             ],
             [
              0.4444444444444444,
              "#bd3786"
             ],
             [
              0.5555555555555556,
              "#d8576b"
             ],
             [
              0.6666666666666666,
              "#ed7953"
             ],
             [
              0.7777777777777778,
              "#fb9f3a"
             ],
             [
              0.8888888888888888,
              "#fdca26"
             ],
             [
              1,
              "#f0f921"
             ]
            ],
            "type": "histogram2dcontour"
           }
          ],
          "mesh3d": [
           {
            "colorbar": {
             "outlinewidth": 0,
             "ticks": ""
            },
            "type": "mesh3d"
           }
          ],
          "parcoords": [
           {
            "line": {
             "colorbar": {
              "outlinewidth": 0,
              "ticks": ""
             }
            },
            "type": "parcoords"
           }
          ],
          "pie": [
           {
            "automargin": true,
            "type": "pie"
           }
          ],
          "scatter": [
           {
            "marker": {
             "colorbar": {
              "outlinewidth": 0,
              "ticks": ""
             }
            },
            "type": "scatter"
           }
          ],
          "scatter3d": [
           {
            "line": {
             "colorbar": {
              "outlinewidth": 0,
              "ticks": ""
             }
            },
            "marker": {
             "colorbar": {
              "outlinewidth": 0,
              "ticks": ""
             }
            },
            "type": "scatter3d"
           }
          ],
          "scattercarpet": [
           {
            "marker": {
             "colorbar": {
              "outlinewidth": 0,
              "ticks": ""
             }
            },
            "type": "scattercarpet"
           }
          ],
          "scattergeo": [
           {
            "marker": {
             "colorbar": {
              "outlinewidth": 0,
              "ticks": ""
             }
            },
            "type": "scattergeo"
           }
          ],
          "scattergl": [
           {
            "marker": {
             "colorbar": {
              "outlinewidth": 0,
              "ticks": ""
             }
            },
            "type": "scattergl"
           }
          ],
          "scattermapbox": [
           {
            "marker": {
             "colorbar": {
              "outlinewidth": 0,
              "ticks": ""
             }
            },
            "type": "scattermapbox"
           }
          ],
          "scatterpolar": [
           {
            "marker": {
             "colorbar": {
              "outlinewidth": 0,
              "ticks": ""
             }
            },
            "type": "scatterpolar"
           }
          ],
          "scatterpolargl": [
           {
            "marker": {
             "colorbar": {
              "outlinewidth": 0,
              "ticks": ""
             }
            },
            "type": "scatterpolargl"
           }
          ],
          "scatterternary": [
           {
            "marker": {
             "colorbar": {
              "outlinewidth": 0,
              "ticks": ""
             }
            },
            "type": "scatterternary"
           }
          ],
          "surface": [
           {
            "colorbar": {
             "outlinewidth": 0,
             "ticks": ""
            },
            "colorscale": [
             [
              0,
              "#0d0887"
             ],
             [
              0.1111111111111111,
              "#46039f"
             ],
             [
              0.2222222222222222,
              "#7201a8"
             ],
             [
              0.3333333333333333,
              "#9c179e"
             ],
             [
              0.4444444444444444,
              "#bd3786"
             ],
             [
              0.5555555555555556,
              "#d8576b"
             ],
             [
              0.6666666666666666,
              "#ed7953"
             ],
             [
              0.7777777777777778,
              "#fb9f3a"
             ],
             [
              0.8888888888888888,
              "#fdca26"
             ],
             [
              1,
              "#f0f921"
             ]
            ],
            "type": "surface"
           }
          ],
          "table": [
           {
            "cells": {
             "fill": {
              "color": "#EBF0F8"
             },
             "line": {
              "color": "white"
             }
            },
            "header": {
             "fill": {
              "color": "#C8D4E3"
             },
             "line": {
              "color": "white"
             }
            },
            "type": "table"
           }
          ]
         },
         "layout": {
          "annotationdefaults": {
           "arrowcolor": "#2a3f5f",
           "arrowhead": 0,
           "arrowwidth": 1
          },
          "coloraxis": {
           "colorbar": {
            "outlinewidth": 0,
            "ticks": ""
           }
          },
          "colorscale": {
           "diverging": [
            [
             0,
             "#8e0152"
            ],
            [
             0.1,
             "#c51b7d"
            ],
            [
             0.2,
             "#de77ae"
            ],
            [
             0.3,
             "#f1b6da"
            ],
            [
             0.4,
             "#fde0ef"
            ],
            [
             0.5,
             "#f7f7f7"
            ],
            [
             0.6,
             "#e6f5d0"
            ],
            [
             0.7,
             "#b8e186"
            ],
            [
             0.8,
             "#7fbc41"
            ],
            [
             0.9,
             "#4d9221"
            ],
            [
             1,
             "#276419"
            ]
           ],
           "sequential": [
            [
             0,
             "#0d0887"
            ],
            [
             0.1111111111111111,
             "#46039f"
            ],
            [
             0.2222222222222222,
             "#7201a8"
            ],
            [
             0.3333333333333333,
             "#9c179e"
            ],
            [
             0.4444444444444444,
             "#bd3786"
            ],
            [
             0.5555555555555556,
             "#d8576b"
            ],
            [
             0.6666666666666666,
             "#ed7953"
            ],
            [
             0.7777777777777778,
             "#fb9f3a"
            ],
            [
             0.8888888888888888,
             "#fdca26"
            ],
            [
             1,
             "#f0f921"
            ]
           ],
           "sequentialminus": [
            [
             0,
             "#0d0887"
            ],
            [
             0.1111111111111111,
             "#46039f"
            ],
            [
             0.2222222222222222,
             "#7201a8"
            ],
            [
             0.3333333333333333,
             "#9c179e"
            ],
            [
             0.4444444444444444,
             "#bd3786"
            ],
            [
             0.5555555555555556,
             "#d8576b"
            ],
            [
             0.6666666666666666,
             "#ed7953"
            ],
            [
             0.7777777777777778,
             "#fb9f3a"
            ],
            [
             0.8888888888888888,
             "#fdca26"
            ],
            [
             1,
             "#f0f921"
            ]
           ]
          },
          "colorway": [
           "#636efa",
           "#EF553B",
           "#00cc96",
           "#ab63fa",
           "#FFA15A",
           "#19d3f3",
           "#FF6692",
           "#B6E880",
           "#FF97FF",
           "#FECB52"
          ],
          "font": {
           "color": "#2a3f5f"
          },
          "geo": {
           "bgcolor": "white",
           "lakecolor": "white",
           "landcolor": "#E5ECF6",
           "showlakes": true,
           "showland": true,
           "subunitcolor": "white"
          },
          "hoverlabel": {
           "align": "left"
          },
          "hovermode": "closest",
          "mapbox": {
           "style": "light"
          },
          "paper_bgcolor": "white",
          "plot_bgcolor": "#E5ECF6",
          "polar": {
           "angularaxis": {
            "gridcolor": "white",
            "linecolor": "white",
            "ticks": ""
           },
           "bgcolor": "#E5ECF6",
           "radialaxis": {
            "gridcolor": "white",
            "linecolor": "white",
            "ticks": ""
           }
          },
          "scene": {
           "xaxis": {
            "backgroundcolor": "#E5ECF6",
            "gridcolor": "white",
            "gridwidth": 2,
            "linecolor": "white",
            "showbackground": true,
            "ticks": "",
            "zerolinecolor": "white"
           },
           "yaxis": {
            "backgroundcolor": "#E5ECF6",
            "gridcolor": "white",
            "gridwidth": 2,
            "linecolor": "white",
            "showbackground": true,
            "ticks": "",
            "zerolinecolor": "white"
           },
           "zaxis": {
            "backgroundcolor": "#E5ECF6",
            "gridcolor": "white",
            "gridwidth": 2,
            "linecolor": "white",
            "showbackground": true,
            "ticks": "",
            "zerolinecolor": "white"
           }
          },
          "shapedefaults": {
           "line": {
            "color": "#2a3f5f"
           }
          },
          "ternary": {
           "aaxis": {
            "gridcolor": "white",
            "linecolor": "white",
            "ticks": ""
           },
           "baxis": {
            "gridcolor": "white",
            "linecolor": "white",
            "ticks": ""
           },
           "bgcolor": "#E5ECF6",
           "caxis": {
            "gridcolor": "white",
            "linecolor": "white",
            "ticks": ""
           }
          },
          "title": {
           "x": 0.05
          },
          "xaxis": {
           "automargin": true,
           "gridcolor": "white",
           "linecolor": "white",
           "ticks": "",
           "title": {
            "standoff": 15
           },
           "zerolinecolor": "white",
           "zerolinewidth": 2
          },
          "yaxis": {
           "automargin": true,
           "gridcolor": "white",
           "linecolor": "white",
           "ticks": "",
           "title": {
            "standoff": 15
           },
           "zerolinecolor": "white",
           "zerolinewidth": 2
          }
         }
        },
        "title": {
         "text": "Genomlysningstid vs Operatör"
        },
        "yaxis": {
         "title": {
          "text": "Genomlysningstid"
         }
        }
       }
      },
      "text/html": [
       "<div>\n",
       "        \n",
       "        \n",
       "            <div id=\"102456e5-a442-4264-a916-a843c6f7f34d\" class=\"plotly-graph-div\" style=\"height:525px; width:100%;\"></div>\n",
       "            <script type=\"text/javascript\">\n",
       "                require([\"plotly\"], function(Plotly) {\n",
       "                    window.PLOTLYENV=window.PLOTLYENV || {};\n",
       "                    \n",
       "                if (document.getElementById(\"102456e5-a442-4264-a916-a843c6f7f34d\")) {\n",
       "                    Plotly.newPlot(\n",
       "                        '102456e5-a442-4264-a916-a843c6f7f34d',\n",
       "                        [{\"type\": \"bar\", \"x\": [\" Malte Granten\", \" Malte Granten\", \" Malte Granten\", \" Malte Granten\", \" Malte Granten\", \" Malte Granten\", \" Malte Granten\", \" Malte Granten\", \" Malte Granten\", \" Malte Granten\", \" Malte Granten\", \" Malte Granten\", \" Malte Granten\", \" Malte Granten\", \" Malte Granten\", \" Malte Granten\"], \"y\": [2382.0, 930.0, 3223.0, 2817.0, 2653.0, 3491.0, 2507.0, 786.0, 5419.0, 1741.0, 1197.0, 4328.0, 2611.0, 4594.0, 992.0, 2105.0]}, {\"type\": \"bar\", \"x\": [\" Louise Berglund\", \" Louise Berglund\"], \"y\": [5894.0, 2363.0]}, {\"type\": \"bar\", \"x\": [\" Erik Lindberg\", \" Erik Lindberg\"], \"y\": [4785.0, 2340.0]}, {\"type\": \"bar\", \"x\": [\" Hampus Studahl\", \" Hampus Studahl\", \" Hampus Studahl\", \" Hampus Studahl\", \" Hampus Studahl\", \" Hampus Studahl\", \" Hampus Studahl\", \" Hampus Studahl\"], \"y\": [10759.0, 7909.0, 7890.0, 17932.0, 10968.0, 18421.0, 3424.0, 7717.0]}, {\"type\": \"bar\", \"x\": [\" Per \\u00d6berg\", \" Per \\u00d6berg\", \" Per \\u00d6berg\", \" Per \\u00d6berg\", \" Per \\u00d6berg\", \" Per \\u00d6berg\", \" Per \\u00d6berg\", \" Per \\u00d6berg\", \" Per \\u00d6berg\", \" Per \\u00d6berg\", \" Per \\u00d6berg\"], \"y\": [3641.0, 5933.0, 11532.0, 2209.0, 7540.0, 4607.0, 8915.0, 4405.0, 6297.0, 2501.0, 4457.0]}, {\"type\": \"bar\", \"x\": [\" Andreas Larsson\", \" Andreas Larsson\", \" Andreas Larsson\", \" Andreas Larsson\", \" Andreas Larsson\", \" Andreas Larsson\", \" Andreas Larsson\", \" Andreas Larsson\"], \"y\": [9474.0, 8983.0, 7321.0, 5546.0, 8402.0, 6471.0, 4095.0, 11253.0]}, {\"type\": \"bar\", \"x\": [\" Peter Sundstr\\u00f6m\", \" Peter Sundstr\\u00f6m\", \" Peter Sundstr\\u00f6m\"], \"y\": [605.0, 3071.0, 474.0]}, {\"type\": \"bar\", \"x\": [\" Lena Lindgren\", \" Lena Lindgren\"], \"y\": [1604.0, 2336.0]}, {\"type\": \"bar\", \"x\": [], \"y\": []}, {\"type\": \"bar\", \"x\": [\" Gataa Khaldun Ghali\"], \"y\": [3599.0]}, {\"type\": \"bar\", \"x\": [\" Annika \\u00d6hman\", \" Annika \\u00d6hman\", \" Annika \\u00d6hman\"], \"y\": [2980.0, 3086.0, 326.0]}, {\"type\": \"bar\", \"x\": [\" Leif Carlgren\"], \"y\": [2889.0]}, {\"type\": \"bar\", \"x\": [\" Athanasios Zouzos\"], \"y\": [718.0]}, {\"type\": \"bar\", \"x\": [\" Lena Eriksson\"], \"y\": [1130.0]}],\n",
       "                        {\"template\": {\"data\": {\"bar\": [{\"error_x\": {\"color\": \"#2a3f5f\"}, \"error_y\": {\"color\": \"#2a3f5f\"}, \"marker\": {\"line\": {\"color\": \"#E5ECF6\", \"width\": 0.5}}, \"type\": \"bar\"}], \"barpolar\": [{\"marker\": {\"line\": {\"color\": \"#E5ECF6\", \"width\": 0.5}}, \"type\": \"barpolar\"}], \"carpet\": [{\"aaxis\": {\"endlinecolor\": \"#2a3f5f\", \"gridcolor\": \"white\", \"linecolor\": \"white\", \"minorgridcolor\": \"white\", \"startlinecolor\": \"#2a3f5f\"}, \"baxis\": {\"endlinecolor\": \"#2a3f5f\", \"gridcolor\": \"white\", \"linecolor\": \"white\", \"minorgridcolor\": \"white\", \"startlinecolor\": \"#2a3f5f\"}, \"type\": \"carpet\"}], \"choropleth\": [{\"colorbar\": {\"outlinewidth\": 0, \"ticks\": \"\"}, \"type\": \"choropleth\"}], \"contour\": [{\"colorbar\": {\"outlinewidth\": 0, \"ticks\": \"\"}, \"colorscale\": [[0.0, \"#0d0887\"], [0.1111111111111111, \"#46039f\"], [0.2222222222222222, \"#7201a8\"], [0.3333333333333333, \"#9c179e\"], [0.4444444444444444, \"#bd3786\"], [0.5555555555555556, \"#d8576b\"], [0.6666666666666666, \"#ed7953\"], [0.7777777777777778, \"#fb9f3a\"], [0.8888888888888888, \"#fdca26\"], [1.0, \"#f0f921\"]], \"type\": \"contour\"}], \"contourcarpet\": [{\"colorbar\": {\"outlinewidth\": 0, \"ticks\": \"\"}, \"type\": \"contourcarpet\"}], \"heatmap\": [{\"colorbar\": {\"outlinewidth\": 0, \"ticks\": \"\"}, \"colorscale\": [[0.0, \"#0d0887\"], [0.1111111111111111, \"#46039f\"], [0.2222222222222222, \"#7201a8\"], [0.3333333333333333, \"#9c179e\"], [0.4444444444444444, \"#bd3786\"], [0.5555555555555556, \"#d8576b\"], [0.6666666666666666, \"#ed7953\"], [0.7777777777777778, \"#fb9f3a\"], [0.8888888888888888, \"#fdca26\"], [1.0, \"#f0f921\"]], \"type\": \"heatmap\"}], \"heatmapgl\": [{\"colorbar\": {\"outlinewidth\": 0, \"ticks\": \"\"}, \"colorscale\": [[0.0, \"#0d0887\"], [0.1111111111111111, \"#46039f\"], [0.2222222222222222, \"#7201a8\"], [0.3333333333333333, \"#9c179e\"], [0.4444444444444444, \"#bd3786\"], [0.5555555555555556, \"#d8576b\"], [0.6666666666666666, \"#ed7953\"], [0.7777777777777778, \"#fb9f3a\"], [0.8888888888888888, \"#fdca26\"], [1.0, \"#f0f921\"]], \"type\": \"heatmapgl\"}], \"histogram\": [{\"marker\": {\"colorbar\": {\"outlinewidth\": 0, \"ticks\": \"\"}}, \"type\": \"histogram\"}], \"histogram2d\": [{\"colorbar\": {\"outlinewidth\": 0, \"ticks\": \"\"}, \"colorscale\": [[0.0, \"#0d0887\"], [0.1111111111111111, \"#46039f\"], [0.2222222222222222, \"#7201a8\"], [0.3333333333333333, \"#9c179e\"], [0.4444444444444444, \"#bd3786\"], [0.5555555555555556, \"#d8576b\"], [0.6666666666666666, \"#ed7953\"], [0.7777777777777778, \"#fb9f3a\"], [0.8888888888888888, \"#fdca26\"], [1.0, \"#f0f921\"]], \"type\": \"histogram2d\"}], \"histogram2dcontour\": [{\"colorbar\": {\"outlinewidth\": 0, \"ticks\": \"\"}, \"colorscale\": [[0.0, \"#0d0887\"], [0.1111111111111111, \"#46039f\"], [0.2222222222222222, \"#7201a8\"], [0.3333333333333333, \"#9c179e\"], [0.4444444444444444, \"#bd3786\"], [0.5555555555555556, \"#d8576b\"], [0.6666666666666666, \"#ed7953\"], [0.7777777777777778, \"#fb9f3a\"], [0.8888888888888888, \"#fdca26\"], [1.0, \"#f0f921\"]], \"type\": \"histogram2dcontour\"}], \"mesh3d\": [{\"colorbar\": {\"outlinewidth\": 0, \"ticks\": \"\"}, \"type\": \"mesh3d\"}], \"parcoords\": [{\"line\": {\"colorbar\": {\"outlinewidth\": 0, \"ticks\": \"\"}}, \"type\": \"parcoords\"}], \"pie\": [{\"automargin\": true, \"type\": \"pie\"}], \"scatter\": [{\"marker\": {\"colorbar\": {\"outlinewidth\": 0, \"ticks\": \"\"}}, \"type\": \"scatter\"}], \"scatter3d\": [{\"line\": {\"colorbar\": {\"outlinewidth\": 0, \"ticks\": \"\"}}, \"marker\": {\"colorbar\": {\"outlinewidth\": 0, \"ticks\": \"\"}}, \"type\": \"scatter3d\"}], \"scattercarpet\": [{\"marker\": {\"colorbar\": {\"outlinewidth\": 0, \"ticks\": \"\"}}, \"type\": \"scattercarpet\"}], \"scattergeo\": [{\"marker\": {\"colorbar\": {\"outlinewidth\": 0, \"ticks\": \"\"}}, \"type\": \"scattergeo\"}], \"scattergl\": [{\"marker\": {\"colorbar\": {\"outlinewidth\": 0, \"ticks\": \"\"}}, \"type\": \"scattergl\"}], \"scattermapbox\": [{\"marker\": {\"colorbar\": {\"outlinewidth\": 0, \"ticks\": \"\"}}, \"type\": \"scattermapbox\"}], \"scatterpolar\": [{\"marker\": {\"colorbar\": {\"outlinewidth\": 0, \"ticks\": \"\"}}, \"type\": \"scatterpolar\"}], \"scatterpolargl\": [{\"marker\": {\"colorbar\": {\"outlinewidth\": 0, \"ticks\": \"\"}}, \"type\": \"scatterpolargl\"}], \"scatterternary\": [{\"marker\": {\"colorbar\": {\"outlinewidth\": 0, \"ticks\": \"\"}}, \"type\": \"scatterternary\"}], \"surface\": [{\"colorbar\": {\"outlinewidth\": 0, \"ticks\": \"\"}, \"colorscale\": [[0.0, \"#0d0887\"], [0.1111111111111111, \"#46039f\"], [0.2222222222222222, \"#7201a8\"], [0.3333333333333333, \"#9c179e\"], [0.4444444444444444, \"#bd3786\"], [0.5555555555555556, \"#d8576b\"], [0.6666666666666666, \"#ed7953\"], [0.7777777777777778, \"#fb9f3a\"], [0.8888888888888888, \"#fdca26\"], [1.0, \"#f0f921\"]], \"type\": \"surface\"}], \"table\": [{\"cells\": {\"fill\": {\"color\": \"#EBF0F8\"}, \"line\": {\"color\": \"white\"}}, \"header\": {\"fill\": {\"color\": \"#C8D4E3\"}, \"line\": {\"color\": \"white\"}}, \"type\": \"table\"}]}, \"layout\": {\"annotationdefaults\": {\"arrowcolor\": \"#2a3f5f\", \"arrowhead\": 0, \"arrowwidth\": 1}, \"coloraxis\": {\"colorbar\": {\"outlinewidth\": 0, \"ticks\": \"\"}}, \"colorscale\": {\"diverging\": [[0, \"#8e0152\"], [0.1, \"#c51b7d\"], [0.2, \"#de77ae\"], [0.3, \"#f1b6da\"], [0.4, \"#fde0ef\"], [0.5, \"#f7f7f7\"], [0.6, \"#e6f5d0\"], [0.7, \"#b8e186\"], [0.8, \"#7fbc41\"], [0.9, \"#4d9221\"], [1, \"#276419\"]], \"sequential\": [[0.0, \"#0d0887\"], [0.1111111111111111, \"#46039f\"], [0.2222222222222222, \"#7201a8\"], [0.3333333333333333, \"#9c179e\"], [0.4444444444444444, \"#bd3786\"], [0.5555555555555556, \"#d8576b\"], [0.6666666666666666, \"#ed7953\"], [0.7777777777777778, \"#fb9f3a\"], [0.8888888888888888, \"#fdca26\"], [1.0, \"#f0f921\"]], \"sequentialminus\": [[0.0, \"#0d0887\"], [0.1111111111111111, \"#46039f\"], [0.2222222222222222, \"#7201a8\"], [0.3333333333333333, \"#9c179e\"], [0.4444444444444444, \"#bd3786\"], [0.5555555555555556, \"#d8576b\"], [0.6666666666666666, \"#ed7953\"], [0.7777777777777778, \"#fb9f3a\"], [0.8888888888888888, \"#fdca26\"], [1.0, \"#f0f921\"]]}, \"colorway\": [\"#636efa\", \"#EF553B\", \"#00cc96\", \"#ab63fa\", \"#FFA15A\", \"#19d3f3\", \"#FF6692\", \"#B6E880\", \"#FF97FF\", \"#FECB52\"], \"font\": {\"color\": \"#2a3f5f\"}, \"geo\": {\"bgcolor\": \"white\", \"lakecolor\": \"white\", \"landcolor\": \"#E5ECF6\", \"showlakes\": true, \"showland\": true, \"subunitcolor\": \"white\"}, \"hoverlabel\": {\"align\": \"left\"}, \"hovermode\": \"closest\", \"mapbox\": {\"style\": \"light\"}, \"paper_bgcolor\": \"white\", \"plot_bgcolor\": \"#E5ECF6\", \"polar\": {\"angularaxis\": {\"gridcolor\": \"white\", \"linecolor\": \"white\", \"ticks\": \"\"}, \"bgcolor\": \"#E5ECF6\", \"radialaxis\": {\"gridcolor\": \"white\", \"linecolor\": \"white\", \"ticks\": \"\"}}, \"scene\": {\"xaxis\": {\"backgroundcolor\": \"#E5ECF6\", \"gridcolor\": \"white\", \"gridwidth\": 2, \"linecolor\": \"white\", \"showbackground\": true, \"ticks\": \"\", \"zerolinecolor\": \"white\"}, \"yaxis\": {\"backgroundcolor\": \"#E5ECF6\", \"gridcolor\": \"white\", \"gridwidth\": 2, \"linecolor\": \"white\", \"showbackground\": true, \"ticks\": \"\", \"zerolinecolor\": \"white\"}, \"zaxis\": {\"backgroundcolor\": \"#E5ECF6\", \"gridcolor\": \"white\", \"gridwidth\": 2, \"linecolor\": \"white\", \"showbackground\": true, \"ticks\": \"\", \"zerolinecolor\": \"white\"}}, \"shapedefaults\": {\"line\": {\"color\": \"#2a3f5f\"}}, \"ternary\": {\"aaxis\": {\"gridcolor\": \"white\", \"linecolor\": \"white\", \"ticks\": \"\"}, \"baxis\": {\"gridcolor\": \"white\", \"linecolor\": \"white\", \"ticks\": \"\"}, \"bgcolor\": \"#E5ECF6\", \"caxis\": {\"gridcolor\": \"white\", \"linecolor\": \"white\", \"ticks\": \"\"}}, \"title\": {\"x\": 0.05}, \"xaxis\": {\"automargin\": true, \"gridcolor\": \"white\", \"linecolor\": \"white\", \"ticks\": \"\", \"title\": {\"standoff\": 15}, \"zerolinecolor\": \"white\", \"zerolinewidth\": 2}, \"yaxis\": {\"automargin\": true, \"gridcolor\": \"white\", \"linecolor\": \"white\", \"ticks\": \"\", \"title\": {\"standoff\": 15}, \"zerolinecolor\": \"white\", \"zerolinewidth\": 2}}}, \"title\": {\"text\": \"Genomlysningstid vs Operat\\u00f6r\"}, \"yaxis\": {\"title\": {\"text\": \"Genomlysningstid\"}}},\n",
       "                        {\"responsive\": true}\n",
       "                    ).then(function(){\n",
       "                            \n",
       "var gd = document.getElementById('102456e5-a442-4264-a916-a843c6f7f34d');\n",
       "var x = new MutationObserver(function (mutations, observer) {{\n",
       "        var display = window.getComputedStyle(gd).display;\n",
       "        if (!display || display === 'none') {{\n",
       "            console.log([gd, 'removed!']);\n",
       "            Plotly.purge(gd);\n",
       "            observer.disconnect();\n",
       "        }}\n",
       "}});\n",
       "\n",
       "// Listen for the removal of the full notebook cells\n",
       "var notebookContainer = gd.closest('#notebook-container');\n",
       "if (notebookContainer) {{\n",
       "    x.observe(notebookContainer, {childList: true});\n",
       "}}\n",
       "\n",
       "// Listen for the clearing of the current output cell\n",
       "var outputEl = gd.closest('.output');\n",
       "if (outputEl) {{\n",
       "    x.observe(outputEl, {childList: true});\n",
       "}}\n",
       "\n",
       "                        })\n",
       "                };\n",
       "                });\n",
       "            </script>\n",
       "        </div>"
      ]
     },
     "metadata": {},
     "output_type": "display_data"
    }
   ],
   "source": [
    "#Box plot av DAP och Gml-tid vs operatör\n",
    "\n",
    "fig = go.Figure()\n",
    "\n",
    "i=0\n",
    "for i in range(len(operators_skel_clean)):\n",
    "    fig.add_trace(\n",
    "        go.Bar(x=data_studies_S08[data_studies_S08['OperatorName']==operators_skel_clean[i]].OperatorName,\n",
    "               y=data_studies_S08[data_studies_S08['OperatorName']==operators_skel_clean[i]].TotalFluoroTime,\n",
    "               offsetgroup=0+i\n",
    "              )\n",
    "    )\n",
    "    \n",
    "fig.update_layout(title=\"Genomlysningstid vs Operatör\",\n",
    "                  yaxis_title=\"Genomlysningstid\"\n",
    "                 )\n",
    "\n",
    "\n",
    "fig.show()"
   ]
  },
  {
   "cell_type": "code",
   "execution_count": 45,
   "metadata": {},
   "outputs": [
    {
     "data": {
      "application/vnd.plotly.v1+json": {
       "config": {
        "plotlyServerURL": "https://plot.ly"
       },
       "data": [
        {
         "mode": "markers",
         "type": "scatter",
         "y": [
          0.0064,
          0.033800000000000004,
          0.012,
          0.0112,
          0.0282,
          0.0144,
          0.09620000000000001,
          0.367,
          0.8448,
          0.1669,
          0.0128,
          0,
          0.0008,
          0.0008,
          0.0035,
          0.0458,
          0.0483,
          0.1316,
          0.0636,
          0.1421,
          0.3286,
          1.7256,
          14.776299999999999,
          1.2209,
          0.9703,
          6.6881,
          0.42560000000000003,
          1.0078,
          0.4913,
          0.4023,
          0.2482,
          0.1004,
          0.0431,
          0.1984,
          0.039,
          0.0174,
          0.0983,
          0.0064,
          0.0176,
          0.04,
          0.0568,
          0.6415,
          0.0896,
          0.2522,
          0.0008,
          0.0112,
          0.0072,
          0.009600000000000001,
          0.0292,
          0.0152,
          0.0168,
          0.095,
          0.2131,
          0.3153,
          0.1277,
          0.0208,
          0.1554,
          0.1221,
          0.012,
          0.0128,
          0.013600000000000001,
          0.0501,
          0.0176,
          0.0227,
          0.022600000000000002,
          0.2104,
          0.4181,
          0.7228,
          0.9105,
          0.4742,
          0.5941,
          0.2933,
          0.0176,
          0.013600000000000001,
          0.0144,
          0.0803,
          0.0721,
          0.0264,
          0.0281,
          0.1869,
          0.2752,
          0.8827,
          0.0995,
          0.1607,
          0.0588,
          0.8247,
          0.19720000000000001,
          0.20700000000000002,
          0.0471,
          0.38230000000000003,
          0.0056,
          0.2394,
          0.008,
          0.004,
          0.0024000000000000002,
          0.0112,
          0.0072,
          0.009600000000000001,
          0.0474,
          0.0524,
          0.0465,
          0.2754,
          0.1766,
          0.1062,
          0.068,
          0.0304,
          0.0056,
          0.028,
          0.0008,
          0.5038,
          0.5191,
          0.0718,
          0.06860000000000001,
          0.032,
          0.0032,
          0.0176,
          0.0184,
          0.009600000000000001,
          0.058300000000000005,
          0.0216,
          0.0168,
          0.3432,
          0.5702,
          0.5296,
          0.2356,
          0.2417,
          0.2475,
          0.0107,
          0.0064,
          0.004,
          0.0439,
          0.016,
          0.0809,
          0.0105,
          0.0671,
          0.0377,
          0.0244,
          0.0063,
          0.0244,
          0.0112,
          0.061,
          0.1014,
          0.07150000000000001,
          0.0678,
          0.5309,
          0.9796,
          0.6996,
          0.8140000000000001,
          0.7418,
          0.3452,
          0.0912,
          0.0048000000000000004,
          0.004,
          0.0176,
          0.009600000000000001,
          0.081,
          0.0762,
          0.019200000000000002,
          0.4753,
          0.1605,
          0.1859,
          0.7946,
          0.1517,
          0.3444,
          0.20700000000000002,
          2.7641999999999998,
          2.7038,
          0.2958,
          0.5740000000000001,
          1.0071,
          0.008,
          0.0041,
          0.0008,
          0.0703,
          0.013900000000000001,
          0.0394,
          0.41550000000000004,
          1.2365,
          0.0248,
          0.0582,
          0.2879,
          0.0271,
          0,
          0.0542,
          0.0161,
          0.0259,
          0.0144,
          0.054900000000000004,
          0.0285,
          0.0311,
          0.2474,
          0.9964000000000001,
          1.738,
          0.4496,
          0.3565,
          0.15410000000000001,
          0.0088,
          0.0064,
          0.0392,
          0.0208,
          0.3062,
          0.6281,
          0.5355,
          0.1402,
          0.009600000000000001,
          0.0088,
          0.0144,
          0.0467,
          0.13620000000000002,
          0.1065,
          0.5404,
          0.7545000000000001,
          0.12240000000000001,
          0.0008,
          0.0098,
          0.4864,
          0.1608,
          0.1027,
          0.0063,
          0.0238,
          0.1994,
          0.3503,
          0.227,
          0.0085,
          0.007,
          0.0049,
          0.0436,
          0.0123,
          0.026600000000000002,
          0.2038,
          0.1754,
          0.0177,
          0.017,
          0.009600000000000001,
          0.019,
          0.04,
          0.09040000000000001,
          0.1324,
          0.1974,
          0.0317,
          0.0064,
          0.02,
          0.0608,
          0.6069,
          0.5488000000000001,
          0.2934,
          0.0088,
          0.0112,
          0.009600000000000001,
          0.0256,
          0.1043,
          0.8802,
          0.9556,
          0.126,
          0.0776,
          0.0088,
          0.040600000000000004,
          0.032,
          0.3046,
          0.0265,
          0.0603,
          0.0016,
          0.0016,
          0.0912,
          0.1855,
          0.027200000000000002,
          0.1318,
          0.1168,
          0.0016,
          0.0008,
          0.0025,
          0.0098,
          0.0439,
          0.0591,
          0.0424,
          0.009600000000000001,
          0.044000000000000004,
          0.1596,
          0.1776,
          0.4419,
          0.742,
          1.1331,
          0.2112,
          0.0263,
          0.8259,
          0.9762000000000001,
          6.5862,
          0.9974000000000001,
          0.0032,
          0.0016,
          0.0127,
          0.4792,
          0.1455,
          0.008,
          12.1371,
          0.27490000000000003,
          0.0016,
          1.1415,
          2.9028,
          0.9402,
          1.7351999999999999,
          0.1647,
          0.009600000000000001,
          0.0072,
          0.0064,
          0.0582,
          0.1274,
          0.2629,
          0.3012,
          0.1586,
          0.0691,
          0.0424,
          0.0176,
          0.009600000000000001,
          0.0344,
          0.139,
          0.6602,
          0.5187,
          0.1588,
          0.0296,
          0.0008,
          0.0008,
          0.0008,
          0.0008,
          0.0288,
          0.0224,
          0.0521,
          0.2651,
          1.6423,
          3.7343,
          0.0068000000000000005,
          0.0137,
          0.006,
          0.0077,
          0.4449,
          0.0457,
          0.0104,
          0.0072,
          0.0224,
          0.0857,
          0.34500000000000003,
          0.4213,
          0.1253,
          0.6834,
          0.08800000000000001,
          0.0008,
          0.028,
          0.0032,
          0,
          0.0112,
          0.0264,
          0.0456,
          0.1096,
          0.1942,
          0.1443,
          0.30010000000000003,
          0.0878,
          0.031,
          0.0128,
          0.0056,
          0.0224,
          0.012,
          0.02,
          0.0433,
          0.1158,
          2.267,
          0.2187,
          3.4109,
          0.054,
          0.0017000000000000001,
          0.0017000000000000001,
          0.0017000000000000001,
          0.0158,
          0.004,
          0.0088,
          0.024,
          0.004,
          0.0152,
          0.0032,
          0.008,
          0.0112,
          0.0264,
          0.008,
          0.0049,
          0.0048000000000000004,
          0.0081,
          0.006500000000000001,
          0.0033,
          0.030000000000000002,
          0.035500000000000004,
          0.008,
          0.0373,
          0.0363,
          0.0064,
          0.0064,
          0.0008,
          0,
          0.0048000000000000004,
          0.5375,
          0.0727,
          0.02,
          0.3585,
          0.2441,
          0.0248,
          0.0128,
          0.0504,
          0.372,
          0.2056,
          0.132,
          10.8776,
          1.3248,
          0.1595,
          1.5773000000000001,
          3.8946,
          6.5803,
          9.0793,
          0.2788,
          0.028,
          0.0144,
          0.0256,
          0.3272,
          0.023200000000000002,
          0.1361,
          0.10010000000000001,
          0.165,
          0.7208,
          0.1414,
          0.0472,
          0.0482,
          0.1193,
          0.012,
          2.0001,
          0.9492,
          0.0035,
          0.0325,
          0.0188,
          0.32430000000000003,
          0.0345,
          0.1413,
          0.0146,
          0.0152,
          0.0855,
          0.0017000000000000001,
          0.0008,
          0.0042,
          0.13040000000000002,
          0.6383,
          0.044000000000000004,
          0.1282,
          0.9121,
          0.0078000000000000005,
          0.0088,
          0.019200000000000002,
          0.0445,
          0.0275,
          0.4427,
          0.1327,
          0.0631,
          0.2571,
          0.1346,
          4.1548,
          1.5714000000000001,
          0.8645,
          0.2609,
          1.0186,
          1.4093,
          0.9799,
          0.008,
          0.7834,
          0.1148,
          0.43670000000000003,
          0.009600000000000001,
          0.0056,
          0.020900000000000002,
          0.0682,
          0.29910000000000003,
          0.5834,
          3.235,
          0.0501,
          2.0285,
          0.7605000000000001,
          1.8923999999999999,
          0.032100000000000004,
          0.0176,
          0.019200000000000002,
          0.0269,
          0.1252,
          0.0946,
          0.3044,
          0.0063,
          0.009600000000000001,
          0.0072,
          0.0165,
          0.0175,
          0.39390000000000003,
          0.0378,
          0.521,
          0.4126,
          0.0542,
          0.0431,
          0.16040000000000001,
          0.2861,
          0.0088,
          0.0048000000000000004,
          0.0411,
          0.004,
          0.8607,
          1.8601999999999999,
          0.22440000000000002,
          0.331,
          0.11120000000000001,
          0.2833,
          0.0396,
          0,
          0.0056,
          0.0508,
          0.0036,
          0.2446,
          0.09330000000000001,
          0.0879,
          0.004,
          0.1109,
          0.4275,
          0.3976
         ]
        }
       ],
       "layout": {
        "template": {
         "data": {
          "bar": [
           {
            "error_x": {
             "color": "#2a3f5f"
            },
            "error_y": {
             "color": "#2a3f5f"
            },
            "marker": {
             "line": {
              "color": "#E5ECF6",
              "width": 0.5
             }
            },
            "type": "bar"
           }
          ],
          "barpolar": [
           {
            "marker": {
             "line": {
              "color": "#E5ECF6",
              "width": 0.5
             }
            },
            "type": "barpolar"
           }
          ],
          "carpet": [
           {
            "aaxis": {
             "endlinecolor": "#2a3f5f",
             "gridcolor": "white",
             "linecolor": "white",
             "minorgridcolor": "white",
             "startlinecolor": "#2a3f5f"
            },
            "baxis": {
             "endlinecolor": "#2a3f5f",
             "gridcolor": "white",
             "linecolor": "white",
             "minorgridcolor": "white",
             "startlinecolor": "#2a3f5f"
            },
            "type": "carpet"
           }
          ],
          "choropleth": [
           {
            "colorbar": {
             "outlinewidth": 0,
             "ticks": ""
            },
            "type": "choropleth"
           }
          ],
          "contour": [
           {
            "colorbar": {
             "outlinewidth": 0,
             "ticks": ""
            },
            "colorscale": [
             [
              0,
              "#0d0887"
             ],
             [
              0.1111111111111111,
              "#46039f"
             ],
             [
              0.2222222222222222,
              "#7201a8"
             ],
             [
              0.3333333333333333,
              "#9c179e"
             ],
             [
              0.4444444444444444,
              "#bd3786"
             ],
             [
              0.5555555555555556,
              "#d8576b"
             ],
             [
              0.6666666666666666,
              "#ed7953"
             ],
             [
              0.7777777777777778,
              "#fb9f3a"
             ],
             [
              0.8888888888888888,
              "#fdca26"
             ],
             [
              1,
              "#f0f921"
             ]
            ],
            "type": "contour"
           }
          ],
          "contourcarpet": [
           {
            "colorbar": {
             "outlinewidth": 0,
             "ticks": ""
            },
            "type": "contourcarpet"
           }
          ],
          "heatmap": [
           {
            "colorbar": {
             "outlinewidth": 0,
             "ticks": ""
            },
            "colorscale": [
             [
              0,
              "#0d0887"
             ],
             [
              0.1111111111111111,
              "#46039f"
             ],
             [
              0.2222222222222222,
              "#7201a8"
             ],
             [
              0.3333333333333333,
              "#9c179e"
             ],
             [
              0.4444444444444444,
              "#bd3786"
             ],
             [
              0.5555555555555556,
              "#d8576b"
             ],
             [
              0.6666666666666666,
              "#ed7953"
             ],
             [
              0.7777777777777778,
              "#fb9f3a"
             ],
             [
              0.8888888888888888,
              "#fdca26"
             ],
             [
              1,
              "#f0f921"
             ]
            ],
            "type": "heatmap"
           }
          ],
          "heatmapgl": [
           {
            "colorbar": {
             "outlinewidth": 0,
             "ticks": ""
            },
            "colorscale": [
             [
              0,
              "#0d0887"
             ],
             [
              0.1111111111111111,
              "#46039f"
             ],
             [
              0.2222222222222222,
              "#7201a8"
             ],
             [
              0.3333333333333333,
              "#9c179e"
             ],
             [
              0.4444444444444444,
              "#bd3786"
             ],
             [
              0.5555555555555556,
              "#d8576b"
             ],
             [
              0.6666666666666666,
              "#ed7953"
             ],
             [
              0.7777777777777778,
              "#fb9f3a"
             ],
             [
              0.8888888888888888,
              "#fdca26"
             ],
             [
              1,
              "#f0f921"
             ]
            ],
            "type": "heatmapgl"
           }
          ],
          "histogram": [
           {
            "marker": {
             "colorbar": {
              "outlinewidth": 0,
              "ticks": ""
             }
            },
            "type": "histogram"
           }
          ],
          "histogram2d": [
           {
            "colorbar": {
             "outlinewidth": 0,
             "ticks": ""
            },
            "colorscale": [
             [
              0,
              "#0d0887"
             ],
             [
              0.1111111111111111,
              "#46039f"
             ],
             [
              0.2222222222222222,
              "#7201a8"
             ],
             [
              0.3333333333333333,
              "#9c179e"
             ],
             [
              0.4444444444444444,
              "#bd3786"
             ],
             [
              0.5555555555555556,
              "#d8576b"
             ],
             [
              0.6666666666666666,
              "#ed7953"
             ],
             [
              0.7777777777777778,
              "#fb9f3a"
             ],
             [
              0.8888888888888888,
              "#fdca26"
             ],
             [
              1,
              "#f0f921"
             ]
            ],
            "type": "histogram2d"
           }
          ],
          "histogram2dcontour": [
           {
            "colorbar": {
             "outlinewidth": 0,
             "ticks": ""
            },
            "colorscale": [
             [
              0,
              "#0d0887"
             ],
             [
              0.1111111111111111,
              "#46039f"
             ],
             [
              0.2222222222222222,
              "#7201a8"
             ],
             [
              0.3333333333333333,
              "#9c179e"
             ],
             [
              0.4444444444444444,
              "#bd3786"
             ],
             [
              0.5555555555555556,
              "#d8576b"
             ],
             [
              0.6666666666666666,
              "#ed7953"
             ],
             [
              0.7777777777777778,
              "#fb9f3a"
             ],
             [
              0.8888888888888888,
              "#fdca26"
             ],
             [
              1,
              "#f0f921"
             ]
            ],
            "type": "histogram2dcontour"
           }
          ],
          "mesh3d": [
           {
            "colorbar": {
             "outlinewidth": 0,
             "ticks": ""
            },
            "type": "mesh3d"
           }
          ],
          "parcoords": [
           {
            "line": {
             "colorbar": {
              "outlinewidth": 0,
              "ticks": ""
             }
            },
            "type": "parcoords"
           }
          ],
          "pie": [
           {
            "automargin": true,
            "type": "pie"
           }
          ],
          "scatter": [
           {
            "marker": {
             "colorbar": {
              "outlinewidth": 0,
              "ticks": ""
             }
            },
            "type": "scatter"
           }
          ],
          "scatter3d": [
           {
            "line": {
             "colorbar": {
              "outlinewidth": 0,
              "ticks": ""
             }
            },
            "marker": {
             "colorbar": {
              "outlinewidth": 0,
              "ticks": ""
             }
            },
            "type": "scatter3d"
           }
          ],
          "scattercarpet": [
           {
            "marker": {
             "colorbar": {
              "outlinewidth": 0,
              "ticks": ""
             }
            },
            "type": "scattercarpet"
           }
          ],
          "scattergeo": [
           {
            "marker": {
             "colorbar": {
              "outlinewidth": 0,
              "ticks": ""
             }
            },
            "type": "scattergeo"
           }
          ],
          "scattergl": [
           {
            "marker": {
             "colorbar": {
              "outlinewidth": 0,
              "ticks": ""
             }
            },
            "type": "scattergl"
           }
          ],
          "scattermapbox": [
           {
            "marker": {
             "colorbar": {
              "outlinewidth": 0,
              "ticks": ""
             }
            },
            "type": "scattermapbox"
           }
          ],
          "scatterpolar": [
           {
            "marker": {
             "colorbar": {
              "outlinewidth": 0,
              "ticks": ""
             }
            },
            "type": "scatterpolar"
           }
          ],
          "scatterpolargl": [
           {
            "marker": {
             "colorbar": {
              "outlinewidth": 0,
              "ticks": ""
             }
            },
            "type": "scatterpolargl"
           }
          ],
          "scatterternary": [
           {
            "marker": {
             "colorbar": {
              "outlinewidth": 0,
              "ticks": ""
             }
            },
            "type": "scatterternary"
           }
          ],
          "surface": [
           {
            "colorbar": {
             "outlinewidth": 0,
             "ticks": ""
            },
            "colorscale": [
             [
              0,
              "#0d0887"
             ],
             [
              0.1111111111111111,
              "#46039f"
             ],
             [
              0.2222222222222222,
              "#7201a8"
             ],
             [
              0.3333333333333333,
              "#9c179e"
             ],
             [
              0.4444444444444444,
              "#bd3786"
             ],
             [
              0.5555555555555556,
              "#d8576b"
             ],
             [
              0.6666666666666666,
              "#ed7953"
             ],
             [
              0.7777777777777778,
              "#fb9f3a"
             ],
             [
              0.8888888888888888,
              "#fdca26"
             ],
             [
              1,
              "#f0f921"
             ]
            ],
            "type": "surface"
           }
          ],
          "table": [
           {
            "cells": {
             "fill": {
              "color": "#EBF0F8"
             },
             "line": {
              "color": "white"
             }
            },
            "header": {
             "fill": {
              "color": "#C8D4E3"
             },
             "line": {
              "color": "white"
             }
            },
            "type": "table"
           }
          ]
         },
         "layout": {
          "annotationdefaults": {
           "arrowcolor": "#2a3f5f",
           "arrowhead": 0,
           "arrowwidth": 1
          },
          "coloraxis": {
           "colorbar": {
            "outlinewidth": 0,
            "ticks": ""
           }
          },
          "colorscale": {
           "diverging": [
            [
             0,
             "#8e0152"
            ],
            [
             0.1,
             "#c51b7d"
            ],
            [
             0.2,
             "#de77ae"
            ],
            [
             0.3,
             "#f1b6da"
            ],
            [
             0.4,
             "#fde0ef"
            ],
            [
             0.5,
             "#f7f7f7"
            ],
            [
             0.6,
             "#e6f5d0"
            ],
            [
             0.7,
             "#b8e186"
            ],
            [
             0.8,
             "#7fbc41"
            ],
            [
             0.9,
             "#4d9221"
            ],
            [
             1,
             "#276419"
            ]
           ],
           "sequential": [
            [
             0,
             "#0d0887"
            ],
            [
             0.1111111111111111,
             "#46039f"
            ],
            [
             0.2222222222222222,
             "#7201a8"
            ],
            [
             0.3333333333333333,
             "#9c179e"
            ],
            [
             0.4444444444444444,
             "#bd3786"
            ],
            [
             0.5555555555555556,
             "#d8576b"
            ],
            [
             0.6666666666666666,
             "#ed7953"
            ],
            [
             0.7777777777777778,
             "#fb9f3a"
            ],
            [
             0.8888888888888888,
             "#fdca26"
            ],
            [
             1,
             "#f0f921"
            ]
           ],
           "sequentialminus": [
            [
             0,
             "#0d0887"
            ],
            [
             0.1111111111111111,
             "#46039f"
            ],
            [
             0.2222222222222222,
             "#7201a8"
            ],
            [
             0.3333333333333333,
             "#9c179e"
            ],
            [
             0.4444444444444444,
             "#bd3786"
            ],
            [
             0.5555555555555556,
             "#d8576b"
            ],
            [
             0.6666666666666666,
             "#ed7953"
            ],
            [
             0.7777777777777778,
             "#fb9f3a"
            ],
            [
             0.8888888888888888,
             "#fdca26"
            ],
            [
             1,
             "#f0f921"
            ]
           ]
          },
          "colorway": [
           "#636efa",
           "#EF553B",
           "#00cc96",
           "#ab63fa",
           "#FFA15A",
           "#19d3f3",
           "#FF6692",
           "#B6E880",
           "#FF97FF",
           "#FECB52"
          ],
          "font": {
           "color": "#2a3f5f"
          },
          "geo": {
           "bgcolor": "white",
           "lakecolor": "white",
           "landcolor": "#E5ECF6",
           "showlakes": true,
           "showland": true,
           "subunitcolor": "white"
          },
          "hoverlabel": {
           "align": "left"
          },
          "hovermode": "closest",
          "mapbox": {
           "style": "light"
          },
          "paper_bgcolor": "white",
          "plot_bgcolor": "#E5ECF6",
          "polar": {
           "angularaxis": {
            "gridcolor": "white",
            "linecolor": "white",
            "ticks": ""
           },
           "bgcolor": "#E5ECF6",
           "radialaxis": {
            "gridcolor": "white",
            "linecolor": "white",
            "ticks": ""
           }
          },
          "scene": {
           "xaxis": {
            "backgroundcolor": "#E5ECF6",
            "gridcolor": "white",
            "gridwidth": 2,
            "linecolor": "white",
            "showbackground": true,
            "ticks": "",
            "zerolinecolor": "white"
           },
           "yaxis": {
            "backgroundcolor": "#E5ECF6",
            "gridcolor": "white",
            "gridwidth": 2,
            "linecolor": "white",
            "showbackground": true,
            "ticks": "",
            "zerolinecolor": "white"
           },
           "zaxis": {
            "backgroundcolor": "#E5ECF6",
            "gridcolor": "white",
            "gridwidth": 2,
            "linecolor": "white",
            "showbackground": true,
            "ticks": "",
            "zerolinecolor": "white"
           }
          },
          "shapedefaults": {
           "line": {
            "color": "#2a3f5f"
           }
          },
          "ternary": {
           "aaxis": {
            "gridcolor": "white",
            "linecolor": "white",
            "ticks": ""
           },
           "baxis": {
            "gridcolor": "white",
            "linecolor": "white",
            "ticks": ""
           },
           "bgcolor": "#E5ECF6",
           "caxis": {
            "gridcolor": "white",
            "linecolor": "white",
            "ticks": ""
           }
          },
          "title": {
           "x": 0.05
          },
          "xaxis": {
           "automargin": true,
           "gridcolor": "white",
           "linecolor": "white",
           "ticks": "",
           "title": {
            "standoff": 15
           },
           "zerolinecolor": "white",
           "zerolinewidth": 2
          },
          "yaxis": {
           "automargin": true,
           "gridcolor": "white",
           "linecolor": "white",
           "ticks": "",
           "title": {
            "standoff": 15
           },
           "zerolinecolor": "white",
           "zerolinewidth": 2
          }
         }
        },
        "title": {
         "text": "DAP vs event"
        },
        "xaxis": {
         "title": {
          "text": "Event"
         }
        },
        "yaxis": {
         "title": {
          "text": "DAP"
         }
        }
       }
      },
      "text/html": [
       "<div>\n",
       "        \n",
       "        \n",
       "            <div id=\"d19682a2-bd9c-4b78-b8cf-d6f9dd04d16e\" class=\"plotly-graph-div\" style=\"height:525px; width:100%;\"></div>\n",
       "            <script type=\"text/javascript\">\n",
       "                require([\"plotly\"], function(Plotly) {\n",
       "                    window.PLOTLYENV=window.PLOTLYENV || {};\n",
       "                    \n",
       "                if (document.getElementById(\"d19682a2-bd9c-4b78-b8cf-d6f9dd04d16e\")) {\n",
       "                    Plotly.newPlot(\n",
       "                        'd19682a2-bd9c-4b78-b8cf-d6f9dd04d16e',\n",
       "                        [{\"mode\": \"markers\", \"type\": \"scatter\", \"y\": [0.0064, 0.033800000000000004, 0.012, 0.0112, 0.0282, 0.0144, 0.09620000000000001, 0.367, 0.8448, 0.1669, 0.0128, 0.0, 0.0008, 0.0008, 0.0035, 0.0458, 0.0483, 0.1316, 0.0636, 0.1421, 0.3286, 1.7256, 14.776299999999999, 1.2209, 0.9703, 6.6881, 0.42560000000000003, 1.0078, 0.4913, 0.4023, 0.2482, 0.1004, 0.0431, 0.1984, 0.039, 0.0174, 0.0983, 0.0064, 0.0176, 0.04, 0.0568, 0.6415, 0.0896, 0.2522, 0.0008, 0.0112, 0.0072, 0.009600000000000001, 0.0292, 0.0152, 0.0168, 0.095, 0.2131, 0.3153, 0.1277, 0.0208, 0.1554, 0.1221, 0.012, 0.0128, 0.013600000000000001, 0.0501, 0.0176, 0.0227, 0.022600000000000002, 0.2104, 0.4181, 0.7228, 0.9105, 0.4742, 0.5941, 0.2933, 0.0176, 0.013600000000000001, 0.0144, 0.0803, 0.0721, 0.0264, 0.0281, 0.1869, 0.2752, 0.8827, 0.0995, 0.1607, 0.0588, 0.8247, 0.19720000000000001, 0.20700000000000002, 0.0471, 0.38230000000000003, 0.0056, 0.2394, 0.008, 0.004, 0.0024000000000000002, 0.0112, 0.0072, 0.009600000000000001, 0.0474, 0.0524, 0.0465, 0.2754, 0.1766, 0.1062, 0.068, 0.0304, 0.0056, 0.028, 0.0008, 0.5038, 0.5191, 0.0718, 0.06860000000000001, 0.032, 0.0032, 0.0176, 0.0184, 0.009600000000000001, 0.058300000000000005, 0.0216, 0.0168, 0.3432, 0.5702, 0.5296, 0.2356, 0.2417, 0.2475, 0.0107, 0.0064, 0.004, 0.0439, 0.016, 0.0809, 0.0105, 0.0671, 0.0377, 0.0244, 0.0063, 0.0244, 0.0112, 0.061, 0.1014, 0.07150000000000001, 0.0678, 0.5309, 0.9796, 0.6996, 0.8140000000000001, 0.7418, 0.3452, 0.0912, 0.0048000000000000004, 0.004, 0.0176, 0.009600000000000001, 0.081, 0.0762, 0.019200000000000002, 0.4753, 0.1605, 0.1859, 0.7946, 0.1517, 0.3444, 0.20700000000000002, 2.7641999999999998, 2.7038, 0.2958, 0.5740000000000001, 1.0071, 0.008, 0.0041, 0.0008, 0.0703, 0.013900000000000001, 0.0394, 0.41550000000000004, 1.2365, 0.0248, 0.0582, 0.2879, 0.0271, 0.0, 0.0542, 0.0161, 0.0259, 0.0144, 0.054900000000000004, 0.0285, 0.0311, 0.2474, 0.9964000000000001, 1.738, 0.4496, 0.3565, 0.15410000000000001, 0.0088, 0.0064, 0.0392, 0.0208, 0.3062, 0.6281, 0.5355, 0.1402, 0.009600000000000001, 0.0088, 0.0144, 0.0467, 0.13620000000000002, 0.1065, 0.5404, 0.7545000000000001, 0.12240000000000001, 0.0008, 0.0098, 0.4864, 0.1608, 0.1027, 0.0063, 0.0238, 0.1994, 0.3503, 0.227, 0.0085, 0.007, 0.0049, 0.0436, 0.0123, 0.026600000000000002, 0.2038, 0.1754, 0.0177, 0.017, 0.009600000000000001, 0.019, 0.04, 0.09040000000000001, 0.1324, 0.1974, 0.0317, 0.0064, 0.02, 0.0608, 0.6069, 0.5488000000000001, 0.2934, 0.0088, 0.0112, 0.009600000000000001, 0.0256, 0.1043, 0.8802, 0.9556, 0.126, 0.0776, 0.0088, 0.040600000000000004, 0.032, 0.3046, 0.0265, 0.0603, 0.0016, 0.0016, 0.0912, 0.1855, 0.027200000000000002, 0.1318, 0.1168, 0.0016, 0.0008, 0.0025, 0.0098, 0.0439, 0.0591, 0.0424, 0.009600000000000001, 0.044000000000000004, 0.1596, 0.1776, 0.4419, 0.742, 1.1331, 0.2112, 0.0263, 0.8259, 0.9762000000000001, 6.5862, 0.9974000000000001, 0.0032, 0.0016, 0.0127, 0.4792, 0.1455, 0.008, 12.1371, 0.27490000000000003, 0.0016, 1.1415, 2.9028, 0.9402, 1.7351999999999999, 0.1647, 0.009600000000000001, 0.0072, 0.0064, 0.0582, 0.1274, 0.2629, 0.3012, 0.1586, 0.0691, 0.0424, 0.0176, 0.009600000000000001, 0.0344, 0.139, 0.6602, 0.5187, 0.1588, 0.0296, 0.0008, 0.0008, 0.0008, 0.0008, 0.0288, 0.0224, 0.0521, 0.2651, 1.6423, 3.7343, 0.0068000000000000005, 0.0137, 0.006, 0.0077, 0.4449, 0.0457, 0.0104, 0.0072, 0.0224, 0.0857, 0.34500000000000003, 0.4213, 0.1253, 0.6834, 0.08800000000000001, 0.0008, 0.028, 0.0032, 0.0, 0.0112, 0.0264, 0.0456, 0.1096, 0.1942, 0.1443, 0.30010000000000003, 0.0878, 0.031, 0.0128, 0.0056, 0.0224, 0.012, 0.02, 0.0433, 0.1158, 2.267, 0.2187, 3.4109, 0.054, 0.0017000000000000001, 0.0017000000000000001, 0.0017000000000000001, 0.0158, 0.004, 0.0088, 0.024, 0.004, 0.0152, 0.0032, 0.008, 0.0112, 0.0264, 0.008, 0.0049, 0.0048000000000000004, 0.0081, 0.006500000000000001, 0.0033, 0.030000000000000002, 0.035500000000000004, 0.008, 0.0373, 0.0363, 0.0064, 0.0064, 0.0008, 0.0, 0.0048000000000000004, 0.5375, 0.0727, 0.02, 0.3585, 0.2441, 0.0248, 0.0128, 0.0504, 0.372, 0.2056, 0.132, 10.8776, 1.3248, 0.1595, 1.5773000000000001, 3.8946, 6.5803, 9.0793, 0.2788, 0.028, 0.0144, 0.0256, 0.3272, 0.023200000000000002, 0.1361, 0.10010000000000001, 0.165, 0.7208, 0.1414, 0.0472, 0.0482, 0.1193, 0.012, 2.0001, 0.9492, 0.0035, 0.0325, 0.0188, 0.32430000000000003, 0.0345, 0.1413, 0.0146, 0.0152, 0.0855, 0.0017000000000000001, 0.0008, 0.0042, 0.13040000000000002, 0.6383, 0.044000000000000004, 0.1282, 0.9121, 0.0078000000000000005, 0.0088, 0.019200000000000002, 0.0445, 0.0275, 0.4427, 0.1327, 0.0631, 0.2571, 0.1346, 4.1548, 1.5714000000000001, 0.8645, 0.2609, 1.0186, 1.4093, 0.9799, 0.008, 0.7834, 0.1148, 0.43670000000000003, 0.009600000000000001, 0.0056, 0.020900000000000002, 0.0682, 0.29910000000000003, 0.5834, 3.235, 0.0501, 2.0285, 0.7605000000000001, 1.8923999999999999, 0.032100000000000004, 0.0176, 0.019200000000000002, 0.0269, 0.1252, 0.0946, 0.3044, 0.0063, 0.009600000000000001, 0.0072, 0.0165, 0.0175, 0.39390000000000003, 0.0378, 0.521, 0.4126, 0.0542, 0.0431, 0.16040000000000001, 0.2861, 0.0088, 0.0048000000000000004, 0.0411, 0.004, 0.8607, 1.8601999999999999, 0.22440000000000002, 0.331, 0.11120000000000001, 0.2833, 0.0396, 0.0, 0.0056, 0.0508, 0.0036, 0.2446, 0.09330000000000001, 0.0879, 0.004, 0.1109, 0.4275, 0.3976]}],\n",
       "                        {\"template\": {\"data\": {\"bar\": [{\"error_x\": {\"color\": \"#2a3f5f\"}, \"error_y\": {\"color\": \"#2a3f5f\"}, \"marker\": {\"line\": {\"color\": \"#E5ECF6\", \"width\": 0.5}}, \"type\": \"bar\"}], \"barpolar\": [{\"marker\": {\"line\": {\"color\": \"#E5ECF6\", \"width\": 0.5}}, \"type\": \"barpolar\"}], \"carpet\": [{\"aaxis\": {\"endlinecolor\": \"#2a3f5f\", \"gridcolor\": \"white\", \"linecolor\": \"white\", \"minorgridcolor\": \"white\", \"startlinecolor\": \"#2a3f5f\"}, \"baxis\": {\"endlinecolor\": \"#2a3f5f\", \"gridcolor\": \"white\", \"linecolor\": \"white\", \"minorgridcolor\": \"white\", \"startlinecolor\": \"#2a3f5f\"}, \"type\": \"carpet\"}], \"choropleth\": [{\"colorbar\": {\"outlinewidth\": 0, \"ticks\": \"\"}, \"type\": \"choropleth\"}], \"contour\": [{\"colorbar\": {\"outlinewidth\": 0, \"ticks\": \"\"}, \"colorscale\": [[0.0, \"#0d0887\"], [0.1111111111111111, \"#46039f\"], [0.2222222222222222, \"#7201a8\"], [0.3333333333333333, \"#9c179e\"], [0.4444444444444444, \"#bd3786\"], [0.5555555555555556, \"#d8576b\"], [0.6666666666666666, \"#ed7953\"], [0.7777777777777778, \"#fb9f3a\"], [0.8888888888888888, \"#fdca26\"], [1.0, \"#f0f921\"]], \"type\": \"contour\"}], \"contourcarpet\": [{\"colorbar\": {\"outlinewidth\": 0, \"ticks\": \"\"}, \"type\": \"contourcarpet\"}], \"heatmap\": [{\"colorbar\": {\"outlinewidth\": 0, \"ticks\": \"\"}, \"colorscale\": [[0.0, \"#0d0887\"], [0.1111111111111111, \"#46039f\"], [0.2222222222222222, \"#7201a8\"], [0.3333333333333333, \"#9c179e\"], [0.4444444444444444, \"#bd3786\"], [0.5555555555555556, \"#d8576b\"], [0.6666666666666666, \"#ed7953\"], [0.7777777777777778, \"#fb9f3a\"], [0.8888888888888888, \"#fdca26\"], [1.0, \"#f0f921\"]], \"type\": \"heatmap\"}], \"heatmapgl\": [{\"colorbar\": {\"outlinewidth\": 0, \"ticks\": \"\"}, \"colorscale\": [[0.0, \"#0d0887\"], [0.1111111111111111, \"#46039f\"], [0.2222222222222222, \"#7201a8\"], [0.3333333333333333, \"#9c179e\"], [0.4444444444444444, \"#bd3786\"], [0.5555555555555556, \"#d8576b\"], [0.6666666666666666, \"#ed7953\"], [0.7777777777777778, \"#fb9f3a\"], [0.8888888888888888, \"#fdca26\"], [1.0, \"#f0f921\"]], \"type\": \"heatmapgl\"}], \"histogram\": [{\"marker\": {\"colorbar\": {\"outlinewidth\": 0, \"ticks\": \"\"}}, \"type\": \"histogram\"}], \"histogram2d\": [{\"colorbar\": {\"outlinewidth\": 0, \"ticks\": \"\"}, \"colorscale\": [[0.0, \"#0d0887\"], [0.1111111111111111, \"#46039f\"], [0.2222222222222222, \"#7201a8\"], [0.3333333333333333, \"#9c179e\"], [0.4444444444444444, \"#bd3786\"], [0.5555555555555556, \"#d8576b\"], [0.6666666666666666, \"#ed7953\"], [0.7777777777777778, \"#fb9f3a\"], [0.8888888888888888, \"#fdca26\"], [1.0, \"#f0f921\"]], \"type\": \"histogram2d\"}], \"histogram2dcontour\": [{\"colorbar\": {\"outlinewidth\": 0, \"ticks\": \"\"}, \"colorscale\": [[0.0, \"#0d0887\"], [0.1111111111111111, \"#46039f\"], [0.2222222222222222, \"#7201a8\"], [0.3333333333333333, \"#9c179e\"], [0.4444444444444444, \"#bd3786\"], [0.5555555555555556, \"#d8576b\"], [0.6666666666666666, \"#ed7953\"], [0.7777777777777778, \"#fb9f3a\"], [0.8888888888888888, \"#fdca26\"], [1.0, \"#f0f921\"]], \"type\": \"histogram2dcontour\"}], \"mesh3d\": [{\"colorbar\": {\"outlinewidth\": 0, \"ticks\": \"\"}, \"type\": \"mesh3d\"}], \"parcoords\": [{\"line\": {\"colorbar\": {\"outlinewidth\": 0, \"ticks\": \"\"}}, \"type\": \"parcoords\"}], \"pie\": [{\"automargin\": true, \"type\": \"pie\"}], \"scatter\": [{\"marker\": {\"colorbar\": {\"outlinewidth\": 0, \"ticks\": \"\"}}, \"type\": \"scatter\"}], \"scatter3d\": [{\"line\": {\"colorbar\": {\"outlinewidth\": 0, \"ticks\": \"\"}}, \"marker\": {\"colorbar\": {\"outlinewidth\": 0, \"ticks\": \"\"}}, \"type\": \"scatter3d\"}], \"scattercarpet\": [{\"marker\": {\"colorbar\": {\"outlinewidth\": 0, \"ticks\": \"\"}}, \"type\": \"scattercarpet\"}], \"scattergeo\": [{\"marker\": {\"colorbar\": {\"outlinewidth\": 0, \"ticks\": \"\"}}, \"type\": \"scattergeo\"}], \"scattergl\": [{\"marker\": {\"colorbar\": {\"outlinewidth\": 0, \"ticks\": \"\"}}, \"type\": \"scattergl\"}], \"scattermapbox\": [{\"marker\": {\"colorbar\": {\"outlinewidth\": 0, \"ticks\": \"\"}}, \"type\": \"scattermapbox\"}], \"scatterpolar\": [{\"marker\": {\"colorbar\": {\"outlinewidth\": 0, \"ticks\": \"\"}}, \"type\": \"scatterpolar\"}], \"scatterpolargl\": [{\"marker\": {\"colorbar\": {\"outlinewidth\": 0, \"ticks\": \"\"}}, \"type\": \"scatterpolargl\"}], \"scatterternary\": [{\"marker\": {\"colorbar\": {\"outlinewidth\": 0, \"ticks\": \"\"}}, \"type\": \"scatterternary\"}], \"surface\": [{\"colorbar\": {\"outlinewidth\": 0, \"ticks\": \"\"}, \"colorscale\": [[0.0, \"#0d0887\"], [0.1111111111111111, \"#46039f\"], [0.2222222222222222, \"#7201a8\"], [0.3333333333333333, \"#9c179e\"], [0.4444444444444444, \"#bd3786\"], [0.5555555555555556, \"#d8576b\"], [0.6666666666666666, \"#ed7953\"], [0.7777777777777778, \"#fb9f3a\"], [0.8888888888888888, \"#fdca26\"], [1.0, \"#f0f921\"]], \"type\": \"surface\"}], \"table\": [{\"cells\": {\"fill\": {\"color\": \"#EBF0F8\"}, \"line\": {\"color\": \"white\"}}, \"header\": {\"fill\": {\"color\": \"#C8D4E3\"}, \"line\": {\"color\": \"white\"}}, \"type\": \"table\"}]}, \"layout\": {\"annotationdefaults\": {\"arrowcolor\": \"#2a3f5f\", \"arrowhead\": 0, \"arrowwidth\": 1}, \"coloraxis\": {\"colorbar\": {\"outlinewidth\": 0, \"ticks\": \"\"}}, \"colorscale\": {\"diverging\": [[0, \"#8e0152\"], [0.1, \"#c51b7d\"], [0.2, \"#de77ae\"], [0.3, \"#f1b6da\"], [0.4, \"#fde0ef\"], [0.5, \"#f7f7f7\"], [0.6, \"#e6f5d0\"], [0.7, \"#b8e186\"], [0.8, \"#7fbc41\"], [0.9, \"#4d9221\"], [1, \"#276419\"]], \"sequential\": [[0.0, \"#0d0887\"], [0.1111111111111111, \"#46039f\"], [0.2222222222222222, \"#7201a8\"], [0.3333333333333333, \"#9c179e\"], [0.4444444444444444, \"#bd3786\"], [0.5555555555555556, \"#d8576b\"], [0.6666666666666666, \"#ed7953\"], [0.7777777777777778, \"#fb9f3a\"], [0.8888888888888888, \"#fdca26\"], [1.0, \"#f0f921\"]], \"sequentialminus\": [[0.0, \"#0d0887\"], [0.1111111111111111, \"#46039f\"], [0.2222222222222222, \"#7201a8\"], [0.3333333333333333, \"#9c179e\"], [0.4444444444444444, \"#bd3786\"], [0.5555555555555556, \"#d8576b\"], [0.6666666666666666, \"#ed7953\"], [0.7777777777777778, \"#fb9f3a\"], [0.8888888888888888, \"#fdca26\"], [1.0, \"#f0f921\"]]}, \"colorway\": [\"#636efa\", \"#EF553B\", \"#00cc96\", \"#ab63fa\", \"#FFA15A\", \"#19d3f3\", \"#FF6692\", \"#B6E880\", \"#FF97FF\", \"#FECB52\"], \"font\": {\"color\": \"#2a3f5f\"}, \"geo\": {\"bgcolor\": \"white\", \"lakecolor\": \"white\", \"landcolor\": \"#E5ECF6\", \"showlakes\": true, \"showland\": true, \"subunitcolor\": \"white\"}, \"hoverlabel\": {\"align\": \"left\"}, \"hovermode\": \"closest\", \"mapbox\": {\"style\": \"light\"}, \"paper_bgcolor\": \"white\", \"plot_bgcolor\": \"#E5ECF6\", \"polar\": {\"angularaxis\": {\"gridcolor\": \"white\", \"linecolor\": \"white\", \"ticks\": \"\"}, \"bgcolor\": \"#E5ECF6\", \"radialaxis\": {\"gridcolor\": \"white\", \"linecolor\": \"white\", \"ticks\": \"\"}}, \"scene\": {\"xaxis\": {\"backgroundcolor\": \"#E5ECF6\", \"gridcolor\": \"white\", \"gridwidth\": 2, \"linecolor\": \"white\", \"showbackground\": true, \"ticks\": \"\", \"zerolinecolor\": \"white\"}, \"yaxis\": {\"backgroundcolor\": \"#E5ECF6\", \"gridcolor\": \"white\", \"gridwidth\": 2, \"linecolor\": \"white\", \"showbackground\": true, \"ticks\": \"\", \"zerolinecolor\": \"white\"}, \"zaxis\": {\"backgroundcolor\": \"#E5ECF6\", \"gridcolor\": \"white\", \"gridwidth\": 2, \"linecolor\": \"white\", \"showbackground\": true, \"ticks\": \"\", \"zerolinecolor\": \"white\"}}, \"shapedefaults\": {\"line\": {\"color\": \"#2a3f5f\"}}, \"ternary\": {\"aaxis\": {\"gridcolor\": \"white\", \"linecolor\": \"white\", \"ticks\": \"\"}, \"baxis\": {\"gridcolor\": \"white\", \"linecolor\": \"white\", \"ticks\": \"\"}, \"bgcolor\": \"#E5ECF6\", \"caxis\": {\"gridcolor\": \"white\", \"linecolor\": \"white\", \"ticks\": \"\"}}, \"title\": {\"x\": 0.05}, \"xaxis\": {\"automargin\": true, \"gridcolor\": \"white\", \"linecolor\": \"white\", \"ticks\": \"\", \"title\": {\"standoff\": 15}, \"zerolinecolor\": \"white\", \"zerolinewidth\": 2}, \"yaxis\": {\"automargin\": true, \"gridcolor\": \"white\", \"linecolor\": \"white\", \"ticks\": \"\", \"title\": {\"standoff\": 15}, \"zerolinecolor\": \"white\", \"zerolinewidth\": 2}}}, \"title\": {\"text\": \"DAP vs event\"}, \"xaxis\": {\"title\": {\"text\": \"Event\"}}, \"yaxis\": {\"title\": {\"text\": \"DAP\"}}},\n",
       "                        {\"responsive\": true}\n",
       "                    ).then(function(){\n",
       "                            \n",
       "var gd = document.getElementById('d19682a2-bd9c-4b78-b8cf-d6f9dd04d16e');\n",
       "var x = new MutationObserver(function (mutations, observer) {{\n",
       "        var display = window.getComputedStyle(gd).display;\n",
       "        if (!display || display === 'none') {{\n",
       "            console.log([gd, 'removed!']);\n",
       "            Plotly.purge(gd);\n",
       "            observer.disconnect();\n",
       "        }}\n",
       "}});\n",
       "\n",
       "// Listen for the removal of the full notebook cells\n",
       "var notebookContainer = gd.closest('#notebook-container');\n",
       "if (notebookContainer) {{\n",
       "    x.observe(notebookContainer, {childList: true});\n",
       "}}\n",
       "\n",
       "// Listen for the clearing of the current output cell\n",
       "var outputEl = gd.closest('.output');\n",
       "if (outputEl) {{\n",
       "    x.observe(outputEl, {childList: true});\n",
       "}}\n",
       "\n",
       "                        })\n",
       "                };\n",
       "                });\n",
       "            </script>\n",
       "        </div>"
      ]
     },
     "metadata": {},
     "output_type": "display_data"
    },
    {
     "name": "stdout",
     "output_type": "stream",
     "text": [
      "Totalt 524 pedaltramp!\n"
     ]
    }
   ],
   "source": [
    "#Basic Plot\n",
    "\n",
    "fig = go.Figure()\n",
    "\n",
    "fig.add_trace(\n",
    "    go.Scatter(x=data_studies_S08['DateTimeStarted'],\n",
    "               y=data_studies_S08['TotalFluoroTime'],\n",
    "               mode='markers')\n",
    ")\n",
    "\n",
    "fig.update_layout(title='DAP vs event',\n",
    "                  yaxis_title='DAP', xaxis_title='Event'\n",
    ")\n",
    "\n",
    "fig.show()\n",
    "\n",
    "tot = len(data_names_S08)\n",
    "\n",
    "print(f'Totalt {tot} pedaltramp!')"
   ]
  },
  {
   "cell_type": "code",
   "execution_count": 8,
   "metadata": {},
   "outputs": [
    {
     "name": "stdout",
     "output_type": "stream",
     "text": [
      "Totalt 3701 varav 980 har vattenvärden och är fördelade på 18 protokoll jämfört med 23 ursprungliga protokoll\n"
     ]
    },
    {
     "data": {
      "text/plain": [
       "array(['FL Låg Esofagus Bari', 'Esofagus Bari Gml Norm',\n",
       "       'FL Låg Esofagus Jod', 'FL Norm Barn Esof Bari',\n",
       "       'FL Hög Barn Esof Jod', 'FL Norm Esofagus Bari', 'Esofagus Barium',\n",
       "       'Esofagus Jod Gml', 'FL Normal Esofagus Jod',\n",
       "       'FL Hög Esofagus Jod', 'FL Låg Esofagus Barium',\n",
       "       'FL Normal Esofagus Bar', 'Thorax Singel', 'FL Låg Thorax',\n",
       "       'Esofagus Barium Singel', 'FL Låg Barn Esof Jod',\n",
       "       'Esofagus Jod Singel', 'FL Norm Esofagus Jod'], dtype=object)"
      ]
     },
     "execution_count": 8,
     "metadata": {},
     "output_type": "execute_result"
    }
   ],
   "source": [
    "data_vv = data.dropna(subset=['PatientEquivalentThickness'])\n",
    "\n",
    "A = len(data)\n",
    "B = len(data_vv)\n",
    "unikprot_vv = data_vv.AcquisitionProtocol.unique()\n",
    "C = len(unikprot_vv)\n",
    "D = len(unikprot)\n",
    "\n",
    "print(f'Totalt {A} varav {B} har vattenvärden och är fördelade på {C} protokoll jämfört med {D} ursprungliga protokoll')\n",
    "unikprot_vv"
   ]
  },
  {
   "cell_type": "code",
   "execution_count": 94,
   "metadata": {},
   "outputs": [
    {
     "data": {
      "application/vnd.plotly.v1+json": {
       "config": {
        "plotlyServerURL": "https://plot.ly"
       },
       "data": [
        {
         "mode": "markers",
         "name": "FL Låg Esofagus Bari",
         "type": "scatter",
         "x": [
          20.56,
          26.84,
          26.73,
          26.28,
          13.61,
          12.08,
          26.96,
          7.84,
          12.06,
          26.66,
          19,
          19.7,
          24.52,
          18.67,
          26.61,
          19.81,
          19.8,
          17.05,
          10.8,
          19.6,
          25.71,
          26,
          26.77,
          27.02,
          23.61,
          15.84,
          8.82,
          9.96,
          20.32,
          19.41,
          27.89,
          14.62,
          10.05,
          1.43,
          18.16,
          22.02,
          15.68,
          10.11,
          12.3,
          7.24,
          22.23,
          10.13,
          19.1,
          20.08,
          22.25,
          20.99,
          10.05,
          3.16,
          20.62,
          11.19,
          21.91,
          19.94,
          17.06,
          18.98,
          20.95,
          19.57,
          10.3,
          10.38,
          16.97,
          17.62,
          12.07,
          19.88,
          12.3,
          13.92,
          15.09,
          16.67,
          17.62,
          9.06,
          10.41,
          14.31,
          17.74,
          16.15,
          14.83,
          13.56,
          9.29,
          11.42,
          14.32,
          15.96,
          15.82,
          10.05,
          20,
          17.97,
          17.19,
          16.77,
          16.86,
          15.77,
          9.31,
          10.25,
          16.25,
          14.41,
          15.64,
          10.44,
          8.8,
          8.86,
          13.97,
          11.19,
          2.7199999999999998,
          12.16,
          12.86,
          14.28,
          13.37,
          13.74,
          11.09,
          8.15,
          10.55,
          10.88,
          15.86,
          14.68,
          8.88,
          1.22,
          21.45,
          18.21,
          19.87,
          19.92,
          14.38,
          13.83,
          10.37,
          20.82,
          10.59,
          14.34,
          14.55,
          10.41,
          8.74,
          18.38,
          17.95,
          0.2,
          15.02,
          21.2,
          20.28,
          18.34,
          18.11,
          12.86,
          8.88,
          26.29,
          26.96,
          24,
          18.63,
          23.1,
          25.03,
          33.69,
          20.84,
          21.89,
          25.79,
          17.76,
          22.86,
          21.82,
          19.12,
          10.68,
          25.32
         ],
         "y": [
          "L3",
          "L3",
          "L3",
          "L3",
          "L3",
          "L3",
          "L3",
          "L3",
          "L3",
          "L3",
          "L3",
          "L3",
          "L3",
          "L3",
          "L3",
          "L3",
          "L3",
          "L3",
          "L3",
          "L3",
          "L3",
          "L3",
          "L3",
          "L3",
          "L3",
          "L3",
          "L3",
          "L3",
          "L3",
          "L3",
          "L3",
          "L3",
          "L3",
          "L3",
          "L3",
          "L3",
          "L3",
          "L3",
          "L3",
          "L3",
          "L3",
          "L3",
          "L3",
          "L3",
          "L3",
          "L3",
          "L3",
          "L3",
          "L3",
          "L3",
          "L3",
          "L3",
          "L3",
          "L3",
          "L3",
          "L3",
          "L3",
          "L3",
          "L3",
          "L3",
          "L3",
          "L3",
          "L3",
          "L3",
          "L3",
          "L3",
          "L3",
          "L3",
          "L3",
          "L3",
          "L3",
          "L3",
          "L3",
          "L3",
          "L3",
          "L3",
          "L3",
          "L3",
          "L3",
          "L3",
          "L3",
          "L3",
          "L3",
          "L3",
          "L3",
          "L3",
          "L3",
          "L3",
          "L3",
          "L3",
          "L3",
          "L3",
          "L3",
          "L3",
          "L3",
          "L3",
          "L3",
          "L3",
          "L3",
          "L3",
          "L3",
          "L3",
          "L3",
          "L3",
          "L3",
          "L3",
          "L3",
          "L3",
          "L3",
          "L3",
          "U110",
          "U110",
          "L3",
          "L3",
          "L3",
          "L3",
          "L3",
          "L3",
          "L3",
          "L3",
          "L3",
          "L3",
          "L3",
          "L3",
          "L3",
          "L3",
          "L3",
          "L3",
          "L3",
          "L3",
          "L3",
          "L3",
          "L3",
          "U110",
          "U110",
          "U110",
          "U110",
          "U110",
          "U110",
          "U110",
          "U110",
          "U110",
          "U110",
          "U110",
          "U110",
          "U110",
          "U110",
          "U110",
          "U110"
         ]
        },
        {
         "mode": "markers",
         "name": "Esofagus Bari Gml Norm",
         "type": "scatter",
         "x": [
          12.73
         ],
         "y": [
          "L3"
         ]
        },
        {
         "mode": "markers",
         "name": "FL Låg Esofagus Jod",
         "type": "scatter",
         "x": [
          21.65,
          21.34,
          22.2,
          9.93,
          22.02,
          18.14,
          17.38,
          17.48,
          22.08,
          21.09,
          20.33,
          11.12,
          13.47,
          21.08,
          20.66,
          10.78,
          16.6,
          17.4,
          12.62,
          26.07,
          24.08,
          22.52,
          11.16,
          18.5,
          21.36,
          21.4,
          21.97,
          22.54,
          21.9,
          21.15,
          19.82,
          19.25,
          19.51,
          24.88,
          12.96,
          20.34,
          22.84,
          25.05,
          13.27,
          13.45,
          9.09,
          11.88,
          21.13,
          26.89,
          27.68,
          22.19,
          20.83,
          20.81,
          13.37,
          11.88,
          21.72,
          21.49,
          19.14,
          28.54,
          21.31,
          21.71,
          0.3,
          20.13,
          21.06,
          23.04,
          21.64,
          21.26,
          21.22,
          21.77,
          13.51,
          12,
          19.94,
          21.19,
          25.52,
          23.25,
          22.32,
          30.23,
          11.97,
          19.6,
          22.77,
          19.36,
          20.61,
          22.26,
          20.85,
          21.91,
          23.2,
          7.86,
          10.29,
          9.93,
          21.58,
          17.49,
          10.67,
          23.97,
          21.8,
          20.14,
          17.39,
          19.04,
          17.06,
          17.03,
          16.98,
          17.59,
          16.84,
          21.56,
          22.13,
          23.63,
          20.61,
          20.56,
          20.94,
          13.47,
          11.04,
          15.52,
          14.71,
          11.49,
          9.45,
          0.33,
          18.37,
          15.61,
          11.66,
          11.64,
          15.07,
          8.04,
          13.62,
          13.35,
          9.04,
          9.04,
          12.23,
          16.87,
          11.19,
          9.81,
          7.22,
          13.48,
          5.14,
          8.55,
          15.8,
          16.8,
          16.94,
          17.45,
          18.83,
          18.13,
          7.47,
          7.33,
          17.03,
          17.31,
          9.7,
          2.18,
          11.18,
          13.81,
          9.87,
          19.53,
          20,
          18.81,
          16.79,
          19.97,
          20.55,
          20.6,
          20.21,
          19.49,
          21.54,
          14.08,
          23.31,
          13.49,
          19.16,
          9.12,
          6.83,
          15.82,
          17.65,
          16.2,
          12.96,
          14.6,
          17.85,
          22.24,
          12.69,
          14.29,
          9.67,
          8.95,
          16.3,
          16.01,
          22.72,
          20.93,
          14.38,
          14.1,
          14.11,
          11.52,
          19.5,
          19.04,
          19.32
         ],
         "y": [
          "L3",
          "L3",
          "L3",
          "L3",
          "L3",
          "L3",
          "L3",
          "L3",
          "L3",
          "L3",
          "L3",
          "L3",
          "L3",
          "L3",
          "L3",
          "L3",
          "L3",
          "L3",
          "L3",
          "L3",
          "L3",
          "L3",
          "L3",
          "L3",
          "L3",
          "L3",
          "L3",
          "L3",
          "L3",
          "L3",
          "L3",
          "L3",
          "L3",
          "L3",
          "L3",
          "L3",
          "L3",
          "L3",
          "L3",
          "L3",
          "L3",
          "L3",
          "L3",
          "L3",
          "L3",
          "L3",
          "L3",
          "L3",
          "L3",
          "L3",
          "L3",
          "L3",
          "L3",
          "L3",
          "L3",
          "L3",
          "L3",
          "L3",
          "L3",
          "L3",
          "L3",
          "L3",
          "L3",
          "L3",
          "L3",
          "L3",
          "L3",
          "L3",
          "L3",
          "L3",
          "L3",
          "L3",
          "L3",
          "L3",
          "L3",
          "L3",
          "U110",
          "U110",
          "U110",
          "U110",
          "U110",
          "U110",
          "U110",
          "U110",
          "L3",
          "L3",
          "L3",
          "L3",
          "L3",
          "L3",
          "L3",
          "L3",
          "L3",
          "L3",
          "L3",
          "L3",
          "L3",
          "L3",
          "L3",
          "L3",
          "L3",
          "L3",
          "L3",
          "L3",
          "L3",
          "L3",
          "L3",
          "L3",
          "L3",
          "L3",
          "L3",
          "L3",
          "L3",
          "L3",
          "L3",
          "L3",
          "L3",
          "L3",
          "L3",
          "L3",
          "L3",
          "L3",
          "L3",
          "L3",
          "L3",
          "L3",
          "L3",
          "L3",
          "L3",
          "L3",
          "L3",
          "L3",
          "L3",
          "L3",
          "L3",
          "L3",
          "L3",
          "L3",
          "L3",
          "L3",
          "L3",
          "L3",
          "L3",
          "L3",
          "L3",
          "L3",
          "L3",
          "L3",
          "L3",
          "L3",
          "L3",
          "L3",
          "L3",
          "L3",
          "L3",
          "L3",
          "L3",
          "L3",
          "L3",
          "L3",
          "L3",
          "L3",
          "L3",
          "L3",
          "L3",
          "L3",
          "L3",
          "L3",
          "L3",
          "L3",
          "L3",
          "L3",
          "L3",
          "L3",
          "L3",
          "L3",
          "L3",
          "L3",
          "L3",
          "L3",
          "L3"
         ]
        },
        {
         "mode": "markers",
         "name": "FL Norm Barn Esof Bari",
         "type": "scatter",
         "x": [
          18.92,
          16.28,
          17.82,
          14.43,
          12.52,
          20.53,
          19.97,
          14.39
         ],
         "y": [
          "U110",
          "U110",
          "U110",
          "U110",
          "U110",
          "U110",
          "U110",
          "U110"
         ]
        },
        {
         "mode": "markers",
         "name": "FL Hög Barn Esof Jod",
         "type": "scatter",
         "x": [
          11.82
         ],
         "y": [
          "U110"
         ]
        },
        {
         "mode": "markers",
         "name": "FL Norm Esofagus Bari",
         "type": "scatter",
         "x": [
          14.47,
          22.13,
          13.06,
          13.74,
          24.29,
          25.45,
          17.68,
          17.72,
          17.38,
          16.71,
          12.39,
          11.14,
          10.43,
          21.63,
          18.03,
          17.78,
          9.26,
          17.54,
          21.14,
          9.9,
          11.9,
          18.65,
          20.87,
          15.17,
          14.93,
          14.72,
          15.12,
          23.06,
          23.52,
          23.58,
          23.35,
          12.23,
          18.16,
          29.9,
          15.86,
          12.05,
          18.36,
          30.07,
          24.21,
          25.19,
          25.73,
          18.09,
          18.17,
          18.02,
          13.2,
          18.37,
          18.58,
          10.2,
          18.68,
          10.01,
          12.99,
          18.42,
          18.29,
          10.09,
          13.05,
          16.04,
          9.85,
          16.12,
          20.11,
          10.43,
          11.31,
          15.45,
          15.43,
          10.04,
          10.34,
          9.75,
          19.4,
          9,
          24.52,
          28.64,
          16.3,
          18.83,
          18.28,
          24.36,
          29.52,
          8.8,
          20.56,
          13.57,
          19.79,
          20.38,
          12.85,
          19.44,
          26.35,
          25.92,
          32.65,
          22.88,
          23.05,
          14.23,
          11.01,
          10.52,
          14.64,
          22.37,
          14.13,
          11.1,
          15.45,
          10.59,
          16.8,
          22.91,
          16.47,
          16.27,
          10.77,
          10.33,
          16.79,
          16.98,
          26.27,
          21.2,
          25.62,
          26.65,
          10.13,
          15.96,
          17.51,
          15.05,
          10.03,
          17.96,
          8.56,
          14.55,
          11.97,
          10.94,
          10.6,
          17.98,
          22.4,
          15.93,
          15.93,
          17.79,
          17.03,
          16.88,
          17.11,
          11.97,
          11.4,
          11.17,
          20.46,
          15.93,
          20.66,
          16.36,
          19.78,
          19.44,
          19.76,
          16.86,
          16.79,
          20.21,
          16.14,
          17.53,
          17.63,
          27.78,
          10.83,
          28.7,
          9.83,
          23.66,
          28.88,
          21.51,
          23.04,
          19.11,
          10.4,
          9.6,
          17.14,
          26.43,
          22.27,
          23.14,
          9.23,
          9.59,
          19.29,
          22.29,
          15.14,
          9.52,
          15.7,
          21.78,
          15.12,
          14.52,
          14.95,
          10.43,
          10.2,
          9.34,
          26.64,
          27.16,
          22.15,
          22.23,
          23.38,
          28.19,
          21.49,
          13.43,
          13.29,
          17.32,
          22.94,
          15.85,
          16,
          25.72,
          26.41,
          11.89,
          15.19,
          9.21,
          10.74,
          15.98,
          13.87,
          21.65,
          21.81,
          14.3,
          9.47,
          9.39,
          15.34
         ],
         "y": [
          "U110",
          "U110",
          "U110",
          "U110",
          "U110",
          "U110",
          "U110",
          "U110",
          "U110",
          "U110",
          "U110",
          "U110",
          "U110",
          "U110",
          "U110",
          "U110",
          "U110",
          "U110",
          "U110",
          "U110",
          "U110",
          "U110",
          "U110",
          "L3",
          "L3",
          "L3",
          "L3",
          "U110",
          "U110",
          "U110",
          "U110",
          "U110",
          "U110",
          "U110",
          "U110",
          "U110",
          "U110",
          "U110",
          "U110",
          "U110",
          "U110",
          "U110",
          "U110",
          "U110",
          "U110",
          "U110",
          "U110",
          "U110",
          "U110",
          "U110",
          "U110",
          "U110",
          "U110",
          "U110",
          "U110",
          "U110",
          "U110",
          "U110",
          "U110",
          "U110",
          "U110",
          "U110",
          "U110",
          "U110",
          "U110",
          "U110",
          "U110",
          "U110",
          "U110",
          "U110",
          "U110",
          "U110",
          "U110",
          "U110",
          "U110",
          "U110",
          "U110",
          "U110",
          "U110",
          "U110",
          "U110",
          "U110",
          "U110",
          "U110",
          "U110",
          "U110",
          "U110",
          "U110",
          "U110",
          "U110",
          "U110",
          "U110",
          "U110",
          "U110",
          "U110",
          "U110",
          "U110",
          "U110",
          "U110",
          "U110",
          "U110",
          "U110",
          "U110",
          "U110",
          "U110",
          "U110",
          "U110",
          "U110",
          "U110",
          "U110",
          "U110",
          "U110",
          "U110",
          "U110",
          "U110",
          "U110",
          "U110",
          "U110",
          "U110",
          "U110",
          "U110",
          "U110",
          "U110",
          "U110",
          "U110",
          "U110",
          "U110",
          "U110",
          "U110",
          "U110",
          "U110",
          "U110",
          "U110",
          "U110",
          "U110",
          "U110",
          "U110",
          "U110",
          "U110",
          "U110",
          "U110",
          "U110",
          "U110",
          "U110",
          "U110",
          "U110",
          "U110",
          "U110",
          "U110",
          "U110",
          "U110",
          "U110",
          "U110",
          "U110",
          "U110",
          "U110",
          "U110",
          "U110",
          "U110",
          "U110",
          "U110",
          "U110",
          "U110",
          "U110",
          "U110",
          "U110",
          "U110",
          "U110",
          "U110",
          "U110",
          "U110",
          "U110",
          "U110",
          "U110",
          "U110",
          "U110",
          "U110",
          "U110",
          "U110",
          "U110",
          "U110",
          "U110",
          "U110",
          "U110",
          "U110",
          "U110",
          "U110",
          "U110",
          "U110",
          "U110",
          "U110",
          "U110",
          "U110",
          "U110",
          "U110",
          "U110",
          "U110",
          "U110",
          "U110"
         ]
        },
        {
         "mode": "markers",
         "name": "Esofagus Barium",
         "type": "scatter",
         "x": [
          23.75,
          17.81,
          24.76,
          17.93,
          22.27,
          26.35,
          18.12,
          18.14,
          26.77,
          18.38,
          18.36,
          23.86,
          24.1,
          19.45,
          24.42,
          18.06,
          28.29,
          18.5,
          27.16,
          25.8,
          15.97,
          20.33,
          16.24,
          15.98,
          20.35,
          19.33,
          22.39,
          22.3,
          21.95,
          16.3,
          16.32,
          27.52,
          24.97,
          31.74,
          28.37,
          32.58,
          23.53,
          17.33,
          25.43,
          26.16,
          18.48,
          21.88,
          18.18,
          17.23,
          14.97,
          23.14,
          21.68,
          14.94,
          21.99,
          21.46,
          18.31,
          28.09,
          22.45,
          21.02,
          20.22,
          15.59,
          18.47,
          18.61,
          18.3,
          16,
          19.82,
          29.11,
          27.17,
          24.56,
          18.53,
          34.93,
          27.95,
          32.13,
          32.43,
          25.09,
          26.58,
          27,
          18.32,
          27,
          28.65,
          18.71,
          17.44,
          17.63,
          25.65,
          17.28,
          25.63,
          26.36,
          21.8,
          17.21,
          16.69,
          25.56,
          25.23
         ],
         "y": [
          "U110",
          "U110",
          "U110",
          "U110",
          "U110",
          "U110",
          "U110",
          "U110",
          "U110",
          "U110",
          "U110",
          "U110",
          "U110",
          "U110",
          "U110",
          "U110",
          "U110",
          "U110",
          "U110",
          "U110",
          "U110",
          "U110",
          "U110",
          "U110",
          "U110",
          "U110",
          "U110",
          "U110",
          "U110",
          "U110",
          "U110",
          "U110",
          "U110",
          "U110",
          "U110",
          "U110",
          "U110",
          "U110",
          "U110",
          "U110",
          "U110",
          "U110",
          "U110",
          "U110",
          "U110",
          "U110",
          "U110",
          "U110",
          "U110",
          "U110",
          "U110",
          "U110",
          "U110",
          "U110",
          "U110",
          "U110",
          "U110",
          "U110",
          "U110",
          "U110",
          "U110",
          "U110",
          "U110",
          "U110",
          "U110",
          "U110",
          "U110",
          "U110",
          "U110",
          "U110",
          "U110",
          "U110",
          "U110",
          "U110",
          "U110",
          "U110",
          "U110",
          "U110",
          "U110",
          "U110",
          "U110",
          "U110",
          "U110",
          "U110",
          "U110",
          "U110",
          "L3"
         ]
        },
        {
         "mode": "markers",
         "name": "Esofagus Jod Gml",
         "type": "scatter",
         "x": [
          12.57,
          11.55,
          20.42,
          21.39,
          10.28,
          10.82,
          20.48,
          21.05,
          25.45,
          25.83
         ],
         "y": [
          "L3",
          "L3",
          "L3",
          "L3",
          "L3",
          "L3",
          "L3",
          "L3",
          "L3",
          "L3"
         ]
        },
        {
         "mode": "markers",
         "name": "FL Normal Esofagus Jod",
         "type": "scatter",
         "x": [
          21.45,
          21.87,
          30.44,
          23.21,
          27.81,
          21.39,
          21.56,
          12.32,
          19.33,
          18.38,
          24.97,
          19.38,
          17.94,
          8.61,
          9.55,
          9.52,
          24.53,
          3.94,
          13.12,
          12.31,
          12.44,
          14.97,
          16.95,
          10.51,
          16.45,
          15.61,
          22.35,
          24.59,
          14.63,
          15.09,
          11.71,
          19.51,
          19.58,
          8.81,
          10.08,
          10.05,
          9.61,
          17.09,
          18.13,
          18.42,
          6.66,
          9.68,
          9.63,
          10,
          7.42,
          8.73,
          17.15,
          17.02,
          18.03,
          9.22,
          7.88,
          5.54,
          10.32,
          9.84,
          21.11,
          24.91,
          19.56,
          23.58,
          23.58,
          24.55,
          22.02,
          20.2,
          20.74,
          21.98,
          19.5,
          23.13
         ],
         "y": [
          "L3",
          "L3",
          "L3",
          "L3",
          "L3",
          "L3",
          "L3",
          "L3",
          "L3",
          "L3",
          "L3",
          "L3",
          "L3",
          "L3",
          "L3",
          "L3",
          "L3",
          "L3",
          "L3",
          "L3",
          "L3",
          "L3",
          "L3",
          "L3",
          "L3",
          "L3",
          "L3",
          "L3",
          "L3",
          "L3",
          "L3",
          "L3",
          "L3",
          "L3",
          "L3",
          "L3",
          "L3",
          "L3",
          "L3",
          "L3",
          "L3",
          "L3",
          "L3",
          "L3",
          "L3",
          "L3",
          "L3",
          "L3",
          "L3",
          "L3",
          "L3",
          "L3",
          "L3",
          "L3",
          "L3",
          "L3",
          "L3",
          "L3",
          "L3",
          "L3",
          "L3",
          "L3",
          "L3",
          "L3",
          "L3",
          "L3"
         ]
        },
        {
         "mode": "markers",
         "name": "FL Hög Esofagus Jod",
         "type": "scatter",
         "x": [
          20.85
         ],
         "y": [
          "L3"
         ]
        },
        {
         "mode": "markers",
         "name": "FL Låg Esofagus Barium",
         "type": "scatter",
         "x": [
          27.15,
          25.92,
          25.71,
          17.12,
          9.52,
          11.07,
          18.04,
          23.42,
          22.36,
          20.63,
          18.49,
          9.72,
          17.36,
          1.7000000000000002,
          26.96,
          17.04,
          8.67,
          12.96,
          17.69,
          16.46,
          20.5,
          18.6,
          18.01,
          17.74,
          8.71,
          8.47,
          17.75,
          18,
          18.29,
          21.5,
          21.81,
          20.73,
          18.46,
          16.05,
          14.83,
          15.88,
          16.34,
          21.7,
          13.48,
          14.26,
          16.49,
          21.04,
          17.12,
          6.38,
          15.37,
          22.46,
          21.4,
          15.29,
          20.79,
          19.69,
          19.59,
          18.43,
          17.64,
          23.19,
          13.11,
          13.51,
          8.71,
          14.2,
          21.6,
          13.51,
          19.21,
          24.96,
          22,
          15.57,
          16.56,
          20.49,
          21.81,
          13.58,
          15.11,
          14.61,
          13.49,
          14.73,
          9.18,
          8.07,
          9.72,
          20,
          15.06,
          12.95,
          14.25,
          10.35,
          10.61,
          10.2,
          10.38,
          12.14,
          9.39,
          10.65,
          9.76,
          11.34,
          9.9,
          11.75,
          18.2,
          16.92,
          7.4,
          8.28,
          17.48,
          17.56,
          18.59,
          20.05,
          7.77,
          8.31,
          7.5600000000000005,
          8.82,
          17.84,
          16.94,
          18.95,
          16.83,
          8.56,
          7.39,
          1.8900000000000001,
          8.37,
          7.92,
          18.8,
          20.44,
          21.63,
          21.67,
          19.74,
          19.68,
          21.64,
          8.84,
          7.33,
          24.06,
          26.95,
          19.56,
          21.55,
          15.5,
          21.49,
          20,
          17.26,
          11.46,
          19.23,
          21.29,
          20.12,
          21.58,
          17.49,
          11.6,
          8.01,
          26.29,
          19.64,
          19.84,
          16.1,
          3,
          9.72,
          23.73,
          19.48,
          18.09,
          23.68,
          18.21,
          18.07,
          21.31,
          19.71,
          24.27,
          18.49,
          19.27,
          18.63,
          18.14,
          16.07,
          18.32,
          19.46,
          18.11,
          24.92,
          18.27,
          8.96,
          8.58,
          10.61,
          20.82,
          20.86,
          18.48,
          17.91,
          1.23,
          19.43,
          16.02,
          19.48,
          10.83,
          15.26
         ],
         "y": [
          "L3",
          "L3",
          "L3",
          "L3",
          "L3",
          "L3",
          "L3",
          "L3",
          "L3",
          "L3",
          "L3",
          "L3",
          "L3",
          "L3",
          "L3",
          "L3",
          "L3",
          "L3",
          "L3",
          "L3",
          "L3",
          "L3",
          "L3",
          "L3",
          "L3",
          "L3",
          "L3",
          "L3",
          "L3",
          "L3",
          "L3",
          "L3",
          "L3",
          "L3",
          "L3",
          "L3",
          "L3",
          "L3",
          "L3",
          "L3",
          "L3",
          "L3",
          "L3",
          "L3",
          "L3",
          "L3",
          "L3",
          "L3",
          "L3",
          "L3",
          "L3",
          "L3",
          "L3",
          "L3",
          "L3",
          "L3",
          "L3",
          "L3",
          "L3",
          "L3",
          "L3",
          "L3",
          "L3",
          "L3",
          "L3",
          "L3",
          "L3",
          "L3",
          "L3",
          "L3",
          "L3",
          "L3",
          "L3",
          "L3",
          "L3",
          "L3",
          "L3",
          "L3",
          "L3",
          "L3",
          "L3",
          "L3",
          "L3",
          "L3",
          "L3",
          "L3",
          "L3",
          "L3",
          "L3",
          "L3",
          "L3",
          "L3",
          "L3",
          "L3",
          "L3",
          "L3",
          "L3",
          "L3",
          "L3",
          "L3",
          "L3",
          "L3",
          "L3",
          "L3",
          "L3",
          "L3",
          "L3",
          "L3",
          "L3",
          "L3",
          "L3",
          "L3",
          "L3",
          "L3",
          "L3",
          "L3",
          "L3",
          "L3",
          "L3",
          "L3",
          "L3",
          "L3",
          "L3",
          "L3",
          "L3",
          "L3",
          "L3",
          "L3",
          "L3",
          "L3",
          "L3",
          "L3",
          "L3",
          "L3",
          "L3",
          "L3",
          "L3",
          "L3",
          "L3",
          "L3",
          "L3",
          "L3",
          "L3",
          "L3",
          "L3",
          "L3",
          "L3",
          "L3",
          "L3",
          "L3",
          "L3",
          "L3",
          "L3",
          "L3",
          "L3",
          "L3",
          "L3",
          "L3",
          "L3",
          "L3",
          "L3",
          "L3",
          "L3",
          "L3",
          "L3",
          "L3",
          "L3",
          "L3",
          "L3",
          "L3",
          "L3",
          "L3",
          "L3",
          "L3"
         ]
        },
        {
         "mode": "markers",
         "name": "FL Normal Esofagus Bar",
         "type": "scatter",
         "x": [
          27.29,
          27.73,
          16.47,
          17.18,
          9.6,
          10.78,
          10.69,
          27.7,
          26.53,
          18.05,
          26.62,
          18.06,
          19.18,
          17.93,
          17.4,
          16.81,
          14.2,
          8.5,
          22.47,
          13.76,
          22.02,
          15.31,
          9.05,
          9.73,
          9.63,
          8.38,
          8.58,
          17.31,
          18.6,
          7.35,
          18.99,
          18.26,
          15.8,
          16.51,
          19.27,
          8.49,
          20.17,
          20.32,
          24.36,
          21.86,
          21.38,
          14.02,
          14.37,
          20.28,
          19.93,
          21.22,
          15.85,
          21.43,
          10.38,
          22.21,
          20.01,
          21.18,
          16.81,
          11.5,
          18.54,
          18.33,
          17.19,
          16.25,
          16.15,
          10.75,
          12.54,
          24.79,
          25.65,
          25.65,
          19.94,
          22.32,
          28.31,
          15.8,
          15.58,
          19.38,
          18.24,
          18.41,
          15.56,
          25.39,
          19.48,
          23.31,
          18.42,
          30.02,
          25.1,
          25.61,
          18.43,
          18.02,
          15.85
         ],
         "y": [
          "L3",
          "L3",
          "L3",
          "L3",
          "L3",
          "L3",
          "L3",
          "L3",
          "L3",
          "L3",
          "L3",
          "L3",
          "L3",
          "L3",
          "L3",
          "L3",
          "L3",
          "L3",
          "L3",
          "L3",
          "L3",
          "L3",
          "L3",
          "L3",
          "L3",
          "L3",
          "L3",
          "L3",
          "L3",
          "L3",
          "L3",
          "L3",
          "L3",
          "L3",
          "L3",
          "L3",
          "L3",
          "L3",
          "L3",
          "L3",
          "L3",
          "L3",
          "L3",
          "L3",
          "L3",
          "L3",
          "L3",
          "L3",
          "L3",
          "L3",
          "L3",
          "L3",
          "L3",
          "L3",
          "L3",
          "L3",
          "L3",
          "L3",
          "L3",
          "L3",
          "L3",
          "L3",
          "L3",
          "L3",
          "L3",
          "L3",
          "L3",
          "L3",
          "L3",
          "L3",
          "L3",
          "L3",
          "L3",
          "L3",
          "L3",
          "L3",
          "L3",
          "L3",
          "L3",
          "L3",
          "L3",
          "L3",
          "L3"
         ]
        },
        {
         "mode": "markers",
         "name": "Thorax Singel",
         "type": "scatter",
         "x": [
          21.11
         ],
         "y": [
          "U110"
         ]
        },
        {
         "mode": "markers",
         "name": "FL Låg Thorax",
         "type": "scatter",
         "x": [
          21.33
         ],
         "y": [
          "U110"
         ]
        },
        {
         "mode": "markers",
         "name": "Esofagus Barium Singel",
         "type": "scatter",
         "x": [
          15.89,
          16.58,
          16.74
         ],
         "y": [
          "U110",
          "U110",
          "U110"
         ]
        },
        {
         "mode": "markers",
         "name": "FL Låg Barn Esof Jod",
         "type": "scatter",
         "x": [
          10.66,
          11.9,
          13.83,
          4.19,
          8.02,
          9.37,
          10.37
         ],
         "y": [
          "U110",
          "U110",
          "U110",
          "U110",
          "U110",
          "U110",
          "U110"
         ]
        },
        {
         "mode": "markers",
         "name": "Esofagus Jod Singel",
         "type": "scatter",
         "x": [
          28.33
         ],
         "y": [
          "U110"
         ]
        },
        {
         "mode": "markers",
         "name": "FL Norm Esofagus Jod",
         "type": "scatter",
         "x": [
          30.23,
          9.61,
          29.36,
          10.8,
          8.2,
          9.04,
          6.13
         ],
         "y": [
          "U110",
          "U110",
          "U110",
          "U110",
          "U110",
          "U110",
          "U110"
         ]
        }
       ],
       "layout": {
        "template": {
         "data": {
          "bar": [
           {
            "error_x": {
             "color": "#2a3f5f"
            },
            "error_y": {
             "color": "#2a3f5f"
            },
            "marker": {
             "line": {
              "color": "#E5ECF6",
              "width": 0.5
             }
            },
            "type": "bar"
           }
          ],
          "barpolar": [
           {
            "marker": {
             "line": {
              "color": "#E5ECF6",
              "width": 0.5
             }
            },
            "type": "barpolar"
           }
          ],
          "carpet": [
           {
            "aaxis": {
             "endlinecolor": "#2a3f5f",
             "gridcolor": "white",
             "linecolor": "white",
             "minorgridcolor": "white",
             "startlinecolor": "#2a3f5f"
            },
            "baxis": {
             "endlinecolor": "#2a3f5f",
             "gridcolor": "white",
             "linecolor": "white",
             "minorgridcolor": "white",
             "startlinecolor": "#2a3f5f"
            },
            "type": "carpet"
           }
          ],
          "choropleth": [
           {
            "colorbar": {
             "outlinewidth": 0,
             "ticks": ""
            },
            "type": "choropleth"
           }
          ],
          "contour": [
           {
            "colorbar": {
             "outlinewidth": 0,
             "ticks": ""
            },
            "colorscale": [
             [
              0,
              "#0d0887"
             ],
             [
              0.1111111111111111,
              "#46039f"
             ],
             [
              0.2222222222222222,
              "#7201a8"
             ],
             [
              0.3333333333333333,
              "#9c179e"
             ],
             [
              0.4444444444444444,
              "#bd3786"
             ],
             [
              0.5555555555555556,
              "#d8576b"
             ],
             [
              0.6666666666666666,
              "#ed7953"
             ],
             [
              0.7777777777777778,
              "#fb9f3a"
             ],
             [
              0.8888888888888888,
              "#fdca26"
             ],
             [
              1,
              "#f0f921"
             ]
            ],
            "type": "contour"
           }
          ],
          "contourcarpet": [
           {
            "colorbar": {
             "outlinewidth": 0,
             "ticks": ""
            },
            "type": "contourcarpet"
           }
          ],
          "heatmap": [
           {
            "colorbar": {
             "outlinewidth": 0,
             "ticks": ""
            },
            "colorscale": [
             [
              0,
              "#0d0887"
             ],
             [
              0.1111111111111111,
              "#46039f"
             ],
             [
              0.2222222222222222,
              "#7201a8"
             ],
             [
              0.3333333333333333,
              "#9c179e"
             ],
             [
              0.4444444444444444,
              "#bd3786"
             ],
             [
              0.5555555555555556,
              "#d8576b"
             ],
             [
              0.6666666666666666,
              "#ed7953"
             ],
             [
              0.7777777777777778,
              "#fb9f3a"
             ],
             [
              0.8888888888888888,
              "#fdca26"
             ],
             [
              1,
              "#f0f921"
             ]
            ],
            "type": "heatmap"
           }
          ],
          "heatmapgl": [
           {
            "colorbar": {
             "outlinewidth": 0,
             "ticks": ""
            },
            "colorscale": [
             [
              0,
              "#0d0887"
             ],
             [
              0.1111111111111111,
              "#46039f"
             ],
             [
              0.2222222222222222,
              "#7201a8"
             ],
             [
              0.3333333333333333,
              "#9c179e"
             ],
             [
              0.4444444444444444,
              "#bd3786"
             ],
             [
              0.5555555555555556,
              "#d8576b"
             ],
             [
              0.6666666666666666,
              "#ed7953"
             ],
             [
              0.7777777777777778,
              "#fb9f3a"
             ],
             [
              0.8888888888888888,
              "#fdca26"
             ],
             [
              1,
              "#f0f921"
             ]
            ],
            "type": "heatmapgl"
           }
          ],
          "histogram": [
           {
            "marker": {
             "colorbar": {
              "outlinewidth": 0,
              "ticks": ""
             }
            },
            "type": "histogram"
           }
          ],
          "histogram2d": [
           {
            "colorbar": {
             "outlinewidth": 0,
             "ticks": ""
            },
            "colorscale": [
             [
              0,
              "#0d0887"
             ],
             [
              0.1111111111111111,
              "#46039f"
             ],
             [
              0.2222222222222222,
              "#7201a8"
             ],
             [
              0.3333333333333333,
              "#9c179e"
             ],
             [
              0.4444444444444444,
              "#bd3786"
             ],
             [
              0.5555555555555556,
              "#d8576b"
             ],
             [
              0.6666666666666666,
              "#ed7953"
             ],
             [
              0.7777777777777778,
              "#fb9f3a"
             ],
             [
              0.8888888888888888,
              "#fdca26"
             ],
             [
              1,
              "#f0f921"
             ]
            ],
            "type": "histogram2d"
           }
          ],
          "histogram2dcontour": [
           {
            "colorbar": {
             "outlinewidth": 0,
             "ticks": ""
            },
            "colorscale": [
             [
              0,
              "#0d0887"
             ],
             [
              0.1111111111111111,
              "#46039f"
             ],
             [
              0.2222222222222222,
              "#7201a8"
             ],
             [
              0.3333333333333333,
              "#9c179e"
             ],
             [
              0.4444444444444444,
              "#bd3786"
             ],
             [
              0.5555555555555556,
              "#d8576b"
             ],
             [
              0.6666666666666666,
              "#ed7953"
             ],
             [
              0.7777777777777778,
              "#fb9f3a"
             ],
             [
              0.8888888888888888,
              "#fdca26"
             ],
             [
              1,
              "#f0f921"
             ]
            ],
            "type": "histogram2dcontour"
           }
          ],
          "mesh3d": [
           {
            "colorbar": {
             "outlinewidth": 0,
             "ticks": ""
            },
            "type": "mesh3d"
           }
          ],
          "parcoords": [
           {
            "line": {
             "colorbar": {
              "outlinewidth": 0,
              "ticks": ""
             }
            },
            "type": "parcoords"
           }
          ],
          "pie": [
           {
            "automargin": true,
            "type": "pie"
           }
          ],
          "scatter": [
           {
            "marker": {
             "colorbar": {
              "outlinewidth": 0,
              "ticks": ""
             }
            },
            "type": "scatter"
           }
          ],
          "scatter3d": [
           {
            "line": {
             "colorbar": {
              "outlinewidth": 0,
              "ticks": ""
             }
            },
            "marker": {
             "colorbar": {
              "outlinewidth": 0,
              "ticks": ""
             }
            },
            "type": "scatter3d"
           }
          ],
          "scattercarpet": [
           {
            "marker": {
             "colorbar": {
              "outlinewidth": 0,
              "ticks": ""
             }
            },
            "type": "scattercarpet"
           }
          ],
          "scattergeo": [
           {
            "marker": {
             "colorbar": {
              "outlinewidth": 0,
              "ticks": ""
             }
            },
            "type": "scattergeo"
           }
          ],
          "scattergl": [
           {
            "marker": {
             "colorbar": {
              "outlinewidth": 0,
              "ticks": ""
             }
            },
            "type": "scattergl"
           }
          ],
          "scattermapbox": [
           {
            "marker": {
             "colorbar": {
              "outlinewidth": 0,
              "ticks": ""
             }
            },
            "type": "scattermapbox"
           }
          ],
          "scatterpolar": [
           {
            "marker": {
             "colorbar": {
              "outlinewidth": 0,
              "ticks": ""
             }
            },
            "type": "scatterpolar"
           }
          ],
          "scatterpolargl": [
           {
            "marker": {
             "colorbar": {
              "outlinewidth": 0,
              "ticks": ""
             }
            },
            "type": "scatterpolargl"
           }
          ],
          "scatterternary": [
           {
            "marker": {
             "colorbar": {
              "outlinewidth": 0,
              "ticks": ""
             }
            },
            "type": "scatterternary"
           }
          ],
          "surface": [
           {
            "colorbar": {
             "outlinewidth": 0,
             "ticks": ""
            },
            "colorscale": [
             [
              0,
              "#0d0887"
             ],
             [
              0.1111111111111111,
              "#46039f"
             ],
             [
              0.2222222222222222,
              "#7201a8"
             ],
             [
              0.3333333333333333,
              "#9c179e"
             ],
             [
              0.4444444444444444,
              "#bd3786"
             ],
             [
              0.5555555555555556,
              "#d8576b"
             ],
             [
              0.6666666666666666,
              "#ed7953"
             ],
             [
              0.7777777777777778,
              "#fb9f3a"
             ],
             [
              0.8888888888888888,
              "#fdca26"
             ],
             [
              1,
              "#f0f921"
             ]
            ],
            "type": "surface"
           }
          ],
          "table": [
           {
            "cells": {
             "fill": {
              "color": "#EBF0F8"
             },
             "line": {
              "color": "white"
             }
            },
            "header": {
             "fill": {
              "color": "#C8D4E3"
             },
             "line": {
              "color": "white"
             }
            },
            "type": "table"
           }
          ]
         },
         "layout": {
          "annotationdefaults": {
           "arrowcolor": "#2a3f5f",
           "arrowhead": 0,
           "arrowwidth": 1
          },
          "coloraxis": {
           "colorbar": {
            "outlinewidth": 0,
            "ticks": ""
           }
          },
          "colorscale": {
           "diverging": [
            [
             0,
             "#8e0152"
            ],
            [
             0.1,
             "#c51b7d"
            ],
            [
             0.2,
             "#de77ae"
            ],
            [
             0.3,
             "#f1b6da"
            ],
            [
             0.4,
             "#fde0ef"
            ],
            [
             0.5,
             "#f7f7f7"
            ],
            [
             0.6,
             "#e6f5d0"
            ],
            [
             0.7,
             "#b8e186"
            ],
            [
             0.8,
             "#7fbc41"
            ],
            [
             0.9,
             "#4d9221"
            ],
            [
             1,
             "#276419"
            ]
           ],
           "sequential": [
            [
             0,
             "#0d0887"
            ],
            [
             0.1111111111111111,
             "#46039f"
            ],
            [
             0.2222222222222222,
             "#7201a8"
            ],
            [
             0.3333333333333333,
             "#9c179e"
            ],
            [
             0.4444444444444444,
             "#bd3786"
            ],
            [
             0.5555555555555556,
             "#d8576b"
            ],
            [
             0.6666666666666666,
             "#ed7953"
            ],
            [
             0.7777777777777778,
             "#fb9f3a"
            ],
            [
             0.8888888888888888,
             "#fdca26"
            ],
            [
             1,
             "#f0f921"
            ]
           ],
           "sequentialminus": [
            [
             0,
             "#0d0887"
            ],
            [
             0.1111111111111111,
             "#46039f"
            ],
            [
             0.2222222222222222,
             "#7201a8"
            ],
            [
             0.3333333333333333,
             "#9c179e"
            ],
            [
             0.4444444444444444,
             "#bd3786"
            ],
            [
             0.5555555555555556,
             "#d8576b"
            ],
            [
             0.6666666666666666,
             "#ed7953"
            ],
            [
             0.7777777777777778,
             "#fb9f3a"
            ],
            [
             0.8888888888888888,
             "#fdca26"
            ],
            [
             1,
             "#f0f921"
            ]
           ]
          },
          "colorway": [
           "#636efa",
           "#EF553B",
           "#00cc96",
           "#ab63fa",
           "#FFA15A",
           "#19d3f3",
           "#FF6692",
           "#B6E880",
           "#FF97FF",
           "#FECB52"
          ],
          "font": {
           "color": "#2a3f5f"
          },
          "geo": {
           "bgcolor": "white",
           "lakecolor": "white",
           "landcolor": "#E5ECF6",
           "showlakes": true,
           "showland": true,
           "subunitcolor": "white"
          },
          "hoverlabel": {
           "align": "left"
          },
          "hovermode": "closest",
          "mapbox": {
           "style": "light"
          },
          "paper_bgcolor": "white",
          "plot_bgcolor": "#E5ECF6",
          "polar": {
           "angularaxis": {
            "gridcolor": "white",
            "linecolor": "white",
            "ticks": ""
           },
           "bgcolor": "#E5ECF6",
           "radialaxis": {
            "gridcolor": "white",
            "linecolor": "white",
            "ticks": ""
           }
          },
          "scene": {
           "xaxis": {
            "backgroundcolor": "#E5ECF6",
            "gridcolor": "white",
            "gridwidth": 2,
            "linecolor": "white",
            "showbackground": true,
            "ticks": "",
            "zerolinecolor": "white"
           },
           "yaxis": {
            "backgroundcolor": "#E5ECF6",
            "gridcolor": "white",
            "gridwidth": 2,
            "linecolor": "white",
            "showbackground": true,
            "ticks": "",
            "zerolinecolor": "white"
           },
           "zaxis": {
            "backgroundcolor": "#E5ECF6",
            "gridcolor": "white",
            "gridwidth": 2,
            "linecolor": "white",
            "showbackground": true,
            "ticks": "",
            "zerolinecolor": "white"
           }
          },
          "shapedefaults": {
           "line": {
            "color": "#2a3f5f"
           }
          },
          "ternary": {
           "aaxis": {
            "gridcolor": "white",
            "linecolor": "white",
            "ticks": ""
           },
           "baxis": {
            "gridcolor": "white",
            "linecolor": "white",
            "ticks": ""
           },
           "bgcolor": "#E5ECF6",
           "caxis": {
            "gridcolor": "white",
            "linecolor": "white",
            "ticks": ""
           }
          },
          "title": {
           "x": 0.05
          },
          "xaxis": {
           "automargin": true,
           "gridcolor": "white",
           "linecolor": "white",
           "ticks": "",
           "title": {
            "standoff": 15
           },
           "zerolinecolor": "white",
           "zerolinewidth": 2
          },
          "yaxis": {
           "automargin": true,
           "gridcolor": "white",
           "linecolor": "white",
           "ticks": "",
           "title": {
            "standoff": 15
           },
           "zerolinecolor": "white",
           "zerolinewidth": 2
          }
         }
        },
        "title": {
         "text": "Lab vs WV"
        },
        "xaxis": {
         "title": {
          "text": "water value [cm]"
         }
        },
        "yaxis": {
         "title": {
          "text": "Lab"
         }
        }
       }
      },
      "text/html": [
       "<div>\n",
       "        \n",
       "        \n",
       "            <div id=\"19e7f8a6-33b8-47ce-9807-9dc77b507bf4\" class=\"plotly-graph-div\" style=\"height:525px; width:100%;\"></div>\n",
       "            <script type=\"text/javascript\">\n",
       "                require([\"plotly\"], function(Plotly) {\n",
       "                    window.PLOTLYENV=window.PLOTLYENV || {};\n",
       "                    \n",
       "                if (document.getElementById(\"19e7f8a6-33b8-47ce-9807-9dc77b507bf4\")) {\n",
       "                    Plotly.newPlot(\n",
       "                        '19e7f8a6-33b8-47ce-9807-9dc77b507bf4',\n",
       "                        [{\"mode\": \"markers\", \"name\": \"FL L\\u00e5g Esofagus Bari\", \"type\": \"scatter\", \"x\": [20.56, 26.84, 26.73, 26.28, 13.61, 12.08, 26.96, 7.84, 12.06, 26.66, 19.0, 19.7, 24.52, 18.67, 26.61, 19.81, 19.8, 17.05, 10.8, 19.6, 25.71, 26.0, 26.77, 27.02, 23.61, 15.84, 8.82, 9.96, 20.32, 19.41, 27.89, 14.62, 10.05, 1.43, 18.16, 22.02, 15.68, 10.11, 12.3, 7.24, 22.23, 10.13, 19.1, 20.08, 22.25, 20.99, 10.05, 3.16, 20.62, 11.19, 21.91, 19.94, 17.06, 18.98, 20.95, 19.57, 10.3, 10.38, 16.97, 17.62, 12.07, 19.88, 12.3, 13.92, 15.09, 16.67, 17.62, 9.06, 10.41, 14.31, 17.74, 16.15, 14.83, 13.56, 9.29, 11.42, 14.32, 15.96, 15.82, 10.05, 20.0, 17.97, 17.19, 16.77, 16.86, 15.77, 9.31, 10.25, 16.25, 14.41, 15.64, 10.44, 8.8, 8.86, 13.97, 11.19, 2.7199999999999998, 12.16, 12.86, 14.28, 13.37, 13.74, 11.09, 8.15, 10.55, 10.88, 15.86, 14.68, 8.88, 1.22, 21.45, 18.21, 19.87, 19.92, 14.38, 13.83, 10.37, 20.82, 10.59, 14.34, 14.55, 10.41, 8.74, 18.38, 17.95, 0.2, 15.02, 21.2, 20.28, 18.34, 18.11, 12.86, 8.88, 26.29, 26.96, 24.0, 18.63, 23.1, 25.03, 33.69, 20.84, 21.89, 25.79, 17.76, 22.86, 21.82, 19.12, 10.68, 25.32], \"y\": [\"L3\", \"L3\", \"L3\", \"L3\", \"L3\", \"L3\", \"L3\", \"L3\", \"L3\", \"L3\", \"L3\", \"L3\", \"L3\", \"L3\", \"L3\", \"L3\", \"L3\", \"L3\", \"L3\", \"L3\", \"L3\", \"L3\", \"L3\", \"L3\", \"L3\", \"L3\", \"L3\", \"L3\", \"L3\", \"L3\", \"L3\", \"L3\", \"L3\", \"L3\", \"L3\", \"L3\", \"L3\", \"L3\", \"L3\", \"L3\", \"L3\", \"L3\", \"L3\", \"L3\", \"L3\", \"L3\", \"L3\", \"L3\", \"L3\", \"L3\", \"L3\", \"L3\", \"L3\", \"L3\", \"L3\", \"L3\", \"L3\", \"L3\", \"L3\", \"L3\", \"L3\", \"L3\", \"L3\", \"L3\", \"L3\", \"L3\", \"L3\", \"L3\", \"L3\", \"L3\", \"L3\", \"L3\", \"L3\", \"L3\", \"L3\", \"L3\", \"L3\", \"L3\", \"L3\", \"L3\", \"L3\", \"L3\", \"L3\", \"L3\", \"L3\", \"L3\", \"L3\", \"L3\", \"L3\", \"L3\", \"L3\", \"L3\", \"L3\", \"L3\", \"L3\", \"L3\", \"L3\", \"L3\", \"L3\", \"L3\", \"L3\", \"L3\", \"L3\", \"L3\", \"L3\", \"L3\", \"L3\", \"L3\", \"L3\", \"L3\", \"U110\", \"U110\", \"L3\", \"L3\", \"L3\", \"L3\", \"L3\", \"L3\", \"L3\", \"L3\", \"L3\", \"L3\", \"L3\", \"L3\", \"L3\", \"L3\", \"L3\", \"L3\", \"L3\", \"L3\", \"L3\", \"L3\", \"L3\", \"U110\", \"U110\", \"U110\", \"U110\", \"U110\", \"U110\", \"U110\", \"U110\", \"U110\", \"U110\", \"U110\", \"U110\", \"U110\", \"U110\", \"U110\", \"U110\"]}, {\"mode\": \"markers\", \"name\": \"Esofagus Bari Gml Norm\", \"type\": \"scatter\", \"x\": [12.73], \"y\": [\"L3\"]}, {\"mode\": \"markers\", \"name\": \"FL L\\u00e5g Esofagus Jod\", \"type\": \"scatter\", \"x\": [21.65, 21.34, 22.2, 9.93, 22.02, 18.14, 17.38, 17.48, 22.08, 21.09, 20.33, 11.12, 13.47, 21.08, 20.66, 10.78, 16.6, 17.4, 12.62, 26.07, 24.08, 22.52, 11.16, 18.5, 21.36, 21.4, 21.97, 22.54, 21.9, 21.15, 19.82, 19.25, 19.51, 24.88, 12.96, 20.34, 22.84, 25.05, 13.27, 13.45, 9.09, 11.88, 21.13, 26.89, 27.68, 22.19, 20.83, 20.81, 13.37, 11.88, 21.72, 21.49, 19.14, 28.54, 21.31, 21.71, 0.3, 20.13, 21.06, 23.04, 21.64, 21.26, 21.22, 21.77, 13.51, 12.0, 19.94, 21.19, 25.52, 23.25, 22.32, 30.23, 11.97, 19.6, 22.77, 19.36, 20.61, 22.26, 20.85, 21.91, 23.2, 7.86, 10.29, 9.93, 21.58, 17.49, 10.67, 23.97, 21.8, 20.14, 17.39, 19.04, 17.06, 17.03, 16.98, 17.59, 16.84, 21.56, 22.13, 23.63, 20.61, 20.56, 20.94, 13.47, 11.04, 15.52, 14.71, 11.49, 9.45, 0.33, 18.37, 15.61, 11.66, 11.64, 15.07, 8.04, 13.62, 13.35, 9.04, 9.04, 12.23, 16.87, 11.19, 9.81, 7.22, 13.48, 5.14, 8.55, 15.8, 16.8, 16.94, 17.45, 18.83, 18.13, 7.47, 7.33, 17.03, 17.31, 9.7, 2.18, 11.18, 13.81, 9.87, 19.53, 20.0, 18.81, 16.79, 19.97, 20.55, 20.6, 20.21, 19.49, 21.54, 14.08, 23.31, 13.49, 19.16, 9.12, 6.83, 15.82, 17.65, 16.2, 12.96, 14.6, 17.85, 22.24, 12.69, 14.29, 9.67, 8.95, 16.3, 16.01, 22.72, 20.93, 14.38, 14.1, 14.11, 11.52, 19.5, 19.04, 19.32], \"y\": [\"L3\", \"L3\", \"L3\", \"L3\", \"L3\", \"L3\", \"L3\", \"L3\", \"L3\", \"L3\", \"L3\", \"L3\", \"L3\", \"L3\", \"L3\", \"L3\", \"L3\", \"L3\", \"L3\", \"L3\", \"L3\", \"L3\", \"L3\", \"L3\", \"L3\", \"L3\", \"L3\", \"L3\", \"L3\", \"L3\", \"L3\", \"L3\", \"L3\", \"L3\", \"L3\", \"L3\", \"L3\", \"L3\", \"L3\", \"L3\", \"L3\", \"L3\", \"L3\", \"L3\", \"L3\", \"L3\", \"L3\", \"L3\", \"L3\", \"L3\", \"L3\", \"L3\", \"L3\", \"L3\", \"L3\", \"L3\", \"L3\", \"L3\", \"L3\", \"L3\", \"L3\", \"L3\", \"L3\", \"L3\", \"L3\", \"L3\", \"L3\", \"L3\", \"L3\", \"L3\", \"L3\", \"L3\", \"L3\", \"L3\", \"L3\", \"L3\", \"U110\", \"U110\", \"U110\", \"U110\", \"U110\", \"U110\", \"U110\", \"U110\", \"L3\", \"L3\", \"L3\", \"L3\", \"L3\", \"L3\", \"L3\", \"L3\", \"L3\", \"L3\", \"L3\", \"L3\", \"L3\", \"L3\", \"L3\", \"L3\", \"L3\", \"L3\", \"L3\", \"L3\", \"L3\", \"L3\", \"L3\", \"L3\", \"L3\", \"L3\", \"L3\", \"L3\", \"L3\", \"L3\", \"L3\", \"L3\", \"L3\", \"L3\", \"L3\", \"L3\", \"L3\", \"L3\", \"L3\", \"L3\", \"L3\", \"L3\", \"L3\", \"L3\", \"L3\", \"L3\", \"L3\", \"L3\", \"L3\", \"L3\", \"L3\", \"L3\", \"L3\", \"L3\", \"L3\", \"L3\", \"L3\", \"L3\", \"L3\", \"L3\", \"L3\", \"L3\", \"L3\", \"L3\", \"L3\", \"L3\", \"L3\", \"L3\", \"L3\", \"L3\", \"L3\", \"L3\", \"L3\", \"L3\", \"L3\", \"L3\", \"L3\", \"L3\", \"L3\", \"L3\", \"L3\", \"L3\", \"L3\", \"L3\", \"L3\", \"L3\", \"L3\", \"L3\", \"L3\", \"L3\", \"L3\", \"L3\", \"L3\", \"L3\", \"L3\", \"L3\", \"L3\"]}, {\"mode\": \"markers\", \"name\": \"FL Norm Barn Esof Bari\", \"type\": \"scatter\", \"x\": [18.92, 16.28, 17.82, 14.43, 12.52, 20.53, 19.97, 14.39], \"y\": [\"U110\", \"U110\", \"U110\", \"U110\", \"U110\", \"U110\", \"U110\", \"U110\"]}, {\"mode\": \"markers\", \"name\": \"FL H\\u00f6g Barn Esof Jod\", \"type\": \"scatter\", \"x\": [11.82], \"y\": [\"U110\"]}, {\"mode\": \"markers\", \"name\": \"FL Norm Esofagus Bari\", \"type\": \"scatter\", \"x\": [14.47, 22.13, 13.06, 13.74, 24.29, 25.45, 17.68, 17.72, 17.38, 16.71, 12.39, 11.14, 10.43, 21.63, 18.03, 17.78, 9.26, 17.54, 21.14, 9.9, 11.9, 18.65, 20.87, 15.17, 14.93, 14.72, 15.12, 23.06, 23.52, 23.58, 23.35, 12.23, 18.16, 29.9, 15.86, 12.05, 18.36, 30.07, 24.21, 25.19, 25.73, 18.09, 18.17, 18.02, 13.2, 18.37, 18.58, 10.2, 18.68, 10.01, 12.99, 18.42, 18.29, 10.09, 13.05, 16.04, 9.85, 16.12, 20.11, 10.43, 11.31, 15.45, 15.43, 10.04, 10.34, 9.75, 19.4, 9.0, 24.52, 28.64, 16.3, 18.83, 18.28, 24.36, 29.52, 8.8, 20.56, 13.57, 19.79, 20.38, 12.85, 19.44, 26.35, 25.92, 32.65, 22.88, 23.05, 14.23, 11.01, 10.52, 14.64, 22.37, 14.13, 11.1, 15.45, 10.59, 16.8, 22.91, 16.47, 16.27, 10.77, 10.33, 16.79, 16.98, 26.27, 21.2, 25.62, 26.65, 10.13, 15.96, 17.51, 15.05, 10.03, 17.96, 8.56, 14.55, 11.97, 10.94, 10.6, 17.98, 22.4, 15.93, 15.93, 17.79, 17.03, 16.88, 17.11, 11.97, 11.4, 11.17, 20.46, 15.93, 20.66, 16.36, 19.78, 19.44, 19.76, 16.86, 16.79, 20.21, 16.14, 17.53, 17.63, 27.78, 10.83, 28.7, 9.83, 23.66, 28.88, 21.51, 23.04, 19.11, 10.4, 9.6, 17.14, 26.43, 22.27, 23.14, 9.23, 9.59, 19.29, 22.29, 15.14, 9.52, 15.7, 21.78, 15.12, 14.52, 14.95, 10.43, 10.2, 9.34, 26.64, 27.16, 22.15, 22.23, 23.38, 28.19, 21.49, 13.43, 13.29, 17.32, 22.94, 15.85, 16.0, 25.72, 26.41, 11.89, 15.19, 9.21, 10.74, 15.98, 13.87, 21.65, 21.81, 14.3, 9.47, 9.39, 15.34], \"y\": [\"U110\", \"U110\", \"U110\", \"U110\", \"U110\", \"U110\", \"U110\", \"U110\", \"U110\", \"U110\", \"U110\", \"U110\", \"U110\", \"U110\", \"U110\", \"U110\", \"U110\", \"U110\", \"U110\", \"U110\", \"U110\", \"U110\", \"U110\", \"L3\", \"L3\", \"L3\", \"L3\", \"U110\", \"U110\", \"U110\", \"U110\", \"U110\", \"U110\", \"U110\", \"U110\", \"U110\", \"U110\", \"U110\", \"U110\", \"U110\", \"U110\", \"U110\", \"U110\", \"U110\", \"U110\", \"U110\", \"U110\", \"U110\", \"U110\", \"U110\", \"U110\", \"U110\", \"U110\", \"U110\", \"U110\", \"U110\", \"U110\", \"U110\", \"U110\", \"U110\", \"U110\", \"U110\", \"U110\", \"U110\", \"U110\", \"U110\", \"U110\", \"U110\", \"U110\", \"U110\", \"U110\", \"U110\", \"U110\", \"U110\", \"U110\", \"U110\", \"U110\", \"U110\", \"U110\", \"U110\", \"U110\", \"U110\", \"U110\", \"U110\", \"U110\", \"U110\", \"U110\", \"U110\", \"U110\", \"U110\", \"U110\", \"U110\", \"U110\", \"U110\", \"U110\", \"U110\", \"U110\", \"U110\", \"U110\", \"U110\", \"U110\", \"U110\", \"U110\", \"U110\", \"U110\", \"U110\", \"U110\", \"U110\", \"U110\", \"U110\", \"U110\", \"U110\", \"U110\", \"U110\", \"U110\", \"U110\", \"U110\", \"U110\", \"U110\", \"U110\", \"U110\", \"U110\", \"U110\", \"U110\", \"U110\", \"U110\", \"U110\", \"U110\", \"U110\", \"U110\", \"U110\", \"U110\", \"U110\", \"U110\", \"U110\", \"U110\", \"U110\", \"U110\", \"U110\", \"U110\", \"U110\", \"U110\", \"U110\", \"U110\", \"U110\", \"U110\", \"U110\", \"U110\", \"U110\", \"U110\", \"U110\", \"U110\", \"U110\", \"U110\", \"U110\", \"U110\", \"U110\", \"U110\", \"U110\", \"U110\", \"U110\", \"U110\", \"U110\", \"U110\", \"U110\", \"U110\", \"U110\", \"U110\", \"U110\", \"U110\", \"U110\", \"U110\", \"U110\", \"U110\", \"U110\", \"U110\", \"U110\", \"U110\", \"U110\", \"U110\", \"U110\", \"U110\", \"U110\", \"U110\", \"U110\", \"U110\", \"U110\", \"U110\", \"U110\", \"U110\", \"U110\", \"U110\", \"U110\", \"U110\", \"U110\", \"U110\", \"U110\", \"U110\", \"U110\"]}, {\"mode\": \"markers\", \"name\": \"Esofagus Barium\", \"type\": \"scatter\", \"x\": [23.75, 17.81, 24.76, 17.93, 22.27, 26.35, 18.12, 18.14, 26.77, 18.38, 18.36, 23.86, 24.1, 19.45, 24.42, 18.06, 28.29, 18.5, 27.16, 25.8, 15.97, 20.33, 16.24, 15.98, 20.35, 19.33, 22.39, 22.3, 21.95, 16.3, 16.32, 27.52, 24.97, 31.74, 28.37, 32.58, 23.53, 17.33, 25.43, 26.16, 18.48, 21.88, 18.18, 17.23, 14.97, 23.14, 21.68, 14.94, 21.99, 21.46, 18.31, 28.09, 22.45, 21.02, 20.22, 15.59, 18.47, 18.61, 18.3, 16.0, 19.82, 29.11, 27.17, 24.56, 18.53, 34.93, 27.95, 32.13, 32.43, 25.09, 26.58, 27.0, 18.32, 27.0, 28.65, 18.71, 17.44, 17.63, 25.65, 17.28, 25.63, 26.36, 21.8, 17.21, 16.69, 25.56, 25.23], \"y\": [\"U110\", \"U110\", \"U110\", \"U110\", \"U110\", \"U110\", \"U110\", \"U110\", \"U110\", \"U110\", \"U110\", \"U110\", \"U110\", \"U110\", \"U110\", \"U110\", \"U110\", \"U110\", \"U110\", \"U110\", \"U110\", \"U110\", \"U110\", \"U110\", \"U110\", \"U110\", \"U110\", \"U110\", \"U110\", \"U110\", \"U110\", \"U110\", \"U110\", \"U110\", \"U110\", \"U110\", \"U110\", \"U110\", \"U110\", \"U110\", \"U110\", \"U110\", \"U110\", \"U110\", \"U110\", \"U110\", \"U110\", \"U110\", \"U110\", \"U110\", \"U110\", \"U110\", \"U110\", \"U110\", \"U110\", \"U110\", \"U110\", \"U110\", \"U110\", \"U110\", \"U110\", \"U110\", \"U110\", \"U110\", \"U110\", \"U110\", \"U110\", \"U110\", \"U110\", \"U110\", \"U110\", \"U110\", \"U110\", \"U110\", \"U110\", \"U110\", \"U110\", \"U110\", \"U110\", \"U110\", \"U110\", \"U110\", \"U110\", \"U110\", \"U110\", \"U110\", \"L3\"]}, {\"mode\": \"markers\", \"name\": \"Esofagus Jod Gml\", \"type\": \"scatter\", \"x\": [12.57, 11.55, 20.42, 21.39, 10.28, 10.82, 20.48, 21.05, 25.45, 25.83], \"y\": [\"L3\", \"L3\", \"L3\", \"L3\", \"L3\", \"L3\", \"L3\", \"L3\", \"L3\", \"L3\"]}, {\"mode\": \"markers\", \"name\": \"FL Normal Esofagus Jod\", \"type\": \"scatter\", \"x\": [21.45, 21.87, 30.44, 23.21, 27.81, 21.39, 21.56, 12.32, 19.33, 18.38, 24.97, 19.38, 17.94, 8.61, 9.55, 9.52, 24.53, 3.94, 13.12, 12.31, 12.44, 14.97, 16.95, 10.51, 16.45, 15.61, 22.35, 24.59, 14.63, 15.09, 11.71, 19.51, 19.58, 8.81, 10.08, 10.05, 9.61, 17.09, 18.13, 18.42, 6.66, 9.68, 9.63, 10.0, 7.42, 8.73, 17.15, 17.02, 18.03, 9.22, 7.88, 5.54, 10.32, 9.84, 21.11, 24.91, 19.56, 23.58, 23.58, 24.55, 22.02, 20.2, 20.74, 21.98, 19.5, 23.13], \"y\": [\"L3\", \"L3\", \"L3\", \"L3\", \"L3\", \"L3\", \"L3\", \"L3\", \"L3\", \"L3\", \"L3\", \"L3\", \"L3\", \"L3\", \"L3\", \"L3\", \"L3\", \"L3\", \"L3\", \"L3\", \"L3\", \"L3\", \"L3\", \"L3\", \"L3\", \"L3\", \"L3\", \"L3\", \"L3\", \"L3\", \"L3\", \"L3\", \"L3\", \"L3\", \"L3\", \"L3\", \"L3\", \"L3\", \"L3\", \"L3\", \"L3\", \"L3\", \"L3\", \"L3\", \"L3\", \"L3\", \"L3\", \"L3\", \"L3\", \"L3\", \"L3\", \"L3\", \"L3\", \"L3\", \"L3\", \"L3\", \"L3\", \"L3\", \"L3\", \"L3\", \"L3\", \"L3\", \"L3\", \"L3\", \"L3\", \"L3\"]}, {\"mode\": \"markers\", \"name\": \"FL H\\u00f6g Esofagus Jod\", \"type\": \"scatter\", \"x\": [20.85], \"y\": [\"L3\"]}, {\"mode\": \"markers\", \"name\": \"FL L\\u00e5g Esofagus Barium\", \"type\": \"scatter\", \"x\": [27.15, 25.92, 25.71, 17.12, 9.52, 11.07, 18.04, 23.42, 22.36, 20.63, 18.49, 9.72, 17.36, 1.7000000000000002, 26.96, 17.04, 8.67, 12.96, 17.69, 16.46, 20.5, 18.6, 18.01, 17.74, 8.71, 8.47, 17.75, 18.0, 18.29, 21.5, 21.81, 20.73, 18.46, 16.05, 14.83, 15.88, 16.34, 21.7, 13.48, 14.26, 16.49, 21.04, 17.12, 6.38, 15.37, 22.46, 21.4, 15.29, 20.79, 19.69, 19.59, 18.43, 17.64, 23.19, 13.11, 13.51, 8.71, 14.2, 21.6, 13.51, 19.21, 24.96, 22.0, 15.57, 16.56, 20.49, 21.81, 13.58, 15.11, 14.61, 13.49, 14.73, 9.18, 8.07, 9.72, 20.0, 15.06, 12.95, 14.25, 10.35, 10.61, 10.2, 10.38, 12.14, 9.39, 10.65, 9.76, 11.34, 9.9, 11.75, 18.2, 16.92, 7.4, 8.28, 17.48, 17.56, 18.59, 20.05, 7.77, 8.31, 7.5600000000000005, 8.82, 17.84, 16.94, 18.95, 16.83, 8.56, 7.39, 1.8900000000000001, 8.37, 7.92, 18.8, 20.44, 21.63, 21.67, 19.74, 19.68, 21.64, 8.84, 7.33, 24.06, 26.95, 19.56, 21.55, 15.5, 21.49, 20.0, 17.26, 11.46, 19.23, 21.29, 20.12, 21.58, 17.49, 11.6, 8.01, 26.29, 19.64, 19.84, 16.1, 3.0, 9.72, 23.73, 19.48, 18.09, 23.68, 18.21, 18.07, 21.31, 19.71, 24.27, 18.49, 19.27, 18.63, 18.14, 16.07, 18.32, 19.46, 18.11, 24.92, 18.27, 8.96, 8.58, 10.61, 20.82, 20.86, 18.48, 17.91, 1.23, 19.43, 16.02, 19.48, 10.83, 15.26], \"y\": [\"L3\", \"L3\", \"L3\", \"L3\", \"L3\", \"L3\", \"L3\", \"L3\", \"L3\", \"L3\", \"L3\", \"L3\", \"L3\", \"L3\", \"L3\", \"L3\", \"L3\", \"L3\", \"L3\", \"L3\", \"L3\", \"L3\", \"L3\", \"L3\", \"L3\", \"L3\", \"L3\", \"L3\", \"L3\", \"L3\", \"L3\", \"L3\", \"L3\", \"L3\", \"L3\", \"L3\", \"L3\", \"L3\", \"L3\", \"L3\", \"L3\", \"L3\", \"L3\", \"L3\", \"L3\", \"L3\", \"L3\", \"L3\", \"L3\", \"L3\", \"L3\", \"L3\", \"L3\", \"L3\", \"L3\", \"L3\", \"L3\", \"L3\", \"L3\", \"L3\", \"L3\", \"L3\", \"L3\", \"L3\", \"L3\", \"L3\", \"L3\", \"L3\", \"L3\", \"L3\", \"L3\", \"L3\", \"L3\", \"L3\", \"L3\", \"L3\", \"L3\", \"L3\", \"L3\", \"L3\", \"L3\", \"L3\", \"L3\", \"L3\", \"L3\", \"L3\", \"L3\", \"L3\", \"L3\", \"L3\", \"L3\", \"L3\", \"L3\", \"L3\", \"L3\", \"L3\", \"L3\", \"L3\", \"L3\", \"L3\", \"L3\", \"L3\", \"L3\", \"L3\", \"L3\", \"L3\", \"L3\", \"L3\", \"L3\", \"L3\", \"L3\", \"L3\", \"L3\", \"L3\", \"L3\", \"L3\", \"L3\", \"L3\", \"L3\", \"L3\", \"L3\", \"L3\", \"L3\", \"L3\", \"L3\", \"L3\", \"L3\", \"L3\", \"L3\", \"L3\", \"L3\", \"L3\", \"L3\", \"L3\", \"L3\", \"L3\", \"L3\", \"L3\", \"L3\", \"L3\", \"L3\", \"L3\", \"L3\", \"L3\", \"L3\", \"L3\", \"L3\", \"L3\", \"L3\", \"L3\", \"L3\", \"L3\", \"L3\", \"L3\", \"L3\", \"L3\", \"L3\", \"L3\", \"L3\", \"L3\", \"L3\", \"L3\", \"L3\", \"L3\", \"L3\", \"L3\", \"L3\", \"L3\", \"L3\", \"L3\", \"L3\", \"L3\", \"L3\", \"L3\"]}, {\"mode\": \"markers\", \"name\": \"FL Normal Esofagus Bar\", \"type\": \"scatter\", \"x\": [27.29, 27.73, 16.47, 17.18, 9.6, 10.78, 10.69, 27.7, 26.53, 18.05, 26.62, 18.06, 19.18, 17.93, 17.4, 16.81, 14.2, 8.5, 22.47, 13.76, 22.02, 15.31, 9.05, 9.73, 9.63, 8.38, 8.58, 17.31, 18.6, 7.35, 18.99, 18.26, 15.8, 16.51, 19.27, 8.49, 20.17, 20.32, 24.36, 21.86, 21.38, 14.02, 14.37, 20.28, 19.93, 21.22, 15.85, 21.43, 10.38, 22.21, 20.01, 21.18, 16.81, 11.5, 18.54, 18.33, 17.19, 16.25, 16.15, 10.75, 12.54, 24.79, 25.65, 25.65, 19.94, 22.32, 28.31, 15.8, 15.58, 19.38, 18.24, 18.41, 15.56, 25.39, 19.48, 23.31, 18.42, 30.02, 25.1, 25.61, 18.43, 18.02, 15.85], \"y\": [\"L3\", \"L3\", \"L3\", \"L3\", \"L3\", \"L3\", \"L3\", \"L3\", \"L3\", \"L3\", \"L3\", \"L3\", \"L3\", \"L3\", \"L3\", \"L3\", \"L3\", \"L3\", \"L3\", \"L3\", \"L3\", \"L3\", \"L3\", \"L3\", \"L3\", \"L3\", \"L3\", \"L3\", \"L3\", \"L3\", \"L3\", \"L3\", \"L3\", \"L3\", \"L3\", \"L3\", \"L3\", \"L3\", \"L3\", \"L3\", \"L3\", \"L3\", \"L3\", \"L3\", \"L3\", \"L3\", \"L3\", \"L3\", \"L3\", \"L3\", \"L3\", \"L3\", \"L3\", \"L3\", \"L3\", \"L3\", \"L3\", \"L3\", \"L3\", \"L3\", \"L3\", \"L3\", \"L3\", \"L3\", \"L3\", \"L3\", \"L3\", \"L3\", \"L3\", \"L3\", \"L3\", \"L3\", \"L3\", \"L3\", \"L3\", \"L3\", \"L3\", \"L3\", \"L3\", \"L3\", \"L3\", \"L3\", \"L3\"]}, {\"mode\": \"markers\", \"name\": \"Thorax Singel\", \"type\": \"scatter\", \"x\": [21.11], \"y\": [\"U110\"]}, {\"mode\": \"markers\", \"name\": \"FL L\\u00e5g Thorax\", \"type\": \"scatter\", \"x\": [21.33], \"y\": [\"U110\"]}, {\"mode\": \"markers\", \"name\": \"Esofagus Barium Singel\", \"type\": \"scatter\", \"x\": [15.89, 16.58, 16.74], \"y\": [\"U110\", \"U110\", \"U110\"]}, {\"mode\": \"markers\", \"name\": \"FL L\\u00e5g Barn Esof Jod\", \"type\": \"scatter\", \"x\": [10.66, 11.9, 13.83, 4.19, 8.02, 9.37, 10.37], \"y\": [\"U110\", \"U110\", \"U110\", \"U110\", \"U110\", \"U110\", \"U110\"]}, {\"mode\": \"markers\", \"name\": \"Esofagus Jod Singel\", \"type\": \"scatter\", \"x\": [28.33], \"y\": [\"U110\"]}, {\"mode\": \"markers\", \"name\": \"FL Norm Esofagus Jod\", \"type\": \"scatter\", \"x\": [30.23, 9.61, 29.36, 10.8, 8.2, 9.04, 6.13], \"y\": [\"U110\", \"U110\", \"U110\", \"U110\", \"U110\", \"U110\", \"U110\"]}],\n",
       "                        {\"template\": {\"data\": {\"bar\": [{\"error_x\": {\"color\": \"#2a3f5f\"}, \"error_y\": {\"color\": \"#2a3f5f\"}, \"marker\": {\"line\": {\"color\": \"#E5ECF6\", \"width\": 0.5}}, \"type\": \"bar\"}], \"barpolar\": [{\"marker\": {\"line\": {\"color\": \"#E5ECF6\", \"width\": 0.5}}, \"type\": \"barpolar\"}], \"carpet\": [{\"aaxis\": {\"endlinecolor\": \"#2a3f5f\", \"gridcolor\": \"white\", \"linecolor\": \"white\", \"minorgridcolor\": \"white\", \"startlinecolor\": \"#2a3f5f\"}, \"baxis\": {\"endlinecolor\": \"#2a3f5f\", \"gridcolor\": \"white\", \"linecolor\": \"white\", \"minorgridcolor\": \"white\", \"startlinecolor\": \"#2a3f5f\"}, \"type\": \"carpet\"}], \"choropleth\": [{\"colorbar\": {\"outlinewidth\": 0, \"ticks\": \"\"}, \"type\": \"choropleth\"}], \"contour\": [{\"colorbar\": {\"outlinewidth\": 0, \"ticks\": \"\"}, \"colorscale\": [[0.0, \"#0d0887\"], [0.1111111111111111, \"#46039f\"], [0.2222222222222222, \"#7201a8\"], [0.3333333333333333, \"#9c179e\"], [0.4444444444444444, \"#bd3786\"], [0.5555555555555556, \"#d8576b\"], [0.6666666666666666, \"#ed7953\"], [0.7777777777777778, \"#fb9f3a\"], [0.8888888888888888, \"#fdca26\"], [1.0, \"#f0f921\"]], \"type\": \"contour\"}], \"contourcarpet\": [{\"colorbar\": {\"outlinewidth\": 0, \"ticks\": \"\"}, \"type\": \"contourcarpet\"}], \"heatmap\": [{\"colorbar\": {\"outlinewidth\": 0, \"ticks\": \"\"}, \"colorscale\": [[0.0, \"#0d0887\"], [0.1111111111111111, \"#46039f\"], [0.2222222222222222, \"#7201a8\"], [0.3333333333333333, \"#9c179e\"], [0.4444444444444444, \"#bd3786\"], [0.5555555555555556, \"#d8576b\"], [0.6666666666666666, \"#ed7953\"], [0.7777777777777778, \"#fb9f3a\"], [0.8888888888888888, \"#fdca26\"], [1.0, \"#f0f921\"]], \"type\": \"heatmap\"}], \"heatmapgl\": [{\"colorbar\": {\"outlinewidth\": 0, \"ticks\": \"\"}, \"colorscale\": [[0.0, \"#0d0887\"], [0.1111111111111111, \"#46039f\"], [0.2222222222222222, \"#7201a8\"], [0.3333333333333333, \"#9c179e\"], [0.4444444444444444, \"#bd3786\"], [0.5555555555555556, \"#d8576b\"], [0.6666666666666666, \"#ed7953\"], [0.7777777777777778, \"#fb9f3a\"], [0.8888888888888888, \"#fdca26\"], [1.0, \"#f0f921\"]], \"type\": \"heatmapgl\"}], \"histogram\": [{\"marker\": {\"colorbar\": {\"outlinewidth\": 0, \"ticks\": \"\"}}, \"type\": \"histogram\"}], \"histogram2d\": [{\"colorbar\": {\"outlinewidth\": 0, \"ticks\": \"\"}, \"colorscale\": [[0.0, \"#0d0887\"], [0.1111111111111111, \"#46039f\"], [0.2222222222222222, \"#7201a8\"], [0.3333333333333333, \"#9c179e\"], [0.4444444444444444, \"#bd3786\"], [0.5555555555555556, \"#d8576b\"], [0.6666666666666666, \"#ed7953\"], [0.7777777777777778, \"#fb9f3a\"], [0.8888888888888888, \"#fdca26\"], [1.0, \"#f0f921\"]], \"type\": \"histogram2d\"}], \"histogram2dcontour\": [{\"colorbar\": {\"outlinewidth\": 0, \"ticks\": \"\"}, \"colorscale\": [[0.0, \"#0d0887\"], [0.1111111111111111, \"#46039f\"], [0.2222222222222222, \"#7201a8\"], [0.3333333333333333, \"#9c179e\"], [0.4444444444444444, \"#bd3786\"], [0.5555555555555556, \"#d8576b\"], [0.6666666666666666, \"#ed7953\"], [0.7777777777777778, \"#fb9f3a\"], [0.8888888888888888, \"#fdca26\"], [1.0, \"#f0f921\"]], \"type\": \"histogram2dcontour\"}], \"mesh3d\": [{\"colorbar\": {\"outlinewidth\": 0, \"ticks\": \"\"}, \"type\": \"mesh3d\"}], \"parcoords\": [{\"line\": {\"colorbar\": {\"outlinewidth\": 0, \"ticks\": \"\"}}, \"type\": \"parcoords\"}], \"pie\": [{\"automargin\": true, \"type\": \"pie\"}], \"scatter\": [{\"marker\": {\"colorbar\": {\"outlinewidth\": 0, \"ticks\": \"\"}}, \"type\": \"scatter\"}], \"scatter3d\": [{\"line\": {\"colorbar\": {\"outlinewidth\": 0, \"ticks\": \"\"}}, \"marker\": {\"colorbar\": {\"outlinewidth\": 0, \"ticks\": \"\"}}, \"type\": \"scatter3d\"}], \"scattercarpet\": [{\"marker\": {\"colorbar\": {\"outlinewidth\": 0, \"ticks\": \"\"}}, \"type\": \"scattercarpet\"}], \"scattergeo\": [{\"marker\": {\"colorbar\": {\"outlinewidth\": 0, \"ticks\": \"\"}}, \"type\": \"scattergeo\"}], \"scattergl\": [{\"marker\": {\"colorbar\": {\"outlinewidth\": 0, \"ticks\": \"\"}}, \"type\": \"scattergl\"}], \"scattermapbox\": [{\"marker\": {\"colorbar\": {\"outlinewidth\": 0, \"ticks\": \"\"}}, \"type\": \"scattermapbox\"}], \"scatterpolar\": [{\"marker\": {\"colorbar\": {\"outlinewidth\": 0, \"ticks\": \"\"}}, \"type\": \"scatterpolar\"}], \"scatterpolargl\": [{\"marker\": {\"colorbar\": {\"outlinewidth\": 0, \"ticks\": \"\"}}, \"type\": \"scatterpolargl\"}], \"scatterternary\": [{\"marker\": {\"colorbar\": {\"outlinewidth\": 0, \"ticks\": \"\"}}, \"type\": \"scatterternary\"}], \"surface\": [{\"colorbar\": {\"outlinewidth\": 0, \"ticks\": \"\"}, \"colorscale\": [[0.0, \"#0d0887\"], [0.1111111111111111, \"#46039f\"], [0.2222222222222222, \"#7201a8\"], [0.3333333333333333, \"#9c179e\"], [0.4444444444444444, \"#bd3786\"], [0.5555555555555556, \"#d8576b\"], [0.6666666666666666, \"#ed7953\"], [0.7777777777777778, \"#fb9f3a\"], [0.8888888888888888, \"#fdca26\"], [1.0, \"#f0f921\"]], \"type\": \"surface\"}], \"table\": [{\"cells\": {\"fill\": {\"color\": \"#EBF0F8\"}, \"line\": {\"color\": \"white\"}}, \"header\": {\"fill\": {\"color\": \"#C8D4E3\"}, \"line\": {\"color\": \"white\"}}, \"type\": \"table\"}]}, \"layout\": {\"annotationdefaults\": {\"arrowcolor\": \"#2a3f5f\", \"arrowhead\": 0, \"arrowwidth\": 1}, \"coloraxis\": {\"colorbar\": {\"outlinewidth\": 0, \"ticks\": \"\"}}, \"colorscale\": {\"diverging\": [[0, \"#8e0152\"], [0.1, \"#c51b7d\"], [0.2, \"#de77ae\"], [0.3, \"#f1b6da\"], [0.4, \"#fde0ef\"], [0.5, \"#f7f7f7\"], [0.6, \"#e6f5d0\"], [0.7, \"#b8e186\"], [0.8, \"#7fbc41\"], [0.9, \"#4d9221\"], [1, \"#276419\"]], \"sequential\": [[0.0, \"#0d0887\"], [0.1111111111111111, \"#46039f\"], [0.2222222222222222, \"#7201a8\"], [0.3333333333333333, \"#9c179e\"], [0.4444444444444444, \"#bd3786\"], [0.5555555555555556, \"#d8576b\"], [0.6666666666666666, \"#ed7953\"], [0.7777777777777778, \"#fb9f3a\"], [0.8888888888888888, \"#fdca26\"], [1.0, \"#f0f921\"]], \"sequentialminus\": [[0.0, \"#0d0887\"], [0.1111111111111111, \"#46039f\"], [0.2222222222222222, \"#7201a8\"], [0.3333333333333333, \"#9c179e\"], [0.4444444444444444, \"#bd3786\"], [0.5555555555555556, \"#d8576b\"], [0.6666666666666666, \"#ed7953\"], [0.7777777777777778, \"#fb9f3a\"], [0.8888888888888888, \"#fdca26\"], [1.0, \"#f0f921\"]]}, \"colorway\": [\"#636efa\", \"#EF553B\", \"#00cc96\", \"#ab63fa\", \"#FFA15A\", \"#19d3f3\", \"#FF6692\", \"#B6E880\", \"#FF97FF\", \"#FECB52\"], \"font\": {\"color\": \"#2a3f5f\"}, \"geo\": {\"bgcolor\": \"white\", \"lakecolor\": \"white\", \"landcolor\": \"#E5ECF6\", \"showlakes\": true, \"showland\": true, \"subunitcolor\": \"white\"}, \"hoverlabel\": {\"align\": \"left\"}, \"hovermode\": \"closest\", \"mapbox\": {\"style\": \"light\"}, \"paper_bgcolor\": \"white\", \"plot_bgcolor\": \"#E5ECF6\", \"polar\": {\"angularaxis\": {\"gridcolor\": \"white\", \"linecolor\": \"white\", \"ticks\": \"\"}, \"bgcolor\": \"#E5ECF6\", \"radialaxis\": {\"gridcolor\": \"white\", \"linecolor\": \"white\", \"ticks\": \"\"}}, \"scene\": {\"xaxis\": {\"backgroundcolor\": \"#E5ECF6\", \"gridcolor\": \"white\", \"gridwidth\": 2, \"linecolor\": \"white\", \"showbackground\": true, \"ticks\": \"\", \"zerolinecolor\": \"white\"}, \"yaxis\": {\"backgroundcolor\": \"#E5ECF6\", \"gridcolor\": \"white\", \"gridwidth\": 2, \"linecolor\": \"white\", \"showbackground\": true, \"ticks\": \"\", \"zerolinecolor\": \"white\"}, \"zaxis\": {\"backgroundcolor\": \"#E5ECF6\", \"gridcolor\": \"white\", \"gridwidth\": 2, \"linecolor\": \"white\", \"showbackground\": true, \"ticks\": \"\", \"zerolinecolor\": \"white\"}}, \"shapedefaults\": {\"line\": {\"color\": \"#2a3f5f\"}}, \"ternary\": {\"aaxis\": {\"gridcolor\": \"white\", \"linecolor\": \"white\", \"ticks\": \"\"}, \"baxis\": {\"gridcolor\": \"white\", \"linecolor\": \"white\", \"ticks\": \"\"}, \"bgcolor\": \"#E5ECF6\", \"caxis\": {\"gridcolor\": \"white\", \"linecolor\": \"white\", \"ticks\": \"\"}}, \"title\": {\"x\": 0.05}, \"xaxis\": {\"automargin\": true, \"gridcolor\": \"white\", \"linecolor\": \"white\", \"ticks\": \"\", \"title\": {\"standoff\": 15}, \"zerolinecolor\": \"white\", \"zerolinewidth\": 2}, \"yaxis\": {\"automargin\": true, \"gridcolor\": \"white\", \"linecolor\": \"white\", \"ticks\": \"\", \"title\": {\"standoff\": 15}, \"zerolinecolor\": \"white\", \"zerolinewidth\": 2}}}, \"title\": {\"text\": \"Lab vs WV\"}, \"xaxis\": {\"title\": {\"text\": \"water value [cm]\"}}, \"yaxis\": {\"title\": {\"text\": \"Lab\"}}},\n",
       "                        {\"responsive\": true}\n",
       "                    ).then(function(){\n",
       "                            \n",
       "var gd = document.getElementById('19e7f8a6-33b8-47ce-9807-9dc77b507bf4');\n",
       "var x = new MutationObserver(function (mutations, observer) {{\n",
       "        var display = window.getComputedStyle(gd).display;\n",
       "        if (!display || display === 'none') {{\n",
       "            console.log([gd, 'removed!']);\n",
       "            Plotly.purge(gd);\n",
       "            observer.disconnect();\n",
       "        }}\n",
       "}});\n",
       "\n",
       "// Listen for the removal of the full notebook cells\n",
       "var notebookContainer = gd.closest('#notebook-container');\n",
       "if (notebookContainer) {{\n",
       "    x.observe(notebookContainer, {childList: true});\n",
       "}}\n",
       "\n",
       "// Listen for the clearing of the current output cell\n",
       "var outputEl = gd.closest('.output');\n",
       "if (outputEl) {{\n",
       "    x.observe(outputEl, {childList: true});\n",
       "}}\n",
       "\n",
       "                        })\n",
       "                };\n",
       "                });\n",
       "            </script>\n",
       "        </div>"
      ]
     },
     "metadata": {},
     "output_type": "display_data"
    }
   ],
   "source": [
    "# Beroenden av vattenvärdet PatientEquivalentThickness\n",
    "\n",
    "#Konvertera L3 vattenvärden med faktor 10\n",
    "#j=0\n",
    "#for j in range(len(data_vv)):\n",
    "#    if data_vv['DisplayName'][j] == 'L3':\n",
    "#        data_vv['PatientEquivalentThickness'][j] = data_vv['PatientEquivalentThickness'][j]/10\n",
    "\n",
    "#Droppa L3 pga faktor 10 fel på vv\n",
    "#data_vv = data_vv[data_vv['DisplayName'] != 'L3']\n",
    "\n",
    "fig = go.Figure()\n",
    "\n",
    "i=0\n",
    "for i in range(len(unikprot_vv)):\n",
    "    fig.add_trace(\n",
    "        go.Scatter(x=data_vv[data_vv['AcquisitionProtocol']==unikprot_vv[i]].PatientEquivalentThickness,\n",
    "                   y=data_vv[data_vv['AcquisitionProtocol']==unikprot_vv[i]].DisplayName, #DoseRP,\n",
    "                   mode='markers',\n",
    "                   name=unikprot_vv[i])\n",
    "    )\n",
    "\n",
    "\n",
    "fig.update_layout(title='Lab vs WV',\n",
    "                  yaxis_title='Lab', xaxis_title='water value [cm]'\n",
    ")\n",
    "\n",
    "#fig.update_xaxes(title_text='Event', row=1, col=1)    \n",
    "#fig.update_xaxes(title_text='Event', row=1, col=2)\n",
    "#fig.update_xaxes(title_text='Event', row=1, col=3)\n",
    "\n",
    "#tot_fl = len(data_vv[data_vv['AcquisitionProtocol']=='FL Norm Esofagus Bari'])\n",
    "#tot_exp = len(data_vv[data_vv['AcquisitionProtocol']=='Esofagus Barium'])\n",
    "\n",
    "#print(f'Totalt {tot_fl} genomlysningsevents och {tot_exp} exponeringsevents')\n",
    "\n",
    "fig.show()\n"
   ]
  },
  {
   "cell_type": "code",
   "execution_count": 16,
   "metadata": {},
   "outputs": [
    {
     "data": {
      "application/vnd.plotly.v1+json": {
       "config": {
        "plotlyServerURL": "https://plot.ly"
       },
       "data": [
        {
         "line": {
          "color": "#FECB52"
         },
         "mode": "markers",
         "name": "PatientThickness",
         "type": "scatter",
         "x": [
          "2020-02-20T12:56:39",
          "2020-02-20T12:47:02",
          "2020-02-20T12:52:12",
          "2020-02-20T12:46:13",
          "2020-02-20T12:49:33",
          "2020-02-20T12:44:11",
          "2020-02-20T12:44:41",
          "2020-02-20T12:59:02",
          "2020-02-20T12:50:47",
          "2020-02-20T12:53:41",
          "2020-02-20T12:43:33",
          "2020-02-20T12:48:33"
         ],
         "xaxis": "x",
         "y": [
          9.6,
          17.14,
          26.43,
          22.27,
          23.14,
          9.23,
          9.59,
          19.29,
          22.29,
          15.14,
          9.52,
          15.7
         ],
         "yaxis": "y"
        },
        {
         "line": {
          "color": "#636EFA"
         },
         "mode": "markers",
         "name": "kVp",
         "type": "scatter",
         "x": [
          "2020-02-20T12:56:39",
          "2020-02-20T12:47:02",
          "2020-02-20T12:52:12",
          "2020-02-20T12:46:13",
          "2020-02-20T12:49:33",
          "2020-02-20T12:44:11",
          "2020-02-20T12:44:41",
          "2020-02-20T12:59:02",
          "2020-02-20T12:50:47",
          "2020-02-20T12:53:41",
          "2020-02-20T12:43:33",
          "2020-02-20T12:48:33"
         ],
         "xaxis": "x",
         "y": [
          74.6,
          74.6,
          74.6,
          74.6,
          74.6,
          74.6,
          74.6,
          74.6,
          74.6,
          74.6,
          74.6,
          74.6
         ],
         "yaxis": "y"
        },
        {
         "line": {
          "color": "#FECB52"
         },
         "mode": "markers",
         "name": "PatientThickness",
         "type": "scatter",
         "x": [
          "2020-02-20T12:09:31",
          "2020-02-20T12:06:02",
          "2020-02-20T12:06:26",
          "2020-02-20T12:08:16",
          "2020-02-20T12:03:31",
          "2020-02-20T12:03:57",
          "2020-02-20T12:02:47"
         ],
         "xaxis": "x2",
         "y": [
          21.78,
          15.12,
          14.52,
          14.95,
          10.43,
          10.2,
          9.34
         ],
         "yaxis": "y3"
        },
        {
         "line": {
          "color": "#636EFA"
         },
         "mode": "markers",
         "name": "kVp",
         "type": "scatter",
         "x": [
          "2020-02-20T12:09:31",
          "2020-02-20T12:06:02",
          "2020-02-20T12:06:26",
          "2020-02-20T12:08:16",
          "2020-02-20T12:03:31",
          "2020-02-20T12:03:57",
          "2020-02-20T12:02:47"
         ],
         "xaxis": "x2",
         "y": [
          74.6,
          74.6,
          74.6,
          74.6,
          74.6,
          74.6,
          74.6
         ],
         "yaxis": "y3"
        },
        {
         "line": {
          "color": "#FECB52"
         },
         "mode": "markers",
         "name": "PatientThickness",
         "type": "scatter",
         "x": [
          "2020-02-20T07:12:25",
          "2020-02-20T07:12:07",
          "2020-02-20T07:10:04",
          "2020-02-20T07:11:19"
         ],
         "xaxis": "x3",
         "y": [
          28.33,
          30.23,
          9.61,
          29.36
         ],
         "yaxis": "y5"
        },
        {
         "line": {
          "color": "#636EFA"
         },
         "mode": "markers",
         "name": "kVp",
         "type": "scatter",
         "x": [
          "2020-02-20T07:12:25",
          "2020-02-20T07:12:07",
          "2020-02-20T07:10:04",
          "2020-02-20T07:11:19"
         ],
         "xaxis": "x3",
         "y": [
          96,
          71.8,
          65,
          71.9
         ],
         "yaxis": "y5"
        },
        {
         "line": {
          "color": "#FECB52"
         },
         "mode": "markers",
         "name": "PatientThickness",
         "type": "scatter",
         "x": [
          "2020-02-19T10:26:38",
          "2020-02-19T10:38:07",
          "2020-02-19T10:38:30",
          "2020-02-19T10:14:30",
          "2020-02-19T10:15:04",
          "2020-02-19T10:28:08",
          "2020-02-19T10:30:20",
          "2020-02-19T10:39:01",
          "2020-02-19T10:23:46",
          "2020-02-19T10:09:45",
          "2020-02-19T10:20:28",
          "2020-02-19T10:25:17",
          "2020-02-19T10:22:12",
          "2020-02-19T10:11:17",
          "2020-02-19T10:12:32",
          "2020-02-19T10:21:53"
         ],
         "xaxis": "x4",
         "y": [
          34.93,
          26.64,
          27.16,
          22.15,
          22.23,
          27.95,
          23.38,
          28.19,
          32.13,
          10.68,
          21.49,
          32.43,
          25.32,
          13.43,
          13.29,
          25.09
         ],
         "yaxis": "y7"
        },
        {
         "line": {
          "color": "#636EFA"
         },
         "mode": "markers",
         "name": "kVp",
         "type": "scatter",
         "x": [
          "2020-02-19T10:26:38",
          "2020-02-19T10:38:07",
          "2020-02-19T10:38:30",
          "2020-02-19T10:14:30",
          "2020-02-19T10:15:04",
          "2020-02-19T10:28:08",
          "2020-02-19T10:30:20",
          "2020-02-19T10:39:01",
          "2020-02-19T10:23:46",
          "2020-02-19T10:09:45",
          "2020-02-19T10:20:28",
          "2020-02-19T10:25:17",
          "2020-02-19T10:22:12",
          "2020-02-19T10:11:17",
          "2020-02-19T10:12:32",
          "2020-02-19T10:21:53"
         ],
         "xaxis": "x4",
         "y": [
          110.3,
          74.6,
          74.6,
          74.6,
          74.6,
          92.1,
          74.6,
          75.3,
          102,
          81.1,
          74.6,
          102,
          81.3,
          74.6,
          74.6,
          89
         ],
         "yaxis": "y7"
        },
        {
         "line": {
          "color": "#FECB52"
         },
         "mode": "markers",
         "name": "PatientThickness",
         "type": "scatter",
         "x": [
          "2020-02-18T10:06:07",
          "2020-02-18T10:07:15",
          "2020-02-18T10:09:48",
          "2020-02-18T10:02:37",
          "2020-02-18T10:05:56",
          "2020-02-18T10:08:31",
          "2020-02-18T10:12:36",
          "2020-02-18T10:04:41"
         ],
         "xaxis": "x5",
         "y": [
          26.58,
          27,
          18.32,
          17.32,
          27,
          28.65,
          22.94,
          18.71
         ],
         "yaxis": "y9"
        },
        {
         "line": {
          "color": "#636EFA"
         },
         "mode": "markers",
         "name": "kVp",
         "type": "scatter",
         "x": [
          "2020-02-18T10:06:07",
          "2020-02-18T10:07:15",
          "2020-02-18T10:09:48",
          "2020-02-18T10:02:37",
          "2020-02-18T10:05:56",
          "2020-02-18T10:08:31",
          "2020-02-18T10:12:36",
          "2020-02-18T10:04:41"
         ],
         "xaxis": "x5",
         "y": [
          92.1,
          96,
          89,
          74.6,
          96,
          96.4,
          74.6,
          89
         ],
         "yaxis": "y9"
        },
        {
         "line": {
          "color": "#FECB52"
         },
         "mode": "markers",
         "name": "PatientThickness",
         "type": "scatter",
         "x": [
          "2020-02-18T09:17:45",
          "2020-02-18T09:17:18",
          "2020-02-18T09:18:56",
          "2020-02-18T09:23:40",
          "2020-02-18T09:12:55",
          "2020-02-18T09:13:13",
          "2020-02-18T09:19:53",
          "2020-02-18T09:20:11",
          "2020-02-18T09:22:34",
          "2020-02-18T09:11:40",
          "2020-02-18T09:14:33",
          "2020-02-18T09:22:17",
          "2020-02-18T09:10:36",
          "2020-02-18T09:11:13",
          "2020-02-18T09:15:43"
         ],
         "xaxis": "x6",
         "y": [
          17.44,
          17.63,
          25.65,
          17.28,
          15.85,
          16,
          25.63,
          25.72,
          26.41,
          11.89,
          15.19,
          26.36,
          9.21,
          10.74,
          15.98
         ],
         "yaxis": "y11"
        },
        {
         "line": {
          "color": "#636EFA"
         },
         "mode": "markers",
         "name": "kVp",
         "type": "scatter",
         "x": [
          "2020-02-18T09:17:45",
          "2020-02-18T09:17:18",
          "2020-02-18T09:18:56",
          "2020-02-18T09:23:40",
          "2020-02-18T09:12:55",
          "2020-02-18T09:13:13",
          "2020-02-18T09:19:53",
          "2020-02-18T09:20:11",
          "2020-02-18T09:22:34",
          "2020-02-18T09:11:40",
          "2020-02-18T09:14:33",
          "2020-02-18T09:22:17",
          "2020-02-18T09:10:36",
          "2020-02-18T09:11:13",
          "2020-02-18T09:15:43"
         ],
         "xaxis": "x6",
         "y": [
          89,
          89,
          89,
          89,
          74.6,
          74.6,
          89,
          74.6,
          74.6,
          74.6,
          74.6,
          89,
          74.6,
          74.6,
          74.6
         ],
         "yaxis": "y11"
        }
       ],
       "layout": {
        "annotations": [
         {
          "font": {
           "size": 16
          },
          "showarrow": false,
          "text": "Patient 1",
          "x": 0.12333333333333334,
          "xanchor": "center",
          "xref": "paper",
          "y": 1,
          "yanchor": "bottom",
          "yref": "paper"
         },
         {
          "font": {
           "size": 16
          },
          "showarrow": false,
          "text": "Patient 2",
          "x": 0.47000000000000003,
          "xanchor": "center",
          "xref": "paper",
          "y": 1,
          "yanchor": "bottom",
          "yref": "paper"
         },
         {
          "font": {
           "size": 16
          },
          "showarrow": false,
          "text": "Patient 3",
          "x": 0.8166666666666667,
          "xanchor": "center",
          "xref": "paper",
          "y": 1,
          "yanchor": "bottom",
          "yref": "paper"
         },
         {
          "font": {
           "size": 16
          },
          "showarrow": false,
          "text": "Patient 4",
          "x": 0.12333333333333334,
          "xanchor": "center",
          "xref": "paper",
          "y": 0.45,
          "yanchor": "bottom",
          "yref": "paper"
         },
         {
          "font": {
           "size": 16
          },
          "showarrow": false,
          "text": "Patient 5",
          "x": 0.47000000000000003,
          "xanchor": "center",
          "xref": "paper",
          "y": 0.45,
          "yanchor": "bottom",
          "yref": "paper"
         },
         {
          "font": {
           "size": 16
          },
          "showarrow": false,
          "text": "Patient 6",
          "x": 0.8166666666666667,
          "xanchor": "center",
          "xref": "paper",
          "y": 0.45,
          "yanchor": "bottom",
          "yref": "paper"
         },
         {
          "font": {
           "size": 16
          },
          "showarrow": false,
          "text": "Irradiation Events",
          "x": 0.47,
          "xanchor": "center",
          "xref": "paper",
          "y": 0,
          "yanchor": "top",
          "yref": "paper",
          "yshift": -30
         },
         {
          "font": {
           "size": 16
          },
          "showarrow": false,
          "text": "Patient Thickness",
          "textangle": -90,
          "x": 0,
          "xanchor": "right",
          "xref": "paper",
          "xshift": -40,
          "y": 0.5,
          "yanchor": "middle",
          "yref": "paper"
         }
        ],
        "legend": {
         "traceorder": "reversed"
        },
        "template": {
         "data": {
          "bar": [
           {
            "error_x": {
             "color": "#2a3f5f"
            },
            "error_y": {
             "color": "#2a3f5f"
            },
            "marker": {
             "line": {
              "color": "#E5ECF6",
              "width": 0.5
             }
            },
            "type": "bar"
           }
          ],
          "barpolar": [
           {
            "marker": {
             "line": {
              "color": "#E5ECF6",
              "width": 0.5
             }
            },
            "type": "barpolar"
           }
          ],
          "carpet": [
           {
            "aaxis": {
             "endlinecolor": "#2a3f5f",
             "gridcolor": "white",
             "linecolor": "white",
             "minorgridcolor": "white",
             "startlinecolor": "#2a3f5f"
            },
            "baxis": {
             "endlinecolor": "#2a3f5f",
             "gridcolor": "white",
             "linecolor": "white",
             "minorgridcolor": "white",
             "startlinecolor": "#2a3f5f"
            },
            "type": "carpet"
           }
          ],
          "choropleth": [
           {
            "colorbar": {
             "outlinewidth": 0,
             "ticks": ""
            },
            "type": "choropleth"
           }
          ],
          "contour": [
           {
            "colorbar": {
             "outlinewidth": 0,
             "ticks": ""
            },
            "colorscale": [
             [
              0,
              "#0d0887"
             ],
             [
              0.1111111111111111,
              "#46039f"
             ],
             [
              0.2222222222222222,
              "#7201a8"
             ],
             [
              0.3333333333333333,
              "#9c179e"
             ],
             [
              0.4444444444444444,
              "#bd3786"
             ],
             [
              0.5555555555555556,
              "#d8576b"
             ],
             [
              0.6666666666666666,
              "#ed7953"
             ],
             [
              0.7777777777777778,
              "#fb9f3a"
             ],
             [
              0.8888888888888888,
              "#fdca26"
             ],
             [
              1,
              "#f0f921"
             ]
            ],
            "type": "contour"
           }
          ],
          "contourcarpet": [
           {
            "colorbar": {
             "outlinewidth": 0,
             "ticks": ""
            },
            "type": "contourcarpet"
           }
          ],
          "heatmap": [
           {
            "colorbar": {
             "outlinewidth": 0,
             "ticks": ""
            },
            "colorscale": [
             [
              0,
              "#0d0887"
             ],
             [
              0.1111111111111111,
              "#46039f"
             ],
             [
              0.2222222222222222,
              "#7201a8"
             ],
             [
              0.3333333333333333,
              "#9c179e"
             ],
             [
              0.4444444444444444,
              "#bd3786"
             ],
             [
              0.5555555555555556,
              "#d8576b"
             ],
             [
              0.6666666666666666,
              "#ed7953"
             ],
             [
              0.7777777777777778,
              "#fb9f3a"
             ],
             [
              0.8888888888888888,
              "#fdca26"
             ],
             [
              1,
              "#f0f921"
             ]
            ],
            "type": "heatmap"
           }
          ],
          "heatmapgl": [
           {
            "colorbar": {
             "outlinewidth": 0,
             "ticks": ""
            },
            "colorscale": [
             [
              0,
              "#0d0887"
             ],
             [
              0.1111111111111111,
              "#46039f"
             ],
             [
              0.2222222222222222,
              "#7201a8"
             ],
             [
              0.3333333333333333,
              "#9c179e"
             ],
             [
              0.4444444444444444,
              "#bd3786"
             ],
             [
              0.5555555555555556,
              "#d8576b"
             ],
             [
              0.6666666666666666,
              "#ed7953"
             ],
             [
              0.7777777777777778,
              "#fb9f3a"
             ],
             [
              0.8888888888888888,
              "#fdca26"
             ],
             [
              1,
              "#f0f921"
             ]
            ],
            "type": "heatmapgl"
           }
          ],
          "histogram": [
           {
            "marker": {
             "colorbar": {
              "outlinewidth": 0,
              "ticks": ""
             }
            },
            "type": "histogram"
           }
          ],
          "histogram2d": [
           {
            "colorbar": {
             "outlinewidth": 0,
             "ticks": ""
            },
            "colorscale": [
             [
              0,
              "#0d0887"
             ],
             [
              0.1111111111111111,
              "#46039f"
             ],
             [
              0.2222222222222222,
              "#7201a8"
             ],
             [
              0.3333333333333333,
              "#9c179e"
             ],
             [
              0.4444444444444444,
              "#bd3786"
             ],
             [
              0.5555555555555556,
              "#d8576b"
             ],
             [
              0.6666666666666666,
              "#ed7953"
             ],
             [
              0.7777777777777778,
              "#fb9f3a"
             ],
             [
              0.8888888888888888,
              "#fdca26"
             ],
             [
              1,
              "#f0f921"
             ]
            ],
            "type": "histogram2d"
           }
          ],
          "histogram2dcontour": [
           {
            "colorbar": {
             "outlinewidth": 0,
             "ticks": ""
            },
            "colorscale": [
             [
              0,
              "#0d0887"
             ],
             [
              0.1111111111111111,
              "#46039f"
             ],
             [
              0.2222222222222222,
              "#7201a8"
             ],
             [
              0.3333333333333333,
              "#9c179e"
             ],
             [
              0.4444444444444444,
              "#bd3786"
             ],
             [
              0.5555555555555556,
              "#d8576b"
             ],
             [
              0.6666666666666666,
              "#ed7953"
             ],
             [
              0.7777777777777778,
              "#fb9f3a"
             ],
             [
              0.8888888888888888,
              "#fdca26"
             ],
             [
              1,
              "#f0f921"
             ]
            ],
            "type": "histogram2dcontour"
           }
          ],
          "mesh3d": [
           {
            "colorbar": {
             "outlinewidth": 0,
             "ticks": ""
            },
            "type": "mesh3d"
           }
          ],
          "parcoords": [
           {
            "line": {
             "colorbar": {
              "outlinewidth": 0,
              "ticks": ""
             }
            },
            "type": "parcoords"
           }
          ],
          "pie": [
           {
            "automargin": true,
            "type": "pie"
           }
          ],
          "scatter": [
           {
            "marker": {
             "colorbar": {
              "outlinewidth": 0,
              "ticks": ""
             }
            },
            "type": "scatter"
           }
          ],
          "scatter3d": [
           {
            "line": {
             "colorbar": {
              "outlinewidth": 0,
              "ticks": ""
             }
            },
            "marker": {
             "colorbar": {
              "outlinewidth": 0,
              "ticks": ""
             }
            },
            "type": "scatter3d"
           }
          ],
          "scattercarpet": [
           {
            "marker": {
             "colorbar": {
              "outlinewidth": 0,
              "ticks": ""
             }
            },
            "type": "scattercarpet"
           }
          ],
          "scattergeo": [
           {
            "marker": {
             "colorbar": {
              "outlinewidth": 0,
              "ticks": ""
             }
            },
            "type": "scattergeo"
           }
          ],
          "scattergl": [
           {
            "marker": {
             "colorbar": {
              "outlinewidth": 0,
              "ticks": ""
             }
            },
            "type": "scattergl"
           }
          ],
          "scattermapbox": [
           {
            "marker": {
             "colorbar": {
              "outlinewidth": 0,
              "ticks": ""
             }
            },
            "type": "scattermapbox"
           }
          ],
          "scatterpolar": [
           {
            "marker": {
             "colorbar": {
              "outlinewidth": 0,
              "ticks": ""
             }
            },
            "type": "scatterpolar"
           }
          ],
          "scatterpolargl": [
           {
            "marker": {
             "colorbar": {
              "outlinewidth": 0,
              "ticks": ""
             }
            },
            "type": "scatterpolargl"
           }
          ],
          "scatterternary": [
           {
            "marker": {
             "colorbar": {
              "outlinewidth": 0,
              "ticks": ""
             }
            },
            "type": "scatterternary"
           }
          ],
          "surface": [
           {
            "colorbar": {
             "outlinewidth": 0,
             "ticks": ""
            },
            "colorscale": [
             [
              0,
              "#0d0887"
             ],
             [
              0.1111111111111111,
              "#46039f"
             ],
             [
              0.2222222222222222,
              "#7201a8"
             ],
             [
              0.3333333333333333,
              "#9c179e"
             ],
             [
              0.4444444444444444,
              "#bd3786"
             ],
             [
              0.5555555555555556,
              "#d8576b"
             ],
             [
              0.6666666666666666,
              "#ed7953"
             ],
             [
              0.7777777777777778,
              "#fb9f3a"
             ],
             [
              0.8888888888888888,
              "#fdca26"
             ],
             [
              1,
              "#f0f921"
             ]
            ],
            "type": "surface"
           }
          ],
          "table": [
           {
            "cells": {
             "fill": {
              "color": "#EBF0F8"
             },
             "line": {
              "color": "white"
             }
            },
            "header": {
             "fill": {
              "color": "#C8D4E3"
             },
             "line": {
              "color": "white"
             }
            },
            "type": "table"
           }
          ]
         },
         "layout": {
          "annotationdefaults": {
           "arrowcolor": "#2a3f5f",
           "arrowhead": 0,
           "arrowwidth": 1
          },
          "coloraxis": {
           "colorbar": {
            "outlinewidth": 0,
            "ticks": ""
           }
          },
          "colorscale": {
           "diverging": [
            [
             0,
             "#8e0152"
            ],
            [
             0.1,
             "#c51b7d"
            ],
            [
             0.2,
             "#de77ae"
            ],
            [
             0.3,
             "#f1b6da"
            ],
            [
             0.4,
             "#fde0ef"
            ],
            [
             0.5,
             "#f7f7f7"
            ],
            [
             0.6,
             "#e6f5d0"
            ],
            [
             0.7,
             "#b8e186"
            ],
            [
             0.8,
             "#7fbc41"
            ],
            [
             0.9,
             "#4d9221"
            ],
            [
             1,
             "#276419"
            ]
           ],
           "sequential": [
            [
             0,
             "#0d0887"
            ],
            [
             0.1111111111111111,
             "#46039f"
            ],
            [
             0.2222222222222222,
             "#7201a8"
            ],
            [
             0.3333333333333333,
             "#9c179e"
            ],
            [
             0.4444444444444444,
             "#bd3786"
            ],
            [
             0.5555555555555556,
             "#d8576b"
            ],
            [
             0.6666666666666666,
             "#ed7953"
            ],
            [
             0.7777777777777778,
             "#fb9f3a"
            ],
            [
             0.8888888888888888,
             "#fdca26"
            ],
            [
             1,
             "#f0f921"
            ]
           ],
           "sequentialminus": [
            [
             0,
             "#0d0887"
            ],
            [
             0.1111111111111111,
             "#46039f"
            ],
            [
             0.2222222222222222,
             "#7201a8"
            ],
            [
             0.3333333333333333,
             "#9c179e"
            ],
            [
             0.4444444444444444,
             "#bd3786"
            ],
            [
             0.5555555555555556,
             "#d8576b"
            ],
            [
             0.6666666666666666,
             "#ed7953"
            ],
            [
             0.7777777777777778,
             "#fb9f3a"
            ],
            [
             0.8888888888888888,
             "#fdca26"
            ],
            [
             1,
             "#f0f921"
            ]
           ]
          },
          "colorway": [
           "#636efa",
           "#EF553B",
           "#00cc96",
           "#ab63fa",
           "#FFA15A",
           "#19d3f3",
           "#FF6692",
           "#B6E880",
           "#FF97FF",
           "#FECB52"
          ],
          "font": {
           "color": "#2a3f5f"
          },
          "geo": {
           "bgcolor": "white",
           "lakecolor": "white",
           "landcolor": "#E5ECF6",
           "showlakes": true,
           "showland": true,
           "subunitcolor": "white"
          },
          "hoverlabel": {
           "align": "left"
          },
          "hovermode": "closest",
          "mapbox": {
           "style": "light"
          },
          "paper_bgcolor": "white",
          "plot_bgcolor": "#E5ECF6",
          "polar": {
           "angularaxis": {
            "gridcolor": "white",
            "linecolor": "white",
            "ticks": ""
           },
           "bgcolor": "#E5ECF6",
           "radialaxis": {
            "gridcolor": "white",
            "linecolor": "white",
            "ticks": ""
           }
          },
          "scene": {
           "xaxis": {
            "backgroundcolor": "#E5ECF6",
            "gridcolor": "white",
            "gridwidth": 2,
            "linecolor": "white",
            "showbackground": true,
            "ticks": "",
            "zerolinecolor": "white"
           },
           "yaxis": {
            "backgroundcolor": "#E5ECF6",
            "gridcolor": "white",
            "gridwidth": 2,
            "linecolor": "white",
            "showbackground": true,
            "ticks": "",
            "zerolinecolor": "white"
           },
           "zaxis": {
            "backgroundcolor": "#E5ECF6",
            "gridcolor": "white",
            "gridwidth": 2,
            "linecolor": "white",
            "showbackground": true,
            "ticks": "",
            "zerolinecolor": "white"
           }
          },
          "shapedefaults": {
           "line": {
            "color": "#2a3f5f"
           }
          },
          "ternary": {
           "aaxis": {
            "gridcolor": "white",
            "linecolor": "white",
            "ticks": ""
           },
           "baxis": {
            "gridcolor": "white",
            "linecolor": "white",
            "ticks": ""
           },
           "bgcolor": "#E5ECF6",
           "caxis": {
            "gridcolor": "white",
            "linecolor": "white",
            "ticks": ""
           }
          },
          "title": {
           "x": 0.05
          },
          "xaxis": {
           "automargin": true,
           "gridcolor": "white",
           "linecolor": "white",
           "ticks": "",
           "title": {
            "standoff": 15
           },
           "zerolinecolor": "white",
           "zerolinewidth": 2
          },
          "yaxis": {
           "automargin": true,
           "gridcolor": "white",
           "linecolor": "white",
           "ticks": "",
           "title": {
            "standoff": 15
           },
           "zerolinecolor": "white",
           "zerolinewidth": 2
          }
         }
        },
        "title": {
         "text": "WV vs Event"
        },
        "xaxis": {
         "anchor": "y",
         "domain": [
          0,
          0.24666666666666667
         ],
         "nticks": 10,
         "showticklabels": false
        },
        "xaxis2": {
         "anchor": "y3",
         "domain": [
          0.3466666666666667,
          0.5933333333333334
         ],
         "nticks": 10,
         "showticklabels": false
        },
        "xaxis3": {
         "anchor": "y5",
         "domain": [
          0.6933333333333334,
          0.9400000000000001
         ],
         "nticks": 10,
         "showticklabels": false
        },
        "xaxis4": {
         "anchor": "y7",
         "domain": [
          0,
          0.24666666666666667
         ],
         "nticks": 10,
         "showticklabels": false
        },
        "xaxis5": {
         "anchor": "y9",
         "domain": [
          0.3466666666666667,
          0.5933333333333334
         ],
         "nticks": 10,
         "showticklabels": false
        },
        "xaxis6": {
         "anchor": "y11",
         "domain": [
          0.6933333333333334,
          0.9400000000000001
         ],
         "nticks": 10,
         "showticklabels": false
        },
        "yaxis": {
         "anchor": "x",
         "domain": [
          0.55,
          1
         ],
         "dtick": 20,
         "nticks": 20,
         "range": [
          0,
          120
         ]
        },
        "yaxis10": {
         "anchor": "x5",
         "dtick": 20,
         "nticks": 20,
         "overlaying": "y9",
         "range": [
          0,
          120
         ],
         "side": "right"
        },
        "yaxis11": {
         "anchor": "x6",
         "domain": [
          0,
          0.45
         ],
         "dtick": 20,
         "nticks": 20,
         "range": [
          0,
          120
         ]
        },
        "yaxis12": {
         "anchor": "x6",
         "dtick": 20,
         "nticks": 20,
         "overlaying": "y11",
         "range": [
          0,
          120
         ],
         "side": "right"
        },
        "yaxis2": {
         "anchor": "x",
         "dtick": 20,
         "nticks": 20,
         "overlaying": "y",
         "range": [
          0,
          120
         ],
         "side": "right"
        },
        "yaxis3": {
         "anchor": "x2",
         "domain": [
          0.55,
          1
         ],
         "dtick": 20,
         "nticks": 20,
         "range": [
          0,
          120
         ]
        },
        "yaxis4": {
         "anchor": "x2",
         "dtick": 20,
         "nticks": 20,
         "overlaying": "y3",
         "range": [
          0,
          120
         ],
         "side": "right"
        },
        "yaxis5": {
         "anchor": "x3",
         "domain": [
          0.55,
          1
         ],
         "dtick": 20,
         "nticks": 20,
         "range": [
          0,
          120
         ]
        },
        "yaxis6": {
         "anchor": "x3",
         "dtick": 20,
         "nticks": 20,
         "overlaying": "y5",
         "range": [
          0,
          120
         ],
         "side": "right"
        },
        "yaxis7": {
         "anchor": "x4",
         "domain": [
          0,
          0.45
         ],
         "dtick": 20,
         "nticks": 20,
         "range": [
          0,
          120
         ]
        },
        "yaxis8": {
         "anchor": "x4",
         "dtick": 20,
         "nticks": 20,
         "overlaying": "y7",
         "range": [
          0,
          120
         ],
         "side": "right"
        },
        "yaxis9": {
         "anchor": "x5",
         "domain": [
          0,
          0.45
         ],
         "dtick": 20,
         "nticks": 20,
         "range": [
          0,
          120
         ]
        }
       }
      },
      "text/html": [
       "<div>\n",
       "        \n",
       "        \n",
       "            <div id=\"11856d17-ca5e-45f9-a777-f4e1bec0723f\" class=\"plotly-graph-div\" style=\"height:525px; width:100%;\"></div>\n",
       "            <script type=\"text/javascript\">\n",
       "                require([\"plotly\"], function(Plotly) {\n",
       "                    window.PLOTLYENV=window.PLOTLYENV || {};\n",
       "                    \n",
       "                if (document.getElementById(\"11856d17-ca5e-45f9-a777-f4e1bec0723f\")) {\n",
       "                    Plotly.newPlot(\n",
       "                        '11856d17-ca5e-45f9-a777-f4e1bec0723f',\n",
       "                        [{\"line\": {\"color\": \"#FECB52\"}, \"mode\": \"markers\", \"name\": \"PatientThickness\", \"type\": \"scatter\", \"x\": [\"2020-02-20T12:56:39\", \"2020-02-20T12:47:02\", \"2020-02-20T12:52:12\", \"2020-02-20T12:46:13\", \"2020-02-20T12:49:33\", \"2020-02-20T12:44:11\", \"2020-02-20T12:44:41\", \"2020-02-20T12:59:02\", \"2020-02-20T12:50:47\", \"2020-02-20T12:53:41\", \"2020-02-20T12:43:33\", \"2020-02-20T12:48:33\"], \"xaxis\": \"x\", \"y\": [9.6, 17.14, 26.43, 22.27, 23.14, 9.23, 9.59, 19.29, 22.29, 15.14, 9.52, 15.7], \"yaxis\": \"y\"}, {\"line\": {\"color\": \"#636EFA\"}, \"mode\": \"markers\", \"name\": \"kVp\", \"type\": \"scatter\", \"x\": [\"2020-02-20T12:56:39\", \"2020-02-20T12:47:02\", \"2020-02-20T12:52:12\", \"2020-02-20T12:46:13\", \"2020-02-20T12:49:33\", \"2020-02-20T12:44:11\", \"2020-02-20T12:44:41\", \"2020-02-20T12:59:02\", \"2020-02-20T12:50:47\", \"2020-02-20T12:53:41\", \"2020-02-20T12:43:33\", \"2020-02-20T12:48:33\"], \"xaxis\": \"x\", \"y\": [74.6, 74.6, 74.6, 74.6, 74.6, 74.6, 74.6, 74.6, 74.6, 74.6, 74.6, 74.6], \"yaxis\": \"y\"}, {\"line\": {\"color\": \"#FECB52\"}, \"mode\": \"markers\", \"name\": \"PatientThickness\", \"type\": \"scatter\", \"x\": [\"2020-02-20T12:09:31\", \"2020-02-20T12:06:02\", \"2020-02-20T12:06:26\", \"2020-02-20T12:08:16\", \"2020-02-20T12:03:31\", \"2020-02-20T12:03:57\", \"2020-02-20T12:02:47\"], \"xaxis\": \"x2\", \"y\": [21.78, 15.12, 14.52, 14.95, 10.43, 10.2, 9.34], \"yaxis\": \"y3\"}, {\"line\": {\"color\": \"#636EFA\"}, \"mode\": \"markers\", \"name\": \"kVp\", \"type\": \"scatter\", \"x\": [\"2020-02-20T12:09:31\", \"2020-02-20T12:06:02\", \"2020-02-20T12:06:26\", \"2020-02-20T12:08:16\", \"2020-02-20T12:03:31\", \"2020-02-20T12:03:57\", \"2020-02-20T12:02:47\"], \"xaxis\": \"x2\", \"y\": [74.6, 74.6, 74.6, 74.6, 74.6, 74.6, 74.6], \"yaxis\": \"y3\"}, {\"line\": {\"color\": \"#FECB52\"}, \"mode\": \"markers\", \"name\": \"PatientThickness\", \"type\": \"scatter\", \"x\": [\"2020-02-20T07:12:25\", \"2020-02-20T07:12:07\", \"2020-02-20T07:10:04\", \"2020-02-20T07:11:19\"], \"xaxis\": \"x3\", \"y\": [28.33, 30.23, 9.61, 29.36], \"yaxis\": \"y5\"}, {\"line\": {\"color\": \"#636EFA\"}, \"mode\": \"markers\", \"name\": \"kVp\", \"type\": \"scatter\", \"x\": [\"2020-02-20T07:12:25\", \"2020-02-20T07:12:07\", \"2020-02-20T07:10:04\", \"2020-02-20T07:11:19\"], \"xaxis\": \"x3\", \"y\": [96.0, 71.8, 65.0, 71.9], \"yaxis\": \"y5\"}, {\"line\": {\"color\": \"#FECB52\"}, \"mode\": \"markers\", \"name\": \"PatientThickness\", \"type\": \"scatter\", \"x\": [\"2020-02-19T10:26:38\", \"2020-02-19T10:38:07\", \"2020-02-19T10:38:30\", \"2020-02-19T10:14:30\", \"2020-02-19T10:15:04\", \"2020-02-19T10:28:08\", \"2020-02-19T10:30:20\", \"2020-02-19T10:39:01\", \"2020-02-19T10:23:46\", \"2020-02-19T10:09:45\", \"2020-02-19T10:20:28\", \"2020-02-19T10:25:17\", \"2020-02-19T10:22:12\", \"2020-02-19T10:11:17\", \"2020-02-19T10:12:32\", \"2020-02-19T10:21:53\"], \"xaxis\": \"x4\", \"y\": [34.93, 26.64, 27.16, 22.15, 22.23, 27.95, 23.38, 28.19, 32.13, 10.68, 21.49, 32.43, 25.32, 13.43, 13.29, 25.09], \"yaxis\": \"y7\"}, {\"line\": {\"color\": \"#636EFA\"}, \"mode\": \"markers\", \"name\": \"kVp\", \"type\": \"scatter\", \"x\": [\"2020-02-19T10:26:38\", \"2020-02-19T10:38:07\", \"2020-02-19T10:38:30\", \"2020-02-19T10:14:30\", \"2020-02-19T10:15:04\", \"2020-02-19T10:28:08\", \"2020-02-19T10:30:20\", \"2020-02-19T10:39:01\", \"2020-02-19T10:23:46\", \"2020-02-19T10:09:45\", \"2020-02-19T10:20:28\", \"2020-02-19T10:25:17\", \"2020-02-19T10:22:12\", \"2020-02-19T10:11:17\", \"2020-02-19T10:12:32\", \"2020-02-19T10:21:53\"], \"xaxis\": \"x4\", \"y\": [110.3, 74.6, 74.6, 74.6, 74.6, 92.1, 74.6, 75.3, 102.0, 81.1, 74.6, 102.0, 81.3, 74.6, 74.6, 89.0], \"yaxis\": \"y7\"}, {\"line\": {\"color\": \"#FECB52\"}, \"mode\": \"markers\", \"name\": \"PatientThickness\", \"type\": \"scatter\", \"x\": [\"2020-02-18T10:06:07\", \"2020-02-18T10:07:15\", \"2020-02-18T10:09:48\", \"2020-02-18T10:02:37\", \"2020-02-18T10:05:56\", \"2020-02-18T10:08:31\", \"2020-02-18T10:12:36\", \"2020-02-18T10:04:41\"], \"xaxis\": \"x5\", \"y\": [26.58, 27.0, 18.32, 17.32, 27.0, 28.65, 22.94, 18.71], \"yaxis\": \"y9\"}, {\"line\": {\"color\": \"#636EFA\"}, \"mode\": \"markers\", \"name\": \"kVp\", \"type\": \"scatter\", \"x\": [\"2020-02-18T10:06:07\", \"2020-02-18T10:07:15\", \"2020-02-18T10:09:48\", \"2020-02-18T10:02:37\", \"2020-02-18T10:05:56\", \"2020-02-18T10:08:31\", \"2020-02-18T10:12:36\", \"2020-02-18T10:04:41\"], \"xaxis\": \"x5\", \"y\": [92.1, 96.0, 89.0, 74.6, 96.0, 96.4, 74.6, 89.0], \"yaxis\": \"y9\"}, {\"line\": {\"color\": \"#FECB52\"}, \"mode\": \"markers\", \"name\": \"PatientThickness\", \"type\": \"scatter\", \"x\": [\"2020-02-18T09:17:45\", \"2020-02-18T09:17:18\", \"2020-02-18T09:18:56\", \"2020-02-18T09:23:40\", \"2020-02-18T09:12:55\", \"2020-02-18T09:13:13\", \"2020-02-18T09:19:53\", \"2020-02-18T09:20:11\", \"2020-02-18T09:22:34\", \"2020-02-18T09:11:40\", \"2020-02-18T09:14:33\", \"2020-02-18T09:22:17\", \"2020-02-18T09:10:36\", \"2020-02-18T09:11:13\", \"2020-02-18T09:15:43\"], \"xaxis\": \"x6\", \"y\": [17.44, 17.63, 25.65, 17.28, 15.85, 16.0, 25.63, 25.72, 26.41, 11.89, 15.19, 26.36, 9.21, 10.74, 15.98], \"yaxis\": \"y11\"}, {\"line\": {\"color\": \"#636EFA\"}, \"mode\": \"markers\", \"name\": \"kVp\", \"type\": \"scatter\", \"x\": [\"2020-02-18T09:17:45\", \"2020-02-18T09:17:18\", \"2020-02-18T09:18:56\", \"2020-02-18T09:23:40\", \"2020-02-18T09:12:55\", \"2020-02-18T09:13:13\", \"2020-02-18T09:19:53\", \"2020-02-18T09:20:11\", \"2020-02-18T09:22:34\", \"2020-02-18T09:11:40\", \"2020-02-18T09:14:33\", \"2020-02-18T09:22:17\", \"2020-02-18T09:10:36\", \"2020-02-18T09:11:13\", \"2020-02-18T09:15:43\"], \"xaxis\": \"x6\", \"y\": [89.0, 89.0, 89.0, 89.0, 74.6, 74.6, 89.0, 74.6, 74.6, 74.6, 74.6, 89.0, 74.6, 74.6, 74.6], \"yaxis\": \"y11\"}],\n",
       "                        {\"annotations\": [{\"font\": {\"size\": 16}, \"showarrow\": false, \"text\": \"Patient 1\", \"x\": 0.12333333333333334, \"xanchor\": \"center\", \"xref\": \"paper\", \"y\": 1.0, \"yanchor\": \"bottom\", \"yref\": \"paper\"}, {\"font\": {\"size\": 16}, \"showarrow\": false, \"text\": \"Patient 2\", \"x\": 0.47000000000000003, \"xanchor\": \"center\", \"xref\": \"paper\", \"y\": 1.0, \"yanchor\": \"bottom\", \"yref\": \"paper\"}, {\"font\": {\"size\": 16}, \"showarrow\": false, \"text\": \"Patient 3\", \"x\": 0.8166666666666667, \"xanchor\": \"center\", \"xref\": \"paper\", \"y\": 1.0, \"yanchor\": \"bottom\", \"yref\": \"paper\"}, {\"font\": {\"size\": 16}, \"showarrow\": false, \"text\": \"Patient 4\", \"x\": 0.12333333333333334, \"xanchor\": \"center\", \"xref\": \"paper\", \"y\": 0.45, \"yanchor\": \"bottom\", \"yref\": \"paper\"}, {\"font\": {\"size\": 16}, \"showarrow\": false, \"text\": \"Patient 5\", \"x\": 0.47000000000000003, \"xanchor\": \"center\", \"xref\": \"paper\", \"y\": 0.45, \"yanchor\": \"bottom\", \"yref\": \"paper\"}, {\"font\": {\"size\": 16}, \"showarrow\": false, \"text\": \"Patient 6\", \"x\": 0.8166666666666667, \"xanchor\": \"center\", \"xref\": \"paper\", \"y\": 0.45, \"yanchor\": \"bottom\", \"yref\": \"paper\"}, {\"font\": {\"size\": 16}, \"showarrow\": false, \"text\": \"Irradiation Events\", \"x\": 0.47, \"xanchor\": \"center\", \"xref\": \"paper\", \"y\": 0, \"yanchor\": \"top\", \"yref\": \"paper\", \"yshift\": -30}, {\"font\": {\"size\": 16}, \"showarrow\": false, \"text\": \"Patient Thickness\", \"textangle\": -90, \"x\": 0, \"xanchor\": \"right\", \"xref\": \"paper\", \"xshift\": -40, \"y\": 0.5, \"yanchor\": \"middle\", \"yref\": \"paper\"}], \"legend\": {\"traceorder\": \"reversed\"}, \"template\": {\"data\": {\"bar\": [{\"error_x\": {\"color\": \"#2a3f5f\"}, \"error_y\": {\"color\": \"#2a3f5f\"}, \"marker\": {\"line\": {\"color\": \"#E5ECF6\", \"width\": 0.5}}, \"type\": \"bar\"}], \"barpolar\": [{\"marker\": {\"line\": {\"color\": \"#E5ECF6\", \"width\": 0.5}}, \"type\": \"barpolar\"}], \"carpet\": [{\"aaxis\": {\"endlinecolor\": \"#2a3f5f\", \"gridcolor\": \"white\", \"linecolor\": \"white\", \"minorgridcolor\": \"white\", \"startlinecolor\": \"#2a3f5f\"}, \"baxis\": {\"endlinecolor\": \"#2a3f5f\", \"gridcolor\": \"white\", \"linecolor\": \"white\", \"minorgridcolor\": \"white\", \"startlinecolor\": \"#2a3f5f\"}, \"type\": \"carpet\"}], \"choropleth\": [{\"colorbar\": {\"outlinewidth\": 0, \"ticks\": \"\"}, \"type\": \"choropleth\"}], \"contour\": [{\"colorbar\": {\"outlinewidth\": 0, \"ticks\": \"\"}, \"colorscale\": [[0.0, \"#0d0887\"], [0.1111111111111111, \"#46039f\"], [0.2222222222222222, \"#7201a8\"], [0.3333333333333333, \"#9c179e\"], [0.4444444444444444, \"#bd3786\"], [0.5555555555555556, \"#d8576b\"], [0.6666666666666666, \"#ed7953\"], [0.7777777777777778, \"#fb9f3a\"], [0.8888888888888888, \"#fdca26\"], [1.0, \"#f0f921\"]], \"type\": \"contour\"}], \"contourcarpet\": [{\"colorbar\": {\"outlinewidth\": 0, \"ticks\": \"\"}, \"type\": \"contourcarpet\"}], \"heatmap\": [{\"colorbar\": {\"outlinewidth\": 0, \"ticks\": \"\"}, \"colorscale\": [[0.0, \"#0d0887\"], [0.1111111111111111, \"#46039f\"], [0.2222222222222222, \"#7201a8\"], [0.3333333333333333, \"#9c179e\"], [0.4444444444444444, \"#bd3786\"], [0.5555555555555556, \"#d8576b\"], [0.6666666666666666, \"#ed7953\"], [0.7777777777777778, \"#fb9f3a\"], [0.8888888888888888, \"#fdca26\"], [1.0, \"#f0f921\"]], \"type\": \"heatmap\"}], \"heatmapgl\": [{\"colorbar\": {\"outlinewidth\": 0, \"ticks\": \"\"}, \"colorscale\": [[0.0, \"#0d0887\"], [0.1111111111111111, \"#46039f\"], [0.2222222222222222, \"#7201a8\"], [0.3333333333333333, \"#9c179e\"], [0.4444444444444444, \"#bd3786\"], [0.5555555555555556, \"#d8576b\"], [0.6666666666666666, \"#ed7953\"], [0.7777777777777778, \"#fb9f3a\"], [0.8888888888888888, \"#fdca26\"], [1.0, \"#f0f921\"]], \"type\": \"heatmapgl\"}], \"histogram\": [{\"marker\": {\"colorbar\": {\"outlinewidth\": 0, \"ticks\": \"\"}}, \"type\": \"histogram\"}], \"histogram2d\": [{\"colorbar\": {\"outlinewidth\": 0, \"ticks\": \"\"}, \"colorscale\": [[0.0, \"#0d0887\"], [0.1111111111111111, \"#46039f\"], [0.2222222222222222, \"#7201a8\"], [0.3333333333333333, \"#9c179e\"], [0.4444444444444444, \"#bd3786\"], [0.5555555555555556, \"#d8576b\"], [0.6666666666666666, \"#ed7953\"], [0.7777777777777778, \"#fb9f3a\"], [0.8888888888888888, \"#fdca26\"], [1.0, \"#f0f921\"]], \"type\": \"histogram2d\"}], \"histogram2dcontour\": [{\"colorbar\": {\"outlinewidth\": 0, \"ticks\": \"\"}, \"colorscale\": [[0.0, \"#0d0887\"], [0.1111111111111111, \"#46039f\"], [0.2222222222222222, \"#7201a8\"], [0.3333333333333333, \"#9c179e\"], [0.4444444444444444, \"#bd3786\"], [0.5555555555555556, \"#d8576b\"], [0.6666666666666666, \"#ed7953\"], [0.7777777777777778, \"#fb9f3a\"], [0.8888888888888888, \"#fdca26\"], [1.0, \"#f0f921\"]], \"type\": \"histogram2dcontour\"}], \"mesh3d\": [{\"colorbar\": {\"outlinewidth\": 0, \"ticks\": \"\"}, \"type\": \"mesh3d\"}], \"parcoords\": [{\"line\": {\"colorbar\": {\"outlinewidth\": 0, \"ticks\": \"\"}}, \"type\": \"parcoords\"}], \"pie\": [{\"automargin\": true, \"type\": \"pie\"}], \"scatter\": [{\"marker\": {\"colorbar\": {\"outlinewidth\": 0, \"ticks\": \"\"}}, \"type\": \"scatter\"}], \"scatter3d\": [{\"line\": {\"colorbar\": {\"outlinewidth\": 0, \"ticks\": \"\"}}, \"marker\": {\"colorbar\": {\"outlinewidth\": 0, \"ticks\": \"\"}}, \"type\": \"scatter3d\"}], \"scattercarpet\": [{\"marker\": {\"colorbar\": {\"outlinewidth\": 0, \"ticks\": \"\"}}, \"type\": \"scattercarpet\"}], \"scattergeo\": [{\"marker\": {\"colorbar\": {\"outlinewidth\": 0, \"ticks\": \"\"}}, \"type\": \"scattergeo\"}], \"scattergl\": [{\"marker\": {\"colorbar\": {\"outlinewidth\": 0, \"ticks\": \"\"}}, \"type\": \"scattergl\"}], \"scattermapbox\": [{\"marker\": {\"colorbar\": {\"outlinewidth\": 0, \"ticks\": \"\"}}, \"type\": \"scattermapbox\"}], \"scatterpolar\": [{\"marker\": {\"colorbar\": {\"outlinewidth\": 0, \"ticks\": \"\"}}, \"type\": \"scatterpolar\"}], \"scatterpolargl\": [{\"marker\": {\"colorbar\": {\"outlinewidth\": 0, \"ticks\": \"\"}}, \"type\": \"scatterpolargl\"}], \"scatterternary\": [{\"marker\": {\"colorbar\": {\"outlinewidth\": 0, \"ticks\": \"\"}}, \"type\": \"scatterternary\"}], \"surface\": [{\"colorbar\": {\"outlinewidth\": 0, \"ticks\": \"\"}, \"colorscale\": [[0.0, \"#0d0887\"], [0.1111111111111111, \"#46039f\"], [0.2222222222222222, \"#7201a8\"], [0.3333333333333333, \"#9c179e\"], [0.4444444444444444, \"#bd3786\"], [0.5555555555555556, \"#d8576b\"], [0.6666666666666666, \"#ed7953\"], [0.7777777777777778, \"#fb9f3a\"], [0.8888888888888888, \"#fdca26\"], [1.0, \"#f0f921\"]], \"type\": \"surface\"}], \"table\": [{\"cells\": {\"fill\": {\"color\": \"#EBF0F8\"}, \"line\": {\"color\": \"white\"}}, \"header\": {\"fill\": {\"color\": \"#C8D4E3\"}, \"line\": {\"color\": \"white\"}}, \"type\": \"table\"}]}, \"layout\": {\"annotationdefaults\": {\"arrowcolor\": \"#2a3f5f\", \"arrowhead\": 0, \"arrowwidth\": 1}, \"coloraxis\": {\"colorbar\": {\"outlinewidth\": 0, \"ticks\": \"\"}}, \"colorscale\": {\"diverging\": [[0, \"#8e0152\"], [0.1, \"#c51b7d\"], [0.2, \"#de77ae\"], [0.3, \"#f1b6da\"], [0.4, \"#fde0ef\"], [0.5, \"#f7f7f7\"], [0.6, \"#e6f5d0\"], [0.7, \"#b8e186\"], [0.8, \"#7fbc41\"], [0.9, \"#4d9221\"], [1, \"#276419\"]], \"sequential\": [[0.0, \"#0d0887\"], [0.1111111111111111, \"#46039f\"], [0.2222222222222222, \"#7201a8\"], [0.3333333333333333, \"#9c179e\"], [0.4444444444444444, \"#bd3786\"], [0.5555555555555556, \"#d8576b\"], [0.6666666666666666, \"#ed7953\"], [0.7777777777777778, \"#fb9f3a\"], [0.8888888888888888, \"#fdca26\"], [1.0, \"#f0f921\"]], \"sequentialminus\": [[0.0, \"#0d0887\"], [0.1111111111111111, \"#46039f\"], [0.2222222222222222, \"#7201a8\"], [0.3333333333333333, \"#9c179e\"], [0.4444444444444444, \"#bd3786\"], [0.5555555555555556, \"#d8576b\"], [0.6666666666666666, \"#ed7953\"], [0.7777777777777778, \"#fb9f3a\"], [0.8888888888888888, \"#fdca26\"], [1.0, \"#f0f921\"]]}, \"colorway\": [\"#636efa\", \"#EF553B\", \"#00cc96\", \"#ab63fa\", \"#FFA15A\", \"#19d3f3\", \"#FF6692\", \"#B6E880\", \"#FF97FF\", \"#FECB52\"], \"font\": {\"color\": \"#2a3f5f\"}, \"geo\": {\"bgcolor\": \"white\", \"lakecolor\": \"white\", \"landcolor\": \"#E5ECF6\", \"showlakes\": true, \"showland\": true, \"subunitcolor\": \"white\"}, \"hoverlabel\": {\"align\": \"left\"}, \"hovermode\": \"closest\", \"mapbox\": {\"style\": \"light\"}, \"paper_bgcolor\": \"white\", \"plot_bgcolor\": \"#E5ECF6\", \"polar\": {\"angularaxis\": {\"gridcolor\": \"white\", \"linecolor\": \"white\", \"ticks\": \"\"}, \"bgcolor\": \"#E5ECF6\", \"radialaxis\": {\"gridcolor\": \"white\", \"linecolor\": \"white\", \"ticks\": \"\"}}, \"scene\": {\"xaxis\": {\"backgroundcolor\": \"#E5ECF6\", \"gridcolor\": \"white\", \"gridwidth\": 2, \"linecolor\": \"white\", \"showbackground\": true, \"ticks\": \"\", \"zerolinecolor\": \"white\"}, \"yaxis\": {\"backgroundcolor\": \"#E5ECF6\", \"gridcolor\": \"white\", \"gridwidth\": 2, \"linecolor\": \"white\", \"showbackground\": true, \"ticks\": \"\", \"zerolinecolor\": \"white\"}, \"zaxis\": {\"backgroundcolor\": \"#E5ECF6\", \"gridcolor\": \"white\", \"gridwidth\": 2, \"linecolor\": \"white\", \"showbackground\": true, \"ticks\": \"\", \"zerolinecolor\": \"white\"}}, \"shapedefaults\": {\"line\": {\"color\": \"#2a3f5f\"}}, \"ternary\": {\"aaxis\": {\"gridcolor\": \"white\", \"linecolor\": \"white\", \"ticks\": \"\"}, \"baxis\": {\"gridcolor\": \"white\", \"linecolor\": \"white\", \"ticks\": \"\"}, \"bgcolor\": \"#E5ECF6\", \"caxis\": {\"gridcolor\": \"white\", \"linecolor\": \"white\", \"ticks\": \"\"}}, \"title\": {\"x\": 0.05}, \"xaxis\": {\"automargin\": true, \"gridcolor\": \"white\", \"linecolor\": \"white\", \"ticks\": \"\", \"title\": {\"standoff\": 15}, \"zerolinecolor\": \"white\", \"zerolinewidth\": 2}, \"yaxis\": {\"automargin\": true, \"gridcolor\": \"white\", \"linecolor\": \"white\", \"ticks\": \"\", \"title\": {\"standoff\": 15}, \"zerolinecolor\": \"white\", \"zerolinewidth\": 2}}}, \"title\": {\"text\": \"WV vs Event\"}, \"xaxis\": {\"anchor\": \"y\", \"domain\": [0.0, 0.24666666666666667], \"nticks\": 10, \"showticklabels\": false}, \"xaxis2\": {\"anchor\": \"y3\", \"domain\": [0.3466666666666667, 0.5933333333333334], \"nticks\": 10, \"showticklabels\": false}, \"xaxis3\": {\"anchor\": \"y5\", \"domain\": [0.6933333333333334, 0.9400000000000001], \"nticks\": 10, \"showticklabels\": false}, \"xaxis4\": {\"anchor\": \"y7\", \"domain\": [0.0, 0.24666666666666667], \"nticks\": 10, \"showticklabels\": false}, \"xaxis5\": {\"anchor\": \"y9\", \"domain\": [0.3466666666666667, 0.5933333333333334], \"nticks\": 10, \"showticklabels\": false}, \"xaxis6\": {\"anchor\": \"y11\", \"domain\": [0.6933333333333334, 0.9400000000000001], \"nticks\": 10, \"showticklabels\": false}, \"yaxis\": {\"anchor\": \"x\", \"domain\": [0.55, 1.0], \"dtick\": 20, \"nticks\": 20, \"range\": [0, 120]}, \"yaxis10\": {\"anchor\": \"x5\", \"dtick\": 20, \"nticks\": 20, \"overlaying\": \"y9\", \"range\": [0, 120], \"side\": \"right\"}, \"yaxis11\": {\"anchor\": \"x6\", \"domain\": [0.0, 0.45], \"dtick\": 20, \"nticks\": 20, \"range\": [0, 120]}, \"yaxis12\": {\"anchor\": \"x6\", \"dtick\": 20, \"nticks\": 20, \"overlaying\": \"y11\", \"range\": [0, 120], \"side\": \"right\"}, \"yaxis2\": {\"anchor\": \"x\", \"dtick\": 20, \"nticks\": 20, \"overlaying\": \"y\", \"range\": [0, 120], \"side\": \"right\"}, \"yaxis3\": {\"anchor\": \"x2\", \"domain\": [0.55, 1.0], \"dtick\": 20, \"nticks\": 20, \"range\": [0, 120]}, \"yaxis4\": {\"anchor\": \"x2\", \"dtick\": 20, \"nticks\": 20, \"overlaying\": \"y3\", \"range\": [0, 120], \"side\": \"right\"}, \"yaxis5\": {\"anchor\": \"x3\", \"domain\": [0.55, 1.0], \"dtick\": 20, \"nticks\": 20, \"range\": [0, 120]}, \"yaxis6\": {\"anchor\": \"x3\", \"dtick\": 20, \"nticks\": 20, \"overlaying\": \"y5\", \"range\": [0, 120], \"side\": \"right\"}, \"yaxis7\": {\"anchor\": \"x4\", \"domain\": [0.0, 0.45], \"dtick\": 20, \"nticks\": 20, \"range\": [0, 120]}, \"yaxis8\": {\"anchor\": \"x4\", \"dtick\": 20, \"nticks\": 20, \"overlaying\": \"y7\", \"range\": [0, 120], \"side\": \"right\"}, \"yaxis9\": {\"anchor\": \"x5\", \"domain\": [0.0, 0.45], \"dtick\": 20, \"nticks\": 20, \"range\": [0, 120]}},\n",
       "                        {\"responsive\": true}\n",
       "                    ).then(function(){\n",
       "                            \n",
       "var gd = document.getElementById('11856d17-ca5e-45f9-a777-f4e1bec0723f');\n",
       "var x = new MutationObserver(function (mutations, observer) {{\n",
       "        var display = window.getComputedStyle(gd).display;\n",
       "        if (!display || display === 'none') {{\n",
       "            console.log([gd, 'removed!']);\n",
       "            Plotly.purge(gd);\n",
       "            observer.disconnect();\n",
       "        }}\n",
       "}});\n",
       "\n",
       "// Listen for the removal of the full notebook cells\n",
       "var notebookContainer = gd.closest('#notebook-container');\n",
       "if (notebookContainer) {{\n",
       "    x.observe(notebookContainer, {childList: true});\n",
       "}}\n",
       "\n",
       "// Listen for the clearing of the current output cell\n",
       "var outputEl = gd.closest('.output');\n",
       "if (outputEl) {{\n",
       "    x.observe(outputEl, {childList: true});\n",
       "}}\n",
       "\n",
       "                        })\n",
       "                };\n",
       "                });\n",
       "            </script>\n",
       "        </div>"
      ]
     },
     "metadata": {},
     "output_type": "display_data"
    }
   ],
   "source": [
    "# Esofagus/Hypofarynx för 6 olika patienter\n",
    "\n",
    "#Gör 6 subplots!\n",
    "fig = make_subplots(rows=2, cols=3,\n",
    "                    specs=[[{\"secondary_y\": True}, {\"secondary_y\": True}, {\"secondary_y\": True}],\n",
    "                           [{\"secondary_y\": True}, {\"secondary_y\": True}, {\"secondary_y\": True}]],\n",
    "                    subplot_titles=(\"Patient 1\", \"Patient 2\", \"Patient 3\", \"Patient 4\", \"Patient 5\", \"Patient 6\"),\n",
    "                    x_title = 'Irradiation Events',\n",
    "                    y_title = 'Patient Thickness',\n",
    "                    vertical_spacing=0.1,\n",
    "                    horizontal_spacing=0.1                    \n",
    "                   )\n",
    "\n",
    "\n",
    "#Sortera fram en lista på unika Accessionnumbers för en agiven modalitet, \n",
    "unikacc_vv = data_vv[data_vv.DisplayName=='U110'].AccessionNumber.unique()\n",
    "\n",
    "#Loopa över de 6 sista i listan av unika accessionnumbers. \n",
    "#Fördela protokollnamnen på olika legends. Plotta event på x och vattenvärde på y\n",
    "#Nya traces med kV, mA, pulsbredd, Cu i samma graf. \n",
    "#Skulle vara intressant med pie-charts för varje undersökning med fördelning av DoseRP vs event. Hur stor del är positionering?\n",
    "# ['#636EFA', '#EF553B', '#00CC96', '#AB63FA', '#FFA15A', '#19D3F3', '#FF6692', '#B6E880', '#FF97FF', '#FECB52']\n",
    "\n",
    "\n",
    "rad = [1,1,1,2,2,2]\n",
    "kol = [1,2,3,1,2,3]\n",
    "i=0\n",
    "for i in range(6):\n",
    "    fig.add_trace(\n",
    "        go.Scatter(x=data_vv[data_vv.AccessionNumber==unikacc_vv[i+25]].DateTimeStarted,\n",
    "                   y=data_vv[data_vv.AccessionNumber==unikacc_vv[i+25]].PatientEquivalentThickness,\n",
    "                   mode='markers',\n",
    "                   name='PatientThickness',\n",
    "                   line = dict(color='#FECB52')\n",
    "                  ),\n",
    "        row=rad[i], col=kol[i], secondary_y=False,\n",
    "    )\n",
    "    fig.add_trace(\n",
    "            go.Scatter(x=data_vv[data_vv.AccessionNumber==unikacc_vv[i+25]].DateTimeStarted,\n",
    "                       y=data_vv[data_vv.AccessionNumber==unikacc_vv[i+25]].kVp,\n",
    "                       mode='markers',\n",
    "                       name='kVp',\n",
    "                       line = dict(color='#636EFA')\n",
    "                      ),\n",
    "        row=rad[i], col=kol[i], #secondary_y=True,\n",
    "    )\n",
    "\n",
    "\n",
    "\n",
    "    \n",
    "fig.update_layout(title='WV vs Event',\n",
    "                  legend={'traceorder':'reversed'}\n",
    ")\n",
    "\n",
    "fig.update_yaxes(range=[0, 120])\n",
    "fig.update_yaxes(nticks=20, dtick=20)\n",
    "fig.update_xaxes(nticks=10)\n",
    "fig.update_xaxes(showticklabels=False)\n",
    "\n",
    "\n",
    "#fig.update_xaxes(title_text='Event', row=1, col=1)    \n",
    "#fig.update_xaxes(title_text='Event', row=1, col=2)\n",
    "#fig.update_xaxes(title_text='Event', row=1, col=3)\n",
    "\n",
    "#tot_fl = len(data_vv[data_vv['AcquisitionProtocol']=='FL Norm Esofagus Bari'])\n",
    "#tot_exp = len(data_vv[data_vv['AcquisitionProtocol']=='Esofagus Barium'])\n",
    "\n",
    "#print(f'Totalt {tot_fl} genomlysningsevents och {tot_exp} exponeringsevents')\n",
    "\n",
    "fig.show()"
   ]
  },
  {
   "cell_type": "code",
   "execution_count": 10,
   "metadata": {},
   "outputs": [
    {
     "data": {
      "application/vnd.plotly.v1+json": {
       "config": {
        "plotlyServerURL": "https://plot.ly"
       },
       "data": [
        {
         "mode": "markers",
         "name": "PatientThickness",
         "type": "scatter",
         "x": [
          "2020-02-19T10:26:38",
          "2020-02-19T10:38:07",
          "2020-02-19T10:38:30",
          "2020-02-19T10:14:30",
          "2020-02-19T10:15:04",
          "2020-02-19T10:28:08",
          "2020-02-19T10:30:20",
          "2020-02-19T10:39:01",
          "2020-02-19T10:23:46",
          "2020-02-19T10:09:45",
          "2020-02-19T10:20:28",
          "2020-02-19T10:25:17",
          "2020-02-19T10:22:12",
          "2020-02-19T10:11:17",
          "2020-02-19T10:12:32",
          "2020-02-19T10:21:53"
         ],
         "y": [
          34.93,
          26.64,
          27.16,
          22.15,
          22.23,
          27.95,
          23.38,
          28.19,
          32.13,
          10.68,
          21.49,
          32.43,
          25.32,
          13.43,
          13.29,
          25.09
         ]
        },
        {
         "mode": "markers",
         "name": "kVp",
         "type": "scatter",
         "x": [
          "2020-02-19T10:26:38",
          "2020-02-19T10:38:07",
          "2020-02-19T10:38:30",
          "2020-02-19T10:14:30",
          "2020-02-19T10:15:04",
          "2020-02-19T10:28:08",
          "2020-02-19T10:30:20",
          "2020-02-19T10:39:01",
          "2020-02-19T10:23:46",
          "2020-02-19T10:09:45",
          "2020-02-19T10:20:28",
          "2020-02-19T10:25:17",
          "2020-02-19T10:22:12",
          "2020-02-19T10:11:17",
          "2020-02-19T10:12:32",
          "2020-02-19T10:21:53"
         ],
         "y": [
          110.3,
          74.6,
          74.6,
          74.6,
          74.6,
          92.1,
          74.6,
          75.3,
          102,
          81.1,
          74.6,
          102,
          81.3,
          74.6,
          74.6,
          89
         ],
         "yaxis": "y2"
        },
        {
         "mode": "markers",
         "name": "mA",
         "type": "scatter",
         "x": [
          "2020-02-19T10:26:38",
          "2020-02-19T10:38:07",
          "2020-02-19T10:38:30",
          "2020-02-19T10:14:30",
          "2020-02-19T10:15:04",
          "2020-02-19T10:28:08",
          "2020-02-19T10:30:20",
          "2020-02-19T10:39:01",
          "2020-02-19T10:23:46",
          "2020-02-19T10:09:45",
          "2020-02-19T10:20:28",
          "2020-02-19T10:25:17",
          "2020-02-19T10:22:12",
          "2020-02-19T10:11:17",
          "2020-02-19T10:12:32",
          "2020-02-19T10:21:53"
         ],
         "y": [
          646.4,
          194.5,
          204.3,
          117.3,
          100.6,
          341.4,
          99.4,
          236,
          690.5,
          16.6,
          97.8,
          690.4,
          97.8,
          60.6,
          78.2,
          352.3
         ],
         "yaxis": "y3"
        }
       ],
       "layout": {
        "template": {
         "data": {
          "bar": [
           {
            "error_x": {
             "color": "#2a3f5f"
            },
            "error_y": {
             "color": "#2a3f5f"
            },
            "marker": {
             "line": {
              "color": "#E5ECF6",
              "width": 0.5
             }
            },
            "type": "bar"
           }
          ],
          "barpolar": [
           {
            "marker": {
             "line": {
              "color": "#E5ECF6",
              "width": 0.5
             }
            },
            "type": "barpolar"
           }
          ],
          "carpet": [
           {
            "aaxis": {
             "endlinecolor": "#2a3f5f",
             "gridcolor": "white",
             "linecolor": "white",
             "minorgridcolor": "white",
             "startlinecolor": "#2a3f5f"
            },
            "baxis": {
             "endlinecolor": "#2a3f5f",
             "gridcolor": "white",
             "linecolor": "white",
             "minorgridcolor": "white",
             "startlinecolor": "#2a3f5f"
            },
            "type": "carpet"
           }
          ],
          "choropleth": [
           {
            "colorbar": {
             "outlinewidth": 0,
             "ticks": ""
            },
            "type": "choropleth"
           }
          ],
          "contour": [
           {
            "colorbar": {
             "outlinewidth": 0,
             "ticks": ""
            },
            "colorscale": [
             [
              0,
              "#0d0887"
             ],
             [
              0.1111111111111111,
              "#46039f"
             ],
             [
              0.2222222222222222,
              "#7201a8"
             ],
             [
              0.3333333333333333,
              "#9c179e"
             ],
             [
              0.4444444444444444,
              "#bd3786"
             ],
             [
              0.5555555555555556,
              "#d8576b"
             ],
             [
              0.6666666666666666,
              "#ed7953"
             ],
             [
              0.7777777777777778,
              "#fb9f3a"
             ],
             [
              0.8888888888888888,
              "#fdca26"
             ],
             [
              1,
              "#f0f921"
             ]
            ],
            "type": "contour"
           }
          ],
          "contourcarpet": [
           {
            "colorbar": {
             "outlinewidth": 0,
             "ticks": ""
            },
            "type": "contourcarpet"
           }
          ],
          "heatmap": [
           {
            "colorbar": {
             "outlinewidth": 0,
             "ticks": ""
            },
            "colorscale": [
             [
              0,
              "#0d0887"
             ],
             [
              0.1111111111111111,
              "#46039f"
             ],
             [
              0.2222222222222222,
              "#7201a8"
             ],
             [
              0.3333333333333333,
              "#9c179e"
             ],
             [
              0.4444444444444444,
              "#bd3786"
             ],
             [
              0.5555555555555556,
              "#d8576b"
             ],
             [
              0.6666666666666666,
              "#ed7953"
             ],
             [
              0.7777777777777778,
              "#fb9f3a"
             ],
             [
              0.8888888888888888,
              "#fdca26"
             ],
             [
              1,
              "#f0f921"
             ]
            ],
            "type": "heatmap"
           }
          ],
          "heatmapgl": [
           {
            "colorbar": {
             "outlinewidth": 0,
             "ticks": ""
            },
            "colorscale": [
             [
              0,
              "#0d0887"
             ],
             [
              0.1111111111111111,
              "#46039f"
             ],
             [
              0.2222222222222222,
              "#7201a8"
             ],
             [
              0.3333333333333333,
              "#9c179e"
             ],
             [
              0.4444444444444444,
              "#bd3786"
             ],
             [
              0.5555555555555556,
              "#d8576b"
             ],
             [
              0.6666666666666666,
              "#ed7953"
             ],
             [
              0.7777777777777778,
              "#fb9f3a"
             ],
             [
              0.8888888888888888,
              "#fdca26"
             ],
             [
              1,
              "#f0f921"
             ]
            ],
            "type": "heatmapgl"
           }
          ],
          "histogram": [
           {
            "marker": {
             "colorbar": {
              "outlinewidth": 0,
              "ticks": ""
             }
            },
            "type": "histogram"
           }
          ],
          "histogram2d": [
           {
            "colorbar": {
             "outlinewidth": 0,
             "ticks": ""
            },
            "colorscale": [
             [
              0,
              "#0d0887"
             ],
             [
              0.1111111111111111,
              "#46039f"
             ],
             [
              0.2222222222222222,
              "#7201a8"
             ],
             [
              0.3333333333333333,
              "#9c179e"
             ],
             [
              0.4444444444444444,
              "#bd3786"
             ],
             [
              0.5555555555555556,
              "#d8576b"
             ],
             [
              0.6666666666666666,
              "#ed7953"
             ],
             [
              0.7777777777777778,
              "#fb9f3a"
             ],
             [
              0.8888888888888888,
              "#fdca26"
             ],
             [
              1,
              "#f0f921"
             ]
            ],
            "type": "histogram2d"
           }
          ],
          "histogram2dcontour": [
           {
            "colorbar": {
             "outlinewidth": 0,
             "ticks": ""
            },
            "colorscale": [
             [
              0,
              "#0d0887"
             ],
             [
              0.1111111111111111,
              "#46039f"
             ],
             [
              0.2222222222222222,
              "#7201a8"
             ],
             [
              0.3333333333333333,
              "#9c179e"
             ],
             [
              0.4444444444444444,
              "#bd3786"
             ],
             [
              0.5555555555555556,
              "#d8576b"
             ],
             [
              0.6666666666666666,
              "#ed7953"
             ],
             [
              0.7777777777777778,
              "#fb9f3a"
             ],
             [
              0.8888888888888888,
              "#fdca26"
             ],
             [
              1,
              "#f0f921"
             ]
            ],
            "type": "histogram2dcontour"
           }
          ],
          "mesh3d": [
           {
            "colorbar": {
             "outlinewidth": 0,
             "ticks": ""
            },
            "type": "mesh3d"
           }
          ],
          "parcoords": [
           {
            "line": {
             "colorbar": {
              "outlinewidth": 0,
              "ticks": ""
             }
            },
            "type": "parcoords"
           }
          ],
          "pie": [
           {
            "automargin": true,
            "type": "pie"
           }
          ],
          "scatter": [
           {
            "marker": {
             "colorbar": {
              "outlinewidth": 0,
              "ticks": ""
             }
            },
            "type": "scatter"
           }
          ],
          "scatter3d": [
           {
            "line": {
             "colorbar": {
              "outlinewidth": 0,
              "ticks": ""
             }
            },
            "marker": {
             "colorbar": {
              "outlinewidth": 0,
              "ticks": ""
             }
            },
            "type": "scatter3d"
           }
          ],
          "scattercarpet": [
           {
            "marker": {
             "colorbar": {
              "outlinewidth": 0,
              "ticks": ""
             }
            },
            "type": "scattercarpet"
           }
          ],
          "scattergeo": [
           {
            "marker": {
             "colorbar": {
              "outlinewidth": 0,
              "ticks": ""
             }
            },
            "type": "scattergeo"
           }
          ],
          "scattergl": [
           {
            "marker": {
             "colorbar": {
              "outlinewidth": 0,
              "ticks": ""
             }
            },
            "type": "scattergl"
           }
          ],
          "scattermapbox": [
           {
            "marker": {
             "colorbar": {
              "outlinewidth": 0,
              "ticks": ""
             }
            },
            "type": "scattermapbox"
           }
          ],
          "scatterpolar": [
           {
            "marker": {
             "colorbar": {
              "outlinewidth": 0,
              "ticks": ""
             }
            },
            "type": "scatterpolar"
           }
          ],
          "scatterpolargl": [
           {
            "marker": {
             "colorbar": {
              "outlinewidth": 0,
              "ticks": ""
             }
            },
            "type": "scatterpolargl"
           }
          ],
          "scatterternary": [
           {
            "marker": {
             "colorbar": {
              "outlinewidth": 0,
              "ticks": ""
             }
            },
            "type": "scatterternary"
           }
          ],
          "surface": [
           {
            "colorbar": {
             "outlinewidth": 0,
             "ticks": ""
            },
            "colorscale": [
             [
              0,
              "#0d0887"
             ],
             [
              0.1111111111111111,
              "#46039f"
             ],
             [
              0.2222222222222222,
              "#7201a8"
             ],
             [
              0.3333333333333333,
              "#9c179e"
             ],
             [
              0.4444444444444444,
              "#bd3786"
             ],
             [
              0.5555555555555556,
              "#d8576b"
             ],
             [
              0.6666666666666666,
              "#ed7953"
             ],
             [
              0.7777777777777778,
              "#fb9f3a"
             ],
             [
              0.8888888888888888,
              "#fdca26"
             ],
             [
              1,
              "#f0f921"
             ]
            ],
            "type": "surface"
           }
          ],
          "table": [
           {
            "cells": {
             "fill": {
              "color": "#EBF0F8"
             },
             "line": {
              "color": "white"
             }
            },
            "header": {
             "fill": {
              "color": "#C8D4E3"
             },
             "line": {
              "color": "white"
             }
            },
            "type": "table"
           }
          ]
         },
         "layout": {
          "annotationdefaults": {
           "arrowcolor": "#2a3f5f",
           "arrowhead": 0,
           "arrowwidth": 1
          },
          "coloraxis": {
           "colorbar": {
            "outlinewidth": 0,
            "ticks": ""
           }
          },
          "colorscale": {
           "diverging": [
            [
             0,
             "#8e0152"
            ],
            [
             0.1,
             "#c51b7d"
            ],
            [
             0.2,
             "#de77ae"
            ],
            [
             0.3,
             "#f1b6da"
            ],
            [
             0.4,
             "#fde0ef"
            ],
            [
             0.5,
             "#f7f7f7"
            ],
            [
             0.6,
             "#e6f5d0"
            ],
            [
             0.7,
             "#b8e186"
            ],
            [
             0.8,
             "#7fbc41"
            ],
            [
             0.9,
             "#4d9221"
            ],
            [
             1,
             "#276419"
            ]
           ],
           "sequential": [
            [
             0,
             "#0d0887"
            ],
            [
             0.1111111111111111,
             "#46039f"
            ],
            [
             0.2222222222222222,
             "#7201a8"
            ],
            [
             0.3333333333333333,
             "#9c179e"
            ],
            [
             0.4444444444444444,
             "#bd3786"
            ],
            [
             0.5555555555555556,
             "#d8576b"
            ],
            [
             0.6666666666666666,
             "#ed7953"
            ],
            [
             0.7777777777777778,
             "#fb9f3a"
            ],
            [
             0.8888888888888888,
             "#fdca26"
            ],
            [
             1,
             "#f0f921"
            ]
           ],
           "sequentialminus": [
            [
             0,
             "#0d0887"
            ],
            [
             0.1111111111111111,
             "#46039f"
            ],
            [
             0.2222222222222222,
             "#7201a8"
            ],
            [
             0.3333333333333333,
             "#9c179e"
            ],
            [
             0.4444444444444444,
             "#bd3786"
            ],
            [
             0.5555555555555556,
             "#d8576b"
            ],
            [
             0.6666666666666666,
             "#ed7953"
            ],
            [
             0.7777777777777778,
             "#fb9f3a"
            ],
            [
             0.8888888888888888,
             "#fdca26"
            ],
            [
             1,
             "#f0f921"
            ]
           ]
          },
          "colorway": [
           "#636efa",
           "#EF553B",
           "#00cc96",
           "#ab63fa",
           "#FFA15A",
           "#19d3f3",
           "#FF6692",
           "#B6E880",
           "#FF97FF",
           "#FECB52"
          ],
          "font": {
           "color": "#2a3f5f"
          },
          "geo": {
           "bgcolor": "white",
           "lakecolor": "white",
           "landcolor": "#E5ECF6",
           "showlakes": true,
           "showland": true,
           "subunitcolor": "white"
          },
          "hoverlabel": {
           "align": "left"
          },
          "hovermode": "closest",
          "mapbox": {
           "style": "light"
          },
          "paper_bgcolor": "white",
          "plot_bgcolor": "#E5ECF6",
          "polar": {
           "angularaxis": {
            "gridcolor": "white",
            "linecolor": "white",
            "ticks": ""
           },
           "bgcolor": "#E5ECF6",
           "radialaxis": {
            "gridcolor": "white",
            "linecolor": "white",
            "ticks": ""
           }
          },
          "scene": {
           "xaxis": {
            "backgroundcolor": "#E5ECF6",
            "gridcolor": "white",
            "gridwidth": 2,
            "linecolor": "white",
            "showbackground": true,
            "ticks": "",
            "zerolinecolor": "white"
           },
           "yaxis": {
            "backgroundcolor": "#E5ECF6",
            "gridcolor": "white",
            "gridwidth": 2,
            "linecolor": "white",
            "showbackground": true,
            "ticks": "",
            "zerolinecolor": "white"
           },
           "zaxis": {
            "backgroundcolor": "#E5ECF6",
            "gridcolor": "white",
            "gridwidth": 2,
            "linecolor": "white",
            "showbackground": true,
            "ticks": "",
            "zerolinecolor": "white"
           }
          },
          "shapedefaults": {
           "line": {
            "color": "#2a3f5f"
           }
          },
          "ternary": {
           "aaxis": {
            "gridcolor": "white",
            "linecolor": "white",
            "ticks": ""
           },
           "baxis": {
            "gridcolor": "white",
            "linecolor": "white",
            "ticks": ""
           },
           "bgcolor": "#E5ECF6",
           "caxis": {
            "gridcolor": "white",
            "linecolor": "white",
            "ticks": ""
           }
          },
          "title": {
           "x": 0.05
          },
          "xaxis": {
           "automargin": true,
           "gridcolor": "white",
           "linecolor": "white",
           "ticks": "",
           "title": {
            "standoff": 15
           },
           "zerolinecolor": "white",
           "zerolinewidth": 2
          },
          "yaxis": {
           "automargin": true,
           "gridcolor": "white",
           "linecolor": "white",
           "ticks": "",
           "title": {
            "standoff": 15
           },
           "zerolinecolor": "white",
           "zerolinewidth": 2
          }
         }
        },
        "xaxis": {
         "domain": [
          0.3,
          0.7
         ]
        },
        "yaxis": {
         "tickfont": {
          "color": "#636EFA"
         },
         "title": {
          "font": {
           "color": "#636EFA"
          },
          "text": "Patient Thickness [cm]"
         }
        },
        "yaxis2": {
         "anchor": "x",
         "overlaying": "y",
         "position": 0.85,
         "side": "right",
         "tickfont": {
          "color": "#EF553B"
         },
         "title": {
          "font": {
           "color": "#EF553B"
          },
          "text": "kVp"
         }
        },
        "yaxis3": {
         "anchor": "free",
         "overlaying": "y",
         "position": 0.8,
         "side": "right",
         "tickfont": {
          "color": "#00CC96"
         },
         "title": {
          "font": {
           "color": "#00CC96"
          },
          "text": "mA"
         }
        }
       }
      },
      "text/html": [
       "<div>\n",
       "        \n",
       "        \n",
       "            <div id=\"d33b111a-3e39-490a-80b4-ad5d90989cbe\" class=\"plotly-graph-div\" style=\"height:525px; width:100%;\"></div>\n",
       "            <script type=\"text/javascript\">\n",
       "                require([\"plotly\"], function(Plotly) {\n",
       "                    window.PLOTLYENV=window.PLOTLYENV || {};\n",
       "                    \n",
       "                if (document.getElementById(\"d33b111a-3e39-490a-80b4-ad5d90989cbe\")) {\n",
       "                    Plotly.newPlot(\n",
       "                        'd33b111a-3e39-490a-80b4-ad5d90989cbe',\n",
       "                        [{\"mode\": \"markers\", \"name\": \"PatientThickness\", \"type\": \"scatter\", \"x\": [\"2020-02-19T10:26:38\", \"2020-02-19T10:38:07\", \"2020-02-19T10:38:30\", \"2020-02-19T10:14:30\", \"2020-02-19T10:15:04\", \"2020-02-19T10:28:08\", \"2020-02-19T10:30:20\", \"2020-02-19T10:39:01\", \"2020-02-19T10:23:46\", \"2020-02-19T10:09:45\", \"2020-02-19T10:20:28\", \"2020-02-19T10:25:17\", \"2020-02-19T10:22:12\", \"2020-02-19T10:11:17\", \"2020-02-19T10:12:32\", \"2020-02-19T10:21:53\"], \"y\": [34.93, 26.64, 27.16, 22.15, 22.23, 27.95, 23.38, 28.19, 32.13, 10.68, 21.49, 32.43, 25.32, 13.43, 13.29, 25.09]}, {\"mode\": \"markers\", \"name\": \"kVp\", \"type\": \"scatter\", \"x\": [\"2020-02-19T10:26:38\", \"2020-02-19T10:38:07\", \"2020-02-19T10:38:30\", \"2020-02-19T10:14:30\", \"2020-02-19T10:15:04\", \"2020-02-19T10:28:08\", \"2020-02-19T10:30:20\", \"2020-02-19T10:39:01\", \"2020-02-19T10:23:46\", \"2020-02-19T10:09:45\", \"2020-02-19T10:20:28\", \"2020-02-19T10:25:17\", \"2020-02-19T10:22:12\", \"2020-02-19T10:11:17\", \"2020-02-19T10:12:32\", \"2020-02-19T10:21:53\"], \"y\": [110.3, 74.6, 74.6, 74.6, 74.6, 92.1, 74.6, 75.3, 102.0, 81.1, 74.6, 102.0, 81.3, 74.6, 74.6, 89.0], \"yaxis\": \"y2\"}, {\"mode\": \"markers\", \"name\": \"mA\", \"type\": \"scatter\", \"x\": [\"2020-02-19T10:26:38\", \"2020-02-19T10:38:07\", \"2020-02-19T10:38:30\", \"2020-02-19T10:14:30\", \"2020-02-19T10:15:04\", \"2020-02-19T10:28:08\", \"2020-02-19T10:30:20\", \"2020-02-19T10:39:01\", \"2020-02-19T10:23:46\", \"2020-02-19T10:09:45\", \"2020-02-19T10:20:28\", \"2020-02-19T10:25:17\", \"2020-02-19T10:22:12\", \"2020-02-19T10:11:17\", \"2020-02-19T10:12:32\", \"2020-02-19T10:21:53\"], \"y\": [646.4, 194.5, 204.3, 117.3, 100.6, 341.4, 99.4, 236.0, 690.5, 16.6, 97.8, 690.4, 97.8, 60.6, 78.2, 352.3], \"yaxis\": \"y3\"}],\n",
       "                        {\"template\": {\"data\": {\"bar\": [{\"error_x\": {\"color\": \"#2a3f5f\"}, \"error_y\": {\"color\": \"#2a3f5f\"}, \"marker\": {\"line\": {\"color\": \"#E5ECF6\", \"width\": 0.5}}, \"type\": \"bar\"}], \"barpolar\": [{\"marker\": {\"line\": {\"color\": \"#E5ECF6\", \"width\": 0.5}}, \"type\": \"barpolar\"}], \"carpet\": [{\"aaxis\": {\"endlinecolor\": \"#2a3f5f\", \"gridcolor\": \"white\", \"linecolor\": \"white\", \"minorgridcolor\": \"white\", \"startlinecolor\": \"#2a3f5f\"}, \"baxis\": {\"endlinecolor\": \"#2a3f5f\", \"gridcolor\": \"white\", \"linecolor\": \"white\", \"minorgridcolor\": \"white\", \"startlinecolor\": \"#2a3f5f\"}, \"type\": \"carpet\"}], \"choropleth\": [{\"colorbar\": {\"outlinewidth\": 0, \"ticks\": \"\"}, \"type\": \"choropleth\"}], \"contour\": [{\"colorbar\": {\"outlinewidth\": 0, \"ticks\": \"\"}, \"colorscale\": [[0.0, \"#0d0887\"], [0.1111111111111111, \"#46039f\"], [0.2222222222222222, \"#7201a8\"], [0.3333333333333333, \"#9c179e\"], [0.4444444444444444, \"#bd3786\"], [0.5555555555555556, \"#d8576b\"], [0.6666666666666666, \"#ed7953\"], [0.7777777777777778, \"#fb9f3a\"], [0.8888888888888888, \"#fdca26\"], [1.0, \"#f0f921\"]], \"type\": \"contour\"}], \"contourcarpet\": [{\"colorbar\": {\"outlinewidth\": 0, \"ticks\": \"\"}, \"type\": \"contourcarpet\"}], \"heatmap\": [{\"colorbar\": {\"outlinewidth\": 0, \"ticks\": \"\"}, \"colorscale\": [[0.0, \"#0d0887\"], [0.1111111111111111, \"#46039f\"], [0.2222222222222222, \"#7201a8\"], [0.3333333333333333, \"#9c179e\"], [0.4444444444444444, \"#bd3786\"], [0.5555555555555556, \"#d8576b\"], [0.6666666666666666, \"#ed7953\"], [0.7777777777777778, \"#fb9f3a\"], [0.8888888888888888, \"#fdca26\"], [1.0, \"#f0f921\"]], \"type\": \"heatmap\"}], \"heatmapgl\": [{\"colorbar\": {\"outlinewidth\": 0, \"ticks\": \"\"}, \"colorscale\": [[0.0, \"#0d0887\"], [0.1111111111111111, \"#46039f\"], [0.2222222222222222, \"#7201a8\"], [0.3333333333333333, \"#9c179e\"], [0.4444444444444444, \"#bd3786\"], [0.5555555555555556, \"#d8576b\"], [0.6666666666666666, \"#ed7953\"], [0.7777777777777778, \"#fb9f3a\"], [0.8888888888888888, \"#fdca26\"], [1.0, \"#f0f921\"]], \"type\": \"heatmapgl\"}], \"histogram\": [{\"marker\": {\"colorbar\": {\"outlinewidth\": 0, \"ticks\": \"\"}}, \"type\": \"histogram\"}], \"histogram2d\": [{\"colorbar\": {\"outlinewidth\": 0, \"ticks\": \"\"}, \"colorscale\": [[0.0, \"#0d0887\"], [0.1111111111111111, \"#46039f\"], [0.2222222222222222, \"#7201a8\"], [0.3333333333333333, \"#9c179e\"], [0.4444444444444444, \"#bd3786\"], [0.5555555555555556, \"#d8576b\"], [0.6666666666666666, \"#ed7953\"], [0.7777777777777778, \"#fb9f3a\"], [0.8888888888888888, \"#fdca26\"], [1.0, \"#f0f921\"]], \"type\": \"histogram2d\"}], \"histogram2dcontour\": [{\"colorbar\": {\"outlinewidth\": 0, \"ticks\": \"\"}, \"colorscale\": [[0.0, \"#0d0887\"], [0.1111111111111111, \"#46039f\"], [0.2222222222222222, \"#7201a8\"], [0.3333333333333333, \"#9c179e\"], [0.4444444444444444, \"#bd3786\"], [0.5555555555555556, \"#d8576b\"], [0.6666666666666666, \"#ed7953\"], [0.7777777777777778, \"#fb9f3a\"], [0.8888888888888888, \"#fdca26\"], [1.0, \"#f0f921\"]], \"type\": \"histogram2dcontour\"}], \"mesh3d\": [{\"colorbar\": {\"outlinewidth\": 0, \"ticks\": \"\"}, \"type\": \"mesh3d\"}], \"parcoords\": [{\"line\": {\"colorbar\": {\"outlinewidth\": 0, \"ticks\": \"\"}}, \"type\": \"parcoords\"}], \"pie\": [{\"automargin\": true, \"type\": \"pie\"}], \"scatter\": [{\"marker\": {\"colorbar\": {\"outlinewidth\": 0, \"ticks\": \"\"}}, \"type\": \"scatter\"}], \"scatter3d\": [{\"line\": {\"colorbar\": {\"outlinewidth\": 0, \"ticks\": \"\"}}, \"marker\": {\"colorbar\": {\"outlinewidth\": 0, \"ticks\": \"\"}}, \"type\": \"scatter3d\"}], \"scattercarpet\": [{\"marker\": {\"colorbar\": {\"outlinewidth\": 0, \"ticks\": \"\"}}, \"type\": \"scattercarpet\"}], \"scattergeo\": [{\"marker\": {\"colorbar\": {\"outlinewidth\": 0, \"ticks\": \"\"}}, \"type\": \"scattergeo\"}], \"scattergl\": [{\"marker\": {\"colorbar\": {\"outlinewidth\": 0, \"ticks\": \"\"}}, \"type\": \"scattergl\"}], \"scattermapbox\": [{\"marker\": {\"colorbar\": {\"outlinewidth\": 0, \"ticks\": \"\"}}, \"type\": \"scattermapbox\"}], \"scatterpolar\": [{\"marker\": {\"colorbar\": {\"outlinewidth\": 0, \"ticks\": \"\"}}, \"type\": \"scatterpolar\"}], \"scatterpolargl\": [{\"marker\": {\"colorbar\": {\"outlinewidth\": 0, \"ticks\": \"\"}}, \"type\": \"scatterpolargl\"}], \"scatterternary\": [{\"marker\": {\"colorbar\": {\"outlinewidth\": 0, \"ticks\": \"\"}}, \"type\": \"scatterternary\"}], \"surface\": [{\"colorbar\": {\"outlinewidth\": 0, \"ticks\": \"\"}, \"colorscale\": [[0.0, \"#0d0887\"], [0.1111111111111111, \"#46039f\"], [0.2222222222222222, \"#7201a8\"], [0.3333333333333333, \"#9c179e\"], [0.4444444444444444, \"#bd3786\"], [0.5555555555555556, \"#d8576b\"], [0.6666666666666666, \"#ed7953\"], [0.7777777777777778, \"#fb9f3a\"], [0.8888888888888888, \"#fdca26\"], [1.0, \"#f0f921\"]], \"type\": \"surface\"}], \"table\": [{\"cells\": {\"fill\": {\"color\": \"#EBF0F8\"}, \"line\": {\"color\": \"white\"}}, \"header\": {\"fill\": {\"color\": \"#C8D4E3\"}, \"line\": {\"color\": \"white\"}}, \"type\": \"table\"}]}, \"layout\": {\"annotationdefaults\": {\"arrowcolor\": \"#2a3f5f\", \"arrowhead\": 0, \"arrowwidth\": 1}, \"coloraxis\": {\"colorbar\": {\"outlinewidth\": 0, \"ticks\": \"\"}}, \"colorscale\": {\"diverging\": [[0, \"#8e0152\"], [0.1, \"#c51b7d\"], [0.2, \"#de77ae\"], [0.3, \"#f1b6da\"], [0.4, \"#fde0ef\"], [0.5, \"#f7f7f7\"], [0.6, \"#e6f5d0\"], [0.7, \"#b8e186\"], [0.8, \"#7fbc41\"], [0.9, \"#4d9221\"], [1, \"#276419\"]], \"sequential\": [[0.0, \"#0d0887\"], [0.1111111111111111, \"#46039f\"], [0.2222222222222222, \"#7201a8\"], [0.3333333333333333, \"#9c179e\"], [0.4444444444444444, \"#bd3786\"], [0.5555555555555556, \"#d8576b\"], [0.6666666666666666, \"#ed7953\"], [0.7777777777777778, \"#fb9f3a\"], [0.8888888888888888, \"#fdca26\"], [1.0, \"#f0f921\"]], \"sequentialminus\": [[0.0, \"#0d0887\"], [0.1111111111111111, \"#46039f\"], [0.2222222222222222, \"#7201a8\"], [0.3333333333333333, \"#9c179e\"], [0.4444444444444444, \"#bd3786\"], [0.5555555555555556, \"#d8576b\"], [0.6666666666666666, \"#ed7953\"], [0.7777777777777778, \"#fb9f3a\"], [0.8888888888888888, \"#fdca26\"], [1.0, \"#f0f921\"]]}, \"colorway\": [\"#636efa\", \"#EF553B\", \"#00cc96\", \"#ab63fa\", \"#FFA15A\", \"#19d3f3\", \"#FF6692\", \"#B6E880\", \"#FF97FF\", \"#FECB52\"], \"font\": {\"color\": \"#2a3f5f\"}, \"geo\": {\"bgcolor\": \"white\", \"lakecolor\": \"white\", \"landcolor\": \"#E5ECF6\", \"showlakes\": true, \"showland\": true, \"subunitcolor\": \"white\"}, \"hoverlabel\": {\"align\": \"left\"}, \"hovermode\": \"closest\", \"mapbox\": {\"style\": \"light\"}, \"paper_bgcolor\": \"white\", \"plot_bgcolor\": \"#E5ECF6\", \"polar\": {\"angularaxis\": {\"gridcolor\": \"white\", \"linecolor\": \"white\", \"ticks\": \"\"}, \"bgcolor\": \"#E5ECF6\", \"radialaxis\": {\"gridcolor\": \"white\", \"linecolor\": \"white\", \"ticks\": \"\"}}, \"scene\": {\"xaxis\": {\"backgroundcolor\": \"#E5ECF6\", \"gridcolor\": \"white\", \"gridwidth\": 2, \"linecolor\": \"white\", \"showbackground\": true, \"ticks\": \"\", \"zerolinecolor\": \"white\"}, \"yaxis\": {\"backgroundcolor\": \"#E5ECF6\", \"gridcolor\": \"white\", \"gridwidth\": 2, \"linecolor\": \"white\", \"showbackground\": true, \"ticks\": \"\", \"zerolinecolor\": \"white\"}, \"zaxis\": {\"backgroundcolor\": \"#E5ECF6\", \"gridcolor\": \"white\", \"gridwidth\": 2, \"linecolor\": \"white\", \"showbackground\": true, \"ticks\": \"\", \"zerolinecolor\": \"white\"}}, \"shapedefaults\": {\"line\": {\"color\": \"#2a3f5f\"}}, \"ternary\": {\"aaxis\": {\"gridcolor\": \"white\", \"linecolor\": \"white\", \"ticks\": \"\"}, \"baxis\": {\"gridcolor\": \"white\", \"linecolor\": \"white\", \"ticks\": \"\"}, \"bgcolor\": \"#E5ECF6\", \"caxis\": {\"gridcolor\": \"white\", \"linecolor\": \"white\", \"ticks\": \"\"}}, \"title\": {\"x\": 0.05}, \"xaxis\": {\"automargin\": true, \"gridcolor\": \"white\", \"linecolor\": \"white\", \"ticks\": \"\", \"title\": {\"standoff\": 15}, \"zerolinecolor\": \"white\", \"zerolinewidth\": 2}, \"yaxis\": {\"automargin\": true, \"gridcolor\": \"white\", \"linecolor\": \"white\", \"ticks\": \"\", \"title\": {\"standoff\": 15}, \"zerolinecolor\": \"white\", \"zerolinewidth\": 2}}}, \"xaxis\": {\"domain\": [0.3, 0.7]}, \"yaxis\": {\"tickfont\": {\"color\": \"#636EFA\"}, \"title\": {\"font\": {\"color\": \"#636EFA\"}, \"text\": \"Patient Thickness [cm]\"}}, \"yaxis2\": {\"anchor\": \"x\", \"overlaying\": \"y\", \"position\": 0.85, \"side\": \"right\", \"tickfont\": {\"color\": \"#EF553B\"}, \"title\": {\"font\": {\"color\": \"#EF553B\"}, \"text\": \"kVp\"}}, \"yaxis3\": {\"anchor\": \"free\", \"overlaying\": \"y\", \"position\": 0.8, \"side\": \"right\", \"tickfont\": {\"color\": \"#00CC96\"}, \"title\": {\"font\": {\"color\": \"#00CC96\"}, \"text\": \"mA\"}}},\n",
       "                        {\"responsive\": true}\n",
       "                    ).then(function(){\n",
       "                            \n",
       "var gd = document.getElementById('d33b111a-3e39-490a-80b4-ad5d90989cbe');\n",
       "var x = new MutationObserver(function (mutations, observer) {{\n",
       "        var display = window.getComputedStyle(gd).display;\n",
       "        if (!display || display === 'none') {{\n",
       "            console.log([gd, 'removed!']);\n",
       "            Plotly.purge(gd);\n",
       "            observer.disconnect();\n",
       "        }}\n",
       "}});\n",
       "\n",
       "// Listen for the removal of the full notebook cells\n",
       "var notebookContainer = gd.closest('#notebook-container');\n",
       "if (notebookContainer) {{\n",
       "    x.observe(notebookContainer, {childList: true});\n",
       "}}\n",
       "\n",
       "// Listen for the clearing of the current output cell\n",
       "var outputEl = gd.closest('.output');\n",
       "if (outputEl) {{\n",
       "    x.observe(outputEl, {childList: true});\n",
       "}}\n",
       "\n",
       "                        })\n",
       "                };\n",
       "                });\n",
       "            </script>\n",
       "        </div>"
      ]
     },
     "metadata": {},
     "output_type": "display_data"
    }
   ],
   "source": [
    "fig = go.Figure()\n",
    "\n",
    "fig.add_trace(go.Scatter(\n",
    "    x=data_vv[data_vv.AccessionNumber==unikacc_vv[28]].DateTimeStarted,\n",
    "    y=data_vv[data_vv.AccessionNumber==unikacc_vv[28]].PatientEquivalentThickness,\n",
    "    mode='markers',\n",
    "    name='PatientThickness'#,\n",
    "    #line = dict(color='firebrick')\n",
    "             ))\n",
    "\n",
    "fig.add_trace(go.Scatter(\n",
    "    x=data_vv[data_vv.AccessionNumber==unikacc_vv[28]].DateTimeStarted,\n",
    "    y=data_vv[data_vv.AccessionNumber==unikacc_vv[28]].kVp,\n",
    "    mode='markers',\n",
    "    name='kVp',\n",
    "    yaxis=\"y2\"#,\n",
    "    #line = dict(color='royalblue')\n",
    "             ))\n",
    "\n",
    "fig.add_trace(go.Scatter(\n",
    "    x=data_vv[data_vv.AccessionNumber==unikacc_vv[28]].DateTimeStarted,\n",
    "    y=data_vv[data_vv.AccessionNumber==unikacc_vv[28]].XrayTubeCurrent,\n",
    "    mode='markers',\n",
    "    name='mA',\n",
    "    yaxis=\"y3\"#,\n",
    "    #line = dict(color='orange')\n",
    "             ))\n",
    "\n",
    "fig.update_layout(\n",
    "    xaxis=dict(\n",
    "        domain=[0.3, 0.7]\n",
    "    ),\n",
    "    yaxis=dict(\n",
    "        title=\"Patient Thickness [cm]\",\n",
    "        titlefont=dict(color='#636EFA'),\n",
    "        tickfont=dict(color='#636EFA')\n",
    "    ),\n",
    "    yaxis2=dict(\n",
    "        title=\"kVp\",\n",
    "        titlefont=dict(color='#EF553B'),\n",
    "        tickfont=dict(color='#EF553B'),\n",
    "        anchor=\"x\",\n",
    "        overlaying=\"y\",\n",
    "        side=\"right\",\n",
    "        position=0.85\n",
    "    ),\n",
    "    yaxis3=dict(\n",
    "        title=\"mA\",\n",
    "        titlefont=dict(color='#00CC96'),\n",
    "        tickfont=dict(color='#00CC96'),\n",
    "        anchor=\"free\",\n",
    "        overlaying=\"y\",\n",
    "        side=\"right\",\n",
    "        position=0.8\n",
    "\n",
    "    )\n",
    ")\n",
    "\n",
    "\n",
    "fig.show()\n"
   ]
  },
  {
   "cell_type": "code",
   "execution_count": 23,
   "metadata": {},
   "outputs": [
    {
     "data": {
      "application/vnd.plotly.v1+json": {
       "config": {
        "plotlyServerURL": "https://plot.ly"
       },
       "data": [
        {
         "line": {
          "color": "#636EFA"
         },
         "mode": "markers",
         "name": "kVp",
         "type": "scatter",
         "x": [
          "2020-02-19T10:26:38",
          "2020-02-19T10:38:07",
          "2020-02-19T10:38:30",
          "2020-02-19T10:14:30",
          "2020-02-19T10:15:04",
          "2020-02-19T10:28:08",
          "2020-02-19T10:30:20",
          "2020-02-19T10:39:01",
          "2020-02-19T10:23:46",
          "2020-02-19T10:09:45",
          "2020-02-19T10:20:28",
          "2020-02-19T10:25:17",
          "2020-02-19T10:22:12",
          "2020-02-19T10:11:17",
          "2020-02-19T10:12:32",
          "2020-02-19T10:21:53"
         ],
         "xaxis": "x",
         "y": [
          110.3,
          74.6,
          74.6,
          74.6,
          74.6,
          92.1,
          74.6,
          75.3,
          102,
          81.1,
          74.6,
          102,
          81.3,
          74.6,
          74.6,
          89
         ],
         "yaxis": "y"
        },
        {
         "line": {
          "color": "#EF553B"
         },
         "mode": "markers",
         "name": "mA",
         "type": "scatter",
         "x": [
          "2020-02-19T10:26:38",
          "2020-02-19T10:38:07",
          "2020-02-19T10:38:30",
          "2020-02-19T10:14:30",
          "2020-02-19T10:15:04",
          "2020-02-19T10:28:08",
          "2020-02-19T10:30:20",
          "2020-02-19T10:39:01",
          "2020-02-19T10:23:46",
          "2020-02-19T10:09:45",
          "2020-02-19T10:20:28",
          "2020-02-19T10:25:17",
          "2020-02-19T10:22:12",
          "2020-02-19T10:11:17",
          "2020-02-19T10:12:32",
          "2020-02-19T10:21:53"
         ],
         "xaxis": "x2",
         "y": [
          646.4,
          194.5,
          204.3,
          117.3,
          100.6,
          341.4,
          99.4,
          236,
          690.5,
          16.6,
          97.8,
          690.4,
          97.8,
          60.6,
          78.2,
          352.3
         ],
         "yaxis": "y2"
        },
        {
         "line": {
          "color": "#00CC96"
         },
         "mode": "markers",
         "name": "ms",
         "type": "scatter",
         "x": [
          "2020-02-19T10:26:38",
          "2020-02-19T10:38:07",
          "2020-02-19T10:38:30",
          "2020-02-19T10:14:30",
          "2020-02-19T10:15:04",
          "2020-02-19T10:28:08",
          "2020-02-19T10:30:20",
          "2020-02-19T10:39:01",
          "2020-02-19T10:23:46",
          "2020-02-19T10:09:45",
          "2020-02-19T10:20:28",
          "2020-02-19T10:25:17",
          "2020-02-19T10:22:12",
          "2020-02-19T10:11:17",
          "2020-02-19T10:12:32",
          "2020-02-19T10:21:53"
         ],
         "xaxis": "x3",
         "y": [
          58,
          12.8,
          12.8,
          11.600000000000001,
          10.9,
          30.5,
          12.4,
          13.2,
          34.7,
          3.6,
          9.600000000000001,
          36.6,
          10.3,
          3.5,
          3.6,
          21.1
         ],
         "yaxis": "y3"
        },
        {
         "line": {
          "color": "#FECB52"
         },
         "mode": "markers",
         "name": "PatientThickness",
         "type": "scatter",
         "x": [
          "2020-02-19T10:26:38",
          "2020-02-19T10:38:07",
          "2020-02-19T10:38:30",
          "2020-02-19T10:14:30",
          "2020-02-19T10:15:04",
          "2020-02-19T10:28:08",
          "2020-02-19T10:30:20",
          "2020-02-19T10:39:01",
          "2020-02-19T10:23:46",
          "2020-02-19T10:09:45",
          "2020-02-19T10:20:28",
          "2020-02-19T10:25:17",
          "2020-02-19T10:22:12",
          "2020-02-19T10:11:17",
          "2020-02-19T10:12:32",
          "2020-02-19T10:21:53"
         ],
         "xaxis": "x4",
         "y": [
          34.93,
          26.64,
          27.16,
          22.15,
          22.23,
          27.95,
          23.38,
          28.19,
          32.13,
          10.68,
          21.49,
          32.43,
          25.32,
          13.43,
          13.29,
          25.09
         ],
         "yaxis": "y4"
        },
        {
         "line": {
          "color": "#FFA15A"
         },
         "mode": "markers",
         "name": "Cu",
         "type": "scatter",
         "x": [
          "2020-02-19T10:26:38",
          "2020-02-19T10:38:07",
          "2020-02-19T10:38:30",
          "2020-02-19T10:14:30",
          "2020-02-19T10:15:04",
          "2020-02-19T10:28:08",
          "2020-02-19T10:30:20",
          "2020-02-19T10:39:01",
          "2020-02-19T10:23:46",
          "2020-02-19T10:09:45",
          "2020-02-19T10:20:28",
          "2020-02-19T10:25:17",
          "2020-02-19T10:22:12",
          "2020-02-19T10:11:17",
          "2020-02-19T10:12:32",
          "2020-02-19T10:21:53"
         ],
         "xaxis": "x5",
         "y": [
          0.1,
          0.6,
          0.6,
          0.6,
          0.6,
          0.2,
          0.6,
          0.6,
          0.1,
          0.9,
          0.6,
          0.1,
          0.9,
          0.6,
          0.6,
          0.3
         ],
         "yaxis": "y5"
        }
       ],
       "layout": {
        "annotations": [
         {
          "font": {
           "size": 16
          },
          "showarrow": false,
          "text": "kV",
          "textangle": 90,
          "x": 0.98,
          "xanchor": "left",
          "xref": "paper",
          "y": 0.9079999999999999,
          "yanchor": "middle",
          "yref": "paper"
         },
         {
          "font": {
           "size": 16
          },
          "showarrow": false,
          "text": "mA",
          "textangle": 90,
          "x": 0.98,
          "xanchor": "left",
          "xref": "paper",
          "y": 0.7040000000000001,
          "yanchor": "middle",
          "yref": "paper"
         },
         {
          "font": {
           "size": 16
          },
          "showarrow": false,
          "text": "ms",
          "textangle": 90,
          "x": 0.98,
          "xanchor": "left",
          "xref": "paper",
          "y": 0.5,
          "yanchor": "middle",
          "yref": "paper"
         },
         {
          "font": {
           "size": 16
          },
          "showarrow": false,
          "text": "Thickness",
          "textangle": 90,
          "x": 0.98,
          "xanchor": "left",
          "xref": "paper",
          "y": 0.296,
          "yanchor": "middle",
          "yref": "paper"
         },
         {
          "font": {
           "size": 16
          },
          "showarrow": false,
          "text": "Cu",
          "textangle": 90,
          "x": 0.98,
          "xanchor": "left",
          "xref": "paper",
          "y": 0.092,
          "yanchor": "middle",
          "yref": "paper"
         }
        ],
        "autosize": false,
        "height": 600,
        "showlegend": false,
        "template": {
         "data": {
          "bar": [
           {
            "error_x": {
             "color": "#2a3f5f"
            },
            "error_y": {
             "color": "#2a3f5f"
            },
            "marker": {
             "line": {
              "color": "#E5ECF6",
              "width": 0.5
             }
            },
            "type": "bar"
           }
          ],
          "barpolar": [
           {
            "marker": {
             "line": {
              "color": "#E5ECF6",
              "width": 0.5
             }
            },
            "type": "barpolar"
           }
          ],
          "carpet": [
           {
            "aaxis": {
             "endlinecolor": "#2a3f5f",
             "gridcolor": "white",
             "linecolor": "white",
             "minorgridcolor": "white",
             "startlinecolor": "#2a3f5f"
            },
            "baxis": {
             "endlinecolor": "#2a3f5f",
             "gridcolor": "white",
             "linecolor": "white",
             "minorgridcolor": "white",
             "startlinecolor": "#2a3f5f"
            },
            "type": "carpet"
           }
          ],
          "choropleth": [
           {
            "colorbar": {
             "outlinewidth": 0,
             "ticks": ""
            },
            "type": "choropleth"
           }
          ],
          "contour": [
           {
            "colorbar": {
             "outlinewidth": 0,
             "ticks": ""
            },
            "colorscale": [
             [
              0,
              "#0d0887"
             ],
             [
              0.1111111111111111,
              "#46039f"
             ],
             [
              0.2222222222222222,
              "#7201a8"
             ],
             [
              0.3333333333333333,
              "#9c179e"
             ],
             [
              0.4444444444444444,
              "#bd3786"
             ],
             [
              0.5555555555555556,
              "#d8576b"
             ],
             [
              0.6666666666666666,
              "#ed7953"
             ],
             [
              0.7777777777777778,
              "#fb9f3a"
             ],
             [
              0.8888888888888888,
              "#fdca26"
             ],
             [
              1,
              "#f0f921"
             ]
            ],
            "type": "contour"
           }
          ],
          "contourcarpet": [
           {
            "colorbar": {
             "outlinewidth": 0,
             "ticks": ""
            },
            "type": "contourcarpet"
           }
          ],
          "heatmap": [
           {
            "colorbar": {
             "outlinewidth": 0,
             "ticks": ""
            },
            "colorscale": [
             [
              0,
              "#0d0887"
             ],
             [
              0.1111111111111111,
              "#46039f"
             ],
             [
              0.2222222222222222,
              "#7201a8"
             ],
             [
              0.3333333333333333,
              "#9c179e"
             ],
             [
              0.4444444444444444,
              "#bd3786"
             ],
             [
              0.5555555555555556,
              "#d8576b"
             ],
             [
              0.6666666666666666,
              "#ed7953"
             ],
             [
              0.7777777777777778,
              "#fb9f3a"
             ],
             [
              0.8888888888888888,
              "#fdca26"
             ],
             [
              1,
              "#f0f921"
             ]
            ],
            "type": "heatmap"
           }
          ],
          "heatmapgl": [
           {
            "colorbar": {
             "outlinewidth": 0,
             "ticks": ""
            },
            "colorscale": [
             [
              0,
              "#0d0887"
             ],
             [
              0.1111111111111111,
              "#46039f"
             ],
             [
              0.2222222222222222,
              "#7201a8"
             ],
             [
              0.3333333333333333,
              "#9c179e"
             ],
             [
              0.4444444444444444,
              "#bd3786"
             ],
             [
              0.5555555555555556,
              "#d8576b"
             ],
             [
              0.6666666666666666,
              "#ed7953"
             ],
             [
              0.7777777777777778,
              "#fb9f3a"
             ],
             [
              0.8888888888888888,
              "#fdca26"
             ],
             [
              1,
              "#f0f921"
             ]
            ],
            "type": "heatmapgl"
           }
          ],
          "histogram": [
           {
            "marker": {
             "colorbar": {
              "outlinewidth": 0,
              "ticks": ""
             }
            },
            "type": "histogram"
           }
          ],
          "histogram2d": [
           {
            "colorbar": {
             "outlinewidth": 0,
             "ticks": ""
            },
            "colorscale": [
             [
              0,
              "#0d0887"
             ],
             [
              0.1111111111111111,
              "#46039f"
             ],
             [
              0.2222222222222222,
              "#7201a8"
             ],
             [
              0.3333333333333333,
              "#9c179e"
             ],
             [
              0.4444444444444444,
              "#bd3786"
             ],
             [
              0.5555555555555556,
              "#d8576b"
             ],
             [
              0.6666666666666666,
              "#ed7953"
             ],
             [
              0.7777777777777778,
              "#fb9f3a"
             ],
             [
              0.8888888888888888,
              "#fdca26"
             ],
             [
              1,
              "#f0f921"
             ]
            ],
            "type": "histogram2d"
           }
          ],
          "histogram2dcontour": [
           {
            "colorbar": {
             "outlinewidth": 0,
             "ticks": ""
            },
            "colorscale": [
             [
              0,
              "#0d0887"
             ],
             [
              0.1111111111111111,
              "#46039f"
             ],
             [
              0.2222222222222222,
              "#7201a8"
             ],
             [
              0.3333333333333333,
              "#9c179e"
             ],
             [
              0.4444444444444444,
              "#bd3786"
             ],
             [
              0.5555555555555556,
              "#d8576b"
             ],
             [
              0.6666666666666666,
              "#ed7953"
             ],
             [
              0.7777777777777778,
              "#fb9f3a"
             ],
             [
              0.8888888888888888,
              "#fdca26"
             ],
             [
              1,
              "#f0f921"
             ]
            ],
            "type": "histogram2dcontour"
           }
          ],
          "mesh3d": [
           {
            "colorbar": {
             "outlinewidth": 0,
             "ticks": ""
            },
            "type": "mesh3d"
           }
          ],
          "parcoords": [
           {
            "line": {
             "colorbar": {
              "outlinewidth": 0,
              "ticks": ""
             }
            },
            "type": "parcoords"
           }
          ],
          "pie": [
           {
            "automargin": true,
            "type": "pie"
           }
          ],
          "scatter": [
           {
            "marker": {
             "colorbar": {
              "outlinewidth": 0,
              "ticks": ""
             }
            },
            "type": "scatter"
           }
          ],
          "scatter3d": [
           {
            "line": {
             "colorbar": {
              "outlinewidth": 0,
              "ticks": ""
             }
            },
            "marker": {
             "colorbar": {
              "outlinewidth": 0,
              "ticks": ""
             }
            },
            "type": "scatter3d"
           }
          ],
          "scattercarpet": [
           {
            "marker": {
             "colorbar": {
              "outlinewidth": 0,
              "ticks": ""
             }
            },
            "type": "scattercarpet"
           }
          ],
          "scattergeo": [
           {
            "marker": {
             "colorbar": {
              "outlinewidth": 0,
              "ticks": ""
             }
            },
            "type": "scattergeo"
           }
          ],
          "scattergl": [
           {
            "marker": {
             "colorbar": {
              "outlinewidth": 0,
              "ticks": ""
             }
            },
            "type": "scattergl"
           }
          ],
          "scattermapbox": [
           {
            "marker": {
             "colorbar": {
              "outlinewidth": 0,
              "ticks": ""
             }
            },
            "type": "scattermapbox"
           }
          ],
          "scatterpolar": [
           {
            "marker": {
             "colorbar": {
              "outlinewidth": 0,
              "ticks": ""
             }
            },
            "type": "scatterpolar"
           }
          ],
          "scatterpolargl": [
           {
            "marker": {
             "colorbar": {
              "outlinewidth": 0,
              "ticks": ""
             }
            },
            "type": "scatterpolargl"
           }
          ],
          "scatterternary": [
           {
            "marker": {
             "colorbar": {
              "outlinewidth": 0,
              "ticks": ""
             }
            },
            "type": "scatterternary"
           }
          ],
          "surface": [
           {
            "colorbar": {
             "outlinewidth": 0,
             "ticks": ""
            },
            "colorscale": [
             [
              0,
              "#0d0887"
             ],
             [
              0.1111111111111111,
              "#46039f"
             ],
             [
              0.2222222222222222,
              "#7201a8"
             ],
             [
              0.3333333333333333,
              "#9c179e"
             ],
             [
              0.4444444444444444,
              "#bd3786"
             ],
             [
              0.5555555555555556,
              "#d8576b"
             ],
             [
              0.6666666666666666,
              "#ed7953"
             ],
             [
              0.7777777777777778,
              "#fb9f3a"
             ],
             [
              0.8888888888888888,
              "#fdca26"
             ],
             [
              1,
              "#f0f921"
             ]
            ],
            "type": "surface"
           }
          ],
          "table": [
           {
            "cells": {
             "fill": {
              "color": "#EBF0F8"
             },
             "line": {
              "color": "white"
             }
            },
            "header": {
             "fill": {
              "color": "#C8D4E3"
             },
             "line": {
              "color": "white"
             }
            },
            "type": "table"
           }
          ]
         },
         "layout": {
          "annotationdefaults": {
           "arrowcolor": "#2a3f5f",
           "arrowhead": 0,
           "arrowwidth": 1
          },
          "coloraxis": {
           "colorbar": {
            "outlinewidth": 0,
            "ticks": ""
           }
          },
          "colorscale": {
           "diverging": [
            [
             0,
             "#8e0152"
            ],
            [
             0.1,
             "#c51b7d"
            ],
            [
             0.2,
             "#de77ae"
            ],
            [
             0.3,
             "#f1b6da"
            ],
            [
             0.4,
             "#fde0ef"
            ],
            [
             0.5,
             "#f7f7f7"
            ],
            [
             0.6,
             "#e6f5d0"
            ],
            [
             0.7,
             "#b8e186"
            ],
            [
             0.8,
             "#7fbc41"
            ],
            [
             0.9,
             "#4d9221"
            ],
            [
             1,
             "#276419"
            ]
           ],
           "sequential": [
            [
             0,
             "#0d0887"
            ],
            [
             0.1111111111111111,
             "#46039f"
            ],
            [
             0.2222222222222222,
             "#7201a8"
            ],
            [
             0.3333333333333333,
             "#9c179e"
            ],
            [
             0.4444444444444444,
             "#bd3786"
            ],
            [
             0.5555555555555556,
             "#d8576b"
            ],
            [
             0.6666666666666666,
             "#ed7953"
            ],
            [
             0.7777777777777778,
             "#fb9f3a"
            ],
            [
             0.8888888888888888,
             "#fdca26"
            ],
            [
             1,
             "#f0f921"
            ]
           ],
           "sequentialminus": [
            [
             0,
             "#0d0887"
            ],
            [
             0.1111111111111111,
             "#46039f"
            ],
            [
             0.2222222222222222,
             "#7201a8"
            ],
            [
             0.3333333333333333,
             "#9c179e"
            ],
            [
             0.4444444444444444,
             "#bd3786"
            ],
            [
             0.5555555555555556,
             "#d8576b"
            ],
            [
             0.6666666666666666,
             "#ed7953"
            ],
            [
             0.7777777777777778,
             "#fb9f3a"
            ],
            [
             0.8888888888888888,
             "#fdca26"
            ],
            [
             1,
             "#f0f921"
            ]
           ]
          },
          "colorway": [
           "#636efa",
           "#EF553B",
           "#00cc96",
           "#ab63fa",
           "#FFA15A",
           "#19d3f3",
           "#FF6692",
           "#B6E880",
           "#FF97FF",
           "#FECB52"
          ],
          "font": {
           "color": "#2a3f5f"
          },
          "geo": {
           "bgcolor": "white",
           "lakecolor": "white",
           "landcolor": "#E5ECF6",
           "showlakes": true,
           "showland": true,
           "subunitcolor": "white"
          },
          "hoverlabel": {
           "align": "left"
          },
          "hovermode": "closest",
          "mapbox": {
           "style": "light"
          },
          "paper_bgcolor": "white",
          "plot_bgcolor": "#E5ECF6",
          "polar": {
           "angularaxis": {
            "gridcolor": "white",
            "linecolor": "white",
            "ticks": ""
           },
           "bgcolor": "#E5ECF6",
           "radialaxis": {
            "gridcolor": "white",
            "linecolor": "white",
            "ticks": ""
           }
          },
          "scene": {
           "xaxis": {
            "backgroundcolor": "#E5ECF6",
            "gridcolor": "white",
            "gridwidth": 2,
            "linecolor": "white",
            "showbackground": true,
            "ticks": "",
            "zerolinecolor": "white"
           },
           "yaxis": {
            "backgroundcolor": "#E5ECF6",
            "gridcolor": "white",
            "gridwidth": 2,
            "linecolor": "white",
            "showbackground": true,
            "ticks": "",
            "zerolinecolor": "white"
           },
           "zaxis": {
            "backgroundcolor": "#E5ECF6",
            "gridcolor": "white",
            "gridwidth": 2,
            "linecolor": "white",
            "showbackground": true,
            "ticks": "",
            "zerolinecolor": "white"
           }
          },
          "shapedefaults": {
           "line": {
            "color": "#2a3f5f"
           }
          },
          "ternary": {
           "aaxis": {
            "gridcolor": "white",
            "linecolor": "white",
            "ticks": ""
           },
           "baxis": {
            "gridcolor": "white",
            "linecolor": "white",
            "ticks": ""
           },
           "bgcolor": "#E5ECF6",
           "caxis": {
            "gridcolor": "white",
            "linecolor": "white",
            "ticks": ""
           }
          },
          "title": {
           "x": 0.05
          },
          "xaxis": {
           "automargin": true,
           "gridcolor": "white",
           "linecolor": "white",
           "ticks": "",
           "title": {
            "standoff": 15
           },
           "zerolinecolor": "white",
           "zerolinewidth": 2
          },
          "yaxis": {
           "automargin": true,
           "gridcolor": "white",
           "linecolor": "white",
           "ticks": "",
           "title": {
            "standoff": 15
           },
           "zerolinecolor": "white",
           "zerolinewidth": 2
          }
         }
        },
        "width": 1100,
        "xaxis": {
         "anchor": "y",
         "domain": [
          0,
          0.98
         ],
         "matches": "x5",
         "showticklabels": false
        },
        "xaxis2": {
         "anchor": "y2",
         "domain": [
          0,
          0.98
         ],
         "matches": "x5",
         "showticklabels": false
        },
        "xaxis3": {
         "anchor": "y3",
         "domain": [
          0,
          0.98
         ],
         "matches": "x5",
         "showticklabels": false
        },
        "xaxis4": {
         "anchor": "y4",
         "domain": [
          0,
          0.98
         ],
         "matches": "x5",
         "showticklabels": false
        },
        "xaxis5": {
         "anchor": "y5",
         "domain": [
          0,
          0.98
         ]
        },
        "yaxis": {
         "anchor": "x",
         "domain": [
          0.816,
          1
         ]
        },
        "yaxis2": {
         "anchor": "x2",
         "domain": [
          0.6120000000000001,
          0.796
         ]
        },
        "yaxis3": {
         "anchor": "x3",
         "domain": [
          0.408,
          0.592
         ]
        },
        "yaxis4": {
         "anchor": "x4",
         "domain": [
          0.204,
          0.388
         ]
        },
        "yaxis5": {
         "anchor": "x5",
         "domain": [
          0,
          0.184
         ],
         "tickvals": [
          0.1,
          0.3,
          0.6,
          0.9
         ]
        }
       }
      },
      "text/html": [
       "<div>\n",
       "        \n",
       "        \n",
       "            <div id=\"c206e2de-d9fe-4738-896a-cd15e75f0f2c\" class=\"plotly-graph-div\" style=\"height:600px; width:1100px;\"></div>\n",
       "            <script type=\"text/javascript\">\n",
       "                require([\"plotly\"], function(Plotly) {\n",
       "                    window.PLOTLYENV=window.PLOTLYENV || {};\n",
       "                    \n",
       "                if (document.getElementById(\"c206e2de-d9fe-4738-896a-cd15e75f0f2c\")) {\n",
       "                    Plotly.newPlot(\n",
       "                        'c206e2de-d9fe-4738-896a-cd15e75f0f2c',\n",
       "                        [{\"line\": {\"color\": \"#636EFA\"}, \"mode\": \"markers\", \"name\": \"kVp\", \"type\": \"scatter\", \"x\": [\"2020-02-19T10:26:38\", \"2020-02-19T10:38:07\", \"2020-02-19T10:38:30\", \"2020-02-19T10:14:30\", \"2020-02-19T10:15:04\", \"2020-02-19T10:28:08\", \"2020-02-19T10:30:20\", \"2020-02-19T10:39:01\", \"2020-02-19T10:23:46\", \"2020-02-19T10:09:45\", \"2020-02-19T10:20:28\", \"2020-02-19T10:25:17\", \"2020-02-19T10:22:12\", \"2020-02-19T10:11:17\", \"2020-02-19T10:12:32\", \"2020-02-19T10:21:53\"], \"xaxis\": \"x\", \"y\": [110.3, 74.6, 74.6, 74.6, 74.6, 92.1, 74.6, 75.3, 102.0, 81.1, 74.6, 102.0, 81.3, 74.6, 74.6, 89.0], \"yaxis\": \"y\"}, {\"line\": {\"color\": \"#EF553B\"}, \"mode\": \"markers\", \"name\": \"mA\", \"type\": \"scatter\", \"x\": [\"2020-02-19T10:26:38\", \"2020-02-19T10:38:07\", \"2020-02-19T10:38:30\", \"2020-02-19T10:14:30\", \"2020-02-19T10:15:04\", \"2020-02-19T10:28:08\", \"2020-02-19T10:30:20\", \"2020-02-19T10:39:01\", \"2020-02-19T10:23:46\", \"2020-02-19T10:09:45\", \"2020-02-19T10:20:28\", \"2020-02-19T10:25:17\", \"2020-02-19T10:22:12\", \"2020-02-19T10:11:17\", \"2020-02-19T10:12:32\", \"2020-02-19T10:21:53\"], \"xaxis\": \"x2\", \"y\": [646.4, 194.5, 204.3, 117.3, 100.6, 341.4, 99.4, 236.0, 690.5, 16.6, 97.8, 690.4, 97.8, 60.6, 78.2, 352.3], \"yaxis\": \"y2\"}, {\"line\": {\"color\": \"#00CC96\"}, \"mode\": \"markers\", \"name\": \"ms\", \"type\": \"scatter\", \"x\": [\"2020-02-19T10:26:38\", \"2020-02-19T10:38:07\", \"2020-02-19T10:38:30\", \"2020-02-19T10:14:30\", \"2020-02-19T10:15:04\", \"2020-02-19T10:28:08\", \"2020-02-19T10:30:20\", \"2020-02-19T10:39:01\", \"2020-02-19T10:23:46\", \"2020-02-19T10:09:45\", \"2020-02-19T10:20:28\", \"2020-02-19T10:25:17\", \"2020-02-19T10:22:12\", \"2020-02-19T10:11:17\", \"2020-02-19T10:12:32\", \"2020-02-19T10:21:53\"], \"xaxis\": \"x3\", \"y\": [58.0, 12.8, 12.8, 11.600000000000001, 10.9, 30.5, 12.4, 13.2, 34.7, 3.6, 9.600000000000001, 36.6, 10.3, 3.5, 3.6, 21.1], \"yaxis\": \"y3\"}, {\"line\": {\"color\": \"#FECB52\"}, \"mode\": \"markers\", \"name\": \"PatientThickness\", \"type\": \"scatter\", \"x\": [\"2020-02-19T10:26:38\", \"2020-02-19T10:38:07\", \"2020-02-19T10:38:30\", \"2020-02-19T10:14:30\", \"2020-02-19T10:15:04\", \"2020-02-19T10:28:08\", \"2020-02-19T10:30:20\", \"2020-02-19T10:39:01\", \"2020-02-19T10:23:46\", \"2020-02-19T10:09:45\", \"2020-02-19T10:20:28\", \"2020-02-19T10:25:17\", \"2020-02-19T10:22:12\", \"2020-02-19T10:11:17\", \"2020-02-19T10:12:32\", \"2020-02-19T10:21:53\"], \"xaxis\": \"x4\", \"y\": [34.93, 26.64, 27.16, 22.15, 22.23, 27.95, 23.38, 28.19, 32.13, 10.68, 21.49, 32.43, 25.32, 13.43, 13.29, 25.09], \"yaxis\": \"y4\"}, {\"line\": {\"color\": \"#FFA15A\"}, \"mode\": \"markers\", \"name\": \"Cu\", \"type\": \"scatter\", \"x\": [\"2020-02-19T10:26:38\", \"2020-02-19T10:38:07\", \"2020-02-19T10:38:30\", \"2020-02-19T10:14:30\", \"2020-02-19T10:15:04\", \"2020-02-19T10:28:08\", \"2020-02-19T10:30:20\", \"2020-02-19T10:39:01\", \"2020-02-19T10:23:46\", \"2020-02-19T10:09:45\", \"2020-02-19T10:20:28\", \"2020-02-19T10:25:17\", \"2020-02-19T10:22:12\", \"2020-02-19T10:11:17\", \"2020-02-19T10:12:32\", \"2020-02-19T10:21:53\"], \"xaxis\": \"x5\", \"y\": [0.1, 0.6, 0.6, 0.6, 0.6, 0.2, 0.6, 0.6, 0.1, 0.9, 0.6, 0.1, 0.9, 0.6, 0.6, 0.3], \"yaxis\": \"y5\"}],\n",
       "                        {\"annotations\": [{\"font\": {\"size\": 16}, \"showarrow\": false, \"text\": \"kV\", \"textangle\": 90, \"x\": 0.98, \"xanchor\": \"left\", \"xref\": \"paper\", \"y\": 0.9079999999999999, \"yanchor\": \"middle\", \"yref\": \"paper\"}, {\"font\": {\"size\": 16}, \"showarrow\": false, \"text\": \"mA\", \"textangle\": 90, \"x\": 0.98, \"xanchor\": \"left\", \"xref\": \"paper\", \"y\": 0.7040000000000001, \"yanchor\": \"middle\", \"yref\": \"paper\"}, {\"font\": {\"size\": 16}, \"showarrow\": false, \"text\": \"ms\", \"textangle\": 90, \"x\": 0.98, \"xanchor\": \"left\", \"xref\": \"paper\", \"y\": 0.5, \"yanchor\": \"middle\", \"yref\": \"paper\"}, {\"font\": {\"size\": 16}, \"showarrow\": false, \"text\": \"Thickness\", \"textangle\": 90, \"x\": 0.98, \"xanchor\": \"left\", \"xref\": \"paper\", \"y\": 0.296, \"yanchor\": \"middle\", \"yref\": \"paper\"}, {\"font\": {\"size\": 16}, \"showarrow\": false, \"text\": \"Cu\", \"textangle\": 90, \"x\": 0.98, \"xanchor\": \"left\", \"xref\": \"paper\", \"y\": 0.092, \"yanchor\": \"middle\", \"yref\": \"paper\"}], \"autosize\": false, \"height\": 600, \"showlegend\": false, \"template\": {\"data\": {\"bar\": [{\"error_x\": {\"color\": \"#2a3f5f\"}, \"error_y\": {\"color\": \"#2a3f5f\"}, \"marker\": {\"line\": {\"color\": \"#E5ECF6\", \"width\": 0.5}}, \"type\": \"bar\"}], \"barpolar\": [{\"marker\": {\"line\": {\"color\": \"#E5ECF6\", \"width\": 0.5}}, \"type\": \"barpolar\"}], \"carpet\": [{\"aaxis\": {\"endlinecolor\": \"#2a3f5f\", \"gridcolor\": \"white\", \"linecolor\": \"white\", \"minorgridcolor\": \"white\", \"startlinecolor\": \"#2a3f5f\"}, \"baxis\": {\"endlinecolor\": \"#2a3f5f\", \"gridcolor\": \"white\", \"linecolor\": \"white\", \"minorgridcolor\": \"white\", \"startlinecolor\": \"#2a3f5f\"}, \"type\": \"carpet\"}], \"choropleth\": [{\"colorbar\": {\"outlinewidth\": 0, \"ticks\": \"\"}, \"type\": \"choropleth\"}], \"contour\": [{\"colorbar\": {\"outlinewidth\": 0, \"ticks\": \"\"}, \"colorscale\": [[0.0, \"#0d0887\"], [0.1111111111111111, \"#46039f\"], [0.2222222222222222, \"#7201a8\"], [0.3333333333333333, \"#9c179e\"], [0.4444444444444444, \"#bd3786\"], [0.5555555555555556, \"#d8576b\"], [0.6666666666666666, \"#ed7953\"], [0.7777777777777778, \"#fb9f3a\"], [0.8888888888888888, \"#fdca26\"], [1.0, \"#f0f921\"]], \"type\": \"contour\"}], \"contourcarpet\": [{\"colorbar\": {\"outlinewidth\": 0, \"ticks\": \"\"}, \"type\": \"contourcarpet\"}], \"heatmap\": [{\"colorbar\": {\"outlinewidth\": 0, \"ticks\": \"\"}, \"colorscale\": [[0.0, \"#0d0887\"], [0.1111111111111111, \"#46039f\"], [0.2222222222222222, \"#7201a8\"], [0.3333333333333333, \"#9c179e\"], [0.4444444444444444, \"#bd3786\"], [0.5555555555555556, \"#d8576b\"], [0.6666666666666666, \"#ed7953\"], [0.7777777777777778, \"#fb9f3a\"], [0.8888888888888888, \"#fdca26\"], [1.0, \"#f0f921\"]], \"type\": \"heatmap\"}], \"heatmapgl\": [{\"colorbar\": {\"outlinewidth\": 0, \"ticks\": \"\"}, \"colorscale\": [[0.0, \"#0d0887\"], [0.1111111111111111, \"#46039f\"], [0.2222222222222222, \"#7201a8\"], [0.3333333333333333, \"#9c179e\"], [0.4444444444444444, \"#bd3786\"], [0.5555555555555556, \"#d8576b\"], [0.6666666666666666, \"#ed7953\"], [0.7777777777777778, \"#fb9f3a\"], [0.8888888888888888, \"#fdca26\"], [1.0, \"#f0f921\"]], \"type\": \"heatmapgl\"}], \"histogram\": [{\"marker\": {\"colorbar\": {\"outlinewidth\": 0, \"ticks\": \"\"}}, \"type\": \"histogram\"}], \"histogram2d\": [{\"colorbar\": {\"outlinewidth\": 0, \"ticks\": \"\"}, \"colorscale\": [[0.0, \"#0d0887\"], [0.1111111111111111, \"#46039f\"], [0.2222222222222222, \"#7201a8\"], [0.3333333333333333, \"#9c179e\"], [0.4444444444444444, \"#bd3786\"], [0.5555555555555556, \"#d8576b\"], [0.6666666666666666, \"#ed7953\"], [0.7777777777777778, \"#fb9f3a\"], [0.8888888888888888, \"#fdca26\"], [1.0, \"#f0f921\"]], \"type\": \"histogram2d\"}], \"histogram2dcontour\": [{\"colorbar\": {\"outlinewidth\": 0, \"ticks\": \"\"}, \"colorscale\": [[0.0, \"#0d0887\"], [0.1111111111111111, \"#46039f\"], [0.2222222222222222, \"#7201a8\"], [0.3333333333333333, \"#9c179e\"], [0.4444444444444444, \"#bd3786\"], [0.5555555555555556, \"#d8576b\"], [0.6666666666666666, \"#ed7953\"], [0.7777777777777778, \"#fb9f3a\"], [0.8888888888888888, \"#fdca26\"], [1.0, \"#f0f921\"]], \"type\": \"histogram2dcontour\"}], \"mesh3d\": [{\"colorbar\": {\"outlinewidth\": 0, \"ticks\": \"\"}, \"type\": \"mesh3d\"}], \"parcoords\": [{\"line\": {\"colorbar\": {\"outlinewidth\": 0, \"ticks\": \"\"}}, \"type\": \"parcoords\"}], \"pie\": [{\"automargin\": true, \"type\": \"pie\"}], \"scatter\": [{\"marker\": {\"colorbar\": {\"outlinewidth\": 0, \"ticks\": \"\"}}, \"type\": \"scatter\"}], \"scatter3d\": [{\"line\": {\"colorbar\": {\"outlinewidth\": 0, \"ticks\": \"\"}}, \"marker\": {\"colorbar\": {\"outlinewidth\": 0, \"ticks\": \"\"}}, \"type\": \"scatter3d\"}], \"scattercarpet\": [{\"marker\": {\"colorbar\": {\"outlinewidth\": 0, \"ticks\": \"\"}}, \"type\": \"scattercarpet\"}], \"scattergeo\": [{\"marker\": {\"colorbar\": {\"outlinewidth\": 0, \"ticks\": \"\"}}, \"type\": \"scattergeo\"}], \"scattergl\": [{\"marker\": {\"colorbar\": {\"outlinewidth\": 0, \"ticks\": \"\"}}, \"type\": \"scattergl\"}], \"scattermapbox\": [{\"marker\": {\"colorbar\": {\"outlinewidth\": 0, \"ticks\": \"\"}}, \"type\": \"scattermapbox\"}], \"scatterpolar\": [{\"marker\": {\"colorbar\": {\"outlinewidth\": 0, \"ticks\": \"\"}}, \"type\": \"scatterpolar\"}], \"scatterpolargl\": [{\"marker\": {\"colorbar\": {\"outlinewidth\": 0, \"ticks\": \"\"}}, \"type\": \"scatterpolargl\"}], \"scatterternary\": [{\"marker\": {\"colorbar\": {\"outlinewidth\": 0, \"ticks\": \"\"}}, \"type\": \"scatterternary\"}], \"surface\": [{\"colorbar\": {\"outlinewidth\": 0, \"ticks\": \"\"}, \"colorscale\": [[0.0, \"#0d0887\"], [0.1111111111111111, \"#46039f\"], [0.2222222222222222, \"#7201a8\"], [0.3333333333333333, \"#9c179e\"], [0.4444444444444444, \"#bd3786\"], [0.5555555555555556, \"#d8576b\"], [0.6666666666666666, \"#ed7953\"], [0.7777777777777778, \"#fb9f3a\"], [0.8888888888888888, \"#fdca26\"], [1.0, \"#f0f921\"]], \"type\": \"surface\"}], \"table\": [{\"cells\": {\"fill\": {\"color\": \"#EBF0F8\"}, \"line\": {\"color\": \"white\"}}, \"header\": {\"fill\": {\"color\": \"#C8D4E3\"}, \"line\": {\"color\": \"white\"}}, \"type\": \"table\"}]}, \"layout\": {\"annotationdefaults\": {\"arrowcolor\": \"#2a3f5f\", \"arrowhead\": 0, \"arrowwidth\": 1}, \"coloraxis\": {\"colorbar\": {\"outlinewidth\": 0, \"ticks\": \"\"}}, \"colorscale\": {\"diverging\": [[0, \"#8e0152\"], [0.1, \"#c51b7d\"], [0.2, \"#de77ae\"], [0.3, \"#f1b6da\"], [0.4, \"#fde0ef\"], [0.5, \"#f7f7f7\"], [0.6, \"#e6f5d0\"], [0.7, \"#b8e186\"], [0.8, \"#7fbc41\"], [0.9, \"#4d9221\"], [1, \"#276419\"]], \"sequential\": [[0.0, \"#0d0887\"], [0.1111111111111111, \"#46039f\"], [0.2222222222222222, \"#7201a8\"], [0.3333333333333333, \"#9c179e\"], [0.4444444444444444, \"#bd3786\"], [0.5555555555555556, \"#d8576b\"], [0.6666666666666666, \"#ed7953\"], [0.7777777777777778, \"#fb9f3a\"], [0.8888888888888888, \"#fdca26\"], [1.0, \"#f0f921\"]], \"sequentialminus\": [[0.0, \"#0d0887\"], [0.1111111111111111, \"#46039f\"], [0.2222222222222222, \"#7201a8\"], [0.3333333333333333, \"#9c179e\"], [0.4444444444444444, \"#bd3786\"], [0.5555555555555556, \"#d8576b\"], [0.6666666666666666, \"#ed7953\"], [0.7777777777777778, \"#fb9f3a\"], [0.8888888888888888, \"#fdca26\"], [1.0, \"#f0f921\"]]}, \"colorway\": [\"#636efa\", \"#EF553B\", \"#00cc96\", \"#ab63fa\", \"#FFA15A\", \"#19d3f3\", \"#FF6692\", \"#B6E880\", \"#FF97FF\", \"#FECB52\"], \"font\": {\"color\": \"#2a3f5f\"}, \"geo\": {\"bgcolor\": \"white\", \"lakecolor\": \"white\", \"landcolor\": \"#E5ECF6\", \"showlakes\": true, \"showland\": true, \"subunitcolor\": \"white\"}, \"hoverlabel\": {\"align\": \"left\"}, \"hovermode\": \"closest\", \"mapbox\": {\"style\": \"light\"}, \"paper_bgcolor\": \"white\", \"plot_bgcolor\": \"#E5ECF6\", \"polar\": {\"angularaxis\": {\"gridcolor\": \"white\", \"linecolor\": \"white\", \"ticks\": \"\"}, \"bgcolor\": \"#E5ECF6\", \"radialaxis\": {\"gridcolor\": \"white\", \"linecolor\": \"white\", \"ticks\": \"\"}}, \"scene\": {\"xaxis\": {\"backgroundcolor\": \"#E5ECF6\", \"gridcolor\": \"white\", \"gridwidth\": 2, \"linecolor\": \"white\", \"showbackground\": true, \"ticks\": \"\", \"zerolinecolor\": \"white\"}, \"yaxis\": {\"backgroundcolor\": \"#E5ECF6\", \"gridcolor\": \"white\", \"gridwidth\": 2, \"linecolor\": \"white\", \"showbackground\": true, \"ticks\": \"\", \"zerolinecolor\": \"white\"}, \"zaxis\": {\"backgroundcolor\": \"#E5ECF6\", \"gridcolor\": \"white\", \"gridwidth\": 2, \"linecolor\": \"white\", \"showbackground\": true, \"ticks\": \"\", \"zerolinecolor\": \"white\"}}, \"shapedefaults\": {\"line\": {\"color\": \"#2a3f5f\"}}, \"ternary\": {\"aaxis\": {\"gridcolor\": \"white\", \"linecolor\": \"white\", \"ticks\": \"\"}, \"baxis\": {\"gridcolor\": \"white\", \"linecolor\": \"white\", \"ticks\": \"\"}, \"bgcolor\": \"#E5ECF6\", \"caxis\": {\"gridcolor\": \"white\", \"linecolor\": \"white\", \"ticks\": \"\"}}, \"title\": {\"x\": 0.05}, \"xaxis\": {\"automargin\": true, \"gridcolor\": \"white\", \"linecolor\": \"white\", \"ticks\": \"\", \"title\": {\"standoff\": 15}, \"zerolinecolor\": \"white\", \"zerolinewidth\": 2}, \"yaxis\": {\"automargin\": true, \"gridcolor\": \"white\", \"linecolor\": \"white\", \"ticks\": \"\", \"title\": {\"standoff\": 15}, \"zerolinecolor\": \"white\", \"zerolinewidth\": 2}}}, \"width\": 1100, \"xaxis\": {\"anchor\": \"y\", \"domain\": [0.0, 0.98], \"matches\": \"x5\", \"showticklabels\": false}, \"xaxis2\": {\"anchor\": \"y2\", \"domain\": [0.0, 0.98], \"matches\": \"x5\", \"showticklabels\": false}, \"xaxis3\": {\"anchor\": \"y3\", \"domain\": [0.0, 0.98], \"matches\": \"x5\", \"showticklabels\": false}, \"xaxis4\": {\"anchor\": \"y4\", \"domain\": [0.0, 0.98], \"matches\": \"x5\", \"showticklabels\": false}, \"xaxis5\": {\"anchor\": \"y5\", \"domain\": [0.0, 0.98]}, \"yaxis\": {\"anchor\": \"x\", \"domain\": [0.816, 1.0]}, \"yaxis2\": {\"anchor\": \"x2\", \"domain\": [0.6120000000000001, 0.796]}, \"yaxis3\": {\"anchor\": \"x3\", \"domain\": [0.408, 0.592]}, \"yaxis4\": {\"anchor\": \"x4\", \"domain\": [0.204, 0.388]}, \"yaxis5\": {\"anchor\": \"x5\", \"domain\": [0.0, 0.184], \"tickvals\": [0.1, 0.3, 0.6, 0.9]}},\n",
       "                        {\"responsive\": true}\n",
       "                    ).then(function(){\n",
       "                            \n",
       "var gd = document.getElementById('c206e2de-d9fe-4738-896a-cd15e75f0f2c');\n",
       "var x = new MutationObserver(function (mutations, observer) {{\n",
       "        var display = window.getComputedStyle(gd).display;\n",
       "        if (!display || display === 'none') {{\n",
       "            console.log([gd, 'removed!']);\n",
       "            Plotly.purge(gd);\n",
       "            observer.disconnect();\n",
       "        }}\n",
       "}});\n",
       "\n",
       "// Listen for the removal of the full notebook cells\n",
       "var notebookContainer = gd.closest('#notebook-container');\n",
       "if (notebookContainer) {{\n",
       "    x.observe(notebookContainer, {childList: true});\n",
       "}}\n",
       "\n",
       "// Listen for the clearing of the current output cell\n",
       "var outputEl = gd.closest('.output');\n",
       "if (outputEl) {{\n",
       "    x.observe(outputEl, {childList: true});\n",
       "}}\n",
       "\n",
       "                        })\n",
       "                };\n",
       "                });\n",
       "            </script>\n",
       "        </div>"
      ]
     },
     "metadata": {},
     "output_type": "display_data"
    }
   ],
   "source": [
    "fig = make_subplots(rows=5, cols=1, \n",
    "                    shared_xaxes=True, \n",
    "                    vertical_spacing=0.02,\n",
    "                    row_titles=['kV','mA','ms','Thickness','Cu']\n",
    "                   )\n",
    "# ['#636EFA', '#EF553B', '#00CC96', '#AB63FA', '#FFA15A', '#19D3F3', '#FF6692', '#B6E880', '#FF97FF', '#FECB52']\n",
    "\n",
    "fig.add_trace(go.Scatter(\n",
    "    x=data_vv[data_vv.AccessionNumber==unikacc_vv[28]].DateTimeStarted,\n",
    "    y=data_vv[data_vv.AccessionNumber==unikacc_vv[28]].kVp,\n",
    "    mode='markers',\n",
    "    name='kVp',\n",
    "    line = dict(color='#636EFA')),\n",
    "              row=1, col=1\n",
    "             )\n",
    "\n",
    "fig.add_trace(go.Scatter(\n",
    "    x=data_vv[data_vv.AccessionNumber==unikacc_vv[28]].DateTimeStarted,\n",
    "    y=data_vv[data_vv.AccessionNumber==unikacc_vv[28]].XrayTubeCurrent,\n",
    "    mode='markers',\n",
    "    name='mA',\n",
    "    line = dict(color='#EF553B')),\n",
    "              row=2, col=1\n",
    "             )\n",
    "\n",
    "fig.add_trace(go.Scatter(\n",
    "    x=data_vv[data_vv.AccessionNumber==unikacc_vv[28]].DateTimeStarted,\n",
    "    y=data_vv[data_vv.AccessionNumber==unikacc_vv[28]].PulseWidth*1000,\n",
    "    mode='markers',\n",
    "    name='ms',\n",
    "    line = dict(color='#00CC96')),\n",
    "              row=3, col=1\n",
    "             )\n",
    "\n",
    "fig.add_trace(go.Scatter(\n",
    "    x=data_vv[data_vv.AccessionNumber==unikacc_vv[28]].DateTimeStarted,\n",
    "    y=data_vv[data_vv.AccessionNumber==unikacc_vv[28]].PatientEquivalentThickness,\n",
    "    mode='markers',\n",
    "    name='PatientThickness',\n",
    "    line = dict(color='#FECB52')),\n",
    "             row=4, col=1\n",
    "             )\n",
    "\n",
    "fig.add_trace(go.Scatter(\n",
    "    x=data_vv[data_vv.AccessionNumber==unikacc_vv[28]].DateTimeStarted,\n",
    "    y=data_vv[data_vv.AccessionNumber==unikacc_vv[28]].XrayFilterThicknessMinimum,\n",
    "    mode='markers',\n",
    "    name='Cu',\n",
    "    line = dict(color='#FFA15A')),\n",
    "             row=5, col=1\n",
    "             )\n",
    "\n",
    "fig.update_yaxes(tickvals=[0.1, 0.3, 0.6, 0.9], row=5)\n",
    "\n",
    "fig.update_layout(\n",
    "    autosize=False,\n",
    "    width=1100,\n",
    "    height=600,\n",
    "    showlegend=False\n",
    ")\n",
    "\n",
    "\n",
    "fig.show()\n"
   ]
  },
  {
   "cell_type": "code",
   "execution_count": 81,
   "metadata": {},
   "outputs": [
    {
     "data": {
      "text/html": [
       "<div>\n",
       "<style scoped>\n",
       "    .dataframe tbody tr th:only-of-type {\n",
       "        vertical-align: middle;\n",
       "    }\n",
       "\n",
       "    .dataframe tbody tr th {\n",
       "        vertical-align: top;\n",
       "    }\n",
       "\n",
       "    .dataframe thead th {\n",
       "        text-align: right;\n",
       "    }\n",
       "</style>\n",
       "<table border=\"1\" class=\"dataframe\">\n",
       "  <thead>\n",
       "    <tr style=\"text-align: right;\">\n",
       "      <th></th>\n",
       "      <th>Lab</th>\n",
       "      <th>pt</th>\n",
       "      <th>kV</th>\n",
       "    </tr>\n",
       "  </thead>\n",
       "  <tbody>\n",
       "    <tr>\n",
       "      <th>0</th>\n",
       "      <td>L3</td>\n",
       "      <td>30</td>\n",
       "      <td>70</td>\n",
       "    </tr>\n",
       "    <tr>\n",
       "      <th>1</th>\n",
       "      <td>U110</td>\n",
       "      <td>35</td>\n",
       "      <td>72</td>\n",
       "    </tr>\n",
       "    <tr>\n",
       "      <th>2</th>\n",
       "      <td>S08</td>\n",
       "      <td>50</td>\n",
       "      <td>79</td>\n",
       "    </tr>\n",
       "    <tr>\n",
       "      <th>3</th>\n",
       "      <td>L3</td>\n",
       "      <td>35</td>\n",
       "      <td>72</td>\n",
       "    </tr>\n",
       "  </tbody>\n",
       "</table>\n",
       "</div>"
      ],
      "text/plain": [
       "    Lab  pt  kV\n",
       "0    L3  30  70\n",
       "1  U110  35  72\n",
       "2   S08  50  79\n",
       "3    L3  35  72"
      ]
     },
     "execution_count": 81,
     "metadata": {},
     "output_type": "execute_result"
    }
   ],
   "source": [
    "df2 = pd.DataFrame(np.array([['L3', 300, 70], ['U110', 35, 72], ['S08', 50, 79], ['L3', 350, 72]]), columns=['Lab', 'pt', 'kV'])\n",
    "\n",
    "df2['pt'] = df2['pt'].astype(int)\n",
    "\n",
    "i=0\n",
    "for i in range(len(df2)):\n",
    "    if df2['Lab'][i] == 'L3':\n",
    "        df2['pt'][i] = df2['pt'][i]/10\n",
    "\n",
    "#j=0\n",
    "#for j in range(len(data_vv)):\n",
    "#    if data_vv['DisplayName'][j] == 'L3':\n",
    "#        data_vv['PatientEquivalentThickness'][j] = data_vv['PatientEquivalentThickness'][j]/10\n",
    "\n",
    "#conditions = [\n",
    "#    (df2['Lab'] == 'L3'),\n",
    "#    (df2['Lab'] == 'U110'),\n",
    "#    (df2['Lab'] == 'S08')]\n",
    "#choices = [10,1,1]\n",
    "\n",
    "#df2['vikt'] = np.select(conditions, choices, default='null')\n",
    "#df2['pt'] = df2['pt'].astype(int)\n",
    "#df2['vikt'] = df2['vikt'].astype(int)\n",
    "#df2['ny_pt'] = df2['pt']/df2['vikt']\n",
    "\n",
    "df2"
   ]
  },
  {
   "cell_type": "code",
   "execution_count": null,
   "metadata": {},
   "outputs": [],
   "source": []
  }
 ],
 "metadata": {
  "kernelspec": {
   "display_name": "Python 3",
   "language": "python",
   "name": "python3"
  },
  "language_info": {
   "codemirror_mode": {
    "name": "ipython",
    "version": 3
   },
   "file_extension": ".py",
   "mimetype": "text/x-python",
   "name": "python",
   "nbconvert_exporter": "python",
   "pygments_lexer": "ipython3",
   "version": "3.7.4"
  }
 },
 "nbformat": 4,
 "nbformat_minor": 4
}
