{
 "cells": [
  {
   "cell_type": "markdown",
   "source": [
    "## Analysera data från SSP"
   ],
   "metadata": {
    "collapsed": false
   }
  },
  {
   "cell_type": "code",
   "execution_count": null,
   "outputs": [],
   "source": [
    "import pandas as pd\n",
    "\n",
    "# Läs in data från SSP\n",
    "\n",
    "SSP_data_path = \"C:/Projekt/GIT/rvbrtg/Data/input_data/SSP_2023.csv\"\n",
    "data = pd.read_csv(SSP_data_path)\n",
    "\n",
    "data.head()"
   ],
   "metadata": {
    "collapsed": false
   }
  },
  {
   "cell_type": "code",
   "execution_count": null,
   "outputs": [],
   "source": [
    "#Minska ner tabellen och döp om kolumner\n",
    "\n",
    "data_subset = data[data.dirty_name == 'Ortopedisk klinik Umeå']\n",
    "\n",
    "#data_subset.columns = [\"Sex\", \"Age\", \"Length_cm\", \"Weight_kg\", \"Operator\", \"Accesspoint\", \"Lab\", \"KAP_uGym2\", \"Fluorotime_h_mm_ss\"]\n",
    "\n",
    "data_subset.head()"
   ],
   "metadata": {
    "collapsed": false
   }
  },
  {
   "cell_type": "code",
   "execution_count": null,
   "outputs": [],
   "source": [
    "#Kolla datatyper. Är KAP numeriskt eller en sträng\n",
    "\n",
    "data_subset.dtypes"
   ],
   "metadata": {
    "collapsed": false
   }
  },
  {
   "cell_type": "code",
   "execution_count": null,
   "outputs": [],
   "source": [
    "total_time_studytype = data_subset.groupby(\n",
    "    [\"dirty_name.1\", \"description\"])[\"fluoro_time\"].count().reset_index()\n",
    "total_time_studytype"
   ],
   "metadata": {
    "collapsed": false
   }
  },
  {
   "cell_type": "code",
   "execution_count": null,
   "outputs": [],
   "source": [
    "#Minska ner tabellen och döp om kolumner\n",
    "\n",
    "data_subset_study = data_subset[data_subset.description == 'Ortopedi - Akut, Fraktur, knä - underben, Tibia - Fraktur - VA proximal tibia']\n",
    "\n",
    "#data_subset.columns = [\"Sex\", \"Age\", \"Length_cm\", \"Weight_kg\", \"Operator\", \"Accesspoint\", \"Lab\", \"KAP_uGym2\", \"Fluorotime_h_mm_ss\"]\n",
    "\n",
    "total_time_studytype_tibia = data_subset_study.groupby(\n",
    "    [\"dirty_name.1\", \"description\"])[\"fluoro_time\"].median().reset_index()\n",
    "total_time_studytype_tibia"
   ],
   "metadata": {
    "collapsed": false
   }
  },
  {
   "cell_type": "code",
   "outputs": [],
   "source": [
    "total_time_studytype_tibia = data_subset_study.groupby(\n",
    "    [\"dirty_name.1\", \"description\"])[\"fluoro_time\"].count().reset_index()\n",
    "total_time_studytype_tibia"
   ],
   "metadata": {
    "collapsed": false
   },
   "execution_count": null
  }
 ],
 "metadata": {
  "kernelspec": {
   "display_name": "Python 3",
   "language": "python",
   "name": "python3"
  },
  "language_info": {
   "codemirror_mode": {
    "name": "ipython",
    "version": 2
   },
   "file_extension": ".py",
   "mimetype": "text/x-python",
   "name": "python",
   "nbconvert_exporter": "python",
   "pygments_lexer": "ipython2",
   "version": "2.7.6"
  }
 },
 "nbformat": 4,
 "nbformat_minor": 0
}
