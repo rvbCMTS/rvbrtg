{
 "cells": [
  {
   "cell_type": "markdown",
   "id": "8b4eaf1e9f495e40",
   "metadata": {
    "collapsed": false
   },
   "source": [
    "## Importer av paket och data från REMbox"
   ]
  },
  {
   "cell_type": "code",
   "execution_count": null,
   "id": "411b2d22d2f429d3",
   "metadata": {
    "collapsed": false
   },
   "outputs": [],
   "source": [
    "import pandas as pd \n",
    "import math\n",
    "import hvplot.pandas #noqa #plotpaket\n",
    "from datetime import datetime\n",
    "import plotly.graph_objects as go\n",
    "from plotly.subplots import make_subplots\n",
    "import plotly.express as px\n",
    "from rembox_integration_tools import REMboxDataQuery\n",
    "from rembox_integration_tools.rembox_analysis import StudyColumn, SeriesColumn\n",
    "from pathlib import Path\n",
    "\n",
    "# om plotly önskas så skrivs följande hvplot.extension(\"plotly\")\n",
    "hvplot.extension(\"bokeh\")\n",
    "\n",
    "CLIENT_ID_ENV_VAR = \"REMBOX_INT_CLIENT_ID\"\n",
    "CLIENT_PWD_ENV_VAR = \"REMBOX_INT_CLIENT_PWD\"\n",
    "TOKEN_URI = \"https://autoqa.vll.se/dpqaauth/connect/token\" #Var finns access token\n",
    "API_URI = \"https://rembox.vll.se/api\" #Var finns API:t\n",
    "ORIGIN_URI = \"https://rembox.vll.se\" #Vilken URL\n",
    "\n",
    "rembox = REMboxDataQuery(\n",
    "    client_id_environment_variable=CLIENT_ID_ENV_VAR,\n",
    "    client_secret_environment_variable=CLIENT_PWD_ENV_VAR,\n",
    "    token_uri=TOKEN_URI,\n",
    "    api_uri=API_URI,\n",
    "    origin_uri=ORIGIN_URI,\n",
    "    verify_ssl_cert=False\n",
    ")\n",
    "\n",
    "valid_study_columns = StudyColumn()\n",
    "valid_series_columns = SeriesColumn()"
   ]
  },
  {
   "cell_type": "code",
   "execution_count": null,
   "id": "9d21fb72",
   "metadata": {},
   "outputs": [],
   "source": [
    "rembox.reset_filter_options()\n",
    "def get_data_from_fluoro(rembox: REMboxDataQuery) -> tuple[pd.DataFrame, pd.DataFrame]:\n",
    "\n",
    "    \n",
    "    rembox.filter_options.set_inclusive_tags(\n",
    "        machine_types=[\"XASTAT\"],     # CT-CT, Fluoroscopic-XASTAT, Mobile C-arm-XAMOB, Conventional-DX, Mammography-MG, Intraoral-IO, Panoramic-PX, Dental Cone Beam CT-DCBCT, PET-PET, PET/CT-PETCT, SPECT-SPECT, SPECT/CT-SPECTCT, Nuclear Medicine-NM, Mobile X-ray-DXMOB, Conventional with fluoro-DXXA\n",
    "        machines=[\"U104\", \"U104_2024\", \"U104_2023\"]#, \"U105\", \"U105_2022_05\", \"U106\", \"U106_2023_01\", \"U601\", \"U602\", \"Arytmi1\", \"Arytmi2\", \"Arytmi2_2024\"]        # INR, IR1, IR2, PCI1, PCI2, Morran, Mumin\n",
    "    )\n",
    "    \n",
    "    #rembox.filter_options.set_exclusive_tags() om jag vill ange filter där man bortser från ett visst kriterie\n",
    "\n",
    "    rembox.filter_options.patient_age_interval_include_nulls = True\n",
    "    \n",
    "    rembox.filter_options.study_time_interval_start_date = \"2022-01-01T00:00:00Z\"\n",
    "    rembox.filter_options.study_time_interval_end_date = \"2025-04-08T00:00:00Z\"\n",
    "    \n",
    "    rembox.deanonymize_performing_physician = True\n",
    "    \n",
    "    rembox.add_columns(\n",
    "        columns=[\n",
    "            valid_study_columns.StudyDateTime,\n",
    "            valid_study_columns.AccessionNumber,\n",
    "            valid_study_columns.AcquisitionDoseAreaProductTotal,\n",
    "            valid_study_columns.AcquisitionDoseRPTotal,\n",
    "            valid_study_columns.AcquisitionPlane,\n",
    "            #valid_study_columns.CalibrationDate,\n",
    "            #valid_study_columns.CalibrationFactor,\n",
    "            #valid_study_columns.CalibrationProtocol,\n",
    "            #valid_study_columns.CalibrationResponsibleParty,\n",
    "            #valid_study_columns.CalibrationUncertainty,\n",
    "            valid_study_columns.City,\n",
    "            valid_study_columns.ConvFluoroClassifier,\n",
    "            valid_study_columns.DoseAreaProductTotal,\n",
    "            valid_study_columns.DoseMeasurementDevice,\n",
    "            valid_study_columns.DoseRPTotal,\n",
    "            valid_study_columns.FluoroDoseAreaProductTotal,\n",
    "            valid_study_columns.FluoroDoseRPTotal,\n",
    "            valid_study_columns.HasIntent,\n",
    "            #valid_study_columns.HalfValueLayer,\n",
    "            valid_study_columns.Hospital,\n",
    "            valid_study_columns.Id,\n",
    "            valid_study_columns.Machine,\n",
    "            #valid_study_columns.MeanBodyThickness,\n",
    "            #valid_study_columns.MaximumBodyThickness,\n",
    "            #valid_study_columns.MinimumBodyThickness,\n",
    "            valid_study_columns.PatientAge,\n",
    "            valid_study_columns.PatientAgeUnit,\n",
    "            valid_study_columns.PatientDbId,\n",
    "            valid_study_columns.PatientId,\n",
    "            #valid_study_columns.PatientModel,\n",
    "            #valid_study_columns.PatientsBodyMassIndex,\n",
    "            #valid_study_columns.PatientsName,\n",
    "            valid_study_columns.PatientsSex,\n",
    "            valid_study_columns.PatientsSize,\n",
    "            valid_study_columns.PatientsSizeDate,\n",
    "            valid_study_columns.PatientsSizeSource,\n",
    "            valid_study_columns.PatientsWeight,\n",
    "            valid_study_columns.PatientsWeightDate,\n",
    "            valid_study_columns.PatientsWeightSource,\n",
    "            #valid_study_columns.PerformingPhysicianIdentificationSequence,\n",
    "            valid_study_columns.PSD, # ------------------------------------------------------PSD?\n",
    "            valid_study_columns.PerformingPhysicianName,\n",
    "            #valid_study_columns.PregnancyStatus,\n",
    "            valid_study_columns.ProcedureCode,\n",
    "            valid_study_columns.ProcedureCodeMeaning,\n",
    "            valid_study_columns.ProcedureReported,\n",
    "            valid_study_columns.ProtocolCode,\n",
    "            valid_study_columns.ProtocolCodeMeaning,\n",
    "            #valid_study_columns.ReferenceAuthority,\n",
    "            #valid_study_columns.ReferencedSopInstanceUid,\n",
    "            valid_study_columns.ReferencePointDefinition,\n",
    "            #valid_study_columns.ReferencePointDefinitionCode,\n",
    "            valid_study_columns.ReferringPhysicianIdentificationSequence,\n",
    "            valid_study_columns.ReferringPhysiciansName,\n",
    "            #valid_study_columns.RequestedProcedureCode,\n",
    "            #valid_study_columns.RequestedProcedureCodeMeaning,\n",
    "            valid_study_columns.ScopeOfAccumulation,\n",
    "            valid_study_columns.SoftwareVersions,\n",
    "            #valid_study_columns.StartOfXrayIrradiation,\n",
    "            #valid_study_columns.StudyDateTime, --------- La denna överst\n",
    "            valid_study_columns.StudyDescription,\n",
    "            valid_study_columns.StudyId,\n",
    "            valid_study_columns.StudyInstanceUID,\n",
    "            valid_study_columns.TotalAcquisitionTime,\n",
    "            valid_study_columns.TotalFluoroTime,\n",
    "            valid_study_columns.TotalNumberOfIrradiationEvents,\n",
    "            valid_study_columns.TotalNumberOfRadiographicFrames,\n",
    "            valid_series_columns.AcquisitionPlaneSeries,\n",
    "            valid_series_columns.AcquisitionProtocol,\n",
    "            #valid_series_columns.AcquisitionType,\n",
    "            #valid_series_columns.ApplicationName, #--------------------------------------Här finns protokollnamn för Azurion\n",
    "            #valid_series_columns.AnatomicalStructure,\n",
    "            #valid_series_columns.AnodeTargetMaterial,\n",
    "            valid_series_columns.AverageXrayTubeCurrent,\n",
    "            valid_series_columns.CollimatedFieldArea,\n",
    "            valid_series_columns.CollimatedFieldHeight,\n",
    "            valid_series_columns.CollimatedFieldWidth,\n",
    "            #valid_series_columns.ColumnAngulation,\n",
    "            #valid_series_columns.CrdrMechanicalConfiguration,\n",
    "            valid_series_columns.DateTimeStarted,\n",
    "            #valid_series_columns.DerivedEffectiveDiameter,\n",
    "            #valid_series_columns.DeviationIndex,\n",
    "            valid_series_columns.DistanceSourceToDetector,\n",
    "            valid_series_columns.DistanceSourceToIsocenter,\n",
    "            valid_series_columns.DistanceSourceToReferencePoint,\n",
    "            #valid_series_columns.DistanceSourceToTablePlane,\n",
    "            valid_series_columns.DoseAreaProduct,\n",
    "            valid_series_columns.DoseRP,\n",
    "            #valid_series_columns.EffectiveDose,\n",
    "            #valid_series_columns.EffectiveDoseConversionFactor,\n",
    "            #valid_series_columns.EntranceExposureAtRP,\n",
    "            #valid_series_columns.ExposedRange,\n",
    "            valid_series_columns.Exposure,\n",
    "            #valid_series_columns.ExposureIndex,\n",
    "            #valid_series_columns.ExposureTime,\n",
    "            #valid_series_columns.ExposureTimePerRotation,\n",
    "            valid_series_columns.FluoroMode,\n",
    "            #valid_series_columns.FluoroFlavour, # -------------------------------------------- Här finns pulsrat för Azurion\n",
    "            #valid_series_columns.FrameOfReferenceUID,\n",
    "            #valid_series_columns.IdentificationOfTheXraySource,\n",
    "            #valid_series_columns.ImageView,\n",
    "            #valid_series_columns.ImageViewModifier,\n",
    "            valid_series_columns.IrradiationDuration,\n",
    "            #valid_series_columns.IrradiationEventLabel,\n",
    "            valid_series_columns.IrradiationEventType,\n",
    "            valid_series_columns.IrradiationEventUID,\n",
    "            valid_series_columns.kVp,\n",
    "            #valid_series_columns.LabelType,\n",
    "            #valid_series_columns.Laterality,\n",
    "            #valid_series_columns.MaximumXrayTubeCurrent,\n",
    "            #valid_series_columns.MeasurementMethodDose,\n",
    "            #valid_series_columns.NominalCollimationWidth,\n",
    "            #valid_series_columns.NominalTotalCollimationWidth,\n",
    "            valid_series_columns.NumberOfPulses,\n",
    "            #valid_series_columns.NumberOfXraySources,\n",
    "            valid_series_columns.PatientEquivalentThickness,\n",
    "            valid_series_columns.PatientOrientation,\n",
    "            valid_series_columns.PatientOrientationModifier,\n",
    "            valid_series_columns.PatientTableRelationship,\n",
    "            valid_series_columns.PositionerPrimaryAngle,\n",
    "            #valid_series_columns.PositionerPrimaryEndAngle,\n",
    "            valid_series_columns.PositionerSecondaryAngle,\n",
    "            #valid_series_columns.PositionerSecondaryEndAngle,\n",
    "            #valid_series_columns.ProcedureContext,\n",
    "            #valid_series_columns.ProjectionEponymousName,\n",
    "            valid_series_columns.PulseRate,\n",
    "            valid_series_columns.PulseWidth,\n",
    "            #valid_series_columns.ReconstructionAlgortihm,\n",
    "            valid_series_columns.ReferencePointDefinitionText,\n",
    "            valid_series_columns.SpotSize,\n",
    "            valid_series_columns.TableCradleTiltAngle,\n",
    "            valid_series_columns.TableHeadTiltAngle,\n",
    "            #valid_series_columns.TableHeightEndPosition,\n",
    "            valid_series_columns.TableHeightPosition,\n",
    "            valid_series_columns.TableHorizontalRotationAngle,\n",
    "            #valid_series_columns.TableLateralEndPosition,\n",
    "            valid_series_columns.TableLateralPosition,\n",
    "            #valid_series_columns.TableLongitudinalEndPosition,\n",
    "            valid_series_columns.TableLongitudinalPosition,\n",
    "            #valid_series_columns.TargetExposureIndex,\n",
    "            valid_series_columns.TargetRegion,\n",
    "            #valid_series_columns.WaterEquivalentDiameter,\n",
    "            #valid_series_columns.WedMeasurementMethod,\n",
    "            #valid_series_columns.XrayFilterAluminumEquivalent,\n",
    "            valid_series_columns.XrayFilterMaterial,\n",
    "            valid_series_columns.XrayFilterThicknessMaximum,\n",
    "            valid_series_columns.XrayFilterThicknessMinimum,\n",
    "            valid_series_columns.XrayFilterType,\n",
    "            #valid_series_columns.XrayGrid,\n",
    "            #valid_series_columns.XrayGridAspectRatio,\n",
    "            #valid_series_columns.XrayGridFocalDistance,\n",
    "            #valid_series_columns.XrayGridPitch,\n",
    "            #valid_series_columns.XrayModulationType,\n",
    "            valid_series_columns.XrayTubeCurrent\n",
    "        ]\n",
    "    )\n",
    "\n",
    "    return rembox.run_query()"
   ]
  },
  {
   "cell_type": "code",
   "execution_count": null,
   "id": "a09b026b",
   "metadata": {},
   "outputs": [],
   "source": [
    "#Hämta data från REMbox\n",
    "study_data, series_data = get_data_from_fluoro(rembox=rembox)"
   ]
  },
  {
   "cell_type": "code",
   "execution_count": null,
   "id": "9e0b8e7d230bc5df",
   "metadata": {
    "collapsed": false
   },
   "outputs": [],
   "source": [
    "#Export av data till csv\n",
    "study_data.to_csv(\"C:/Users/chgr09/GIT/rvbrtg/Data/output_data/XA_study_2023.csv\")\n",
    "#series_data.to_csv(\"C:/Users/chgr09/GIT/rvbrtg/Data/output_data/XA_series_2023.csv\")"
   ]
  },
  {
   "cell_type": "markdown",
   "id": "c67afa51e0f708df",
   "metadata": {
    "collapsed": false
   },
   "source": [
    "## Kontroller av data och hantering av dataframes"
   ]
  },
  {
   "cell_type": "code",
   "execution_count": null,
   "id": "7b49419f",
   "metadata": {},
   "outputs": [],
   "source": [
    "study = study_data.copy() #skapa kopia av dataframe på study-nivå för att kunna behålla orginalet\n",
    "series = series_data.copy() #skapa kopia av dataframe på serie-nivå för att kunna behålla orginalet\n",
    "\n",
    "#Ta bort undersökningar från testpatient U105 som har PatientId = LO_sgY+/xUXOYtGGM1+o+JXSO9IQy9LaYFpsPIl/UAWtP0=\n",
    "#Ta bort undersökningar från testpatient U106 som har PatientId = LO_9a9c67eb_5dc1_43ed_8008_858c4683e27d"
   ]
  },
  {
   "cell_type": "code",
   "execution_count": null,
   "id": "11fc515a",
   "metadata": {},
   "outputs": [],
   "source": [
    "#Räkna antal ingrepp och antal unika patienter\n",
    "exams = study[\"patientDbId\"].count()\n",
    "patients = study[\"patientDbId\"].nunique() #Count number of distinct elements in specified axis. Can ignore NaN values\n",
    "\n",
    "print(exams, \"undersökningar/ingrepp fördelat på\", patients, \"patienter\")\n",
    "\n",
    "# Ta bort alla dubletter där 1mm Al-filter visas istället för Cu-filter \n",
    "# TODO: Gör separata kolumner för Al och Cu-filter så det inte blir dubbla rader.\n",
    "\n",
    "series = series[(series['xrayFilterMaterial'] == 'Copper') | (series['xrayFilterMaterial'] == 'Copper or Copper compound')]\n",
    "print(len(series), \"antal irradiation events\")"
   ]
  },
  {
   "cell_type": "markdown",
   "id": "eb60a272",
   "metadata": {},
   "source": [
    "## Addering av events för att få med båda planen. Viktigt för Biplan"
   ]
  },
  {
   "cell_type": "code",
   "execution_count": null,
   "id": "93664fbf",
   "metadata": {},
   "outputs": [],
   "source": [
    "#Denna behövs inte längre då vi nu får rader med både Plan A och Plan B i samma dataframe. Kan eventuellt behövas för att joina in Rotational Acquisition senare.\n",
    "\n",
    "plane_A_doses = (series[series['acquisitionPlaneSeries'] == 'Plane A']\n",
    "                .groupby([\"studyInstanceUID\", \"irradiationEventType\"])\n",
    "                .agg({'doseAreaProduct': 'sum', 'doseRP': 'sum', 'irradiationDuration': 'sum'})\n",
    "                .reset_index().round(3)) \n",
    "plane_A_doses.rename(columns={\"doseAreaProduct\": \"doseAreaProductPlaneA\", \"doseRP\": \"doseRpPlaneA\", \"irradiationDuration\": \"irradiationDurationPlaneA\"}, inplace=True)\n",
    "\n",
    "plane_B_doses = (series[series['acquisitionPlaneSeries'] == 'Plane B']\n",
    "                .groupby([\"studyInstanceUID\", \"irradiationEventType\"])\n",
    "                .agg({'doseAreaProduct': 'sum', 'doseRP': 'sum', 'irradiationDuration': 'sum'})\n",
    "                .reset_index().round(3)) \n",
    "plane_B_doses.rename(columns={\"doseAreaProduct\": \"doseAreaProductPlaneB\", \"doseRP\": \"doseRpPlaneB\", \"irradiationDuration\": \"irradiationDurationPlaneB\"}, inplace=True)\n",
    "\n",
    "Plane_A_and_B_doses = plane_A_doses.merge(plane_B_doses, on = ['studyInstanceUID', 'irradiationEventType'], how = \"left\")\n",
    "\n",
    "#study_AB = study.merge(Plane_A_and_B_doses, on = ['studyInstanceUID'], how = \"left\")\n",
    "\n",
    "Plane_A_and_B_doses.head()"
   ]
  },
  {
   "cell_type": "code",
   "execution_count": null,
   "id": "6145b734",
   "metadata": {},
   "outputs": [],
   "source": [
    "# Filter the series DataFrame for Plane A and Rotational Acquisition\n",
    "# TODO: Utveckla detta med ackumuerade värden för respektive protokoll som FL Låg, Exponering och CBCT kontra 3DRA\n",
    "\n",
    "rotational_acquisition_plane_a = series[\n",
    "    (series['acquisitionPlaneSeries'] == 'Plane A') & \n",
    "    (series['irradiationEventType'] == 'Rotational Acquisition')\n",
    "]\n",
    "\n",
    "# Group by studyInstanceUID and sum the DoseAreaProduct\n",
    "rotational_dap_plane_a = rotational_acquisition_plane_a.groupby('studyInstanceUID')['doseAreaProduct'].sum().reset_index()\n",
    "\n",
    "# Rename the column for clarity\n",
    "rotational_dap_plane_a.rename(columns={'doseAreaProduct': 'accumulatedRotationalDapPlaneA'}, inplace=True)\n",
    "\n",
    "# Merge the accumulated Rotational DoseAreaProduct into the study DataFrame\n",
    "study = study.merge(rotational_dap_plane_a, on='studyInstanceUID', how='left')\n",
    "\n",
    "# Fill NaN values with 0 (if there are studies without Rotational Acquisition for Plane A)\n",
    "study['accumulatedRotationalDapPlaneA'] = study['accumulatedRotationalDapPlaneA'].fillna(0)\n",
    "\n",
    "# Display the updated study DataFrame\n",
    "#study.head()"
   ]
  },
  {
   "cell_type": "code",
   "execution_count": null,
   "id": "0a658b61",
   "metadata": {},
   "outputs": [],
   "source": [
    "#Ta bort felaktiga värden för Rot Acq DAP (endast Plan A ska ha värden)\n",
    "study.loc[study['acquisitionPlane'] == 'Plane B', 'accumulatedRotationalDapPlaneA'] = 0\n",
    "#Räkna ut den andel av DAP som inte kommer från Rot Acq\n",
    "study['acquisitionDoseAreaProductTotalminusRotational'] = study['acquisitionDoseAreaProductTotal'] - study['accumulatedRotationalDapPlaneA']\n",
    "\n",
    "# Normalisera DAP till gmltid\n",
    "study['normalisedFluoroDap'] = study['fluoroDoseAreaProductTotal'] / study['totalFluoroTime']\n",
    "study['normalisedAcqDap'] = study['acquisitionDoseAreaProductTotal'] / study['totalAcquisitionTime']\n",
    "study['normalisedFluoroRP'] = study['fluoroDoseRPTotal'] / study['totalFluoroTime']\n",
    "study['normalisedAcqRP'] = study['acquisitionDoseRPTotal'] / study['totalAcquisitionTime']\n"
   ]
  },
  {
   "cell_type": "markdown",
   "id": "77b3f4d3",
   "metadata": {},
   "source": [
    "## Lägg till operatörsnamn"
   ]
  },
  {
   "cell_type": "code",
   "execution_count": null,
   "id": "30856333",
   "metadata": {},
   "outputs": [],
   "source": [
    "# Översättningstabell från pseudo-operatörer till operatörer\n",
    "names_data_path = \"C:/Projekt/GIT/rvbrtg/Data/input_data/operators_2025.xlsx\" \n",
    "\n",
    "names = pd.read_excel(names_data_path)\n",
    "\n",
    "#Ändra kolumnnamn för att kunna göra en join\n",
    "names.columns = [\"performingPhysicianName\", \"operatorName\"]\n",
    "#names.head()\n",
    "\n",
    "#Joina dataframes för att få in operatörsnamn\n",
    "study = study.merge(names, on = [\"performingPhysicianName\"], how = \"left\")\n",
    "\n",
    "#Print för att kolla så att det funkade\n",
    "#print(study.operatorName)\n",
    "\n",
    "#Granska om namn saknas\n",
    "#study_names.to_csv(\"C:/Projekt/GIT/rvbrtg/Data/output_data/Operators_missing_GML_2024.csv\")"
   ]
  },
  {
   "cell_type": "code",
   "execution_count": null,
   "id": "25bf6dd6",
   "metadata": {},
   "outputs": [],
   "source": [
    "#Granska om namn saknas\n",
    "study[study['machine'] == 'U104'].to_csv(\"C:/Projekt/GIT/rvbrtg/Data/output_data/Operators_missing_INR_2025.csv\")"
   ]
  },
  {
   "cell_type": "code",
   "execution_count": null,
   "id": "af2d8dd8",
   "metadata": {},
   "outputs": [],
   "source": [
    "study.head()"
   ]
  },
  {
   "cell_type": "code",
   "execution_count": null,
   "id": "7d49004c",
   "metadata": {},
   "outputs": [],
   "source": [
    "#Alternativa y-värden: fluoroDoseAreaProductTotal  acquisitionDoseAreaProductTotal  accumulatedRotationalDapPlaneA doseRPTotal acquisitionDoseAreaProductTotalminusRotational  doseAreaProductTotal\n",
    "\n",
    "fig = px.scatter(study[study['acquisitionPlane'] == 'Plane A'], x=\"studyDateTime\", y=\"doseRPTotal\", color=\"procedureCodeMeaning\")#, symbol=\"procedureCodeMeaning\")\n",
    "#fig.update_layout(height=1000)\n",
    "fig.show()"
   ]
  },
  {
   "cell_type": "code",
   "execution_count": null,
   "id": "34b54609",
   "metadata": {},
   "outputs": [],
   "source": [
    "# Tabell över ackumulerad DAP, total DAP och antal ingrepp per Kod.\n",
    "\n",
    "procedure_dap = (study.groupby([\"procedureCode\", \"procedureCodeMeaning\", \"machine\", \"acquisitionPlane\"])\n",
    "                    .agg({'doseAreaProductTotal': ['sum', 'median'], 'fluoroDoseAreaProductTotal': 'median', 'totalFluoroTime': 'median', 'normalisedFluoroDap': 'median', 'procedureCode': 'count'}\n",
    "                         ).reset_index().round(3))\n",
    "procedure_dap.head()"
   ]
  },
  {
   "cell_type": "code",
   "execution_count": null,
   "id": "33d07bd3",
   "metadata": {},
   "outputs": [],
   "source": [
    "# Tabell över ackumulerad DAP, total DAP och antal ingrepp per Kod.\n",
    "\n",
    "procedure_dap = (study.groupby([\"procedureCode\", \"procedureCodeMeaning\", \"machine\", \"acquisitionPlane\", \"operatorName\"])\n",
    "                    .agg({'doseAreaProductTotal': ['count', 'median'], 'acquisitionDoseAreaProductTotal': 'median', 'acquisitionDoseAreaProductTotalminusRotational': 'median','accumulatedRotationalDapPlaneA': 'median', 'fluoroDoseAreaProductTotal': 'median', 'totalFluoroTime': 'median', 'normalisedFluoroDap': 'median'}\n",
    "                         ).reset_index().round(3))\n",
    "procedure_dap.head()"
   ]
  },
  {
   "cell_type": "code",
   "execution_count": null,
   "id": "dad62c9a",
   "metadata": {},
   "outputs": [],
   "source": [
    "removals = study['procedureCodeMeaning'].value_counts().reset_index()\n",
    "removals = removals[removals['count'] > 10] # Ändra tröskel för hur många undersökningar som måste finnas med samma Kod i dataframe\n",
    "removals\n",
    "\n",
    "filtered_df = study[study['procedureCodeMeaning'].isin(removals['procedureCodeMeaning'])]\n",
    "#filtered_df.head()\n",
    "\n",
    "procedure_dap = (filtered_df[(filtered_df['machine'] == 'U104') & (filtered_df['acquisitionPlane'] == 'Plane A')].groupby([\"procedureCode\", \"procedureCodeMeaning\", \"machine\"]) #, \"acquisitionPlane\", \"operatorName\"\n",
    "                    .agg({'doseAreaProductTotal': ['count', 'median'], 'acquisitionDoseAreaProductTotal': 'median', 'acquisitionDoseAreaProductTotalminusRotational': 'median', 'accumulatedRotationalDapPlaneA': 'median', 'fluoroDoseAreaProductTotal': 'median', 'totalFluoroTime': 'median', 'normalisedFluoroDap': 'median'}\n",
    "                         ).reset_index().round(3))\n",
    "procedure_dap.head()"
   ]
  },
  {
   "cell_type": "code",
   "execution_count": null,
   "id": "384e26a5",
   "metadata": {},
   "outputs": [],
   "source": [
    "fig = px.box(study[study['acquisitionPlane'] == 'Plane A'], x='procedureCodeMeaning', y='doseAreaProductTotal', color='machine')\n",
    "#fig.update_layout(height=1000)\n",
    "fig.show()"
   ]
  },
  {
   "cell_type": "code",
   "execution_count": null,
   "id": "78f8c8ef",
   "metadata": {},
   "outputs": [],
   "source": [
    "# Filter the data for machine U104\n",
    "study_U104 = study[study['machine'] == 'U104']\n",
    "\n",
    "# Filter procedure codes with sufficient occurrences\n",
    "removals = study_U104['procedureCodeMeaning'].value_counts().reset_index()\n",
    "removals = removals[removals['count'] > 10]  # Adjust threshold for filtering\n",
    "filtered_df = study_U104[study_U104['procedureCodeMeaning'].isin(removals['procedureCodeMeaning'])]\n",
    "\n",
    "# Get unique procedureCode values\n",
    "unique_procedure_codes = filtered_df['procedureCode'].unique()\n",
    "\n",
    "# Calculate the number of rows and columns for a symmetric layout\n",
    "num_procedures = len(unique_procedure_codes)\n",
    "grid_size = math.ceil(math.sqrt(num_procedures))  # Number of rows and columns\n",
    "\n",
    "# Calculate median doseAreaProductTotal for each procedureCode\n",
    "median_dap = filtered_df.groupby('procedureCode')['doseAreaProductTotal'].median()\n",
    "\n",
    "# Create a subplot layout with a symmetric grid\n",
    "fig = make_subplots(\n",
    "    rows=grid_size,\n",
    "    cols=grid_size,\n",
    "    specs=[[{'type': 'domain'} for _ in range(grid_size)] for _ in range(grid_size)],\n",
    "    subplot_titles=[\n",
    "        f\"ProcedureCode {code}<br>Median DAP: {median_dap[code]:.2f}\" if code in median_dap else f\"ProcedureCode {code}\"\n",
    "        for code in unique_procedure_codes\n",
    "    ]\n",
    ")\n",
    "\n",
    "# Loop through each procedureCode and create a pie chart\n",
    "for idx, code in enumerate(unique_procedure_codes):\n",
    "    # Calculate the row and column index\n",
    "    row = (idx // grid_size) + 1\n",
    "    col = (idx % grid_size) + 1\n",
    "\n",
    "    # Filter the data for the current procedureCode and Plane A\n",
    "    procedure_data = filtered_df[(filtered_df['procedureCode'] == code) & \n",
    "                                 (filtered_df['acquisitionPlane'] == 'Plane A')]\n",
    "\n",
    "    # Extract the median values for the required columns\n",
    "    acquisition_dap = procedure_data['acquisitionDoseAreaProductTotalminusRotational'].median()\n",
    "    fluoro_dap = procedure_data['fluoroDoseAreaProductTotal'].median()\n",
    "    rotational_dap = procedure_data['accumulatedRotationalDapPlaneA'].median()\n",
    "\n",
    "    # Combine the values into a list\n",
    "    values = [acquisition_dap, fluoro_dap, rotational_dap]\n",
    "    labels = ['Acquisition DAP', 'Fluoro DAP', 'Rotational DAP']\n",
    "\n",
    "    # Add the pie chart to the subplot\n",
    "    fig.add_trace(\n",
    "        go.Pie(labels=labels, values=values, name=f\"ProcedureCode {code}\"),\n",
    "        row=row,\n",
    "        col=col\n",
    "    )\n",
    "\n",
    "# Update layout\n",
    "fig.update_layout(\n",
    "    height=300 * grid_size,  # Adjust height based on the grid size\n",
    "    width=300 * grid_size,   # Adjust width based on the grid size\n",
    "    title_text=\"Median DAP Distribution for All ProcedureCodes (Plane A)\",\n",
    "    showlegend=True  # Disable global legend for cleaner layout\n",
    ")\n",
    "\n",
    "# Show the figure\n",
    "fig.show()"
   ]
  },
  {
   "cell_type": "code",
   "execution_count": null,
   "id": "c4b5b4d8",
   "metadata": {},
   "outputs": [],
   "source": [
    "median_KAP_studytype = (study[study['acquisitionPlane'] == 'Plane A'].groupby(\n",
    "    [\"procedureCode\", \"procedureCodeMeaning\", \"operatorName\", \"machine\"])\n",
    "                           .agg({'doseAreaProductTotal': ['min', 'median', 'max'], 'normalisedFluoroDap': 'median', 'procedureCode': 'count'}\n",
    "                                 ).reset_index().round(3)) \n",
    "median_KAP_studytype"
   ]
  },
  {
   "cell_type": "code",
   "execution_count": null,
   "id": "1d9e1894",
   "metadata": {},
   "outputs": [],
   "source": [
    "removals = study['procedureCodeMeaning'].value_counts().reset_index()\n",
    "removals = removals[removals['count'] > 10] # Ändra tröskel för hur många undersökningar som måste finnas med samma Kod i dataframe\n",
    "removals\n",
    "\n",
    "filtered_df = study[study['procedureCodeMeaning'].isin(removals['procedureCodeMeaning'])]\n",
    "#filtered_df.head()\n",
    "\n",
    "fig = px.box(filtered_df[filtered_df['acquisitionPlane'] == 'Plane A'], x='procedureCodeMeaning', y='doseAreaProductTotal', color='machine', points='all')\n",
    "fig.update_layout(height=1000)\n",
    "fig.show()"
   ]
  },
  {
   "cell_type": "code",
   "execution_count": null,
   "id": "85dad311",
   "metadata": {},
   "outputs": [],
   "source": [
    "fig = px.box(series[series.irradiationEventType == 'Fluoroscopy'], x='acquisitionProtocol', y='doseAreaProduct')#, color='acquisitionProtocol')  \n",
    "#fig.update_layout(height=800)  \n",
    "fig.show()"
   ]
  },
  {
   "cell_type": "code",
   "execution_count": null,
   "id": "6dac10f3510a1f64",
   "metadata": {
    "collapsed": false
   },
   "outputs": [],
   "source": [
    "fig = px.box(study[study['acquisitionPlane'] == 'Plane A'], x='protocolCodeMeaning', y='doseAreaProductTotal', color='operatorName')  \n",
    "#fig.update_layout(height=800)  \n",
    "fig.show()"
   ]
  },
  {
   "cell_type": "code",
   "execution_count": null,
   "id": "85f94050",
   "metadata": {},
   "outputs": [],
   "source": [
    "#Join mellan study_names och series för att addera summerad doseRP\n",
    "total_doseRP_study_and_plane = series.groupby(\n",
    "    [\"studyInstanceUID\", \"accessionNumber\", \"acquisitionPlaneSeries\"]).sum(\"doseRP\").reset_index()\n",
    "total_doseRP_study_and_plane.head()\n",
    "#study_names_planes = study_names.merge(total_doseRP_study_and_plane, on = [\"studyInstanceUID\", \"accessionNumber\"], how = \"left\")\n",
    "#study_names_planes.head()"
   ]
  },
  {
   "cell_type": "code",
   "execution_count": null,
   "id": "11e16d42",
   "metadata": {},
   "outputs": [],
   "source": [
    "removals = study_AB['procedureCodeMeaning'].value_counts().reset_index()\n",
    "removals = removals[removals['count'] > 10] # Ändra tröskel för hur många undersökningar som måste finnas med samma Kod i dataframe\n",
    "removals\n",
    "\n",
    "filtered_df_planes = study_AB[study_AB['procedureCodeMeaning'].isin(removals['procedureCodeMeaning'])]\n",
    "#filtered_df.head()\n",
    "\n",
    "fig = go.Figure()\n",
    "\n",
    "for machine in study_AB['machine'].unique():\n",
    "    machine_data = study_AB[study_AB['machine'] == machine]\n",
    "    \n",
    "    fig.add_trace(go.Box(\n",
    "        y=machine_data['doseAreaProduct_A'],\n",
    "        x=machine_data['procedureCodeMeaning'],\n",
    "        name=f'PlaneA - {machine}'\n",
    "    ))\n",
    "    fig.add_trace(go.Box(\n",
    "        y=machine_data['doseAreaProduct_B'],\n",
    "        x=machine_data['procedureCodeMeaning'],\n",
    "        name=f'PlaneB - {machine}'\n",
    "    ))\n",
    "\n",
    "fig.update_layout(boxmode='group')\n",
    "fig.show()\n"
   ]
  },
  {
   "cell_type": "code",
   "execution_count": null,
   "id": "459db2cc",
   "metadata": {},
   "outputs": [],
   "source": [
    "fig = px.scatter(study_AB, x=\"studyDateTime\", y=\"doseAreaProduct_A\", color=\"machine\")\n",
    "\n",
    "fig.show()"
   ]
  },
  {
   "cell_type": "code",
   "execution_count": null,
   "id": "daff850b1202a68b",
   "metadata": {
    "collapsed": false
   },
   "outputs": [],
   "source": [
    "#Filtrera fram alla ingrepp där summerade doseRP från study_names_planes överstiger 5 Gy\n",
    "\n",
    "study_5Gy_names = study_names_planes[study_names_planes.doseRP > 5000]\n",
    "\n",
    "# Kika på innehåll i dataframe\n",
    "study_5Gy_names[[\"accessionNumber\",\"studyDateTime\",\"studyDescription\",\"machine\",\"doseRPTotal\",\"acquisitionPlaneSeries\",\"doseRP\",\"OperatorName\"]]"
   ]
  },
  {
   "cell_type": "code",
   "execution_count": null,
   "id": "3610bf87",
   "metadata": {},
   "outputs": [],
   "source": [
    "#Testa dumpa ut en undersökning till Excel för att granska vidare\n",
    "\n",
    "#series_data[series_data.accessionNumber == \"SERUME0007509112\" & pd.isna(series_data.acquisitionPlaneSeries)].doseRP\n",
    "test = series_data[series_data.accessionNumber == \"SERUME0007751954\"]\n",
    "test.to_excel(\"C:/Users/chgr09/GIT/rvbrtg/Data/output_data/Binjure.xlsx\")"
   ]
  },
  {
   "cell_type": "markdown",
   "id": "250a5824fb9d4b8b",
   "metadata": {
    "collapsed": false
   },
   "source": [
    "## Undersökningar som överstigit 5Gy"
   ]
  },
  {
   "cell_type": "code",
   "execution_count": null,
   "id": "9c8f511c8bcbdc43",
   "metadata": {
    "collapsed": false
   },
   "outputs": [],
   "source": [
    "#Filtrera fram alla ingrepp där doseRPTotal överstiger 5 Gy\n",
    "\n",
    "study_5Gy = study[study.doseRPTotal > 5000]\n",
    "\n",
    "# Kika på innehåll i dataframe\n",
    "study_5Gy"
   ]
  },
  {
   "cell_type": "code",
   "execution_count": null,
   "id": "d81d8a8efbf4feee",
   "metadata": {
    "collapsed": false
   },
   "outputs": [],
   "source": [
    "# Skriv till Excel\n",
    "study_5Gy.to_excel(\"output_data/Över_5Gy.xlsx\")"
   ]
  },
  {
   "cell_type": "markdown",
   "id": "2c680a4e",
   "metadata": {},
   "source": [
    "# Multiplar. Tester nedan."
   ]
  },
  {
   "cell_type": "code",
   "execution_count": null,
   "id": "56071166",
   "metadata": {},
   "outputs": [],
   "source": [
    "multiple = study.groupby(\"patientDbId\", as_index=False)[\"doseRPTotal\"].nunique()\n",
    "multiple"
   ]
  },
  {
   "cell_type": "code",
   "execution_count": null,
   "id": "41e59b75",
   "metadata": {},
   "outputs": [],
   "source": [
    "test = study_data.groupby([\"patientDbId\"])[\"doseRPTotal\"].sum().reset_index()\n",
    "test.drop(test[(test[\"doseRPTotal\"] <5000)].index, inplace=True)\n",
    "test"
   ]
  },
  {
   "cell_type": "code",
   "execution_count": null,
   "id": "3fda331a",
   "metadata": {},
   "outputs": [],
   "source": [
    "top_pat = study_data[study_data.patientDbId == 84305]\n",
    "top_pat"
   ]
  },
  {
   "cell_type": "code",
   "execution_count": null,
   "id": "6e716c09",
   "metadata": {},
   "outputs": [],
   "source": []
  },
  {
   "cell_type": "code",
   "execution_count": null,
   "id": "16c97d2dff387964",
   "metadata": {
    "collapsed": false
   },
   "outputs": [],
   "source": [
    "def loop_analysis(data: pd.DataFrame, start_date: datetime, end_date: datetime) -> pd.DataFrame:\n",
    "    analysis_data = data[(data.studyDateTime >= start_date & data.studyDateTime <= end_date)]\n",
    "\n",
    "    test = analysis_data.groupby(\n",
    "        [\"patientDbId\", \"acquisitionPlaneSeries\"]).sum(\n",
    "        \"doseRP\").reset_index()\n",
    "    test = test[[\"patientDbId\", \"acquisitionPlaneSeries\", \"doseRP\", \"studyDateTime\"]]\n",
    "\n",
    "    return test[test.doseRP > 5000]"
   ]
  },
  {
   "cell_type": "code",
   "execution_count": null,
   "id": "d466a811ad2bf4ba",
   "metadata": {
    "collapsed": false
   },
   "outputs": [],
   "source": [
    "from dateutil.relativedelta import relativedelta\n",
    "new_study_data = study.copy()\n",
    "new_study_data.studyDateTime = pd.to_datetime(new_study_data.studyDateTime, infer_datetime_format=True)\n",
    "new_study_data[\"studyDate\"] = pd.to_datetime(new_study_data.studyDateTime.dt.date)\n",
    "\n",
    "for end_date in sorted(new_study_data.studyDate.unique().tolist()):\n",
    "    sd = pd.to_datetime(datetime.fromtimestamp(end_date / 1e9) - relativedelta(months=3))\n",
    "    resultat = loop_analysis(new_study_data, start_date=sd, end_date=end_date)\n",
    "\n",
    "test = new_study_data.groupby([\"patientDbId\", \"acquisitionPlaneSeries\", pd.Grouper(key=\"studyDateTime\", freq=\"12M\")]).sum(\"doseRP\").reset_index()\n",
    "test = test[[\"patientDbId\", \"acquisitionPlaneSeries\", \"doseRP\", \"studyDateTime\"]]\n",
    "study_data_5Gy = test[test.doseRP > 5000]"
   ]
  }
 ],
 "metadata": {
  "kernelspec": {
   "display_name": "rvbrtg",
   "language": "python",
   "name": "python3"
  },
  "language_info": {
   "codemirror_mode": {
    "name": "ipython",
    "version": 3
   },
   "file_extension": ".py",
   "mimetype": "text/x-python",
   "name": "python",
   "nbconvert_exporter": "python",
   "pygments_lexer": "ipython3",
   "version": "3.11.11"
  }
 },
 "nbformat": 4,
 "nbformat_minor": 5
}
