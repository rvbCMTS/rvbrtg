{
 "cells": [
  {
   "cell_type": "markdown",
   "id": "8b4eaf1e9f495e40",
   "metadata": {
    "collapsed": false
   },
   "source": [
    "## Importer av paket och data från REMbox"
   ]
  },
  {
   "cell_type": "code",
   "execution_count": null,
   "id": "411b2d22d2f429d3",
   "metadata": {
    "collapsed": false
   },
   "outputs": [],
   "source": [
    "import pandas as pd \n",
    "import hvplot.pandas #noqa #plotpaket\n",
    "from datetime import datetime\n",
    "import plotly.graph_objects as go\n",
    "from plotly.subplots import make_subplots\n",
    "import plotly.express as px\n",
    "from rembox_integration_tools import REMboxDataQuery\n",
    "from rembox_integration_tools.rembox_analysis import StudyColumn, SeriesColumn\n",
    "from pathlib import Path\n",
    "\n",
    "# om plotly önskas så skrivs följande hvplot.extension(\"plotly\")\n",
    "hvplot.extension(\"bokeh\")\n",
    "\n",
    "CLIENT_ID_ENV_VAR = \"REMBOX_INT_CLIENT_ID\"\n",
    "CLIENT_PWD_ENV_VAR = \"REMBOX_INT_CLIENT_PWD\"\n",
    "TOKEN_URI = \"https://autoqa.vll.se/dpqaauth/connect/token\" #Var finns access token\n",
    "API_URI = \"https://rembox.vll.se/api\" #Var finns API:t\n",
    "ORIGIN_URI = \"https://rembox.vll.se\" #Vilken URL\n",
    "\n",
    "rembox = REMboxDataQuery(\n",
    "    client_id_environment_variable=CLIENT_ID_ENV_VAR,\n",
    "    client_secret_environment_variable=CLIENT_PWD_ENV_VAR,\n",
    "    token_uri=TOKEN_URI,\n",
    "    api_uri=API_URI,\n",
    "    origin_uri=ORIGIN_URI,\n",
    "    verify_ssl_cert=False\n",
    ")\n",
    "\n",
    "valid_study_columns = StudyColumn()\n",
    "valid_series_columns = SeriesColumn()"
   ]
  },
  {
   "cell_type": "code",
   "execution_count": null,
   "id": "9d21fb72",
   "metadata": {},
   "outputs": [],
   "source": [
    "rembox.reset_filter_options()\n",
    "def get_data_from_fluoro(rembox: REMboxDataQuery) -> tuple[pd.DataFrame, pd.DataFrame]:\n",
    "\n",
    "    \n",
    "    rembox.filter_options.set_inclusive_tags(\n",
    "        machine_types=[\"XASTAT\"],     # CT-CT, Fluoroscopic-XASTAT, Mobile C-arm-XAMOB, Conventional-DX, Mammography-MG, Intraoral-IO, Panoramic-PX, Dental Cone Beam CT-DCBCT, PET-PET, PET/CT-PETCT, SPECT-SPECT, SPECT/CT-SPECTCT, Nuclear Medicine-NM, Mobile X-ray-DXMOB, Conventional with fluoro-DXXA\n",
    "        machines=[\"U110\", \"S08\", \"L3\"]#, \"U105\", \"U106\"]        # Umeå, Skellefteå, Lycksele + IR\n",
    "    )\n",
    "    \n",
    "    #rembox.filter_options.set_exclusive_tags() om jag vill ange filter där man bortser från ett visst kriterie\n",
    "\n",
    "    rembox.filter_options.patient_age_interval_include_nulls = True\n",
    "    \n",
    "    rembox.filter_options.study_time_interval_start_date = \"2024-01-01T00:00:00Z\"\n",
    "    rembox.filter_options.study_time_interval_end_date = \"2024-12-31T00:00:00Z\"\n",
    "    \n",
    "    \n",
    "    rembox.add_columns(\n",
    "        columns=[\n",
    "            valid_study_columns.AccessionNumber,\n",
    "            valid_study_columns.AcquisitionDoseAreaProductTotal,\n",
    "            valid_study_columns.AcquisitionDoseRPTotal,\n",
    "            valid_study_columns.AcquisitionPlane,\n",
    "            #valid_study_columns.CalibrationDate,\n",
    "            #valid_study_columns.CalibrationFactor,\n",
    "            #valid_study_columns.CalibrationProtocol,\n",
    "            #valid_study_columns.CalibrationResponsibleParty,\n",
    "            #valid_study_columns.CalibrationUncertainty,\n",
    "            valid_study_columns.City,\n",
    "            valid_study_columns.ConvFluoroClassifier,\n",
    "            valid_study_columns.DoseAreaProductTotal,\n",
    "            #valid_study_columns.DoseMeasurementDevice,\n",
    "            valid_study_columns.DoseRPTotal,\n",
    "            valid_study_columns.FluoroDoseAreaProductTotal,\n",
    "            valid_study_columns.FluoroDoseRPTotal,\n",
    "            #valid_study_columns.HasIntent,\n",
    "            #valid_study_columns.HalfValueLayer,\n",
    "            valid_study_columns.Hospital,\n",
    "            valid_study_columns.Id,\n",
    "            valid_study_columns.Machine,\n",
    "            #valid_study_columns.MeanBodyThickness,\n",
    "            #valid_study_columns.MaximumBodyThickness,\n",
    "            #valid_study_columns.MinimumBodyThickness,\n",
    "            valid_study_columns.PatientAge,\n",
    "            valid_study_columns.PatientAgeUnit,\n",
    "            valid_study_columns.PatientDbId,\n",
    "            valid_study_columns.PatientId,\n",
    "            #valid_study_columns.PatientModel,\n",
    "            #valid_study_columns.PatientsBodyMassIndex,\n",
    "            #valid_study_columns.PatientsName,\n",
    "            valid_study_columns.PatientsSex,\n",
    "            valid_study_columns.PatientsSize,\n",
    "            valid_study_columns.PatientsSizeDate,\n",
    "            valid_study_columns.PatientsSizeSource,\n",
    "            valid_study_columns.PatientsWeight,\n",
    "            valid_study_columns.PatientsWeightDate,\n",
    "            valid_study_columns.PatientsWeightSource,\n",
    "            #valid_study_columns.PerformingPhysicianIdentificationSequence,\n",
    "            valid_study_columns.PerformingPhysicianName,\n",
    "            valid_study_columns.PregnancyStatus,\n",
    "            valid_study_columns.ProcedureCode,\n",
    "            valid_study_columns.ProcedureCodeMeaning,\n",
    "            valid_study_columns.ProcedureReported,\n",
    "            valid_study_columns.ProtocolCode,\n",
    "            valid_study_columns.ProtocolCodeMeaning,\n",
    "            valid_study_columns.PSD,\n",
    "            #valid_study_columns.ReferenceAuthority,\n",
    "            #valid_study_columns.ReferencedSopInstanceUid,\n",
    "            #valid_study_columns.ReferencePointDefinition,\n",
    "            #valid_study_columns.ReferencePointDefinitionCode,\n",
    "            #valid_study_columns.ReferringPhysicianIdentificationSequence,\n",
    "            #valid_study_columns.ReferringPhysiciansName,\n",
    "            valid_study_columns.RequestedProcedureCode,\n",
    "            valid_study_columns.RequestedProcedureCodeMeaning,\n",
    "            valid_study_columns.ReferencePointDefinition,\n",
    "            valid_study_columns.ScopeOfAccumulation,\n",
    "            valid_study_columns.SoftwareVersions,\n",
    "            valid_study_columns.SourceOfDoseInformation,\n",
    "            valid_study_columns.StartOfXrayIrradiation,\n",
    "            valid_study_columns.StudyDateTime,\n",
    "            valid_study_columns.StudyDescription,\n",
    "            valid_study_columns.StudyId,\n",
    "            valid_study_columns.StudyInstanceUID,\n",
    "            valid_study_columns.TotalAcquisitionTime,\n",
    "            valid_study_columns.TotalFluoroTime,\n",
    "            valid_study_columns.TotalNumberOfIrradiationEvents,\n",
    "            valid_study_columns.TotalNumberOfRadiographicFrames,\n",
    "            valid_series_columns.AcquisitionPlaneSeries,\n",
    "            valid_series_columns.AcquisitionProtocol,\n",
    "            #valid_series_columns.AcquisitionType,\n",
    "            #valid_series_columns.ApplicationName, #--------------------------------------Här finns protokollnamn för Azurion\n",
    "            #valid_series_columns.AnatomicalStructure,\n",
    "            #valid_series_columns.AnodeTargetMaterial,\n",
    "            #valid_series_columns.AverageXrayTubeCurrent,\n",
    "            valid_series_columns.CollimatedFieldArea,\n",
    "            valid_series_columns.CollimatedFieldHeight,\n",
    "            valid_series_columns.CollimatedFieldWidth,\n",
    "            #valid_series_columns.ColumnAngulation,\n",
    "            #valid_series_columns.CrdrMechanicalConfiguration,\n",
    "            valid_series_columns.DateTimeStarted,\n",
    "            #valid_series_columns.DerivedEffectiveDiameter,\n",
    "            #valid_series_columns.DeviationIndex,\n",
    "            valid_series_columns.DistanceSourceToDetector,\n",
    "            valid_series_columns.DistanceSourceToIsocenter,\n",
    "            valid_series_columns.DistanceSourceToReferencePoint,\n",
    "            #valid_series_columns.DistanceSourceToTablePlane,\n",
    "            valid_series_columns.DoseAreaProduct,\n",
    "            valid_series_columns.DoseRP,\n",
    "            #valid_series_columns.EffectiveDose,\n",
    "            #valid_series_columns.EffectiveDoseConversionFactor,\n",
    "            #valid_series_columns.EntranceExposureAtRP,\n",
    "            #valid_series_columns.ExposedRange,\n",
    "            valid_series_columns.Exposure,\n",
    "            #valid_series_columns.ExposureIndex,\n",
    "            valid_series_columns.ExposureTime,\n",
    "            #valid_series_columns.ExposureTimePerRotation,\n",
    "            valid_series_columns.XrayFilterAluminumEquivalent,\n",
    "            valid_series_columns.XrayFilterType,\n",
    "            valid_series_columns.XrayFilterMaterial,\n",
    "            valid_series_columns.XrayFilterThicknessMaximum,\n",
    "            valid_series_columns.XrayFilterThicknessMinimum,\n",
    "            valid_series_columns.FluoroMode,\n",
    "            #valid_series_columns.FluoroFlavour, # -------------------------------------------- Här finns pulsrat för Azurion\n",
    "            #valid_series_columns.FrameOfReferenceUID,\n",
    "            #valid_series_columns.IdentificationOfTheXraySource,\n",
    "            #valid_series_columns.ImageView,\n",
    "            #valid_series_columns.ImageViewModifier,\n",
    "            #valid_series_columns.XrayGrid,\n",
    "            #valid_series_columns.XrayGridPitch,\n",
    "            #valid_series_columns.XrayGridAspectRatio,\n",
    "            #valid_series_columns.XrayGridFocalDistance,\n",
    "            valid_series_columns.IrradiationDuration,\n",
    "            #valid_series_columns.IrradiationEventLabel,\n",
    "            valid_series_columns.IrradiationEventType,\n",
    "            valid_series_columns.IrradiationEventUID,\n",
    "            valid_series_columns.kVp,\n",
    "            valid_series_columns.XrayTubeCurrent,\n",
    "            #valid_series_columns.XrayModulationType,\n",
    "            #valid_series_columns.LabelType,\n",
    "            #valid_series_columns.Laterality,\n",
    "            #valid_series_columns.MaximumXrayTubeCurrent,\n",
    "            #valid_series_columns.MeasurementMethodDose,\n",
    "            #valid_series_columns.NominalCollimationWidth,\n",
    "            #valid_series_columns.NominalTotalCollimationWidth,\n",
    "            valid_series_columns.NumberOfPulses,\n",
    "            #valid_series_columns.NumberOfXraySources,\n",
    "            valid_series_columns.PatientEquivalentThickness,\n",
    "            valid_series_columns.PatientOrientation,\n",
    "            valid_series_columns.PatientOrientationModifier,\n",
    "            valid_series_columns.PatientTableRelationship,\n",
    "            valid_series_columns.PositionerPrimaryAngle,\n",
    "            #valid_series_columns.PositionerPrimaryEndAngle,\n",
    "            valid_series_columns.PositionerSecondaryAngle,\n",
    "            #valid_series_columns.PositionerSecondaryEndAngle,\n",
    "            #valid_series_columns.ProcedureContext,\n",
    "            #valid_series_columns.ProjectionEponymousName,\n",
    "            valid_series_columns.PulseRate,\n",
    "            valid_series_columns.PulseWidth,\n",
    "            #valid_series_columns.ReconstructionAlgortihm,\n",
    "            #valid_series_columns.ReferencePointDefinitionText,\n",
    "            valid_series_columns.SpotSize,\n",
    "            valid_series_columns.TableCradleTiltAngle,\n",
    "            valid_series_columns.TableHeadTiltAngle,\n",
    "            valid_series_columns.TableHeightEndPosition,\n",
    "            valid_series_columns.TableHeightPosition,\n",
    "            valid_series_columns.TableHorizontalRotationAngle,\n",
    "            valid_series_columns.TableLateralEndPosition,\n",
    "            valid_series_columns.TableLateralPosition,\n",
    "            valid_series_columns.TableLongitudinalEndPosition,\n",
    "            valid_series_columns.TableLongitudinalPosition,\n",
    "            #valid_series_columns.TargetExposureIndex,\n",
    "            valid_series_columns.TargetRegion,\n",
    "            #valid_series_columns.WaterEquivalentDiameter,\n",
    "            #valid_series_columns.WedMeasurementMethod,\n",
    "            #valid_series_columns.XrayFilterAluminumEquivalent,\n",
    "            #valid_series_columns.XrayFilterMaterial,\n",
    "            #valid_series_columns.XrayFilterThicknessMaximum,\n",
    "            #valid_series_columns.XrayFilterThicknessMinimum,\n",
    "            #valid_series_columns.XrayFilterType,\n",
    "            #valid_series_columns.XrayGrid,\n",
    "            #valid_series_columns.XrayGridAspectRatio,\n",
    "            #valid_series_columns.XrayGridFocalDistance,\n",
    "            #valid_series_columns.XrayGridPitch,\n",
    "            #valid_series_columns.XrayModulationType,\n",
    "            #valid_series_columns.XrayTubeCurrent\n",
    "        ]\n",
    "    )\n",
    "\n",
    "    return rembox.run_query()"
   ]
  },
  {
   "cell_type": "code",
   "execution_count": null,
   "id": "a09b026b",
   "metadata": {},
   "outputs": [],
   "source": [
    "#Hämta data från REMbox\n",
    "study_data, series_data = get_data_from_fluoro(rembox=rembox)"
   ]
  },
  {
   "cell_type": "code",
   "execution_count": null,
   "id": "9e0b8e7d230bc5df",
   "metadata": {
    "collapsed": false
   },
   "outputs": [],
   "source": [
    "#Export av data till csv\n",
    "\n",
    "#study_data.to_csv(\"C:/Users/chgr09/GIT/rvbrtg/Data/output_data/XA_study_2023.csv\")\n",
    "#series_data.to_csv(\"C:/Users/chgr09/GIT/rvbrtg/Data/output_data/XA_series_2023.csv\")"
   ]
  },
  {
   "cell_type": "markdown",
   "id": "c67afa51e0f708df",
   "metadata": {
    "collapsed": false
   },
   "source": [
    "## Kontroller av data och hantering av dataframes"
   ]
  },
  {
   "cell_type": "code",
   "execution_count": null,
   "id": "7b49419f",
   "metadata": {},
   "outputs": [],
   "source": [
    "study = study_data.copy() #skapa kopia av dataframe på study-nivå för att kunna behålla orginalet\n",
    "series = series_data.copy() #skapa kopia av dataframe på serie-nivå för att kunna behålla orginalet\n",
    "\n",
    "# TODO: Ta bort testpatienter\n",
    "#Ta bort undersökningar från testpatient U110 som har PatientId = ??\n",
    "#Ta bort undersökningar från testpatient S08 som har PatientId = ??\n",
    "#Ta bort undersökningar från testpatient L3 som har PatientId = ??"
   ]
  },
  {
   "cell_type": "code",
   "execution_count": null,
   "id": "40df72173aa63608",
   "metadata": {
    "collapsed": false
   },
   "outputs": [],
   "source": [
    "#study.head()"
   ]
  },
  {
   "cell_type": "code",
   "execution_count": null,
   "id": "6dac10f3510a1f64",
   "metadata": {
    "collapsed": false
   },
   "outputs": [],
   "source": [
    "fig = px.scatter(study, x=\"studyDateTime\", y=\"doseAreaProductTotal\", color=\"machine\")\n",
    "\n",
    "fig.show()"
   ]
  },
  {
   "cell_type": "code",
   "execution_count": null,
   "id": "9d88f5c1",
   "metadata": {},
   "outputs": [],
   "source": [
    "#Räkna antal ingrepp och antal unika patienter\n",
    "exams = study[\"patientDbId\"].count()\n",
    "patients = study[\"patientDbId\"].nunique() #Count number of distinct elements in specified axis. Can ignore NaN values\n",
    "\n",
    "print(exams, \"undersökningar/ingrepp fördelat på\", patients, \"patienter\")"
   ]
  },
  {
   "cell_type": "code",
   "execution_count": null,
   "id": "9429c8db5779e04d",
   "metadata": {
    "collapsed": false
   },
   "outputs": [],
   "source": [
    "# TODO: Kolla om det är första eller sista instansen av samma Accnr som ska sparas. Vad händer när data kommer från bilder?\n",
    "\n",
    "print(len(study), \"antal undersökningar\")\n",
    "\n",
    "unique_studies = study.drop_duplicates(subset=\"accessionNumber\", keep=\"first\")\n",
    "\n",
    "no_acc_numbers = study[\"accessionNumber\"].count()\n",
    "no_unique_acc_numbers = unique_studies[\"accessionNumber\"].count()\n",
    "\n",
    "print(no_acc_numbers, \"AccessionNumbers i ursprungling dataframe med\", no_unique_acc_numbers, \"unika AccessionNumbers\")"
   ]
  },
  {
   "cell_type": "code",
   "execution_count": null,
   "id": "e1892a5f2d932f85",
   "metadata": {
    "collapsed": false
   },
   "outputs": [],
   "source": [
    "print(len(series), \"antal irradiation events\")\n",
    "\n",
    "unique_series = series.drop_duplicates(subset=\"irradiationEventUID\", keep=\"first\")\n",
    "\n",
    "no_irradiations = series[\"irradiationEventUID\"].count()\n",
    "no_unique_irradiations = unique_series[\"irradiationEventUID\"].nunique()\n",
    "\n",
    "print(no_irradiations, \"irradiation events i ursprungling dataframe med\", no_unique_irradiations, \"unika irradiationEventUID\")"
   ]
  },
  {
   "cell_type": "markdown",
   "id": "bee1ac0ef5901da5",
   "metadata": {
    "collapsed": false
   },
   "source": [
    "## Lägg till operatörsnamn"
   ]
  },
  {
   "cell_type": "code",
   "execution_count": null,
   "id": "c6d26b697ebbc690",
   "metadata": {
    "collapsed": false
   },
   "outputs": [],
   "source": [
    "# Översättningstabell från pseudo-operatörer till operatörer\n",
    "names_data_path = \"C:/Projekt/GIT/rvbrtg/Data/input_data/operators_2025.xlsx\" \n",
    "\n",
    "names = pd.read_excel(names_data_path)\n",
    "\n",
    "#Ändra kolumnnamn för att kunna göra en join\n",
    "names.columns = [\"performingPhysicianName\", \"OperatorName\"]\n",
    "#names.head()\n",
    "\n",
    "#Joina dataframes för att få in operatörsnamn\n",
    "study_names = unique_studies.merge(names, on = [\"performingPhysicianName\"], how = \"left\")\n",
    "\n",
    "#Print för att kolla så att det funkade\n",
    "#print(study_names.OperatorName)\n"
   ]
  },
  {
   "cell_type": "code",
   "execution_count": null,
   "id": "d0f139084911b763",
   "metadata": {
    "collapsed": false
   },
   "outputs": [],
   "source": [
    "#Granska om namn saknas\n",
    "study_names.to_csv(\"C:/Projekt/GIT/rvbrtg/Data/output_data/Operators_missing_GML_2024.csv\")"
   ]
  },
  {
   "cell_type": "markdown",
   "id": "f4f47fe0",
   "metadata": {},
   "source": [
    "## Analysera Data"
   ]
  },
  {
   "cell_type": "code",
   "execution_count": null,
   "id": "1640ac62c6fd5a90",
   "metadata": {
    "collapsed": false
   },
   "outputs": [],
   "source": [
    "#Normalisera DAP till genomlysningstid och till som kolumn i dataframe\n",
    "\n",
    "study_names['normalisedFluoroDap'] = study_names['fluoroDoseAreaProductTotal'] / study_names['totalFluoroTime']"
   ]
  },
  {
   "cell_type": "code",
   "execution_count": null,
   "id": "68cf34f5325fa349",
   "metadata": {
    "collapsed": false
   },
   "outputs": [],
   "source": [
    "# Tabell över ackumulerad DAP, total DAP och antal ingrepp per Kod.\n",
    "\n",
    "procedure_dap = (study_names.groupby([\"procedureCode\", \"procedureCodeMeaning\", \"machine\"])\n",
    "                    .agg({'doseAreaProductTotal': ['sum', 'median'], 'procedureCode': 'count'}\n",
    "                         ).reset_index().round(3))\n",
    "procedure_dap.head()"
   ]
  },
  {
   "cell_type": "code",
   "execution_count": null,
   "id": "3ec14d5b",
   "metadata": {},
   "outputs": [],
   "source": [
    "fig = px.box(study_names, x='procedureCodeMeaning', y='doseAreaProductTotal', color='machine')\n",
    "#fig.update_layout(height=1000)\n",
    "fig.show()\n"
   ]
  },
  {
   "cell_type": "markdown",
   "id": "29a1de659e751ad",
   "metadata": {
    "collapsed": false
   },
   "source": [
    "## Skellefteå"
   ]
  },
  {
   "cell_type": "code",
   "execution_count": null,
   "id": "9f511a1b99f27ef3",
   "metadata": {
    "collapsed": false
   },
   "outputs": [],
   "source": [
    "study_skellefteå = study_names[study_names['machine'] == 'S08']\n",
    "#study_skellefteå.head()"
   ]
  },
  {
   "cell_type": "code",
   "execution_count": null,
   "id": "f6dfe42c92fe4d19",
   "metadata": {
    "collapsed": false
   },
   "outputs": [],
   "source": [
    "median_KAP_studytype_sk = (study_skellefteå.groupby(\n",
    "    [\"procedureCode\", \"procedureCodeMeaning\", \"OperatorName\"])\n",
    "                           .agg({'doseAreaProductTotal': ['min', 'median', 'max'], 'normalisedFluoroDap': 'median', 'procedureCode': 'count'}\n",
    "                                 ).reset_index().round(3)) \n",
    "median_KAP_studytype_sk"
   ]
  },
  {
   "cell_type": "code",
   "execution_count": null,
   "id": "b1cbfb10",
   "metadata": {},
   "outputs": [],
   "source": [
    "fig = px.box(study_skellefteå, x='procedureCodeMeaning', y='doseAreaProductTotal')#, color='OperatorName')  \n",
    "#fig.update_layout(height=800)  \n",
    "fig.show()"
   ]
  },
  {
   "cell_type": "code",
   "execution_count": null,
   "id": "43c17b62",
   "metadata": {},
   "outputs": [],
   "source": [
    "removals = study_skellefteå['procedureCode'].value_counts().reset_index()\n",
    "removals = removals[removals['count'] > 10] # Ändra tröskel för hur många undersökningar som måste finnas med samma Kod i dataframe\n",
    "removals\n",
    "\n",
    "filtered_df = study_skellefteå[study_skellefteå['procedureCode'].isin(removals['procedureCode'])]\n",
    "#filtered_df.head()\n",
    "\n",
    "fig = px.box(filtered_df, x='procedureCodeMeaning', y='doseAreaProductTotal', points='all')\n",
    "#fig.update_layout(width=1000, height=600)\n",
    "fig.show()"
   ]
  },
  {
   "cell_type": "code",
   "execution_count": null,
   "id": "c924b6e7",
   "metadata": {},
   "outputs": [],
   "source": [
    "# Plocka ut de Koder som används i Skellefteå och jämför dem med Umeå och Lycksele\n",
    "\n",
    "filtered_df = study_names[study_names['procedureCode'].isin(study_skellefteå['procedureCode'])]\n",
    "\n",
    "fig = px.box(filtered_df, x='procedureCodeMeaning', y='doseAreaProductTotal', color='machine')\n",
    "#fig.update_layout(height=1000)\n",
    "fig.show()"
   ]
  },
  {
   "cell_type": "markdown",
   "id": "6c77c98eb342c1d7",
   "metadata": {
    "collapsed": false
   },
   "source": [
    "## Umeå"
   ]
  },
  {
   "cell_type": "code",
   "execution_count": null,
   "id": "d314a2b92cb84e7d",
   "metadata": {
    "collapsed": false
   },
   "outputs": [],
   "source": [
    "study_umeå = study_names[study_names['machine'] == 'U110']\n",
    "#study_umeå.head()"
   ]
  },
  {
   "cell_type": "code",
   "execution_count": null,
   "id": "190233f6bc5e7f5d",
   "metadata": {
    "collapsed": false
   },
   "outputs": [],
   "source": [
    "median_KAP_studytype_uå = (study_umeå.groupby(\n",
    "    [\"procedureCode\", \"procedureCodeMeaning\", \"OperatorName\"]) \n",
    "                           .agg({'doseAreaProductTotal': ['min', 'median', 'max'], 'doseRPTotal': 'median', 'normalisedFluoroDap': 'median', 'procedureCode': 'count'}\n",
    "                                 ).reset_index().round(3))\n",
    "median_KAP_studytype_uå"
   ]
  },
  {
   "cell_type": "code",
   "execution_count": null,
   "id": "0f3f037d",
   "metadata": {},
   "outputs": [],
   "source": [
    "fig = px.box(study_umeå, x='procedureCodeMeaning', y='doseAreaProductTotal')#, \n",
    "#fig.update_layout(width=1000, height=600)\n",
    "fig.show()"
   ]
  },
  {
   "cell_type": "code",
   "execution_count": null,
   "id": "d8ad31a9",
   "metadata": {},
   "outputs": [],
   "source": [
    "removals = study_umeå['procedureCode'].value_counts().reset_index()\n",
    "removals = removals[removals['count'] > 10] # Ändra tröskel för hur många undersökningar som måste finnas med samma Kod i dataframe\n",
    "removals\n",
    "\n",
    "filtered_df = study_umeå[study_umeå['procedureCode'].isin(removals['procedureCode'])]\n",
    "#filtered_df.head()\n",
    "\n",
    "fig = px.box(filtered_df, x='procedureCodeMeaning', y='doseAreaProductTotal', points='all')\n",
    "#fig.update_layout(width=1000, height=600)\n",
    "fig.show()"
   ]
  },
  {
   "cell_type": "code",
   "execution_count": null,
   "id": "58d11277",
   "metadata": {},
   "outputs": [],
   "source": [
    "# Barnundersökningar\n",
    "\n",
    "fig = px.box(study_umeå[study_umeå['patientAge'] < 18], x='procedureCodeMeaning', y='doseAreaProductTotal', points='all')\n",
    "#fig.update_layout(width=1000, height=600)\n",
    "fig.show()"
   ]
  },
  {
   "cell_type": "markdown",
   "id": "8658bd638ff9b66b",
   "metadata": {
    "collapsed": false
   },
   "source": [
    "## Lycksele"
   ]
  },
  {
   "cell_type": "code",
   "execution_count": null,
   "id": "1566c8a22b7a8794",
   "metadata": {
    "collapsed": false
   },
   "outputs": [],
   "source": [
    "study_lycksele = study_names[study_names['machine'] == 'L3']"
   ]
  },
  {
   "cell_type": "code",
   "execution_count": null,
   "id": "3f555a05982489f8",
   "metadata": {
    "collapsed": false
   },
   "outputs": [],
   "source": [
    "median_KAP_studytype_ly = (study_lycksele.groupby(\n",
    "    [\"procedureCode\", \"procedureCodeMeaning\", \"OperatorName\"])\n",
    "                           .agg({'doseAreaProductTotal': ['min', 'median', 'max'], 'normalisedFluoroDap': 'median', 'procedureCode': 'count'}\n",
    "                                 ).reset_index().round(3))\n",
    "median_KAP_studytype_ly"
   ]
  },
  {
   "cell_type": "code",
   "execution_count": null,
   "id": "8b48e8cb",
   "metadata": {},
   "outputs": [],
   "source": [
    "fig = px.box(study_lycksele, x='procedureCodeMeaning', y='doseAreaProductTotal')\n",
    "#fig.update_layout(width=1000, height=600)\n",
    "fig.show()"
   ]
  },
  {
   "cell_type": "code",
   "execution_count": null,
   "id": "b8fcdde9",
   "metadata": {},
   "outputs": [],
   "source": [
    "removals = study_lycksele['procedureCode'].value_counts().reset_index()\n",
    "removals = removals[removals['count'] > 1] # Ändra tröskel för hur många undersökningar som måste finnas med samma Kod i dataframe\n",
    "removals\n",
    "\n",
    "filtered_df = study_lycksele[study_lycksele['procedureCode'].isin(removals['procedureCode'])]\n",
    "#filtered_df.head()\n",
    "\n",
    "fig = px.box(filtered_df, x='procedureCodeMeaning', y='doseAreaProductTotal', points='all')\n",
    "#fig.update_layout(width=1000, height=600)\n",
    "fig.show()"
   ]
  },
  {
   "cell_type": "code",
   "execution_count": null,
   "id": "0e856cb2",
   "metadata": {},
   "outputs": [],
   "source": [
    "# Plocka ut de Koder som används i Lycksele och jämför dem med Umeå och Skellefteå\n",
    "\n",
    "filtered_df = study_names[study_names['procedureCode'].isin(study_lycksele['procedureCode'])]\n",
    "\n",
    "fig = px.box(filtered_df, x='procedureCodeMeaning', y='doseAreaProductTotal', color='machine')\n",
    "#fig.update_layout(height=1000)\n",
    "fig.show()\n"
   ]
  },
  {
   "cell_type": "markdown",
   "id": "c683457c82ac55a3",
   "metadata": {
    "collapsed": false
   },
   "source": [
    "## Individuella undersökningar"
   ]
  },
  {
   "cell_type": "code",
   "execution_count": null,
   "id": "3cac19f2ed65c5e1",
   "metadata": {
    "collapsed": false
   },
   "outputs": [],
   "source": [
    "fig = px.scatter(study[study.protocolCode == \"59100\"], x=\"studyDateTime\", y=\"doseRPTotal\", color=\"machine\")\n",
    "fig.update_layout(title_text='Nefrobyte')\n",
    "fig.show()"
   ]
  },
  {
   "cell_type": "code",
   "execution_count": null,
   "id": "eb1a173a",
   "metadata": {},
   "outputs": [],
   "source": [
    "fig = px.scatter(study[study.protocolCode == \"49600\"], x=\"patientAge\", y=\"doseAreaProductTotal\", color=\"machine\")\n",
    "fig.update_layout(title_text='Invagination')\n",
    "fig.show()\n",
    "\n",
    "49600"
   ]
  },
  {
   "cell_type": "code",
   "execution_count": null,
   "id": "7bf9652e5f9e690c",
   "metadata": {
    "collapsed": false
   },
   "outputs": [],
   "source": [
    "median_KAP_nefro = (study_names[study_names['procedureCode'] == '59100'].groupby(\n",
    "    [\"procedureCodeMeaning\", \"OperatorName\", \"machine\"])\n",
    "                           .agg({'doseAreaProductTotal': ['min', 'median', 'max'], 'normalisedFluoroDap': 'median', 'procedureCode': 'count'}\n",
    "                                 ).reset_index().round(2))\n",
    "median_KAP_nefro"
   ]
  },
  {
   "cell_type": "code",
   "execution_count": null,
   "id": "9beb046bc6a37be8",
   "metadata": {
    "collapsed": false
   },
   "outputs": [],
   "source": [
    "fig = px.scatter(study_names[(study_names.protocolCode == \"59100\") & (study_names.machine == 'S08')], x=\"totalFluoroTime\", y=\"fluoroDoseAreaProductTotal\", color=\"OperatorName\", hover_name=\"OperatorName\", hover_data=[\"fluoroDoseAreaProductTotal\", \"totalFluoroTime\", \"accessionNumber\"])\n",
    "fig.update_layout(title_text='Byte av nefrostomikateter')\n",
    "fig.show()\n",
    "#fig.write_html(\"C:/Projekt/GIT/rvbrtg/Data/output_data/html_plot_accnr.html\")"
   ]
  },
  {
   "cell_type": "code",
   "execution_count": null,
   "id": "acca365d",
   "metadata": {},
   "outputs": [],
   "source": [
    "nefro = study_names[study_names['procedureCode'] == '59100']\n",
    "removals = nefro['OperatorName'].value_counts().reset_index()\n",
    "removals = removals[removals['count'] > 8] # Ändra tröskel för hur många undersökningar som måste finnas med samma Kod i dataframe\n",
    "#removals\n",
    "\n",
    "filtered_df = nefro[nefro['OperatorName'].isin(removals['OperatorName'])]\n",
    "#filtered_df.head()\n",
    "\n",
    "fig = px.box(filtered_df, x='OperatorName', y='doseAreaProductTotal', points='all')\n",
    "#fig.update_layout(width=1000, height=600)\n",
    "fig.show()"
   ]
  },
  {
   "cell_type": "markdown",
   "id": "2d85fb85",
   "metadata": {},
   "source": [
    "## Analysera om det finns detaljerade skillnader som val av pulshastighet, dos-mode, antal exponeringar, etc."
   ]
  },
  {
   "cell_type": "code",
   "execution_count": null,
   "id": "1750662f",
   "metadata": {},
   "outputs": [],
   "source": [
    "# Plocka ut medelvärde för kollimerad area från varje undersökning och plotta med detta som färg på datapunkter\n",
    "\n",
    "def get_coll_avg(row) -> float:\n",
    "    return series.loc[series.studyId == row.id].collimatedFieldArea.mean()\n",
    "\n",
    "study[\"collAvg\"] = [\n",
    "    get_coll_avg(row)\n",
    "    for row in study.itertuples()\n",
    "]\n",
    "\n",
    "#study.head()\n",
    "fig = px.scatter(study[(study.protocolCode == \"59100\") & (study.machine == \"S08\")], x=\"totalFluoroTime\", y=\"fluoroDoseAreaProductTotal\", color=\"collAvg\")\n",
    "fig.update_layout(title_text='Byte av nefrostomikateter')\n",
    "fig.show()"
   ]
  },
  {
   "cell_type": "code",
   "execution_count": null,
   "id": "57c4f01e46420f74",
   "metadata": {
    "collapsed": false
   },
   "outputs": [],
   "source": [
    "# Top 20 i Skellefteå, Umeå och Lycksele\n",
    "top_nefro = study_names[study_names.procedureCode == \"59100\"].nlargest(20, 'fluoroDoseAreaProductTotal')\n",
    "top_20_skel = study_names[(study_names.procedureCode == \"59100\") & (study_names.machine == \"S08\")].nlargest(20, 'fluoroDoseAreaProductTotal')\n",
    "top_20_ume = study_names[(study_names.procedureCode == \"59100\") & (study_names.machine == \"U110\")].nlargest(20, 'fluoroDoseAreaProductTotal')\n",
    "top_20_lyck = study_names[(study_names.procedureCode == \"59100\") & (study_names.machine == \"L3\")].nlargest(20, 'fluoroDoseAreaProductTotal')\n",
    "top_nefro.head()"
   ]
  },
  {
   "cell_type": "code",
   "execution_count": null,
   "id": "2d2b77a945381886",
   "metadata": {
    "collapsed": false
   },
   "outputs": [],
   "source": [
    "#Joina dataframes för att få study och series i samma dataframe\n",
    "top_stud_ser_gml = top_nefro.merge(series, on=[\"studyInstanceUID\"], how=\"left\")\n",
    "\n",
    "top_stud_ser_gml = top_stud_ser_gml.drop('accessionNumber_y', axis=1)\n",
    "top_stud_ser_gml = top_stud_ser_gml.rename(columns={'accessionNumber_x': 'accessionNumber'})\n",
    "top_stud_ser_gml = top_stud_ser_gml.drop('studyId_y', axis=1)\n",
    "top_stud_ser_gml = top_stud_ser_gml.rename(columns={'studyId_x': 'studyId'})\n",
    "\n",
    "#Print för att kolla så att det funkade\n",
    "#print(top_stud_ser_gml.columns)"
   ]
  },
  {
   "cell_type": "code",
   "execution_count": null,
   "id": "6eb83a9b",
   "metadata": {},
   "outputs": [],
   "source": [
    "fig = px.scatter(top_stud_ser_gml[top_stud_ser_gml.accessionNumber == \"SERSKE0008140047\"], x=\"dateTimeStarted\", y=\"doseAreaProduct\", color=\"pulseRate\")\n",
    "fig.update_layout(title_text='Byte av nefrostomikateter')\n",
    "fig.show()"
   ]
  },
  {
   "cell_type": "code",
   "execution_count": null,
   "id": "d36bd32f",
   "metadata": {},
   "outputs": [],
   "source": [
    "fig = px.scatter(top_stud_ser_gml[top_stud_ser_gml.accessionNumber == \"SERSKE0008140047\"], x=\"dateTimeStarted\", y=\"doseAreaProduct\", color=\"collimatedFieldArea\")\n",
    "fig.update_layout(title_text='Byte av nefrostomikateter')\n",
    "fig.show()"
   ]
  },
  {
   "cell_type": "code",
   "execution_count": null,
   "id": "ae926c24",
   "metadata": {},
   "outputs": [],
   "source": [
    "fig = px.scatter(top_stud_ser_gml[top_stud_ser_gml.accessionNumber == \"SERSKE0008140047\"], x=\"dateTimeStarted\", y=\"doseAreaProduct\", color=\"acquisitionProtocol\")\n",
    "fig.update_layout(title_text='Byte av nefrostomikateter')\n",
    "fig.show()"
   ]
  },
  {
   "cell_type": "code",
   "execution_count": null,
   "id": "56041cda",
   "metadata": {},
   "outputs": [],
   "source": [
    "fig = px.scatter(top_stud_ser_gml[top_stud_ser_gml.accessionNumber == \"SERSKE0008140047\"], x=\"dateTimeStarted\", y=\"doseAreaProduct\", color=\"numberOfPulses\")\n",
    "fig.update_layout(title_text='Byte av nefrostomikateter')\n",
    "fig.show()"
   ]
  },
  {
   "cell_type": "code",
   "execution_count": null,
   "id": "0370c3e5",
   "metadata": {},
   "outputs": [],
   "source": [
    "median_KAP_nefro_ser = (top_stud_ser_gml[top_stud_ser_gml['procedureCode'] == '59100'].groupby(\n",
    "    [\"accessionNumber\", \"OperatorName\", \"machine\", \"doseAreaProductTotal\", \"acquisitionProtocol\", \"pulseRate\"])\n",
    "                           .agg({'doseAreaProduct': 'sum', 'procedureCode': 'count'}\n",
    "                                 ).reset_index().round(2))\n",
    "\n",
    "final_df = median_KAP_nefro_ser.sort_values(by=['doseAreaProductTotal'], ascending=False)\n",
    "final_df"
   ]
  },
  {
   "cell_type": "markdown",
   "id": "1e71aecc098f8aae",
   "metadata": {
    "collapsed": false
   },
   "source": [
    "## Dump till csv"
   ]
  },
  {
   "cell_type": "code",
   "execution_count": null,
   "id": "3610bf87",
   "metadata": {},
   "outputs": [],
   "source": [
    "#Testa dumpa ut en undersökning för att granska vidare\n",
    "\n",
    "test = series_data[series_data.accessionNumber == \"SERUME0008272496\"]\n",
    "test.to_csv(\"C:/Projekt/GIT/rvbrtg/Data/output_data/DUMP_XXX.csv\")"
   ]
  }
 ],
 "metadata": {
  "kernelspec": {
   "display_name": "rvbrtg",
   "language": "python",
   "name": "python3"
  },
  "language_info": {
   "codemirror_mode": {
    "name": "ipython",
    "version": 3
   },
   "file_extension": ".py",
   "mimetype": "text/x-python",
   "name": "python",
   "nbconvert_exporter": "python",
   "pygments_lexer": "ipython3",
   "version": "3.11.11"
  }
 },
 "nbformat": 4,
 "nbformat_minor": 5
}
