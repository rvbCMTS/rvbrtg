{
 "cells": [
  {
   "cell_type": "markdown",
   "source": [
    "## Importer av paket och data från REMbox"
   ],
   "metadata": {
    "collapsed": false
   },
   "id": "8b4eaf1e9f495e40"
  },
  {
   "cell_type": "code",
   "execution_count": null,
   "outputs": [],
   "source": [
    "import pandas as pd \n",
    "import hvplot.pandas #noqa #plotpaket\n",
    "from datetime import datetime\n",
    "import plotly.graph_objects as go\n",
    "from plotly.subplots import make_subplots\n",
    "import plotly.express as px\n",
    "from rembox_integration_tools import REMboxDataQuery\n",
    "from rembox_integration_tools.rembox_analysis import StudyColumn, SeriesColumn\n",
    "from pathlib import Path\n",
    "\n",
    "# om plotly önskas så skrivs följande hvplot.extension(\"plotly\")\n",
    "hvplot.extension(\"bokeh\")\n",
    "\n",
    "CLIENT_ID_ENV_VAR = \"REMBOX_INT_CLIENT_ID\"\n",
    "CLIENT_PWD_ENV_VAR = \"REMBOX_INT_CLIENT_PWD\"\n",
    "TOKEN_URI = \"https://autoqa.vll.se/dpqaauth/connect/token\" #Var finns access token\n",
    "API_URI = \"https://rembox.vll.se/api\" #Var finns API:t\n",
    "ORIGIN_URI = \"https://rembox.vll.se\" #Vilken URL\n",
    "\n",
    "rembox = REMboxDataQuery(\n",
    "    client_id_environment_variable=CLIENT_ID_ENV_VAR,\n",
    "    client_secret_environment_variable=CLIENT_PWD_ENV_VAR,\n",
    "    token_uri=TOKEN_URI,\n",
    "    api_uri=API_URI,\n",
    "    origin_uri=ORIGIN_URI,\n",
    "    verify_ssl_cert=False\n",
    ")\n",
    "\n",
    "valid_study_columns = StudyColumn()\n",
    "valid_series_columns = SeriesColumn()"
   ],
   "metadata": {
    "collapsed": false
   },
   "id": "411b2d22d2f429d3"
  },
  {
   "cell_type": "code",
   "execution_count": null,
   "id": "9d21fb72",
   "metadata": {},
   "outputs": [],
   "source": [
    "rembox.reset_filter_options()\n",
    "def get_data_from_fluoro(rembox: REMboxDataQuery) -> tuple[pd.DataFrame, pd.DataFrame]:\n",
    "\n",
    "    \n",
    "    rembox.filter_options.set_inclusive_tags(\n",
    "        machine_types=[\"XASTAT\"],     # CT-CT, Fluoroscopic-XASTAT, Mobile C-arm-XAMOB, Conventional-DX, Mammography-MG, Intraoral-IO, Panoramic-PX, Dental Cone Beam CT-DCBCT, PET-PET, PET/CT-PETCT, SPECT-SPECT, SPECT/CT-SPECTCT, Nuclear Medicine-NM, Mobile X-ray-DXMOB, Conventional with fluoro-DXXA\n",
    "        machines=[\"U110\", \"S08\", \"L3\"]#, \"U105\", \"U106\"]        # Umeå, Skellefteå, Lycksele + IR\n",
    "    )\n",
    "    \n",
    "    #rembox.filter_options.set_exclusive_tags() om jag vill ange filter där man bortser från ett visst kriterie\n",
    "\n",
    "    rembox.filter_options.patient_age_interval_include_nulls = True\n",
    "    \n",
    "    rembox.filter_options.study_time_interval_start_date = \"2023-11-22T00:00:00Z\"\n",
    "    rembox.filter_options.study_time_interval_end_date = \"2024-11-22T00:00:00Z\"\n",
    "    \n",
    "    \n",
    "    rembox.add_columns(\n",
    "        columns=[\n",
    "            valid_study_columns.AccessionNumber,\n",
    "            valid_study_columns.AcquisitionDoseAreaProductTotal,\n",
    "            valid_study_columns.AcquisitionDoseRPTotal,\n",
    "            valid_study_columns.AcquisitionPlane,\n",
    "            #valid_study_columns.CalibrationDate,\n",
    "            #valid_study_columns.CalibrationFactor,\n",
    "            #valid_study_columns.CalibrationProtocol,\n",
    "            #valid_study_columns.CalibrationResponsibleParty,\n",
    "            #valid_study_columns.CalibrationUncertainty,\n",
    "            valid_study_columns.City,\n",
    "            valid_study_columns.ConvFluoroClassifier,\n",
    "            valid_study_columns.DoseAreaProductTotal,\n",
    "            #valid_study_columns.DoseMeasurementDevice,\n",
    "            valid_study_columns.DoseRPTotal,\n",
    "            valid_study_columns.FluoroDoseAreaProductTotal,\n",
    "            valid_study_columns.FluoroDoseRPTotal,\n",
    "            #valid_study_columns.HasIntent,\n",
    "            #valid_study_columns.HalfValueLayer,\n",
    "            valid_study_columns.Hospital,\n",
    "            valid_study_columns.Id,\n",
    "            valid_study_columns.Machine,\n",
    "            #valid_study_columns.MeanBodyThickness,\n",
    "            #valid_study_columns.MaximumBodyThickness,\n",
    "            #valid_study_columns.MinimumBodyThickness,\n",
    "            valid_study_columns.PatientAge,\n",
    "            valid_study_columns.PatientAgeUnit,\n",
    "            valid_study_columns.PatientDbId,\n",
    "            valid_study_columns.PatientId,\n",
    "            #valid_study_columns.PatientModel,\n",
    "            #valid_study_columns.PatientsBodyMassIndex,\n",
    "            #valid_study_columns.PatientsName,\n",
    "            valid_study_columns.PatientsSex,\n",
    "            valid_study_columns.PatientsSize,\n",
    "            valid_study_columns.PatientsSizeDate,\n",
    "            valid_study_columns.PatientsSizeSource,\n",
    "            valid_study_columns.PatientsWeight,\n",
    "            valid_study_columns.PatientsWeightDate,\n",
    "            valid_study_columns.PatientsWeightSource,\n",
    "            #valid_study_columns.PerformingPhysicianIdentificationSequence,\n",
    "            valid_study_columns.PerformingPhysicianName,\n",
    "            valid_study_columns.PregnancyStatus,\n",
    "            valid_study_columns.ProcedureCode,\n",
    "            valid_study_columns.ProcedureCodeMeaning,\n",
    "            valid_study_columns.ProcedureReported,\n",
    "            valid_study_columns.ProtocolCode,\n",
    "            valid_study_columns.ProtocolCodeMeaning,\n",
    "            valid_study_columns.PSD,\n",
    "            #valid_study_columns.ReferenceAuthority,\n",
    "            #valid_study_columns.ReferencedSopInstanceUid,\n",
    "            #valid_study_columns.ReferencePointDefinition,\n",
    "            #valid_study_columns.ReferencePointDefinitionCode,\n",
    "            #valid_study_columns.ReferringPhysicianIdentificationSequence,\n",
    "            #valid_study_columns.ReferringPhysiciansName,\n",
    "            valid_study_columns.RequestedProcedureCode,\n",
    "            valid_study_columns.RequestedProcedureCodeMeaning,\n",
    "            valid_study_columns.ReferencePointDefinition,\n",
    "            valid_study_columns.ScopeOfAccumulation,\n",
    "            valid_study_columns.SoftwareVersions,\n",
    "            valid_study_columns.SourceOfDoseInformation,\n",
    "            valid_study_columns.StartOfXrayIrradiation,\n",
    "            valid_study_columns.StudyDateTime,\n",
    "            valid_study_columns.StudyDescription,\n",
    "            valid_study_columns.StudyId,\n",
    "            valid_study_columns.StudyInstanceUID,\n",
    "            valid_study_columns.TotalAcquisitionTime,\n",
    "            valid_study_columns.TotalFluoroTime,\n",
    "            valid_study_columns.TotalNumberOfIrradiationEvents,\n",
    "            valid_study_columns.TotalNumberOfRadiographicFrames,\n",
    "            valid_series_columns.AcquisitionPlaneSeries,\n",
    "            valid_series_columns.AcquisitionProtocol,\n",
    "            #valid_series_columns.AcquisitionType,\n",
    "            #valid_series_columns.ApplicationName, #--------------------------------------Här finns protokollnamn för Azurion\n",
    "            #valid_series_columns.AnatomicalStructure,\n",
    "            #valid_series_columns.AnodeTargetMaterial,\n",
    "            #valid_series_columns.AverageXrayTubeCurrent,\n",
    "            valid_series_columns.CollimatedFieldArea,\n",
    "            valid_series_columns.CollimatedFieldHeight,\n",
    "            valid_series_columns.CollimatedFieldWidth,\n",
    "            #valid_series_columns.ColumnAngulation,\n",
    "            #valid_series_columns.CrdrMechanicalConfiguration,\n",
    "            valid_series_columns.DateTimeStarted,\n",
    "            #valid_series_columns.DerivedEffectiveDiameter,\n",
    "            #valid_series_columns.DeviationIndex,\n",
    "            valid_series_columns.DistanceSourceToDetector,\n",
    "            valid_series_columns.DistanceSourceToIsocenter,\n",
    "            valid_series_columns.DistanceSourceToReferencePoint,\n",
    "            #valid_series_columns.DistanceSourceToTablePlane,\n",
    "            valid_series_columns.DoseAreaProduct,\n",
    "            valid_series_columns.DoseRP,\n",
    "            #valid_series_columns.EffectiveDose,\n",
    "            #valid_series_columns.EffectiveDoseConversionFactor,\n",
    "            #valid_series_columns.EntranceExposureAtRP,\n",
    "            #valid_series_columns.ExposedRange,\n",
    "            valid_series_columns.Exposure,\n",
    "            #valid_series_columns.ExposureIndex,\n",
    "            valid_series_columns.ExposureTime,\n",
    "            #valid_series_columns.ExposureTimePerRotation,\n",
    "            valid_series_columns.XrayFilterAluminumEquivalent,\n",
    "            valid_series_columns.XrayFilterType,\n",
    "            valid_series_columns.XrayFilterMaterial,\n",
    "            valid_series_columns.XrayFilterThicknessMaximum,\n",
    "            valid_series_columns.XrayFilterThicknessMinimum,\n",
    "            valid_series_columns.FluoroMode,\n",
    "            #valid_series_columns.FluoroFlavour, # -------------------------------------------- Här finns pulsrat för Azurion\n",
    "            #valid_series_columns.FrameOfReferenceUID,\n",
    "            #valid_series_columns.IdentificationOfTheXraySource,\n",
    "            #valid_series_columns.ImageView,\n",
    "            #valid_series_columns.ImageViewModifier,\n",
    "            #valid_series_columns.XrayGrid,\n",
    "            #valid_series_columns.XrayGridPitch,\n",
    "            #valid_series_columns.XrayGridAspectRatio,\n",
    "            #valid_series_columns.XrayGridFocalDistance,\n",
    "            valid_series_columns.IrradiationDuration,\n",
    "            #valid_series_columns.IrradiationEventLabel,\n",
    "            valid_series_columns.IrradiationEventType,\n",
    "            valid_series_columns.IrradiationEventUID,\n",
    "            valid_series_columns.kVp,\n",
    "            valid_series_columns.XrayTubeCurrent,\n",
    "            #valid_series_columns.XrayModulationType,\n",
    "            #valid_series_columns.LabelType,\n",
    "            #valid_series_columns.Laterality,\n",
    "            #valid_series_columns.MaximumXrayTubeCurrent,\n",
    "            #valid_series_columns.MeasurementMethodDose,\n",
    "            #valid_series_columns.NominalCollimationWidth,\n",
    "            #valid_series_columns.NominalTotalCollimationWidth,\n",
    "            valid_series_columns.NumberOfPulses,\n",
    "            #valid_series_columns.NumberOfXraySources,\n",
    "            valid_series_columns.PatientEquivalentThickness,\n",
    "            valid_series_columns.PatientOrientation,\n",
    "            valid_series_columns.PatientOrientationModifier,\n",
    "            valid_series_columns.PatientTableRelationship,\n",
    "            valid_series_columns.PositionerPrimaryAngle,\n",
    "            #valid_series_columns.PositionerPrimaryEndAngle,\n",
    "            valid_series_columns.PositionerSecondaryAngle,\n",
    "            #valid_series_columns.PositionerSecondaryEndAngle,\n",
    "            #valid_series_columns.ProcedureContext,\n",
    "            #valid_series_columns.ProjectionEponymousName,\n",
    "            valid_series_columns.PulseRate,\n",
    "            valid_series_columns.PulseWidth,\n",
    "            #valid_series_columns.ReconstructionAlgortihm,\n",
    "            #valid_series_columns.ReferencePointDefinitionText,\n",
    "            valid_series_columns.SpotSize,\n",
    "            valid_series_columns.TableCradleTiltAngle,\n",
    "            valid_series_columns.TableHeadTiltAngle,\n",
    "            valid_series_columns.TableHeightEndPosition,\n",
    "            valid_series_columns.TableHeightPosition,\n",
    "            valid_series_columns.TableHorizontalRotationAngle,\n",
    "            valid_series_columns.TableLateralEndPosition,\n",
    "            valid_series_columns.TableLateralPosition,\n",
    "            valid_series_columns.TableLongitudinalEndPosition,\n",
    "            valid_series_columns.TableLongitudinalPosition,\n",
    "            #valid_series_columns.TargetExposureIndex,\n",
    "            valid_series_columns.TargetRegion,\n",
    "            #valid_series_columns.WaterEquivalentDiameter,\n",
    "            #valid_series_columns.WedMeasurementMethod,\n",
    "            #valid_series_columns.XrayFilterAluminumEquivalent,\n",
    "            #valid_series_columns.XrayFilterMaterial,\n",
    "            #valid_series_columns.XrayFilterThicknessMaximum,\n",
    "            #valid_series_columns.XrayFilterThicknessMinimum,\n",
    "            #valid_series_columns.XrayFilterType,\n",
    "            #valid_series_columns.XrayGrid,\n",
    "            #valid_series_columns.XrayGridAspectRatio,\n",
    "            #valid_series_columns.XrayGridFocalDistance,\n",
    "            #valid_series_columns.XrayGridPitch,\n",
    "            #valid_series_columns.XrayModulationType,\n",
    "            #valid_series_columns.XrayTubeCurrent\n",
    "        ]\n",
    "    )\n",
    "\n",
    "    return rembox.run_query()"
   ]
  },
  {
   "cell_type": "code",
   "execution_count": null,
   "id": "a09b026b",
   "metadata": {},
   "outputs": [],
   "source": [
    "#Hämta data från REMbox\n",
    "study_data, series_data = get_data_from_fluoro(rembox=rembox)"
   ]
  },
  {
   "cell_type": "code",
   "execution_count": null,
   "outputs": [],
   "source": [
    "#Export av data till csv\n",
    "study_data.to_csv(\"C:/Users/chgr09/GIT/rvbrtg/Data/output_data/XA_study_2023.csv\")\n",
    "#series_data.to_csv(\"C:/Users/chgr09/GIT/rvbrtg/Data/output_data/XA_series_2023.csv\")"
   ],
   "metadata": {
    "collapsed": false
   },
   "id": "9e0b8e7d230bc5df"
  },
  {
   "cell_type": "markdown",
   "source": [
    "## Kontroller av data och hantering av dataframes"
   ],
   "metadata": {
    "collapsed": false
   },
   "id": "c67afa51e0f708df"
  },
  {
   "cell_type": "code",
   "execution_count": null,
   "id": "7b49419f",
   "metadata": {},
   "outputs": [],
   "source": [
    "study = study_data.copy() #skapa kopia av dataframe på study-nivå för att kunna behålla orginalet\n",
    "series = series_data.copy() #skapa kopia av dataframe på serie-nivå för att kunna behålla orginalet\n",
    "\n",
    "# TODO: Ta bort testpatienter\n",
    "#Ta bort undersökningar från testpatient U110 som har PatientId = ??\n",
    "#Ta bort undersökningar från testpatient S08 som har PatientId = ??\n",
    "#Ta bort undersökningar från testpatient L3 som har PatientId = ??"
   ]
  },
  {
   "cell_type": "code",
   "execution_count": null,
   "outputs": [],
   "source": [
    "series.head()"
   ],
   "metadata": {
    "collapsed": false
   },
   "id": "40df72173aa63608"
  },
  {
   "cell_type": "code",
   "execution_count": null,
   "outputs": [],
   "source": [
    "fig = px.scatter(study, x=\"studyDateTime\", y=\"doseRPTotal\", color=\"machine\")\n",
    "#fig = px.scatter(study[study.protocolCode == \"59100\"], x=\"studyDateTime\", y=\"doseRPTotal\", color=\"machine\")\n",
    "#fig.update_layout(title_text='Nefrobyte')\n",
    "fig.show()"
   ],
   "metadata": {
    "collapsed": false
   },
   "id": "6dac10f3510a1f64"
  },
  {
   "cell_type": "code",
   "execution_count": null,
   "id": "9d88f5c1",
   "metadata": {},
   "outputs": [],
   "source": [
    "#Räkna antal ingrepp och antal unika patienter\n",
    "exams = study[\"patientDbId\"].count()\n",
    "patients = study[\"patientDbId\"].nunique() #Count number of distinct elements in specified axis. Can ignore NaN values\n",
    "\n",
    "print(exams, \"undersökningar/ingrepp\")\n",
    "print(patients, \"patienter\")"
   ]
  },
  {
   "cell_type": "code",
   "outputs": [],
   "source": [
    "# TODO: Kolla om det är första eller sista instansen av samma Accnr som ska sparas. Vad händer när data kommer från bilder?\n",
    "\n",
    "print(len(study), \"antal undersökningar\")\n",
    "\n",
    "unique_studies = study.drop_duplicates(subset=\"accessionNumber\", keep=\"first\")\n",
    "\n",
    "ursprung = study[\"accessionNumber\"].count()\n",
    "unique_stud = unique_studies[\"accessionNumber\"].count()\n",
    "unique_pat = unique_studies[\"accessionNumber\"].nunique()\n",
    "\n",
    "print(ursprung, \"ursprung\")\n",
    "print(unique_stud, \"irradiation events\")\n",
    "print(unique_pat, \"unika irradiationEventUID\")"
   ],
   "metadata": {
    "collapsed": false
   },
   "id": "9429c8db5779e04d",
   "execution_count": null
  },
  {
   "cell_type": "code",
   "outputs": [],
   "source": [
    "print(len(series), \"antal irradiation events\")\n",
    "\n",
    "unique_series = series.drop_duplicates(subset=\"irradiationEventUID\", keep=\"first\")\n",
    "\n",
    "unique_irradiations = unique_series[\"irradiationEventUID\"].count()\n",
    "unique_patients = unique_series[\"irradiationEventUID\"].nunique()\n",
    "\n",
    "print(unique_irradiations, \"irradiation events\")\n",
    "print(unique_patients, \"unika irradiationEventUID\")"
   ],
   "metadata": {
    "collapsed": false
   },
   "id": "e1892a5f2d932f85",
   "execution_count": null
  },
  {
   "cell_type": "markdown",
   "source": [
    "## Lägg till operatörsnamn"
   ],
   "metadata": {
    "collapsed": false
   },
   "id": "bee1ac0ef5901da5"
  },
  {
   "cell_type": "code",
   "execution_count": null,
   "outputs": [],
   "source": [
    "# Översättningstabell från pseudo-operatörer till operatörer\n",
    "names_data_path = \"C:/Projekt/GIT/rvbrtg/Data/input_data/operators_2023.xlsx\"\n",
    "\n",
    "names = pd.read_excel(names_data_path)\n",
    "#Ändra kolumnnamn för att kunna göra en join\n",
    "names.columns = [\"performingPhysicianName\", \"OperatorName\"]\n",
    "names.head()"
   ],
   "metadata": {
    "collapsed": false
   },
   "id": "c6d26b697ebbc690"
  },
  {
   "cell_type": "code",
   "execution_count": null,
   "id": "c3db2233",
   "metadata": {},
   "outputs": [],
   "source": [
    "#Joina dataframes för att få in operatörsnamn\n",
    "study_names = study.merge(names, on = [\"performingPhysicianName\"], how = \"left\")\n",
    "\n",
    "#Print för att kolla så att det funkade\n",
    "print(study_names.OperatorName)"
   ]
  },
  {
   "cell_type": "code",
   "outputs": [],
   "source": [
    "#Granska om namn saknas\n",
    "study_names.to_csv(\"C:/Projekt/GIT/rvbrtg/Data/output_data/Operators_missing_GML_2024.csv\")"
   ],
   "metadata": {
    "collapsed": false
   },
   "id": "d0f139084911b763",
   "execution_count": null
  },
  {
   "cell_type": "code",
   "outputs": [],
   "source": [
    "study_names['normalisedFluoroDap'] = study_names['fluoroDoseAreaProductTotal'] / study_names['totalFluoroTime']"
   ],
   "metadata": {
    "collapsed": false
   },
   "id": "1640ac62c6fd5a90",
   "execution_count": null
  },
  {
   "cell_type": "code",
   "outputs": [],
   "source": [
    "procedure_dap_sum = study_names.groupby([\"procedureCode\", \"procedureCodeMeaning\", \"machine\"])[\"doseAreaProductTotal\"].sum().reset_index()\n",
    "procedure_dap_sum"
   ],
   "metadata": {
    "collapsed": false
   },
   "id": "ad41988d1ad176fc",
   "execution_count": null
  },
  {
   "cell_type": "code",
   "outputs": [],
   "source": [
    "procedure_dap_mean = study_names.groupby([\"procedureCode\", \"procedureCodeMeaning\", \"machine\"])[\"doseAreaProductTotal\"].mean().reset_index()\n",
    "procedure_dap_mean"
   ],
   "metadata": {
    "collapsed": false
   },
   "id": "68cf34f5325fa349",
   "execution_count": null
  },
  {
   "cell_type": "markdown",
   "source": [
    "## Skellefteå"
   ],
   "metadata": {
    "collapsed": false
   },
   "id": "29a1de659e751ad"
  },
  {
   "cell_type": "code",
   "outputs": [],
   "source": [
    "study_skellefteå = study_names[study_names['machine'] == 'S08']\n",
    "study_skellefteå.head()"
   ],
   "metadata": {
    "collapsed": false
   },
   "id": "9f511a1b99f27ef3",
   "execution_count": null
  },
  {
   "cell_type": "code",
   "outputs": [],
   "source": [
    "median_KAP_studytype_sk = (study_skellefteå.groupby(\n",
    "    [\"procedureCode\", \"procedureCodeMeaning\", \"OperatorName\"])\n",
    "                           .agg({'doseAreaProductTotal': ['min', 'median', 'max'], 'normalisedFluoroDap': 'median', 'procedureCode': 'count'}\n",
    "                                 ).reset_index().round(2)) \n",
    "median_KAP_studytype_sk"
   ],
   "metadata": {
    "collapsed": false
   },
   "id": "f6dfe42c92fe4d19",
   "execution_count": null
  },
  {
   "cell_type": "markdown",
   "source": [
    "## Umeå"
   ],
   "metadata": {
    "collapsed": false
   },
   "id": "6c77c98eb342c1d7"
  },
  {
   "cell_type": "code",
   "outputs": [],
   "source": [
    "study_umeå = study_names[study_names['machine'] == 'U110']\n",
    "study_umeå.head()"
   ],
   "metadata": {
    "collapsed": false
   },
   "id": "d314a2b92cb84e7d",
   "execution_count": null
  },
  {
   "cell_type": "code",
   "outputs": [],
   "source": [
    "median_KAP_studytype_uå = (study_umeå.groupby(\n",
    "    [\"procedureCode\", \"procedureCodeMeaning\"]) #, \"OperatorName\"\n",
    "                           .agg({'doseAreaProductTotal': ['min', 'median', 'max'], 'doseRPTotal': 'median', 'normalisedFluoroDap': 'median', 'procedureCode': 'count'}\n",
    "                                 ).reset_index().round(2))\n",
    "median_KAP_studytype_uå"
   ],
   "metadata": {
    "collapsed": false
   },
   "id": "190233f6bc5e7f5d",
   "execution_count": null
  },
  {
   "cell_type": "markdown",
   "source": [
    "## Lycksele"
   ],
   "metadata": {
    "collapsed": false
   },
   "id": "8658bd638ff9b66b"
  },
  {
   "cell_type": "code",
   "outputs": [],
   "source": [
    "study_lycksele = study_names[study_names['machine'] == 'L3']"
   ],
   "metadata": {
    "collapsed": false
   },
   "id": "1566c8a22b7a8794",
   "execution_count": null
  },
  {
   "cell_type": "code",
   "outputs": [],
   "source": [
    "median_KAP_studytype_ly = (study_lycksele.groupby(\n",
    "    [\"procedureCode\", \"procedureCodeMeaning\", \"OperatorName\"])\n",
    "                           .agg({'doseAreaProductTotal': ['min', 'median', 'max'], 'normalisedFluoroDap': 'median', 'procedureCode': 'count'}\n",
    "                                 ).reset_index().round(2))\n",
    "median_KAP_studytype_ly"
   ],
   "metadata": {
    "collapsed": false
   },
   "id": "3f555a05982489f8",
   "execution_count": null
  },
  {
   "cell_type": "markdown",
   "source": [
    "## Individuella undersökningar"
   ],
   "metadata": {
    "collapsed": false
   },
   "id": "c683457c82ac55a3"
  },
  {
   "cell_type": "code",
   "outputs": [],
   "source": [
    "#fig = px.scatter(study, x=\"studyDateTime\", y=\"doseRPTotal\", color=\"machine\")\n",
    "fig = px.scatter(study[study.protocolCode == \"59100\"], x=\"studyDateTime\", y=\"doseRPTotal\", color=\"machine\")\n",
    "fig.update_layout(title_text='Nefrobyte')\n",
    "fig.show()"
   ],
   "metadata": {
    "collapsed": false
   },
   "id": "3cac19f2ed65c5e1",
   "execution_count": null
  },
  {
   "cell_type": "code",
   "outputs": [],
   "source": [
    "median_KAP_nefro = (study_names[study_names['protocolCode'] == '59100'].groupby(\n",
    "    [\"procedureCodeMeaning\", \"OperatorName\", \"machine\"])\n",
    "                           .agg({'doseAreaProductTotal': ['min', 'median', 'max'], 'normalisedFluoroDap': 'median', 'procedureCode': 'count'}\n",
    "                                 ).reset_index().round(2))\n",
    "median_KAP_nefro"
   ],
   "metadata": {
    "collapsed": false
   },
   "id": "7bf9652e5f9e690c",
   "execution_count": null
  },
  {
   "cell_type": "code",
   "outputs": [],
   "source": [
    "fig = px.scatter(study[study.protocolCode == \"49928\"], x=\"studyDateTime\", y=\"doseRPTotal\", color=\"machine\")\n",
    "fig.update_layout(title_text='Inläggning ventrikelsond')\n",
    "fig.show()"
   ],
   "metadata": {
    "collapsed": false
   },
   "id": "9beb046bc6a37be8",
   "execution_count": null
  },
  {
   "cell_type": "code",
   "outputs": [],
   "source": [],
   "metadata": {
    "collapsed": false
   },
   "id": "919041413350bae1"
  },
  {
   "cell_type": "code",
   "outputs": [],
   "source": [],
   "metadata": {
    "collapsed": false
   },
   "id": "57c4f01e46420f74"
  },
  {
   "cell_type": "code",
   "outputs": [],
   "source": [],
   "metadata": {
    "collapsed": false
   },
   "id": "2d2b77a945381886"
  },
  {
   "cell_type": "code",
   "outputs": [],
   "source": [
    "#Joina dataframes för att få study och series i samma dataframe\n",
    "study_series_names = study_names.merge(series, on=[\"studyInstanceUID\"], how=\"left\")\n",
    "\n",
    "#study_series_names.head()\n",
    "\n",
    "study_series_names = study_series_names.drop('accessionNumber_y', axis=1)\n",
    "study_series_names = study_series_names.rename(columns={'accessionNumber_x': 'accessionNumber'})\n",
    "study_series_names = study_series_names.drop('studyId_y', axis=1)\n",
    "study_series_names = study_series_names.rename(columns={'studyId_x': 'studyId'})\n",
    "\n",
    "#Print för att kolla så att det funkade\n",
    "print(study_series_names.columns)"
   ],
   "metadata": {
    "collapsed": false
   },
   "id": "bcc58e149766efe9",
   "execution_count": null
  },
  {
   "cell_type": "markdown",
   "source": [
    "## Analysera om det finns detaljerade skillnader som val av pulshastighet, dos-mode, antal exponeringar, etc."
   ],
   "metadata": {
    "collapsed": false
   },
   "id": "dc5a891d1a89b5ea"
  },
  {
   "cell_type": "code",
   "outputs": [],
   "source": [],
   "metadata": {
    "collapsed": false
   },
   "id": "25656af71e17c2f5"
  },
  {
   "cell_type": "markdown",
   "source": [
    "## Dump till csv"
   ],
   "metadata": {
    "collapsed": false
   },
   "id": "1e71aecc098f8aae"
  },
  {
   "cell_type": "code",
   "execution_count": null,
   "id": "3610bf87",
   "metadata": {},
   "outputs": [],
   "source": [
    "#Testa dumpa ut en undersökning för att granska vidare\n",
    "\n",
    "test = series_data[series_data.accessionNumber == \"SERUME0008272496\"]\n",
    "test.to_csv(\"C:/Projekt/GIT/rvbrtg/Data/output_data/DUMP_XXX.csv\")"
   ]
  }
 ],
 "metadata": {
  "kernelspec": {
   "display_name": "Python 3 (ipykernel)",
   "language": "python",
   "name": "python3"
  },
  "language_info": {
   "codemirror_mode": {
    "name": "ipython",
    "version": 3
   },
   "file_extension": ".py",
   "mimetype": "text/x-python",
   "name": "python",
   "nbconvert_exporter": "python",
   "pygments_lexer": "ipython3",
   "version": "3.10.4"
  }
 },
 "nbformat": 4,
 "nbformat_minor": 5
}
