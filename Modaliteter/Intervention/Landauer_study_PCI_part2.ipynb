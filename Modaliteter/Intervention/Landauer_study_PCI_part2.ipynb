{
 "cells": [
  {
   "cell_type": "markdown",
   "source": [
    "## Importer av paket och data från REMbox"
   ],
   "metadata": {
    "collapsed": false
   }
  },
  {
   "cell_type": "code",
   "execution_count": null,
   "outputs": [],
   "source": [
    "import pandas as pd \n",
    "import hvplot.pandas #noqa #plotpaket\n",
    "from datetime import datetime\n",
    "from rembox_integration_tools import REMboxDataQuery\n",
    "from rembox_integration_tools.rembox_analysis import StudyColumn, SeriesColumn\n",
    "from pathlib import Path\n",
    "\n",
    "# om plotly önskas så skrivs följande hvplot.extension(\"plotly\")\n",
    "hvplot.extension(\"bokeh\")\n",
    "\n",
    "CLIENT_ID_ENV_VAR = \"REMBOX_INT_CLIENT_ID\"\n",
    "CLIENT_PWD_ENV_VAR = \"REMBOX_INT_CLIENT_PWD\"\n",
    "TOKEN_URI = \"https://autoqa.vll.se/dpqaauth/connect/token\" #Var finns access token\n",
    "API_URI = \"https://rembox.vll.se/api\" #Var finns API:t\n",
    "ORIGIN_URI = \"https://rembox.vll.se\" #Vilken URL\n",
    "\n",
    "rembox = REMboxDataQuery(\n",
    "    client_id_environment_variable=CLIENT_ID_ENV_VAR,\n",
    "    client_secret_environment_variable=CLIENT_PWD_ENV_VAR,\n",
    "    token_uri=TOKEN_URI,\n",
    "    api_uri=API_URI,\n",
    "    origin_uri=ORIGIN_URI\n",
    ")\n",
    "\n",
    "valid_study_columns = StudyColumn()\n",
    "valid_series_columns = SeriesColumn()"
   ],
   "metadata": {
    "collapsed": false
   }
  },
  {
   "cell_type": "code",
   "execution_count": null,
   "id": "9d21fb72",
   "metadata": {},
   "outputs": [],
   "source": [
    "rembox.reset_filter_options()\n",
    "def get_data_from_fluoro(rembox: REMboxDataQuery) -> tuple[pd.DataFrame, pd.DataFrame]:\n",
    "\n",
    "    \n",
    "    rembox.filter_options.set_inclusive_tags(\n",
    "        machine_types=[\"XASTAT\"],     # CT-CT, Fluoroscopic-XASTAT, Mobile C-arm-XAMOB, Conventional-DX, Mammography-MG, Intraoral-IO, Panoramic-PX, Dental Cone Beam CT-DCBCT, PET-PET, PET/CT-PETCT, SPECT-SPECT, SPECT/CT-SPECTCT, Nuclear Medicine-NM, Mobile X-ray-DXMOB, Conventional with fluoro-DXXA\n",
    "        machines=[\"U601\", \"U602\"]        # PCI-1, PCI-2\n",
    "    )\n",
    "    \n",
    "    #rembox.filter_options.set_exclusive_tags() om jag vill ange filter där man bortser från ett visst kriterie\n",
    "\n",
    "    rembox.filter_options.patient_age_interval_include_nulls = True\n",
    "    \n",
    "    rembox.filter_options.study_time_interval_start_date = \"2022-11-21T00:00:00Z\"\n",
    "    rembox.filter_options.study_time_interval_end_date = \"2022-12-21T00:00:00Z\" #Lägg till en dag till önskad tidsperiod för att matcha GUI\n",
    "    \n",
    "    \n",
    "    rembox.add_columns(\n",
    "        columns=[\n",
    "            valid_study_columns.StudyDateTime,\n",
    "            valid_study_columns.AccessionNumber,\n",
    "            valid_study_columns.AcquisitionDoseAreaProductTotal,\n",
    "            valid_study_columns.AcquisitionDoseRPTotal,\n",
    "            valid_study_columns.AcquisitionPlane,\n",
    "            #valid_study_columns.CalibrationDate,\n",
    "            #valid_study_columns.CalibrationFactor,\n",
    "            #valid_study_columns.CalibrationProtocol,\n",
    "            #valid_study_columns.CalibrationResponsibleParty,\n",
    "            #valid_study_columns.CalibrationUncertainty,\n",
    "            #valid_study_columns.City,\n",
    "            valid_study_columns.ConvFluoroClassifier,\n",
    "            valid_study_columns.DoseAreaProductTotal,\n",
    "            valid_study_columns.DoseMeasurementDevice,\n",
    "            valid_study_columns.DoseRPTotal,\n",
    "            valid_study_columns.FluoroDoseAreaProductTotal,\n",
    "            valid_study_columns.FluoroDoseRPTotal,\n",
    "            #valid_study_columns.HasIntent,\n",
    "            #valid_study_columns.HalfValueLayer,\n",
    "            #valid_study_columns.Hospital,\n",
    "            valid_study_columns.Id,\n",
    "            valid_study_columns.Machine,\n",
    "            #valid_study_columns.MeanBodyThickness,\n",
    "            #valid_study_columns.MaximumBodyThickness,\n",
    "            #valid_study_columns.MinimumBodyThickness,\n",
    "            #valid_study_columns.PatientAge,\n",
    "            #valid_study_columns.PatientAgeUnit,\n",
    "            valid_study_columns.PatientDbId,\n",
    "            valid_study_columns.PatientId,\n",
    "            #valid_study_columns.PatientModel,\n",
    "            #valid_study_columns.PatientsBodyMassIndex,\n",
    "            #valid_study_columns.PatientsName,\n",
    "            valid_study_columns.PatientsSex,\n",
    "            #valid_study_columns.PatientsSize,\n",
    "            #valid_study_columns.PatientsSizeDate,\n",
    "            #valid_study_columns.PatientsSizeSource,\n",
    "            #valid_study_columns.PatientsWeight,\n",
    "            #valid_study_columns.PatientsWeightDate,\n",
    "            #valid_study_columns.PatientsWeightSource,\n",
    "            #valid_study_columns.PerformingPhysicianIdentificationSequence,\n",
    "            valid_study_columns.PerformingPhysicianName,\n",
    "            #valid_study_columns.PregnancyStatus,\n",
    "            valid_study_columns.ProcedureCode,\n",
    "            valid_study_columns.ProcedureCodeMeaning,\n",
    "            valid_study_columns.ProcedureReported,\n",
    "            valid_study_columns.ProtocolCode,\n",
    "            valid_study_columns.ProtocolCodeMeaning,\n",
    "            #valid_study_columns.ReferenceAuthority,\n",
    "            #valid_study_columns.ReferencedSopInstanceUid,\n",
    "            #valid_study_columns.ReferencePointDefinition,\n",
    "            #valid_study_columns.ReferencePointDefinitionCode,\n",
    "            #valid_study_columns.ReferringPhysicianIdentificationSequence,\n",
    "            #valid_study_columns.ReferringPhysiciansName,\n",
    "            valid_study_columns.RequestedProcedureCode,\n",
    "            valid_study_columns.RequestedProcedureCodeMeaning,\n",
    "            #valid_study_columns.ScopeOfAccumulation,\n",
    "            valid_study_columns.SoftwareVersions,\n",
    "            valid_study_columns.StartOfXrayIrradiation,\n",
    "            valid_study_columns.StudyDateTime,\n",
    "            valid_study_columns.StudyDescription,\n",
    "            valid_study_columns.StudyId,\n",
    "            valid_study_columns.StudyInstanceUID,\n",
    "            valid_study_columns.TotalAcquisitionTime,\n",
    "            valid_study_columns.TotalFluoroTime,\n",
    "            valid_study_columns.TotalNumberOfIrradiationEvents,\n",
    "            valid_study_columns.TotalNumberOfRadiographicFrames,\n",
    "            valid_series_columns.AcquisitionPlaneSeries,\n",
    "            valid_series_columns.AcquisitionProtocol,\n",
    "            valid_series_columns.AcquisitionType,\n",
    "            #valid_series_columns.AnatomicalStructure,\n",
    "            #valid_series_columns.AnodeTargetMaterial,\n",
    "            valid_series_columns.AverageXrayTubeCurrent,\n",
    "            valid_series_columns.CollimatedFieldArea,\n",
    "            valid_series_columns.CollimatedFieldHeight,\n",
    "            valid_series_columns.CollimatedFieldWidth,\n",
    "            #valid_series_columns.ColumnAngulation,\n",
    "            #valid_series_columns.CrdrMechanicalConfiguration,\n",
    "            valid_series_columns.DateTimeStarted,\n",
    "            #valid_series_columns.DerivedEffectiveDiameter,\n",
    "            #valid_series_columns.DeviationIndex,\n",
    "            valid_series_columns.DistanceSourceToDetector,\n",
    "            valid_series_columns.DistanceSourceToIsocenter,\n",
    "            valid_series_columns.DistanceSourceToReferencePoint,\n",
    "            valid_series_columns.DistanceSourceToTablePlane,\n",
    "            valid_series_columns.DoseAreaProduct,\n",
    "            valid_series_columns.DoseRP,\n",
    "            #valid_series_columns.EffectiveDose,\n",
    "            #valid_series_columns.EffectiveDoseConversionFactor,\n",
    "            valid_series_columns.EntranceExposureAtRP,\n",
    "            #valid_series_columns.ExposedRange,\n",
    "            valid_series_columns.Exposure,\n",
    "            valid_series_columns.ExposureIndex,\n",
    "            valid_series_columns.ExposureTime,\n",
    "            #valid_series_columns.ExposureTimePerRotation,\n",
    "            valid_series_columns.FluoroMode,\n",
    "            valid_series_columns.FrameOfReferenceUID,\n",
    "            #valid_series_columns.IdentificationOfTheXraySource,\n",
    "            #valid_series_columns.ImageView,\n",
    "            #valid_series_columns.ImageViewModifier,\n",
    "            valid_series_columns.IrradiationDuration,\n",
    "            valid_series_columns.IrradiationEventLabel,\n",
    "            valid_series_columns.IrradiationEventType,\n",
    "            valid_series_columns.IrradiationEventUID,\n",
    "            valid_series_columns.kVp,\n",
    "            #valid_series_columns.LabelType,\n",
    "            #valid_series_columns.Laterality,\n",
    "            #valid_series_columns.MaximumXrayTubeCurrent,\n",
    "            #valid_series_columns.MeasurementMethodDose,\n",
    "            #valid_series_columns.NominalCollimationWidth,\n",
    "            #valid_series_columns.NominalTotalCollimationWidth,\n",
    "            valid_series_columns.NumberOfPulses,\n",
    "            valid_series_columns.NumberOfXraySources,\n",
    "            valid_series_columns.PatientEquivalentThickness,\n",
    "            #valid_series_columns.PatientOrientation,\n",
    "            #valid_series_columns.PatientOrientationModifier,\n",
    "            valid_series_columns.PatientTableRelationship,\n",
    "            valid_series_columns.PositionerPrimaryAngle,\n",
    "            #valid_series_columns.PositionerPrimaryEndAngle,\n",
    "            valid_series_columns.PositionerSecondaryAngle,\n",
    "            #valid_series_columns.PositionerSecondaryEndAngle,\n",
    "            #valid_series_columns.ProcedureContext,\n",
    "            #valid_series_columns.ProjectionEponymousName,\n",
    "            valid_series_columns.PulseRate,\n",
    "            valid_series_columns.PulseWidth,\n",
    "            #valid_series_columns.ReconstructionAlgortihm,\n",
    "            #valid_series_columns.ReferencePointDefinitionText,\n",
    "            valid_series_columns.SpotSize,\n",
    "            valid_series_columns.TableCradleTiltAngle,\n",
    "            valid_series_columns.TableHeadTiltAngle,\n",
    "            #valid_series_columns.TableHeightEndPosition,\n",
    "            valid_series_columns.TableHeightPosition,\n",
    "            valid_series_columns.TableHorizontalRotationAngle,\n",
    "            #valid_series_columns.TableLateralEndPosition,\n",
    "            valid_series_columns.TableLateralPosition,\n",
    "            #valid_series_columns.TableLongitudinalEndPosition,\n",
    "            valid_series_columns.TableLongitudinalPosition,\n",
    "            #valid_series_columns.TargetExposureIndex,\n",
    "            #valid_series_columns.TargetRegion,\n",
    "            #valid_series_columns.WaterEquivalentDiameter,\n",
    "            #valid_series_columns.WedMeasurementMethod,\n",
    "            valid_series_columns.XrayFilterAluminumEquivalent,\n",
    "            valid_series_columns.XrayFilterMaterial,\n",
    "            valid_series_columns.XrayFilterThicknessMaximum,\n",
    "            valid_series_columns.XrayFilterThicknessMinimum,\n",
    "            valid_series_columns.XrayFilterType,\n",
    "            #valid_series_columns.XrayGrid,\n",
    "            #valid_series_columns.XrayGridAspectRatio,\n",
    "            #valid_series_columns.XrayGridFocalDistance,\n",
    "            #valid_series_columns.XrayGridPitch,\n",
    "            #valid_series_columns.XrayModulationType,\n",
    "            valid_series_columns.XrayTubeCurrent\n",
    "        ]\n",
    "    )\n",
    "\n",
    "    return rembox.run_query()"
   ]
  },
  {
   "cell_type": "code",
   "execution_count": null,
   "id": "a09b026b",
   "metadata": {},
   "outputs": [],
   "source": [
    "#Hämta data från REMbox\n",
    "study_data, series_data = get_data_from_fluoro(rembox=rembox)"
   ]
  },
  {
   "cell_type": "markdown",
   "source": [
    "## Kontroller av data och hantering av dataframes"
   ],
   "metadata": {
    "collapsed": false
   }
  },
  {
   "cell_type": "code",
   "execution_count": null,
   "id": "7b49419f",
   "metadata": {},
   "outputs": [],
   "source": [
    "study = study_data.copy() #skapa kopia av dataframe på study-nivå för att kunna behålla orginalet\n",
    "series = series_data.copy() #skapa kopia av dataframe på serie-nivå för att kunna behålla orginalet"
   ]
  },
  {
   "cell_type": "code",
   "execution_count": null,
   "outputs": [],
   "source": [
    "antal_1 = series[\"irradiationEventUID\"].count()\n",
    "patienter_1 = series[\"irradiationEventUID\"].nunique()\n",
    "\n",
    "series.drop_duplicates(subset=\"irradiationEventUID\", keep=\"first\", inplace=True)\n",
    "\n",
    "antal_2 = series[\"irradiationEventUID\"].count()\n",
    "patienter_2 = series[\"irradiationEventUID\"].nunique()\n",
    "\n",
    "antal_3 = study[\"studyInstanceUID\"].count()\n",
    "\n",
    "\n",
    "\n",
    "\n",
    "print(antal_1)\n",
    "print(patienter_1)\n",
    "print('--------')\n",
    "print(antal_2)\n",
    "print(patienter_2)\n",
    "print(antal_3)"
   ],
   "metadata": {
    "collapsed": false
   }
  },
  {
   "cell_type": "code",
   "execution_count": null,
   "outputs": [],
   "source": [
    "study.head()"
   ],
   "metadata": {
    "collapsed": false
   }
  },
  {
   "cell_type": "markdown",
   "source": [
    "## Join series and study"
   ],
   "metadata": {
    "collapsed": false
   }
  },
  {
   "cell_type": "code",
   "execution_count": null,
   "outputs": [],
   "source": [
    "#Kontrollera vad kolumnerna heter\n",
    "#series.head()\n",
    "print(study.studyInstanceUID)\n",
    "print(\"-------------------------------\")\n",
    "print(series.studyInstanceUID)"
   ],
   "metadata": {
    "collapsed": false
   }
  },
  {
   "cell_type": "code",
   "execution_count": null,
   "id": "c3db2233",
   "metadata": {},
   "outputs": [],
   "source": [
    "#Joina dataframes för att få study och series i samma dataframe\n",
    "study_series = study.merge(series, on = [\"studyInstanceUID\"], how = \"left\")\n",
    "\n",
    "#Print för att kolla så att det funkade\n",
    "print(study_series.columns)"
   ]
  },
  {
   "cell_type": "code",
   "execution_count": null,
   "outputs": [],
   "source": [
    "# Översättningstabell från pseudo-operatörer till operatörer\n",
    "names_data_path = \"C:/Users/chgr09/GIT/rvbrtg/Data/input_data/operators_2023.xlsx\"\n",
    "names = pd.read_excel(names_data_path)\n",
    "names.columns = [\"performingPhysicianName\", \"OperatorName\"]\n",
    "study_names = study.merge(names, on = [\"performingPhysicianName\"], how = \"left\")\n",
    "\n",
    "study_names.head()"
   ],
   "metadata": {
    "collapsed": false
   }
  },
  {
   "cell_type": "code",
   "execution_count": null,
   "outputs": [],
   "source": [
    "# Fyll på med operatörer som saknas\n",
    "missing_names_data_path = \"C:/Users/chgr09/GIT/rvbrtg/Data/input_data/operators_landauer_round2_2022.xlsx\"\n",
    "missing_names = pd.read_excel(missing_names_data_path, header=None)\n",
    "missing_names.columns = [\"accessionNumber\", \"OperatorName\"]\n",
    "merged = study_names.merge(missing_names, on = [\"accessionNumber\"], how = \"left\")\n",
    "\n",
    "\n",
    "#print(study_names[study_names.accessionNumber == 'SETUME0007821975'].OperatorName)\n",
    "#print(missing_names[missing_names.accessionNumber == 'SETUME0007821975'].OperatorName)\n",
    "\n",
    "merged.OperatorName_x.fillna(merged.OperatorName_y, inplace=True)\n",
    "merged = merged.drop('OperatorName_y', axis=1)\n",
    "merged = merged.rename(columns={'OperatorName_x': 'OperatorName'})\n",
    "\n",
    "merged.head()"
   ],
   "metadata": {
    "collapsed": false
   }
  },
  {
   "cell_type": "code",
   "execution_count": null,
   "outputs": [],
   "source": [
    "test = merged.groupby([\"OperatorName\"])[\"doseAreaProductTotal\"].sum().reset_index()\n",
    "#test.drop(test[(test[\"doseRPTotal\"] <5000)].index, inplace=True)\n",
    "test"
   ],
   "metadata": {
    "collapsed": false
   }
  },
  {
   "cell_type": "code",
   "execution_count": null,
   "outputs": [],
   "source": [
    "#operatörer på PCI\n",
    "\n",
    "study_bjorn = merged[merged.OperatorName == 'Björn Pettersson']\n",
    "study_henrik = merged[merged.OperatorName == 'Henrik Hagström']\n",
    "study_jonas = merged[merged.OperatorName == 'Jonas Andersson']\n",
    "\n",
    "print(study_bjorn.studyInstanceUID.count())\n",
    "Bjorn = study_bjorn.groupby([\"studyDescription\"])[\"doseAreaProductTotal\"].sum().reset_index()\n",
    "Bjorn"
   ],
   "metadata": {
    "collapsed": false
   }
  },
  {
   "cell_type": "code",
   "execution_count": null,
   "outputs": [],
   "source": [
    "print(study_henrik.studyInstanceUID.count())\n",
    "Henrik = study_henrik.groupby([\"studyDescription\"])[\"doseAreaProductTotal\"].sum().reset_index()\n",
    "Henrik"
   ],
   "metadata": {
    "collapsed": false
   }
  },
  {
   "cell_type": "code",
   "execution_count": null,
   "outputs": [],
   "source": [
    "print(study_jonas.studyInstanceUID.count())\n",
    "Jonas = study_jonas.groupby([\"studyDescription\"])[\"doseAreaProductTotal\"].sum().reset_index()\n",
    "Jonas"
   ],
   "metadata": {
    "collapsed": false
   }
  },
  {
   "cell_type": "code",
   "execution_count": null,
   "outputs": [],
   "source": [
    "total_KAP_studytype = merged.groupby(\n",
    "    [\"OperatorName\", \"studyDescription\"])[\"doseAreaProductTotal\"].sum().reset_index()\n",
    "total_KAP_studytype"
   ],
   "metadata": {
    "collapsed": false
   }
  },
  {
   "cell_type": "markdown",
   "source": [
    "## Export till csv"
   ],
   "metadata": {
    "collapsed": false
   }
  },
  {
   "cell_type": "code",
   "execution_count": null,
   "outputs": [],
   "source": [
    "#Export av data till csv\n",
    "#study_data.to_csv(\"C:/Users/chgr09/GIT/rvbrtg/Data/output_data/XA_study_2023.csv\")\n",
    "series.to_csv(\"C:/Users/chgr09/GIT/rvbrtg/Data/output_data/U602_series_maj.csv\")\n",
    "study_series.to_csv(\"C:/Users/chgr09/GIT/rvbrtg/Data/output_data/U602_study_and_series_maj.csv\")"
   ],
   "metadata": {
    "collapsed": false
   }
  }
 ],
 "metadata": {
  "kernelspec": {
   "display_name": "Python 3 (ipykernel)",
   "language": "python",
   "name": "python3"
  },
  "language_info": {
   "codemirror_mode": {
    "name": "ipython",
    "version": 3
   },
   "file_extension": ".py",
   "mimetype": "text/x-python",
   "name": "python",
   "nbconvert_exporter": "python",
   "pygments_lexer": "ipython3",
   "version": "3.10.4"
  }
 },
 "nbformat": 4,
 "nbformat_minor": 5
}
