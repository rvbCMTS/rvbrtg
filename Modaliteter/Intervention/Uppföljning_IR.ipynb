{
 "cells": [
  {
   "cell_type": "markdown",
   "id": "8b4eaf1e9f495e40",
   "metadata": {
    "collapsed": false
   },
   "source": [
    "## Importer av paket och data från REMbox"
   ]
  },
  {
   "cell_type": "code",
   "execution_count": null,
   "id": "411b2d22d2f429d3",
   "metadata": {
    "collapsed": false
   },
   "outputs": [],
   "source": [
    "import pandas as pd \n",
    "import hvplot.pandas #noqa #plotpaket\n",
    "from datetime import datetime\n",
    "import plotly.graph_objects as go\n",
    "from plotly.subplots import make_subplots\n",
    "import plotly.express as px\n",
    "from rembox_integration_tools import REMboxDataQuery\n",
    "from rembox_integration_tools.rembox_analysis import StudyColumn, SeriesColumn\n",
    "from pathlib import Path\n",
    "\n",
    "# om plotly önskas så skrivs följande hvplot.extension(\"plotly\")\n",
    "hvplot.extension(\"bokeh\")\n",
    "\n",
    "CLIENT_ID_ENV_VAR = \"REMBOX_INT_CLIENT_ID\"\n",
    "CLIENT_PWD_ENV_VAR = \"REMBOX_INT_CLIENT_PWD\"\n",
    "TOKEN_URI = \"https://autoqa.vll.se/dpqaauth/connect/token\" #Var finns access token\n",
    "API_URI = \"https://rembox.vll.se/api\" #Var finns API:t\n",
    "ORIGIN_URI = \"https://rembox.vll.se\" #Vilken URL\n",
    "\n",
    "rembox = REMboxDataQuery(\n",
    "    client_id_environment_variable=CLIENT_ID_ENV_VAR,\n",
    "    client_secret_environment_variable=CLIENT_PWD_ENV_VAR,\n",
    "    token_uri=TOKEN_URI,\n",
    "    api_uri=API_URI,\n",
    "    origin_uri=ORIGIN_URI,\n",
    "    verify_ssl_cert=False\n",
    ")\n",
    "\n",
    "valid_study_columns = StudyColumn()\n",
    "valid_series_columns = SeriesColumn()"
   ]
  },
  {
   "cell_type": "code",
   "execution_count": null,
   "id": "9d21fb72",
   "metadata": {},
   "outputs": [],
   "source": [
    "rembox.reset_filter_options()\n",
    "def get_data_from_fluoro(rembox: REMboxDataQuery) -> tuple[pd.DataFrame, pd.DataFrame]:\n",
    "\n",
    "    \n",
    "    rembox.filter_options.set_inclusive_tags(\n",
    "        machine_types=[\"XASTAT\"],     # CT-CT, Fluoroscopic-XASTAT, Mobile C-arm-XAMOB, Conventional-DX, Mammography-MG, Intraoral-IO, Panoramic-PX, Dental Cone Beam CT-DCBCT, PET-PET, PET/CT-PETCT, SPECT-SPECT, SPECT/CT-SPECTCT, Nuclear Medicine-NM, Mobile X-ray-DXMOB, Conventional with fluoro-DXXA\n",
    "        machines=[\"U104\", \"U105\", \"U106\"]        # INR, IR1 & IR2\n",
    "    )\n",
    "    \n",
    "    #rembox.filter_options.set_exclusive_tags() om jag vill ange filter där man bortser från ett visst kriterie\n",
    "\n",
    "    rembox.filter_options.patient_age_interval_include_nulls = True\n",
    "    \n",
    "    rembox.filter_options.study_time_interval_start_date = \"2024-01-01T00:00:00Z\"\n",
    "    rembox.filter_options.study_time_interval_end_date = \"2024-12-31T00:00:00Z\"\n",
    "    \n",
    "    \n",
    "    rembox.add_columns(\n",
    "        columns=[\n",
    "            valid_study_columns.StudyDateTime,\n",
    "            valid_study_columns.AccessionNumber,\n",
    "            valid_study_columns.AcquisitionDoseAreaProductTotal,\n",
    "            valid_study_columns.AcquisitionDoseRPTotal,\n",
    "            valid_study_columns.AcquisitionPlane,\n",
    "            #valid_study_columns.CalibrationDate,\n",
    "            #valid_study_columns.CalibrationFactor,\n",
    "            #valid_study_columns.CalibrationProtocol,\n",
    "            #valid_study_columns.CalibrationResponsibleParty,\n",
    "            #valid_study_columns.CalibrationUncertainty,\n",
    "            valid_study_columns.City,\n",
    "            valid_study_columns.ConvFluoroClassifier,\n",
    "            valid_study_columns.DoseAreaProductTotal,\n",
    "            valid_study_columns.DoseMeasurementDevice,\n",
    "            valid_study_columns.DoseRPTotal,\n",
    "            valid_study_columns.FluoroDoseAreaProductTotal,\n",
    "            valid_study_columns.FluoroDoseRPTotal,\n",
    "            valid_study_columns.HasIntent,\n",
    "            #valid_study_columns.HalfValueLayer,\n",
    "            valid_study_columns.Hospital,\n",
    "            valid_study_columns.Id,\n",
    "            valid_study_columns.Machine,\n",
    "            #valid_study_columns.MeanBodyThickness,\n",
    "            #valid_study_columns.MaximumBodyThickness,\n",
    "            #valid_study_columns.MinimumBodyThickness,\n",
    "            valid_study_columns.PatientAge,\n",
    "            #valid_study_columns.PatientAgeUnit,\n",
    "            valid_study_columns.PatientDbId,\n",
    "            valid_study_columns.PatientId,\n",
    "            #valid_study_columns.PatientModel,\n",
    "            #valid_study_columns.PatientsBodyMassIndex,\n",
    "            #valid_study_columns.PatientsName,\n",
    "            valid_study_columns.PatientsSex,\n",
    "            valid_study_columns.PatientsSize,\n",
    "            valid_study_columns.PatientsSizeDate,\n",
    "            valid_study_columns.PatientsSizeSource,\n",
    "            valid_study_columns.PatientsWeight,\n",
    "            valid_study_columns.PatientsWeightDate,\n",
    "            valid_study_columns.PatientsWeightSource,\n",
    "            #valid_study_columns.PerformingPhysicianIdentificationSequence,\n",
    "            #valid_Study_columns ------------------------------------------------------PSD?\n",
    "            valid_study_columns.PerformingPhysicianName,\n",
    "            #valid_study_columns.PregnancyStatus,\n",
    "            valid_study_columns.ProcedureCode,\n",
    "            valid_study_columns.ProcedureCodeMeaning,\n",
    "            valid_study_columns.ProcedureReported,\n",
    "            valid_study_columns.ProtocolCode,\n",
    "            valid_study_columns.ProtocolCodeMeaning,\n",
    "            #valid_study_columns.ReferenceAuthority,\n",
    "            #valid_study_columns.ReferencedSopInstanceUid,\n",
    "            valid_study_columns.ReferencePointDefinition,\n",
    "            #valid_study_columns.ReferencePointDefinitionCode,\n",
    "            valid_study_columns.ReferringPhysicianIdentificationSequence,\n",
    "            valid_study_columns.ReferringPhysiciansName,\n",
    "            valid_study_columns.RequestedProcedureCode,\n",
    "            valid_study_columns.RequestedProcedureCodeMeaning,\n",
    "            valid_study_columns.ScopeOfAccumulation,\n",
    "            valid_study_columns.SoftwareVersions,\n",
    "            valid_study_columns.StartOfXrayIrradiation,\n",
    "            valid_study_columns.StudyDateTime,\n",
    "            valid_study_columns.StudyDescription,\n",
    "            valid_study_columns.StudyId,\n",
    "            valid_study_columns.StudyInstanceUID,\n",
    "            valid_study_columns.TotalAcquisitionTime,\n",
    "            valid_study_columns.TotalFluoroTime,\n",
    "            valid_study_columns.TotalNumberOfIrradiationEvents,\n",
    "            valid_study_columns.TotalNumberOfRadiographicFrames,\n",
    "            valid_series_columns.AcquisitionPlaneSeries,\n",
    "            valid_series_columns.AcquisitionProtocol,\n",
    "            #valid_series_columns.AcquisitionType,\n",
    "            #valid_series_columns.ApplicationName, #--------------------------------------Här finns protokollnamn för Azurion\n",
    "            #valid_series_columns.AnatomicalStructure,\n",
    "            #valid_series_columns.AnodeTargetMaterial,\n",
    "            valid_series_columns.AverageXrayTubeCurrent,\n",
    "            valid_series_columns.CollimatedFieldArea,\n",
    "            valid_series_columns.CollimatedFieldHeight,\n",
    "            valid_series_columns.CollimatedFieldWidth,\n",
    "            #valid_series_columns.ColumnAngulation,\n",
    "            #valid_series_columns.CrdrMechanicalConfiguration,\n",
    "            valid_series_columns.DateTimeStarted,\n",
    "            #valid_series_columns.DerivedEffectiveDiameter,\n",
    "            #valid_series_columns.DeviationIndex,\n",
    "            valid_series_columns.DistanceSourceToDetector,\n",
    "            valid_series_columns.DistanceSourceToIsocenter,\n",
    "            valid_series_columns.DistanceSourceToReferencePoint,\n",
    "            #valid_series_columns.DistanceSourceToTablePlane,\n",
    "            valid_series_columns.DoseAreaProduct,\n",
    "            valid_series_columns.DoseRP,\n",
    "            #valid_series_columns.EffectiveDose,\n",
    "            #valid_series_columns.EffectiveDoseConversionFactor,\n",
    "            #valid_series_columns.EntranceExposureAtRP,\n",
    "            #valid_series_columns.ExposedRange,\n",
    "            valid_series_columns.Exposure,\n",
    "            #valid_series_columns.ExposureIndex,\n",
    "            #valid_series_columns.ExposureTime,\n",
    "            #valid_series_columns.ExposureTimePerRotation,\n",
    "            valid_series_columns.FluoroMode,\n",
    "            #valid_series_columns.FluoroFlavour, # -------------------------------------------- Här finns pulsrat för Azurion\n",
    "            #valid_series_columns.FrameOfReferenceUID,\n",
    "            #valid_series_columns.IdentificationOfTheXraySource,\n",
    "            #valid_series_columns.ImageView,\n",
    "            #valid_series_columns.ImageViewModifier,\n",
    "            valid_series_columns.IrradiationDuration,\n",
    "            #valid_series_columns.IrradiationEventLabel,\n",
    "            valid_series_columns.IrradiationEventType,\n",
    "            valid_series_columns.IrradiationEventUID,\n",
    "            valid_series_columns.kVp,\n",
    "            #valid_series_columns.LabelType,\n",
    "            #valid_series_columns.Laterality,\n",
    "            #valid_series_columns.MaximumXrayTubeCurrent,\n",
    "            #valid_series_columns.MeasurementMethodDose,\n",
    "            #valid_series_columns.NominalCollimationWidth,\n",
    "            #valid_series_columns.NominalTotalCollimationWidth,\n",
    "            valid_series_columns.NumberOfPulses,\n",
    "            #valid_series_columns.NumberOfXraySources,\n",
    "            valid_series_columns.PatientEquivalentThickness,\n",
    "            valid_series_columns.PatientOrientation,\n",
    "            valid_series_columns.PatientOrientationModifier,\n",
    "            valid_series_columns.PatientTableRelationship,\n",
    "            valid_series_columns.PositionerPrimaryAngle,\n",
    "            #valid_series_columns.PositionerPrimaryEndAngle,\n",
    "            valid_series_columns.PositionerSecondaryAngle,\n",
    "            #valid_series_columns.PositionerSecondaryEndAngle,\n",
    "            #valid_series_columns.ProcedureContext,\n",
    "            #valid_series_columns.ProjectionEponymousName,\n",
    "            valid_series_columns.PulseRate,\n",
    "            valid_series_columns.PulseWidth,\n",
    "            #valid_series_columns.ReconstructionAlgortihm,\n",
    "            valid_series_columns.ReferencePointDefinitionText,\n",
    "            valid_series_columns.SpotSize,\n",
    "            valid_series_columns.TableCradleTiltAngle,\n",
    "            valid_series_columns.TableHeadTiltAngle,\n",
    "            #valid_series_columns.TableHeightEndPosition,\n",
    "            valid_series_columns.TableHeightPosition,\n",
    "            valid_series_columns.TableHorizontalRotationAngle,\n",
    "            #valid_series_columns.TableLateralEndPosition,\n",
    "            valid_series_columns.TableLateralPosition,\n",
    "            #valid_series_columns.TableLongitudinalEndPosition,\n",
    "            valid_series_columns.TableLongitudinalPosition,\n",
    "            #valid_series_columns.TargetExposureIndex,\n",
    "            valid_series_columns.TargetRegion,\n",
    "            #valid_series_columns.WaterEquivalentDiameter,\n",
    "            #valid_series_columns.WedMeasurementMethod,\n",
    "            #valid_series_columns.XrayFilterAluminumEquivalent,\n",
    "            valid_series_columns.XrayFilterMaterial,\n",
    "            valid_series_columns.XrayFilterThicknessMaximum,\n",
    "            valid_series_columns.XrayFilterThicknessMinimum,\n",
    "            #valid_series_columns.XrayFilterType,\n",
    "            #valid_series_columns.XrayGrid,\n",
    "            #valid_series_columns.XrayGridAspectRatio,\n",
    "            #valid_series_columns.XrayGridFocalDistance,\n",
    "            #valid_series_columns.XrayGridPitch,\n",
    "            #valid_series_columns.XrayModulationType,\n",
    "            valid_series_columns.XrayTubeCurrent\n",
    "        ]\n",
    "    )\n",
    "\n",
    "    return rembox.run_query()"
   ]
  },
  {
   "cell_type": "code",
   "execution_count": null,
   "id": "a09b026b",
   "metadata": {},
   "outputs": [],
   "source": [
    "#Hämta data från REMbox\n",
    "study_data, series_data = get_data_from_fluoro(rembox=rembox)"
   ]
  },
  {
   "cell_type": "code",
   "execution_count": null,
   "id": "9e0b8e7d230bc5df",
   "metadata": {
    "collapsed": false
   },
   "outputs": [],
   "source": [
    "#Export av data till csv\n",
    "study_data.to_csv(\"C:/Users/chgr09/GIT/rvbrtg/Data/output_data/XA_study_2023.csv\")\n",
    "#series_data.to_csv(\"C:/Users/chgr09/GIT/rvbrtg/Data/output_data/XA_series_2023.csv\")"
   ]
  },
  {
   "cell_type": "markdown",
   "id": "c67afa51e0f708df",
   "metadata": {
    "collapsed": false
   },
   "source": [
    "## Kontroller av data och hantering av dataframes"
   ]
  },
  {
   "cell_type": "code",
   "execution_count": null,
   "id": "7b49419f",
   "metadata": {},
   "outputs": [],
   "source": [
    "study = study_data.copy() #skapa kopia av dataframe på study-nivå för att kunna behålla orginalet\n",
    "series = series_data.copy() #skapa kopia av dataframe på serie-nivå för att kunna behålla orginalet\n",
    "\n",
    "#Ta bort undersökningar från testpatient U105 som har PatientId = LO_sgY+/xUXOYtGGM1+o+JXSO9IQy9LaYFpsPIl/UAWtP0=\n",
    "#Ta bort undersökningar från testpatient U106 som har PatientId = LO_9a9c67eb_5dc1_43ed_8008_858c4683e27d"
   ]
  },
  {
   "cell_type": "code",
   "execution_count": null,
   "id": "40df72173aa63608",
   "metadata": {
    "collapsed": false
   },
   "outputs": [],
   "source": [
    "study.head()"
   ]
  },
  {
   "cell_type": "code",
   "execution_count": null,
   "id": "a01f899b46fa7b1b",
   "metadata": {
    "collapsed": false
   },
   "outputs": [],
   "source": [
    "#Kontroll av kolumnen med ackumulerad AK i ref.punkt\n",
    "study.doseRPTotal\n",
    "# En annan variant är att skriva följande study[valid_study_columns.DoseRPTotal]"
   ]
  },
  {
   "cell_type": "code",
   "execution_count": null,
   "id": "384e26a5",
   "metadata": {},
   "outputs": [],
   "source": [
    "fig = px.scatter(series[series.irradiationEventType == 'Rotational Acquisition'], x='dateTimeStarted', y='doseRP', color='acquisitionProtocol')\n",
    "\n",
    "fig.show()"
   ]
  },
  {
   "cell_type": "code",
   "execution_count": null,
   "id": "85dad311",
   "metadata": {},
   "outputs": [],
   "source": [
    "fig = px.box(series[series.irradiationEventType == 'Rotational Acquisition'], x='acquisitionProtocol', y='doseAreaProduct')#, color='OperatorName')  \n",
    "#fig.update_layout(height=800)  \n",
    "fig.show()"
   ]
  },
  {
   "cell_type": "code",
   "execution_count": null,
   "id": "6dac10f3510a1f64",
   "metadata": {
    "collapsed": false
   },
   "outputs": [],
   "source": [
    "fig = px.box(study, x='protocolCodeMeaning', y='doseAreaProduct')#, color='OperatorName')  \n",
    "#fig.update_layout(height=800)  \n",
    "fig.show()"
   ]
  },
  {
   "cell_type": "code",
   "execution_count": null,
   "id": "9d88f5c1",
   "metadata": {},
   "outputs": [],
   "source": [
    "#Räkna antal ingrepp och antal unika patienter\n",
    "exams = study[\"patientDbId\"].count()\n",
    "patients = study[\"patientDbId\"].nunique() #Count number of distinct elements in specified axis. Can ignore NaN values\n",
    "\n",
    "print(exams, \"undersökningar/ingrepp\")\n",
    "print(patients, \"patienter\")"
   ]
  },
  {
   "cell_type": "code",
   "execution_count": null,
   "id": "dac8e1f0454973fb",
   "metadata": {
    "collapsed": false
   },
   "outputs": [],
   "source": [
    "study.head()"
   ]
  },
  {
   "cell_type": "code",
   "execution_count": null,
   "id": "e1892a5f2d932f85",
   "metadata": {
    "collapsed": false
   },
   "outputs": [],
   "source": [
    "print(len(series), \"antal irradiation events\")\n",
    "\n",
    "unique_series = series.drop_duplicates(subset=\"irradiationEventUID\", keep=\"first\")\n",
    "\n",
    "unique_irradiations = unique_series[\"irradiationEventUID\"].count()\n",
    "unique_patients = unique_series[\"irradiationEventUID\"].nunique()\n",
    "\n",
    "print(unique_irradiations, \"irradiation events\")\n",
    "print(unique_patients, \"unika irradiationEventUID\")"
   ]
  },
  {
   "cell_type": "code",
   "execution_count": null,
   "id": "ad41988d1ad176fc",
   "metadata": {
    "collapsed": false
   },
   "outputs": [],
   "source": [
    "test = study.groupby([\"procedureCode\", \"procedureCodeMeaning\"])[\"doseAreaProductTotal\"].sum().reset_index()\n",
    "test"
   ]
  },
  {
   "cell_type": "code",
   "execution_count": null,
   "id": "68cf34f5325fa349",
   "metadata": {
    "collapsed": false
   },
   "outputs": [],
   "source": [
    "test2= study.groupby([\"procedureCode\", \"procedureCodeMeaning\"])[\"doseAreaProductTotal\"].mean().reset_index()\n",
    "test2"
   ]
  },
  {
   "cell_type": "code",
   "execution_count": null,
   "id": "4025b28a359ed0e7",
   "metadata": {
    "collapsed": false
   },
   "outputs": [],
   "source": [
    "test3= study.groupby([\"procedureCode\", \"procedureCodeMeaning\"])[\"acquisitionDoseAreaProductTotal\"].mean().reset_index()\n",
    "test3"
   ]
  },
  {
   "cell_type": "code",
   "execution_count": null,
   "id": "e56f47d587963c97",
   "metadata": {
    "collapsed": false
   },
   "outputs": [],
   "source": [
    "test4= study.groupby([\"procedureCode\", \"procedureCodeMeaning\"])[\"fluoroDoseAreaProductTotal\"].mean().reset_index()\n",
    "test4"
   ]
  },
  {
   "cell_type": "code",
   "execution_count": null,
   "id": "999fb2d3c26a8d21",
   "metadata": {
    "collapsed": false
   },
   "outputs": [],
   "source": [
    "study[study.procedureCode == '47900'].hvplot.scatter( x='studyDateTime', y='doseRPTotal', by='machine')\n"
   ]
  },
  {
   "cell_type": "markdown",
   "id": "bee1ac0ef5901da5",
   "metadata": {
    "collapsed": false
   },
   "source": [
    "## Lägg till operatörsnamn"
   ]
  },
  {
   "cell_type": "code",
   "execution_count": null,
   "id": "c6d26b697ebbc690",
   "metadata": {
    "collapsed": false
   },
   "outputs": [],
   "source": [
    "# Översättningstabell från pseudo-operatörer till operatörer\n",
    "names_data_path = \"C:/Users/chgr09/GIT/rvbrtg/Data/input_data/operators_2023.xlsx\"\n",
    "\n",
    "names = pd.read_excel(names_data_path)\n",
    "#Ändra kolumnnamn för att kunna göra en join\n",
    "names.columns = [\"performingPhysicianName\", \"OperatorName\"]\n",
    "names.head()"
   ]
  },
  {
   "cell_type": "code",
   "execution_count": null,
   "id": "c3db2233",
   "metadata": {},
   "outputs": [],
   "source": [
    "#Joina dataframes för att få in operatörsnamn\n",
    "study_names = study.merge(names, on = [\"performingPhysicianName\"], how = \"left\")\n",
    "\n",
    "#Print för att kolla så att det funkade\n",
    "print(study_names.OperatorName)"
   ]
  },
  {
   "cell_type": "markdown",
   "id": "52843d922c813a03",
   "metadata": {
    "collapsed": false
   },
   "source": [
    "## Addering av events för att få med båda planen. Viktigt för Biplan"
   ]
  },
  {
   "cell_type": "code",
   "execution_count": null,
   "id": "85f94050",
   "metadata": {},
   "outputs": [],
   "source": [
    "#Join mellan study_names och series för att addera summerad doseRP\n",
    "total_doseRP_study_and_plane = series.groupby(\n",
    "    [\"studyInstanceUID\", \"accessionNumber\", \"acquisitionPlaneSeries\"]).sum(\"doseRP\").reset_index()\n",
    "study_names_planes = study_names.merge(total_doseRP_study_and_plane, on = [\"studyInstanceUID\", \"accessionNumber\"], how = \"left\")"
   ]
  },
  {
   "cell_type": "code",
   "execution_count": null,
   "id": "daff850b1202a68b",
   "metadata": {
    "collapsed": false
   },
   "outputs": [],
   "source": [
    "#Filtrera fram alla ingrepp där summerade doseRP från study_names_planes överstiger 5 Gy\n",
    "\n",
    "study_5Gy_names = study_names_planes[study_names_planes.doseRP > 5000]\n",
    "\n",
    "# Kika på innehåll i dataframe\n",
    "study_5Gy_names[[\"accessionNumber\",\"studyDateTime\",\"studyDescription\",\"machine\",\"doseRPTotal\",\"acquisitionPlaneSeries\",\"doseRP\",\"OperatorName\"]]"
   ]
  },
  {
   "cell_type": "code",
   "execution_count": null,
   "id": "3610bf87",
   "metadata": {},
   "outputs": [],
   "source": [
    "#Testa dumpa ut en undersökning till Excel för att granska vidare\n",
    "\n",
    "#series_data[series_data.accessionNumber == \"SERUME0007509112\" & pd.isna(series_data.acquisitionPlaneSeries)].doseRP\n",
    "test = series_data[series_data.accessionNumber == \"SERUME0007751954\"]\n",
    "test.to_excel(\"C:/Users/chgr09/GIT/rvbrtg/Data/output_data/Binjure.xlsx\")"
   ]
  },
  {
   "cell_type": "markdown",
   "id": "250a5824fb9d4b8b",
   "metadata": {
    "collapsed": false
   },
   "source": [
    "## Undersökningar som överstigit 5Gy"
   ]
  },
  {
   "cell_type": "code",
   "execution_count": null,
   "id": "9c8f511c8bcbdc43",
   "metadata": {
    "collapsed": false
   },
   "outputs": [],
   "source": [
    "#Filtrera fram alla ingrepp där doseRPTotal överstiger 5 Gy\n",
    "\n",
    "study_5Gy = study[study.doseRPTotal > 5000]\n",
    "\n",
    "# Kika på innehåll i dataframe\n",
    "study_5Gy"
   ]
  },
  {
   "cell_type": "code",
   "execution_count": null,
   "id": "d81d8a8efbf4feee",
   "metadata": {
    "collapsed": false
   },
   "outputs": [],
   "source": [
    "# Skriv till Excel\n",
    "study_5Gy.to_excel(\"output_data/Över_5Gy.xlsx\")"
   ]
  },
  {
   "cell_type": "markdown",
   "id": "2c680a4e",
   "metadata": {},
   "source": [
    "# Multiplar. Tester nedan."
   ]
  },
  {
   "cell_type": "code",
   "execution_count": null,
   "id": "56071166",
   "metadata": {},
   "outputs": [],
   "source": [
    "multiple = study.groupby(\"patientDbId\", as_index=False)[\"doseRPTotal\"].nunique()\n",
    "multiple"
   ]
  },
  {
   "cell_type": "code",
   "execution_count": null,
   "id": "41e59b75",
   "metadata": {},
   "outputs": [],
   "source": [
    "test = study_data.groupby([\"patientDbId\"])[\"doseRPTotal\"].sum().reset_index()\n",
    "test.drop(test[(test[\"doseRPTotal\"] <5000)].index, inplace=True)\n",
    "test"
   ]
  },
  {
   "cell_type": "code",
   "execution_count": null,
   "id": "3fda331a",
   "metadata": {},
   "outputs": [],
   "source": [
    "top_pat = study_data[study_data.patientDbId == 84305]\n",
    "top_pat"
   ]
  },
  {
   "cell_type": "code",
   "execution_count": null,
   "id": "6e716c09",
   "metadata": {},
   "outputs": [],
   "source": []
  },
  {
   "cell_type": "code",
   "execution_count": null,
   "id": "16c97d2dff387964",
   "metadata": {
    "collapsed": false
   },
   "outputs": [],
   "source": [
    "def loop_analysis(data: pd.DataFrame, start_date: datetime, end_date: datetime) -> pd.DataFrame:\n",
    "    analysis_data = data[(data.studyDateTime >= start_date & data.studyDateTime <= end_date)]\n",
    "\n",
    "    test = analysis_data.groupby(\n",
    "        [\"patientDbId\", \"acquisitionPlaneSeries\"]).sum(\n",
    "        \"doseRP\").reset_index()\n",
    "    test = test[[\"patientDbId\", \"acquisitionPlaneSeries\", \"doseRP\", \"studyDateTime\"]]\n",
    "\n",
    "    return test[test.doseRP > 5000]"
   ]
  },
  {
   "cell_type": "code",
   "execution_count": null,
   "id": "d466a811ad2bf4ba",
   "metadata": {
    "collapsed": false
   },
   "outputs": [],
   "source": [
    "from dateutil.relativedelta import relativedelta\n",
    "new_study_data = study.copy()\n",
    "new_study_data.studyDateTime = pd.to_datetime(new_study_data.studyDateTime, infer_datetime_format=True)\n",
    "new_study_data[\"studyDate\"] = pd.to_datetime(new_study_data.studyDateTime.dt.date)\n",
    "\n",
    "for end_date in sorted(new_study_data.studyDate.unique().tolist()):\n",
    "    sd = pd.to_datetime(datetime.fromtimestamp(end_date / 1e9) - relativedelta(months=3))\n",
    "    resultat = loop_analysis(new_study_data, start_date=sd, end_date=end_date)\n",
    "\n",
    "test = new_study_data.groupby([\"patientDbId\", \"acquisitionPlaneSeries\", pd.Grouper(key=\"studyDateTime\", freq=\"12M\")]).sum(\"doseRP\").reset_index()\n",
    "test = test[[\"patientDbId\", \"acquisitionPlaneSeries\", \"doseRP\", \"studyDateTime\"]]\n",
    "study_data_5Gy = test[test.doseRP > 5000]"
   ]
  }
 ],
 "metadata": {
  "kernelspec": {
   "display_name": "rvbrtg",
   "language": "python",
   "name": "python3"
  },
  "language_info": {
   "codemirror_mode": {
    "name": "ipython",
    "version": 3
   },
   "file_extension": ".py",
   "mimetype": "text/x-python",
   "name": "python",
   "nbconvert_exporter": "python",
   "pygments_lexer": "ipython3",
   "version": "3.11.11"
  }
 },
 "nbformat": 4,
 "nbformat_minor": 5
}
