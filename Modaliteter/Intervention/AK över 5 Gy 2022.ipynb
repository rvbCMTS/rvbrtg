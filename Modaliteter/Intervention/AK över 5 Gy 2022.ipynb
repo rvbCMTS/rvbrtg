{
 "cells": [
  {
   "cell_type": "markdown",
   "source": [
    "## Importer av paket och data från REMbox"
   ],
   "metadata": {
    "collapsed": false
   },
   "id": "3780112465a01db5"
  },
  {
   "cell_type": "code",
   "execution_count": null,
   "outputs": [],
   "source": [
    "import pandas as pd \n",
    "import hvplot.pandas #noqa #plotpaket\n",
    "from datetime import datetime\n",
    "from rembox_integration_tools import REMboxDataQuery\n",
    "from rembox_integration_tools.rembox_analysis import StudyColumn, SeriesColumn\n",
    "from pathlib import Path\n",
    "\n",
    "# om plotly önskas så skrivs följande hvplot.extension(\"plotly\")\n",
    "hvplot.extension(\"bokeh\")\n",
    "\n",
    "CLIENT_ID_ENV_VAR = \"REMBOX_INT_CLIENT_ID\"\n",
    "CLIENT_PWD_ENV_VAR = \"REMBOX_INT_CLIENT_PWD\"\n",
    "TOKEN_URI = \"https://autoqa.vll.se/dpqaauth/connect/token\" #Var finns access token\n",
    "API_URI = \"https://rembox.vll.se/api\" #Var finns API:t\n",
    "ORIGIN_URI = \"https://rembox.vll.se\" #Vilken URL\n",
    "\n",
    "rembox = REMboxDataQuery(\n",
    "    client_id_environment_variable=CLIENT_ID_ENV_VAR,\n",
    "    client_secret_environment_variable=CLIENT_PWD_ENV_VAR,\n",
    "    token_uri=TOKEN_URI,\n",
    "    api_uri=API_URI,\n",
    "    origin_uri=ORIGIN_URI\n",
    ")\n",
    "\n",
    "valid_study_columns = StudyColumn()\n",
    "valid_series_columns = SeriesColumn()"
   ],
   "metadata": {
    "collapsed": false
   },
   "id": "114401267be97ff3"
  },
  {
   "cell_type": "code",
   "execution_count": null,
   "id": "9d21fb72",
   "metadata": {},
   "outputs": [],
   "source": [
    "rembox.reset_filter_options()\n",
    "def get_data_from_fluoro(rembox: REMboxDataQuery) -> tuple[pd.DataFrame, pd.DataFrame]:\n",
    "\n",
    "    \n",
    "    rembox.filter_options.set_inclusive_tags(\n",
    "        machine_types=[\"XASTAT\"],     # CT-CT, Fluoroscopic-XASTAT, Mobile C-arm-XAMOB, Conventional-DX, Mammography-MG, Intraoral-IO, Panoramic-PX, Dental Cone Beam CT-DCBCT, PET-PET, PET/CT-PETCT, SPECT-SPECT, SPECT/CT-SPECTCT, Nuclear Medicine-NM, Mobile X-ray-DXMOB, Conventional with fluoro-DXXA\n",
    "        machines=[\"U105\", \"U106\"]        # INR, IR-1, gamla IR-1 IR-2, PCI-1, PCI-2\n",
    "    )\n",
    "    \n",
    "    #rembox.filter_options.set_exclusive_tags() om jag vill ange filter där man bortser från ett visst kriterie\n",
    "\n",
    "    rembox.filter_options.patient_age_interval_include_nulls = True\n",
    "    \n",
    "    rembox.filter_options.study_time_interval_start_date = \"2022-01-01T00:00:00Z\"\n",
    "    rembox.filter_options.study_time_interval_end_date = \"2023-03-16T00:00:00Z\"\n",
    "    \n",
    "    \n",
    "    rembox.add_columns(\n",
    "        columns=[\n",
    "            valid_study_columns.StudyDateTime,\n",
    "            valid_study_columns.AccessionNumber,\n",
    "            valid_study_columns.AcquisitionDoseAreaProductTotal,\n",
    "            valid_study_columns.AcquisitionDoseRPTotal,\n",
    "            valid_study_columns.AcquisitionPlane,\n",
    "            #valid_study_columns.CalibrationDate,\n",
    "            #valid_study_columns.CalibrationFactor,\n",
    "            #valid_study_columns.CalibrationProtocol,\n",
    "            #valid_study_columns.CalibrationResponsibleParty,\n",
    "            #valid_study_columns.CalibrationUncertainty,\n",
    "            #valid_study_columns.City,\n",
    "            valid_study_columns.ConvFluoroClassifier,\n",
    "            valid_study_columns.DoseAreaProductTotal,\n",
    "            valid_study_columns.DoseMeasurementDevice,\n",
    "            valid_study_columns.DoseRPTotal,\n",
    "            valid_study_columns.FluoroDoseAreaProductTotal,\n",
    "            valid_study_columns.FluoroDoseRPTotal,\n",
    "            #valid_study_columns.HasIntent,\n",
    "            #valid_study_columns.HalfValueLayer,\n",
    "            #valid_study_columns.Hospital,\n",
    "            valid_study_columns.Id,\n",
    "            valid_study_columns.Machine,\n",
    "            #valid_study_columns.MeanBodyThickness,\n",
    "            #valid_study_columns.MaximumBodyThickness,\n",
    "            #valid_study_columns.MinimumBodyThickness,\n",
    "            #valid_study_columns.PatientAge,\n",
    "            #valid_study_columns.PatientAgeUnit,\n",
    "            valid_study_columns.PatientDbId,\n",
    "            valid_study_columns.PatientId,\n",
    "            #valid_study_columns.PatientModel,\n",
    "            #valid_study_columns.PatientsBodyMassIndex,\n",
    "            #valid_study_columns.PatientsName,\n",
    "            valid_study_columns.PatientsSex,\n",
    "            #valid_study_columns.PatientsSize,\n",
    "            #valid_study_columns.PatientsSizeDate,\n",
    "            #valid_study_columns.PatientsSizeSource,\n",
    "            #valid_study_columns.PatientsWeight,\n",
    "            #valid_study_columns.PatientsWeightDate,\n",
    "            #valid_study_columns.PatientsWeightSource,\n",
    "            #valid_study_columns.PerformingPhysicianIdentificationSequence,\n",
    "            valid_study_columns.PerformingPhysicianName,\n",
    "            #valid_study_columns.PregnancyStatus,\n",
    "            valid_study_columns.ProcedureCode,\n",
    "            valid_study_columns.ProcedureCodeMeaning,\n",
    "            valid_study_columns.ProcedureReported,\n",
    "            valid_study_columns.ProtocolCode,\n",
    "            valid_study_columns.ProtocolCodeMeaning,\n",
    "            #valid_study_columns.ReferenceAuthority,\n",
    "            #valid_study_columns.ReferencedSopInstanceUid,\n",
    "            #valid_study_columns.ReferencePointDefinition,\n",
    "            #valid_study_columns.ReferencePointDefinitionCode,\n",
    "            #valid_study_columns.ReferringPhysicianIdentificationSequence,\n",
    "            #valid_study_columns.ReferringPhysiciansName,\n",
    "            valid_study_columns.RequestedProcedureCode,\n",
    "            valid_study_columns.RequestedProcedureCodeMeaning,\n",
    "            #valid_study_columns.ScopeOfAccumulation,\n",
    "            valid_study_columns.SoftwareVersions,\n",
    "            valid_study_columns.StartOfXrayIrradiation,\n",
    "            valid_study_columns.StudyDateTime,\n",
    "            valid_study_columns.StudyDescription,\n",
    "            valid_study_columns.StudyId,\n",
    "            valid_study_columns.StudyInstanceUID,\n",
    "            valid_study_columns.TotalAcquisitionTime,\n",
    "            valid_study_columns.TotalFluoroTime,\n",
    "            valid_study_columns.TotalNumberOfIrradiationEvents,\n",
    "            valid_study_columns.TotalNumberOfRadiographicFrames,\n",
    "            valid_series_columns.AcquisitionPlaneSeries,\n",
    "            valid_series_columns.AcquisitionProtocol,\n",
    "            valid_series_columns.AcquisitionType,\n",
    "            #valid_series_columns.AnatomicalStructure,\n",
    "            #valid_series_columns.AnodeTargetMaterial,\n",
    "            valid_series_columns.AverageXrayTubeCurrent,\n",
    "            valid_series_columns.CollimatedFieldArea,\n",
    "            valid_series_columns.CollimatedFieldHeight,\n",
    "            valid_series_columns.CollimatedFieldWidth,\n",
    "            #valid_series_columns.ColumnAngulation,\n",
    "            #valid_series_columns.CrdrMechanicalConfiguration,\n",
    "            valid_series_columns.DateTimeStarted,\n",
    "            #valid_series_columns.DerivedEffectiveDiameter,\n",
    "            #valid_series_columns.DeviationIndex,\n",
    "            valid_series_columns.DistanceSourceToDetector,\n",
    "            valid_series_columns.DistanceSourceToIsocenter,\n",
    "            valid_series_columns.DistanceSourceToReferencePoint,\n",
    "            valid_series_columns.DistanceSourceToTablePlane,\n",
    "            valid_series_columns.DoseAreaProduct,\n",
    "            valid_series_columns.DoseRP,\n",
    "            #valid_series_columns.EffectiveDose,\n",
    "            #valid_series_columns.EffectiveDoseConversionFactor,\n",
    "            valid_series_columns.EntranceExposureAtRP,\n",
    "            #valid_series_columns.ExposedRange,\n",
    "            valid_series_columns.Exposure,\n",
    "            valid_series_columns.ExposureIndex,\n",
    "            valid_series_columns.ExposureTime,\n",
    "            #valid_series_columns.ExposureTimePerRotation,\n",
    "            valid_series_columns.FluoroMode,\n",
    "            valid_series_columns.FrameOfReferenceUID,\n",
    "            #valid_series_columns.IdentificationOfTheXraySource,\n",
    "            #valid_series_columns.ImageView,\n",
    "            #valid_series_columns.ImageViewModifier,\n",
    "            valid_series_columns.IrradiationDuration,\n",
    "            valid_series_columns.IrradiationEventLabel,\n",
    "            valid_series_columns.IrradiationEventType,\n",
    "            valid_series_columns.IrradiationEventUID,\n",
    "            valid_series_columns.kVp,\n",
    "            #valid_series_columns.LabelType,\n",
    "            #valid_series_columns.Laterality,\n",
    "            #valid_series_columns.MaximumXrayTubeCurrent,\n",
    "            #valid_series_columns.MeasurementMethodDose,\n",
    "            #valid_series_columns.NominalCollimationWidth,\n",
    "            #valid_series_columns.NominalTotalCollimationWidth,\n",
    "            valid_series_columns.NumberOfPulses,\n",
    "            valid_series_columns.NumberOfXraySources,\n",
    "            valid_series_columns.PatientEquivalentThickness,\n",
    "            #valid_series_columns.PatientOrientation,\n",
    "            #valid_series_columns.PatientOrientationModifier,\n",
    "            valid_series_columns.PatientTableRelationship,\n",
    "            valid_series_columns.PositionerPrimaryAngle,\n",
    "            #valid_series_columns.PositionerPrimaryEndAngle,\n",
    "            valid_series_columns.PositionerSecondaryAngle,\n",
    "            #valid_series_columns.PositionerSecondaryEndAngle,\n",
    "            #valid_series_columns.ProcedureContext,\n",
    "            #valid_series_columns.ProjectionEponymousName,\n",
    "            valid_series_columns.PulseRate,\n",
    "            valid_series_columns.PulseWidth,\n",
    "            #valid_series_columns.ReconstructionAlgortihm,\n",
    "            #valid_series_columns.ReferencePointDefinitionText,\n",
    "            valid_series_columns.SpotSize,\n",
    "            valid_series_columns.TableCradleTiltAngle,\n",
    "            valid_series_columns.TableHeadTiltAngle,\n",
    "            #valid_series_columns.TableHeightEndPosition,\n",
    "            valid_series_columns.TableHeightPosition,\n",
    "            valid_series_columns.TableHorizontalRotationAngle,\n",
    "            #valid_series_columns.TableLateralEndPosition,\n",
    "            valid_series_columns.TableLateralPosition,\n",
    "            #valid_series_columns.TableLongitudinalEndPosition,\n",
    "            valid_series_columns.TableLongitudinalPosition,\n",
    "            #valid_series_columns.TargetExposureIndex,\n",
    "            #valid_series_columns.TargetRegion,\n",
    "            #valid_series_columns.WaterEquivalentDiameter,\n",
    "            #valid_series_columns.WedMeasurementMethod,\n",
    "            valid_series_columns.XrayFilterAluminumEquivalent,\n",
    "            valid_series_columns.XrayFilterMaterial,\n",
    "            valid_series_columns.XrayFilterThicknessMaximum,\n",
    "            valid_series_columns.XrayFilterThicknessMinimum,\n",
    "            valid_series_columns.XrayFilterType,\n",
    "            #valid_series_columns.XrayGrid,\n",
    "            #valid_series_columns.XrayGridAspectRatio,\n",
    "            #valid_series_columns.XrayGridFocalDistance,\n",
    "            #valid_series_columns.XrayGridPitch,\n",
    "            #valid_series_columns.XrayModulationType,\n",
    "            valid_series_columns.XrayTubeCurrent\n",
    "        ]\n",
    "    )\n",
    "\n",
    "    return rembox.run_query()"
   ]
  },
  {
   "cell_type": "code",
   "execution_count": null,
   "id": "a09b026b",
   "metadata": {},
   "outputs": [],
   "source": [
    "#Hämta data från REMbox\n",
    "study_data, series_data = get_data_from_fluoro(rembox=rembox)"
   ]
  },
  {
   "cell_type": "code",
   "execution_count": null,
   "outputs": [],
   "source": [
    "#Export av data till csv\n",
    "study_data.to_csv(\"C:/Users/chgr09/GIT/rvbrtg/Data/output_data/XA_study_2023.csv\")\n",
    "#series_data.to_csv(\"C:/Users/chgr09/GIT/rvbrtg/Data/output_data/XA_series_2023.csv\")"
   ],
   "metadata": {
    "collapsed": false
   },
   "id": "677906b9e8a1834c"
  },
  {
   "cell_type": "markdown",
   "source": [
    "## Kontroller av data och hantering av dataframes"
   ],
   "metadata": {
    "collapsed": false
   },
   "id": "47c0649a2952968f"
  },
  {
   "cell_type": "code",
   "execution_count": null,
   "outputs": [],
   "source": [
    "series[series.accessionNumber == \"SERUME0007751954\"].head()"
   ],
   "metadata": {
    "collapsed": false
   },
   "id": "7a1cbb6e4816ac04"
  },
  {
   "cell_type": "code",
   "execution_count": null,
   "id": "7b49419f",
   "metadata": {},
   "outputs": [],
   "source": [
    "study = study_data.copy() #skapa kopia av dataframe på study-nivå för att kunna behålla orginalet\n",
    "series = series_data.copy() #skapa kopia av dataframe på serie-nivå för att kunna behålla orginalet"
   ]
  },
  {
   "cell_type": "code",
   "execution_count": null,
   "id": "8b4c4f24",
   "metadata": {},
   "outputs": [],
   "source": [
    "study.hvplot(\n",
    "    x=valid_study_columns.StudyDateTime, \n",
    "    y=valid_study_columns.DoseRPTotal, \n",
    "    by=valid_study_columns.Machine,\n",
    "    kind=\"scatter\",\n",
    "    alpha=0.2\n",
    ")"
   ]
  },
  {
   "cell_type": "code",
   "execution_count": null,
   "outputs": [],
   "source": [
    "#Kontroll av kolumnen med ackumulerad AK i ref.punkt\n",
    "study.doseRPTotal\n",
    "# En annan variant är att skriva följande study[valid_study_columns.DoseRPTotal]"
   ],
   "metadata": {
    "collapsed": false
   },
   "id": "f72a080b7e0deb06"
  },
  {
   "cell_type": "code",
   "execution_count": null,
   "id": "9d88f5c1",
   "metadata": {},
   "outputs": [],
   "source": [
    "#Räkna antal ingrepp och antal unika patienter\n",
    "antal = study[\"patientDbId\"].count()\n",
    "patienter = study[\"patientDbId\"].nunique()\n",
    "\n",
    "print(antal)\n",
    "print(patienter)"
   ]
  },
  {
   "cell_type": "code",
   "execution_count": null,
   "outputs": [],
   "source": [
    "series.head()"
   ],
   "metadata": {
    "collapsed": false
   },
   "id": "f2e363599ce4444f"
  },
  {
   "cell_type": "code",
   "execution_count": null,
   "outputs": [],
   "source": [
    "series.drop_duplicates(subset=\"irradiationEventUID\", keep=\"first\", inplace=True)\n",
    "\n",
    "antal = series[\"irradiationEventUID\"].count()\n",
    "patienter = series[\"irradiationEventUID\"].nunique()\n",
    "\n",
    "print(antal)\n",
    "print(patienter)"
   ],
   "metadata": {
    "collapsed": false
   },
   "id": "c0c8b76edebf25db"
  },
  {
   "cell_type": "markdown",
   "source": [
    "## Lägg till operatörsnamn"
   ],
   "metadata": {
    "collapsed": false
   },
   "id": "c59131e784cf526a"
  },
  {
   "cell_type": "code",
   "execution_count": null,
   "id": "f9c3d3aa",
   "metadata": {},
   "outputs": [],
   "source": [
    "# Översättningstabell från pseudo-operatörer till operatörer\n",
    "names_data_path = \"C:/Projekt/GIT/rvbrtg/Data/input_data/operators_2023.xlsx\"\n",
    "\n",
    "names = pd.read_excel(names_data_path)\n",
    "names.head()"
   ]
  },
  {
   "cell_type": "code",
   "execution_count": null,
   "id": "20a15208",
   "metadata": {},
   "outputs": [],
   "source": [
    "#Kontrollera vad kolumnerna heter\n",
    "print(study.columns)\n",
    "print(names.columns)\n",
    "\n",
    "#Ändra kolumn för att kunna göra en join\n",
    "names.columns = [\"performingPhysicianName\", \"OperatorName\"]\n",
    "\n",
    "#kontrollera att ändringen blev bra\n",
    "print(names.columns)"
   ]
  },
  {
   "cell_type": "code",
   "execution_count": null,
   "id": "c3db2233",
   "metadata": {},
   "outputs": [],
   "source": [
    "#Joina dataframes för att få in operatörsnamn\n",
    "study_names = study.merge(names, on = [\"performingPhysicianName\"], how = \"left\")\n",
    "\n",
    "#Print för att kolla så att det funkade\n",
    "print(study_names.OperatorName)"
   ]
  },
  {
   "cell_type": "markdown",
   "source": [
    "## Addering av events för att få med båda planen. Viktigt för Biplan"
   ],
   "metadata": {
    "collapsed": false
   },
   "id": "a8977b51ecce0615"
  },
  {
   "cell_type": "code",
   "execution_count": null,
   "id": "85f94050",
   "metadata": {},
   "outputs": [],
   "source": [
    "#Join mellan study_names och series för att addera summerad doseRP\n",
    "total_doseRP_study_and_plane = series.groupby(\n",
    "    [\"studyInstanceUID\", \"accessionNumber\", \"acquisitionPlaneSeries\"]).sum(\"doseRP\").reset_index()\n",
    "study_names_planes = study_names.merge(total_doseRP_study_and_plane, on = [\"studyInstanceUID\", \"accessionNumber\"], how = \"left\")"
   ]
  },
  {
   "cell_type": "code",
   "execution_count": null,
   "id": "0370708a",
   "metadata": {},
   "outputs": [],
   "source": [
    "#Filtrera fram alla ingrepp där summerade doseRP från study_names_planes överstiger 5 Gy\n",
    "\n",
    "study_5Gy = study_names_planes[study_names_planes.doseRP > 5000]\n",
    "\n",
    "# Kika på innehåll i dataframe\n",
    "study_5Gy[[\"accessionNumber\",\"studyDateTime\",\"studyDescription\",\"machine\",\"doseRPTotal\",\"acquisitionPlaneSeries\",\"doseRP\",\"OperatorName\"]]"
   ]
  },
  {
   "cell_type": "code",
   "execution_count": null,
   "id": "3610bf87",
   "metadata": {},
   "outputs": [],
   "source": [
    "#Testa dumpa ut en undersökning till Excel för att granska vidare\n",
    "\n",
    "#series_data[series_data.accessionNumber == \"SERUME0007509112\" & pd.isna(series_data.acquisitionPlaneSeries)].doseRP\n",
    "test = series_data[series_data.accessionNumber == \"SERUME0007751954\"]\n",
    "test.to_excel(\"C:/Users/chgr09/GIT/rvbrtg/Data/output_data/Binjure.xlsx\")"
   ]
  },
  {
   "cell_type": "markdown",
   "source": [
    "## Undersökningar som överstigit 5Gy"
   ],
   "metadata": {
    "collapsed": false
   },
   "id": "606cadb041cc66f1"
  },
  {
   "cell_type": "code",
   "execution_count": null,
   "outputs": [],
   "source": [
    "#Filtrera fram alla ingrepp där doseRPTotal överstiger 5 Gy\n",
    "\n",
    "study_5Gy = study[study.doseRPTotal > 5000]\n",
    "\n",
    "# Kika på innehåll i dataframe\n",
    "study_5Gy"
   ],
   "metadata": {
    "collapsed": false
   },
   "id": "6dfe2e0391ada236"
  },
  {
   "cell_type": "code",
   "execution_count": null,
   "outputs": [],
   "source": [
    "# Skriv till Excel\n",
    "study_5Gy.to_excel(\"output_data/Över_5Gy.xlsx\")"
   ],
   "metadata": {
    "collapsed": false
   },
   "id": "6fef014da062d738"
  },
  {
   "cell_type": "markdown",
   "id": "2c680a4e",
   "metadata": {},
   "source": [
    "# Multiplar. Tester nedan."
   ]
  },
  {
   "cell_type": "code",
   "execution_count": null,
   "id": "56071166",
   "metadata": {},
   "outputs": [],
   "source": [
    "multiple = study.groupby(\"patientDbId\", as_index=False)[\"doseRPTotal\"].nunique()\n",
    "multiple"
   ]
  },
  {
   "cell_type": "code",
   "execution_count": null,
   "id": "41e59b75",
   "metadata": {},
   "outputs": [],
   "source": [
    "test = study_data.groupby([\"patientDbId\"])[\"doseRPTotal\"].sum().reset_index()\n",
    "test.drop(test[(test[\"doseRPTotal\"] <5000)].index, inplace=True)\n",
    "test"
   ]
  },
  {
   "cell_type": "code",
   "execution_count": null,
   "id": "3fda331a",
   "metadata": {},
   "outputs": [],
   "source": [
    "top_pat = study_data[study_data.patientDbId == 15642]\n",
    "top_pat"
   ]
  },
  {
   "cell_type": "code",
   "execution_count": null,
   "id": "6e716c09",
   "metadata": {},
   "outputs": [],
   "source": []
  },
  {
   "cell_type": "code",
   "execution_count": null,
   "outputs": [],
   "source": [
    "def loop_analysis(data: pd.DataFrame, start_date: datetime, end_date: datetime) -> pd.DataFrame:\n",
    "    analysis_data = data[(data.studyDateTime >= start_date & data.studyDateTime <= end_date)]\n",
    "\n",
    "    test = analysis_data.groupby(\n",
    "        [\"patientDbId\", \"acquisitionPlaneSeries\"]).sum(\n",
    "        \"doseRP\").reset_index()\n",
    "    test = test[[\"patientDbId\", \"acquisitionPlaneSeries\", \"doseRP\", \"studyDateTime\"]]\n",
    "\n",
    "    return test[test.doseRP > 5000]"
   ],
   "metadata": {
    "collapsed": false
   },
   "id": "99d45fb7ed647608"
  },
  {
   "cell_type": "code",
   "execution_count": null,
   "outputs": [],
   "source": [
    "from dateutil.relativedelta import relativedelta\n",
    "new_study_data = study.copy()\n",
    "new_study_data.studyDateTime = pd.to_datetime(new_study_data.studyDateTime, infer_datetime_format=True)\n",
    "new_study_data[\"studyDate\"] = pd.to_datetime(new_study_data.studyDateTime.dt.date)\n",
    "\n",
    "for end_date in sorted(new_study_data.studyDate.unique().tolist()):\n",
    "    sd = pd.to_datetime(datetime.fromtimestamp(end_date / 1e9) - relativedelta(months=3))\n",
    "    resultat = loop_analysis(new_study_data, start_date=sd, end_date=end_date)\n",
    "\n",
    "test = new_study_data.groupby([\"patientDbId\", \"acquisitionPlaneSeries\", pd.Grouper(key=\"studyDateTime\", freq=\"12M\")]).sum(\"doseRP\").reset_index()\n",
    "test = test[[\"patientDbId\", \"acquisitionPlaneSeries\", \"doseRP\", \"studyDateTime\"]]\n",
    "study_data_5Gy = test[test.doseRP > 5000]"
   ],
   "metadata": {
    "collapsed": false
   },
   "id": "9b1105697380f77c"
  }
 ],
 "metadata": {
  "kernelspec": {
   "display_name": "Python 3 (ipykernel)",
   "language": "python",
   "name": "python3"
  },
  "language_info": {
   "codemirror_mode": {
    "name": "ipython",
    "version": 3
   },
   "file_extension": ".py",
   "mimetype": "text/x-python",
   "name": "python",
   "nbconvert_exporter": "python",
   "pygments_lexer": "ipython3",
   "version": "3.10.4"
  }
 },
 "nbformat": 4,
 "nbformat_minor": 5
}
