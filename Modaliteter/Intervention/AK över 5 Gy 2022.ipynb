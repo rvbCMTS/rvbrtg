{
 "cells": [
  {
   "cell_type": "markdown",
   "id": "3780112465a01db5",
   "metadata": {
    "collapsed": false
   },
   "source": [
    "## Importer av paket och data från REMbox"
   ]
  },
  {
   "cell_type": "code",
   "execution_count": null,
   "id": "114401267be97ff3",
   "metadata": {
    "collapsed": false
   },
   "outputs": [],
   "source": [
    "import pandas as pd \n",
    "import plotly.express as px\n",
    "from datetime import datetime\n",
    "from rembox_integration_tools import REMboxDataQuery\n",
    "from rembox_integration_tools.rembox_analysis import StudyColumn, SeriesColumn\n",
    "from pathlib import Path\n",
    "\n",
    "CLIENT_ID_ENV_VAR = \"REMBOX_INT_CLIENT_ID\"\n",
    "CLIENT_PWD_ENV_VAR = \"REMBOX_INT_CLIENT_PWD\"\n",
    "TOKEN_URI = \"https://autoqa.vll.se/dpqaauth/connect/token\" #Var finns access token\n",
    "API_URI = \"https://rembox.vll.se/api\" #Var finns API:t\n",
    "ORIGIN_URI = \"https://rembox.vll.se\" #Vilken URL\n",
    "\n",
    "rembox = REMboxDataQuery(\n",
    "    client_id_environment_variable=CLIENT_ID_ENV_VAR,\n",
    "    client_secret_environment_variable=CLIENT_PWD_ENV_VAR,\n",
    "    token_uri=TOKEN_URI,\n",
    "    api_uri=API_URI,\n",
    "    origin_uri=ORIGIN_URI,\n",
    "    verify_ssl_cert=False\n",
    ")\n",
    "\n",
    "valid_study_columns = StudyColumn()\n",
    "valid_series_columns = SeriesColumn()"
   ]
  },
  {
   "cell_type": "code",
   "execution_count": null,
   "id": "9d21fb72",
   "metadata": {},
   "outputs": [],
   "source": [
    "rembox.reset_filter_options()\n",
    "def get_data_from_fluoro(rembox: REMboxDataQuery) -> tuple[pd.DataFrame, pd.DataFrame]:\n",
    "\n",
    "    \n",
    "    rembox.filter_options.set_inclusive_tags(\n",
    "        machine_types=[\"XASTAT\"],     # CT-CT, Fluoroscopic-XASTAT, Mobile C-arm-XAMOB, Conventional-DX, Mammography-MG, Intraoral-IO, Panoramic-PX, Dental Cone Beam CT-DCBCT, PET-PET, PET/CT-PETCT, SPECT-SPECT, SPECT/CT-SPECTCT, Nuclear Medicine-NM, Mobile X-ray-DXMOB, Conventional with fluoro-DXXA\n",
    "        machines=[\"U105\", \"U106\", \"U104\", \"U601\", \"U602\"]        # INR, IR-1, gamla IR-1 IR-2, PCI-1, PCI-2\n",
    "    )\n",
    "    \n",
    "    #rembox.filter_options.set_exclusive_tags() om jag vill ange filter där man bortser från ett visst kriterie\n",
    "\n",
    "    rembox.filter_options.patient_age_interval_include_nulls = True\n",
    "    \n",
    "    rembox.filter_options.study_time_interval_start_date = \"2024-01-01T00:00:00Z\"\n",
    "    rembox.filter_options.study_time_interval_end_date = \"2024-04-24T00:00:00Z\"\n",
    "    \n",
    "    \n",
    "    rembox.add_columns(\n",
    "        columns=[\n",
    "            valid_study_columns.AccessionNumber,\n",
    "            valid_study_columns.AcquisitionDoseAreaProductTotal,\n",
    "            valid_study_columns.AcquisitionDoseRPTotal,\n",
    "            #valid_study_columns.AcquisitionPlane,\n",
    "            #valid_study_columns.CalibrationDate,\n",
    "            #valid_study_columns.CalibrationFactor,\n",
    "            #valid_study_columns.CalibrationProtocol,\n",
    "            #valid_study_columns.CalibrationResponsibleParty,\n",
    "            #valid_study_columns.CalibrationUncertainty,\n",
    "            #valid_study_columns.City,\n",
    "            #valid_study_columns.ConvFluoroClassifier,\n",
    "            valid_study_columns.DoseAreaProductTotal,\n",
    "            #valid_study_columns.DoseMeasurementDevice,\n",
    "            valid_study_columns.DoseRPTotal,\n",
    "            valid_study_columns.FluoroDoseAreaProductTotal,\n",
    "            valid_study_columns.FluoroDoseRPTotal,\n",
    "            #valid_study_columns.HasIntent,\n",
    "            #valid_study_columns.HalfValueLayer,\n",
    "            #valid_study_columns.Hospital,\n",
    "            valid_study_columns.Id,\n",
    "            valid_study_columns.Machine,\n",
    "            #valid_study_columns.MeanBodyThickness,\n",
    "            #valid_study_columns.MaximumBodyThickness,\n",
    "            #valid_study_columns.MinimumBodyThickness,\n",
    "            #valid_study_columns.PatientAge,\n",
    "            #valid_study_columns.PatientAgeUnit,\n",
    "            valid_study_columns.PatientDbId,\n",
    "            valid_study_columns.PatientId,\n",
    "            #valid_study_columns.PatientModel,\n",
    "            #valid_study_columns.PatientsBodyMassIndex,\n",
    "            #valid_study_columns.PatientsName,\n",
    "            valid_study_columns.PatientsSex,\n",
    "            #valid_study_columns.PatientsSize,\n",
    "            #valid_study_columns.PatientsSizeDate,\n",
    "            #valid_study_columns.PatientsSizeSource,\n",
    "            #valid_study_columns.PatientsWeight,\n",
    "            #valid_study_columns.PatientsWeightDate,\n",
    "            #valid_study_columns.PatientsWeightSource,\n",
    "            #valid_study_columns.PerformingPhysicianIdentificationSequence,\n",
    "            valid_study_columns.PerformingPhysicianName,\n",
    "            #valid_study_columns.PregnancyStatus,\n",
    "            valid_study_columns.ProcedureCode,\n",
    "            valid_study_columns.ProcedureCodeMeaning,\n",
    "            valid_study_columns.ProcedureReported,\n",
    "            valid_study_columns.ProtocolCode,\n",
    "            valid_study_columns.ProtocolCodeMeaning,\n",
    "            #valid_study_columns.ReferenceAuthority,\n",
    "            #valid_study_columns.ReferencedSopInstanceUid,\n",
    "            #valid_study_columns.ReferencePointDefinition,\n",
    "            #valid_study_columns.ReferencePointDefinitionCode,\n",
    "            #valid_study_columns.ReferringPhysicianIdentificationSequence,\n",
    "            #valid_study_columns.ReferringPhysiciansName,\n",
    "            #valid_study_columns.RequestedProcedureCode,\n",
    "            #valid_study_columns.RequestedProcedureCodeMeaning,\n",
    "            #valid_study_columns.ScopeOfAccumulation,\n",
    "            valid_study_columns.SoftwareVersions,\n",
    "            #valid_study_columns.StartOfXrayIrradiation,\n",
    "            valid_study_columns.StudyDateTime,\n",
    "            valid_study_columns.StudyDescription,\n",
    "            valid_study_columns.StudyId,\n",
    "            valid_study_columns.StudyInstanceUID,\n",
    "            valid_study_columns.TotalAcquisitionTime,\n",
    "            valid_study_columns.TotalFluoroTime,\n",
    "            valid_study_columns.TotalNumberOfIrradiationEvents,\n",
    "            valid_study_columns.TotalNumberOfRadiographicFrames,\n",
    "            valid_series_columns.AcquisitionPlaneSeries,\n",
    "            valid_series_columns.AcquisitionProtocol,\n",
    "            valid_series_columns.AcquisitionType,\n",
    "            #valid_series_columns.AnatomicalStructure,\n",
    "            #valid_series_columns.AnodeTargetMaterial,\n",
    "            valid_series_columns.AverageXrayTubeCurrent,\n",
    "            valid_series_columns.CollimatedFieldArea,\n",
    "            valid_series_columns.CollimatedFieldHeight,\n",
    "            valid_series_columns.CollimatedFieldWidth,\n",
    "            #valid_series_columns.ColumnAngulation,\n",
    "            #valid_series_columns.CrdrMechanicalConfiguration,\n",
    "            valid_series_columns.DateTimeStarted,\n",
    "            #valid_series_columns.DerivedEffectiveDiameter,\n",
    "            #valid_series_columns.DeviationIndex,\n",
    "            valid_series_columns.DistanceSourceToDetector,\n",
    "            valid_series_columns.DistanceSourceToIsocenter,\n",
    "            valid_series_columns.DistanceSourceToReferencePoint,\n",
    "            valid_series_columns.DistanceSourceToTablePlane,\n",
    "            valid_series_columns.DoseAreaProduct,\n",
    "            valid_series_columns.DoseRP,\n",
    "            #valid_series_columns.EffectiveDose,\n",
    "            #valid_series_columns.EffectiveDoseConversionFactor,\n",
    "            #valid_series_columns.EntranceExposureAtRP,\n",
    "            #valid_series_columns.ExposedRange,\n",
    "            valid_series_columns.Exposure,\n",
    "            #valid_series_columns.ExposureIndex,\n",
    "            valid_series_columns.ExposureTime,\n",
    "            #valid_series_columns.ExposureTimePerRotation,\n",
    "            valid_series_columns.FluoroMode,\n",
    "            valid_series_columns.FrameOfReferenceUID,\n",
    "            #valid_series_columns.IdentificationOfTheXraySource,\n",
    "            #valid_series_columns.ImageView,\n",
    "            #valid_series_columns.ImageViewModifier,\n",
    "            valid_series_columns.IrradiationDuration,\n",
    "            valid_series_columns.IrradiationEventLabel,\n",
    "            valid_series_columns.IrradiationEventType,\n",
    "            valid_series_columns.IrradiationEventUID,\n",
    "            valid_series_columns.kVp,\n",
    "            #valid_series_columns.LabelType,\n",
    "            #valid_series_columns.Laterality,\n",
    "            #valid_series_columns.MaximumXrayTubeCurrent,\n",
    "            #valid_series_columns.MeasurementMethodDose,\n",
    "            #valid_series_columns.NominalCollimationWidth,\n",
    "            #valid_series_columns.NominalTotalCollimationWidth,\n",
    "            valid_series_columns.NumberOfPulses,\n",
    "            #valid_series_columns.NumberOfXraySources,\n",
    "            valid_series_columns.PatientEquivalentThickness,\n",
    "            #valid_series_columns.PatientOrientation,\n",
    "            #valid_series_columns.PatientOrientationModifier,\n",
    "            valid_series_columns.PatientTableRelationship,\n",
    "            valid_series_columns.PositionerPrimaryAngle,\n",
    "            #valid_series_columns.PositionerPrimaryEndAngle,\n",
    "            valid_series_columns.PositionerSecondaryAngle,\n",
    "            #valid_series_columns.PositionerSecondaryEndAngle,\n",
    "            #valid_series_columns.ProcedureContext,\n",
    "            #valid_series_columns.ProjectionEponymousName,\n",
    "            valid_series_columns.PulseRate,\n",
    "            valid_series_columns.PulseWidth,\n",
    "            #valid_series_columns.ReconstructionAlgortihm,\n",
    "            #valid_series_columns.ReferencePointDefinitionText,\n",
    "            valid_series_columns.SpotSize,\n",
    "            #valid_series_columns.TableCradleTiltAngle,\n",
    "            #valid_series_columns.TableHeadTiltAngle,\n",
    "            #valid_series_columns.TableHeightEndPosition,\n",
    "            valid_series_columns.TableHeightPosition,\n",
    "            #valid_series_columns.TableHorizontalRotationAngle,\n",
    "            #valid_series_columns.TableLateralEndPosition,\n",
    "            valid_series_columns.TableLateralPosition,\n",
    "            #valid_series_columns.TableLongitudinalEndPosition,\n",
    "            valid_series_columns.TableLongitudinalPosition,\n",
    "            #valid_series_columns.TargetExposureIndex,\n",
    "            #valid_series_columns.TargetRegion,\n",
    "            #valid_series_columns.WaterEquivalentDiameter,\n",
    "            #valid_series_columns.WedMeasurementMethod,\n",
    "            #valid_series_columns.XrayFilterAluminumEquivalent,\n",
    "            valid_series_columns.XrayFilterMaterial,\n",
    "            valid_series_columns.XrayFilterThicknessMaximum,\n",
    "            #valid_series_columns.XrayFilterThicknessMinimum,\n",
    "            #valid_series_columns.XrayFilterType,\n",
    "            #valid_series_columns.XrayGrid,\n",
    "            #valid_series_columns.XrayGridAspectRatio,\n",
    "            #valid_series_columns.XrayGridFocalDistance,\n",
    "            #valid_series_columns.XrayGridPitch,\n",
    "            #valid_series_columns.XrayModulationType,\n",
    "            valid_series_columns.XrayTubeCurrent\n",
    "        ]\n",
    "    )\n",
    "\n",
    "    return rembox.run_query()"
   ]
  },
  {
   "cell_type": "code",
   "execution_count": null,
   "id": "a09b026b",
   "metadata": {},
   "outputs": [],
   "source": [
    "#Hämta data från REMbox\n",
    "study_data, series_data = get_data_from_fluoro(rembox=rembox)"
   ]
  },
  {
   "cell_type": "code",
   "execution_count": null,
   "id": "677906b9e8a1834c",
   "metadata": {
    "collapsed": false
   },
   "outputs": [],
   "source": [
    "#Export av data till csv\n",
    "study_data.to_csv(\"C:/Users/chgr09/GIT/rvbrtg/Data/output_data/XA_study_2023.csv\")\n",
    "#series_data.to_csv(\"C:/Users/chgr09/GIT/rvbrtg/Data/output_data/XA_series_2023.csv\")"
   ]
  },
  {
   "cell_type": "markdown",
   "id": "47c0649a2952968f",
   "metadata": {
    "collapsed": false
   },
   "source": [
    "## Kontroller av data och hantering av dataframes"
   ]
  },
  {
   "cell_type": "code",
   "execution_count": null,
   "id": "7b49419f",
   "metadata": {},
   "outputs": [],
   "source": [
    "study = study_data.copy() #skapa kopia av dataframe på study-nivå för att kunna behålla orginalet\n",
    "series = series_data.copy() #skapa kopia av dataframe på serie-nivå för att kunna behålla orginalet\n",
    "\n",
    "#series[series['accessionNumber'] == 'SETUME0008161080'].head()\n",
    "#study[study['machine'] == 'U601'].head()"
   ]
  },
  {
   "cell_type": "code",
   "execution_count": null,
   "id": "fe9cd9e05f9c4672",
   "metadata": {
    "collapsed": false
   },
   "outputs": [],
   "source": [
    "#Städa data\n",
    "\n",
    "#Ta bort raderna med Aluminium-filter\n",
    "series = series[series['xrayFilterMaterial'] == 'Copper or Copper compound']\n",
    "#Ta bort dubletter\n",
    "series = series.drop_duplicates(subset=\"irradiationEventUID\", keep='last', inplace=False)\n",
    "#Räkna ut dos i referenspunkt även för Plan B vid biplan WIP: Hur gör man detta endast för biplan?\n",
    "series_plane_b = series.groupby([\"studyInstanceUID\", \"accessionNumber\", \"acquisitionPlaneSeries\"]).sum(\"doseRP\").reset_index()\n",
    "series_plane_b = series_plane_b.drop(series_plane_b[series_plane_b['acquisitionPlaneSeries'] == 'Plane A'].index)\n",
    "series_plane_b.rename(columns={\"doseRP\": \"doseRP_B\"}, inplace=True)\n",
    "series_plane_b = series_plane_b.loc[:, [\"studyInstanceUID\", \"accessionNumber\", \"doseRP_B\"]]\n",
    "study = study.merge(series_plane_b, on = [\"studyInstanceUID\", \"accessionNumber\"], how = \"left\")\n",
    "#Slå ihop Study och Series\n",
    "study_series = pd.merge(series,study,how = 'left', on = ['accessionNumber', 'studyInstanceUID'])\n",
    "#Justera tiden på Plan A på Biplan så angiven tid synkar mellan Plan A och Plan B\n",
    "study_series.loc[(study_series['acquisitionPlaneSeries'] == 'Plane A') & (study_series['machine'] == 'U104'), [\"dateTimeStarted\"]] =  study_series.loc[(study_series['acquisitionPlaneSeries'] == 'Plane A') & (study_series['machine'] == 'U104'), [\"dateTimeStarted\"]] + pd.DateOffset(hours=2)\n",
    "\n",
    "#Test\n",
    "#study_series[study_series[\"accessionNumber\"] == \"SERUME0008080448\"]"
   ]
  },
  {
   "cell_type": "code",
   "execution_count": null,
   "id": "98910ad2e7f8ea40",
   "metadata": {
    "collapsed": false
   },
   "outputs": [],
   "source": [
    "fig = px.scatter(study, x=\"studyDateTime\", y=\"doseRPTotal\", color=\"machine\", hover_data=['accessionNumber', 'doseRPTotal', 'doseRP_B'], title=\"Dose in Reference point\")\n",
    "fig.show()"
   ]
  },
  {
   "cell_type": "code",
   "execution_count": null,
   "id": "bd868854e30c5d1e",
   "metadata": {
    "collapsed": false
   },
   "outputs": [],
   "source": [
    "fig = px.scatter(study, x=\"studyDateTime\", y=\"doseRP_B\", color=\"machine\", hover_data=['accessionNumber', 'doseRP_B', 'doseRPTotal'], title=\"Dose in Reference point\")\n",
    "fig.show()"
   ]
  },
  {
   "cell_type": "code",
   "execution_count": null,
   "id": "9d88f5c1",
   "metadata": {},
   "outputs": [],
   "source": [
    "#Räkna antal ingrepp och antal unika patienter\n",
    "antal = study[\"patientDbId\"].count()\n",
    "patienter = study[\"patientDbId\"].nunique()\n",
    "\n",
    "print(antal)\n",
    "print(patienter)"
   ]
  },
  {
   "cell_type": "markdown",
   "id": "c59131e784cf526a",
   "metadata": {
    "collapsed": false
   },
   "source": [
    "## Lägg till operatörsnamn"
   ]
  },
  {
   "cell_type": "code",
   "execution_count": null,
   "id": "f9c3d3aa",
   "metadata": {},
   "outputs": [],
   "source": [
    "# Översättningstabell från pseudo-operatörer till operatörer\n",
    "names_data_path = \"C:/Projekt/GIT/rvbrtg/Data/input_data/operators_2023.xlsx\"\n",
    "names = pd.read_excel(names_data_path)\n",
    "#Formattera så det passar befintlig dataframe\n",
    "names.columns = [\"performingPhysicianName\", \"OperatorName\"]\n",
    "#names.head()"
   ]
  },
  {
   "cell_type": "code",
   "execution_count": null,
   "id": "20a15208",
   "metadata": {},
   "outputs": [],
   "source": [
    "#Kontrollera vad kolumnerna heter\n",
    "print(study_series.columns)\n",
    "print(names.columns)\n",
    "\n",
    "#Ändra kolumn för att kunna göra en join\n",
    "\n",
    "\n",
    "#kontrollera att ändringen blev bra\n",
    "print(names.columns)"
   ]
  },
  {
   "cell_type": "code",
   "execution_count": null,
   "id": "c3db2233",
   "metadata": {},
   "outputs": [],
   "source": [
    "#Joina dataframes för att få in operatörsnamn\n",
    "study_series = study_series.merge(names, on = [\"performingPhysicianName\"], how = \"left\")\n",
    "study = study.merge(names, on = [\"performingPhysicianName\"], how = \"left\")\n",
    "#Print för att kolla så att det funkade\n",
    "print(study.OperatorName)"
   ]
  },
  {
   "cell_type": "markdown",
   "id": "606cadb041cc66f1",
   "metadata": {
    "collapsed": false
   },
   "source": [
    "## Undersökningar som överstigit 5Gy"
   ]
  },
  {
   "cell_type": "code",
   "execution_count": null,
   "id": "0370708a",
   "metadata": {},
   "outputs": [],
   "source": [
    "#Filtrera fram alla ingrepp där summerade doseRP från study_names_planes överstiger 5 Gy\n",
    "\n",
    "study_5Gy = study[study['doseRPTotal'] > 5000]\n",
    "\n",
    "# Kika på innehåll i dataframe\n",
    "study_5Gy[[\"accessionNumber\",\"studyDateTime\",\"studyDescription\",\"machine\",\"doseRPTotal\", \"doseRP_B\", \"OperatorName\"]]"
   ]
  },
  {
   "cell_type": "code",
   "execution_count": null,
   "id": "3610bf87",
   "metadata": {},
   "outputs": [],
   "source": [
    "#Dumpa ut en undersökning till Excel för att granska vidare\n",
    "\n",
    "#study_5Gy.to_excel(\"output_data/Över_5Gy.xlsx\")\n",
    "#test = series_data[series_data.accessionNumber == \"SERUME0007751954\"]\n",
    "#test.to_excel(\"C:/Projekt/GIT/rvbrtg/Data/output_data/Binjure.xlsx\")"
   ]
  },
  {
   "cell_type": "markdown",
   "id": "2c680a4e",
   "metadata": {},
   "source": [
    "# Multiplar & Ackumulerade doser. Tester nedan."
   ]
  },
  {
   "cell_type": "code",
   "execution_count": null,
   "id": "56071166",
   "metadata": {},
   "outputs": [],
   "source": [
    "multiple_study = study.groupby(\"patientDbId\", as_index=False)[\"accessionNumber\"].nunique()\n",
    "multiple_study"
   ]
  },
  {
   "cell_type": "code",
   "execution_count": null,
   "id": "41e59b75",
   "metadata": {},
   "outputs": [],
   "source": [
    "series_plane_b = series.groupby([\"studyInstanceUID\", \"accessionNumber\", \"acquisitionPlaneSeries\"]).sum(\"doseRP\").reset_index()\n",
    "\n",
    "test = study.groupby([\"patientDbId\"])[\"doseRPTotal\"].sum().reset_index()\n",
    "test.drop(test[(test[\"doseRPTotal\"] <5000)].index, inplace=True)\n",
    "test"
   ]
  },
  {
   "cell_type": "code",
   "execution_count": null,
   "id": "3fda331a",
   "metadata": {},
   "outputs": [],
   "source": [
    "top_pat = study_data[study_data.patientDbId == 4968]\n",
    "top_pat"
   ]
  },
  {
   "cell_type": "code",
   "execution_count": null,
   "id": "6e716c09",
   "metadata": {},
   "outputs": [],
   "source": [
    "fig = px.scatter(study[study['machine'] == 'U105'], x=\"studyDateTime\", y=\"doseRPTotal\", color=\"OperatorName\", hover_data=['accessionNumber', 'doseRPTotal', 'doseRPTotal'], title=\"Dose in Reference point\")\n",
    "fig.show()"
   ]
  },
  {
   "cell_type": "code",
   "execution_count": null,
   "id": "99d45fb7ed647608",
   "metadata": {
    "collapsed": false
   },
   "outputs": [],
   "source": [
    "def loop_analysis(data: pd.DataFrame, start_date: datetime, end_date: datetime) -> pd.DataFrame:\n",
    "    analysis_data = data[(data.studyDateTime >= start_date & data.studyDateTime <= end_date)]\n",
    "\n",
    "    test = analysis_data.groupby(\n",
    "        [\"patientDbId\", \"acquisitionPlaneSeries\"]).sum(\n",
    "        \"doseRP\").reset_index()\n",
    "    test = test[[\"patientDbId\", \"acquisitionPlaneSeries\", \"doseRP\", \"studyDateTime\"]]\n",
    "\n",
    "    return test[test.doseRP > 5000]"
   ]
  },
  {
   "cell_type": "code",
   "execution_count": null,
   "id": "9b1105697380f77c",
   "metadata": {
    "collapsed": false
   },
   "outputs": [],
   "source": [
    "from dateutil.relativedelta import relativedelta\n",
    "new_study_data = study.copy()\n",
    "new_study_data.studyDateTime = pd.to_datetime(new_study_data.studyDateTime, infer_datetime_format=True)\n",
    "new_study_data[\"studyDate\"] = pd.to_datetime(new_study_data.studyDateTime.dt.date)\n",
    "\n",
    "for end_date in sorted(new_study_data.studyDate.unique().tolist()):\n",
    "    sd = pd.to_datetime(datetime.fromtimestamp(end_date / 1e9) - relativedelta(months=3))\n",
    "    resultat = loop_analysis(new_study_data, start_date=sd, end_date=end_date)\n",
    "\n",
    "test = new_study_data.groupby([\"patientDbId\", \"acquisitionPlaneSeries\", pd.Grouper(key=\"studyDateTime\", freq=\"12M\")]).sum(\"doseRP\").reset_index()\n",
    "test = test[[\"patientDbId\", \"acquisitionPlaneSeries\", \"doseRP\", \"studyDateTime\"]]\n",
    "study_data_5Gy = test[test.doseRP > 5000]"
   ]
  }
 ],
 "metadata": {
  "kernelspec": {
   "display_name": "rvbrtg",
   "language": "python",
   "name": "python3"
  },
  "language_info": {
   "codemirror_mode": {
    "name": "ipython",
    "version": 3
   },
   "file_extension": ".py",
   "mimetype": "text/x-python",
   "name": "python",
   "nbconvert_exporter": "python",
   "pygments_lexer": "ipython3",
   "version": "3.11.11"
  }
 },
 "nbformat": 4,
 "nbformat_minor": 5
}
