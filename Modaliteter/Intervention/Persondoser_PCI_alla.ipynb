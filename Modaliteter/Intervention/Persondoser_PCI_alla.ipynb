{
 "cells": [
  {
   "cell_type": "code",
   "execution_count": null,
   "metadata": {},
   "outputs": [],
   "source": [
    "# Importera bibliotek\n",
    "import matplotlib.pyplot as plt # plots\n",
    "import numpy as np # math\n",
    "import pandas as pd\n",
    "pd.options.display.width = 0\n",
    "import plotly.offline as py\n",
    "import plotly.figure_factory as ff\n",
    "import plotly.graph_objs as go\n",
    "from plotly.subplots import make_subplots\n",
    "import plotly.io as pio\n",
    "import plotly.express as px\n",
    "#from scipy.interpolate import interp1d #används ej i denna kod\n",
    "import IPython\n",
    "py.offline.init_notebook_mode(connected=True)\n",
    "from datetime import datetime"
   ]
  },
  {
   "cell_type": "code",
   "execution_count": null,
   "metadata": {},
   "outputs": [],
   "source": [
    "# Importera data\n",
    "data_path_arytmi = 'C:/Users/chgr09/GIT/rvbrtg/Data/input_data/Persondoser_Arytmi_alla.csv'\n",
    "data_path_pci = 'C:/Users/chgr09/GIT/rvbrtg/Data/input_data/Persondoser_PCI_alla.csv'\n",
    "\n",
    "data_arytmi = pd.read_csv(data_path_arytmi, index_col=\"id\", decimal=\",\")\n",
    "data_pci = pd.read_csv(data_path_pci, index_col=\"id\", decimal=\",\")"
   ]
  },
  {
   "cell_type": "code",
   "execution_count": null,
   "metadata": {},
   "outputs": [],
   "source": [
    "#Kontrollera vad kolumnerna heter\n",
    "print(data_pci.columns)\n",
    "#print(names.columns)"
   ]
  },
  {
   "cell_type": "code",
   "execution_count": null,
   "outputs": [],
   "source": [
    "names_arytmi = data_arytmi.person_name.unique()\n",
    "names_pci = data_pci.person_name.unique()\n",
    "\n",
    "names_arytmi"
   ],
   "metadata": {
    "collapsed": false
   }
  },
  {
   "cell_type": "code",
   "execution_count": null,
   "outputs": [],
   "source": [
    "types = data_pci.dosimeter_type.unique()\n",
    "\n",
    "types"
   ],
   "metadata": {
    "collapsed": false
   }
  },
  {
   "cell_type": "code",
   "execution_count": null,
   "outputs": [],
   "source": [
    "pci_body = data_pci[data_pci.dosimeter_type == \"IPLUS 4 WEEKS\"]\n",
    "\n",
    "fig = px.scatter(pci_body, x=\"measurement_period_center\", y=\"hp10\", color=\"person_name\")\n",
    "\n",
    "# showing the plot\n",
    "fig.show()\n",
    "#study.hvplot.scatter( x='studyDateTime', y='doseRPTotal', by='machine')"
   ],
   "metadata": {
    "collapsed": false
   }
  },
  {
   "cell_type": "code",
   "execution_count": null,
   "outputs": [],
   "source": [
    "recent = data_pci[data_pci.measurement_period_center > '2019-12-31']\n",
    "body = recent[recent.dosimeter_type == 'IPLUS 4 WEEKS AREA']\n",
    "\n",
    "fig = px.scatter(body, x=\"measurement_period_center\", y=\"hp007\", color=\"person_name\")\n",
    "\n",
    "# showing the plot\n",
    "fig.show()"
   ],
   "metadata": {
    "collapsed": false
   }
  },
  {
   "cell_type": "code",
   "execution_count": null,
   "outputs": [],
   "source": [
    "data_pci.dosimeter_type.unique()"
   ],
   "metadata": {
    "collapsed": false
   }
  },
  {
   "cell_type": "code",
   "execution_count": null,
   "outputs": [],
   "source": [
    "fig = px.scatter(data, x=\"measurement_period_center\", y=\"hp10\", color=\"person_name\")\n",
    "\n",
    "# showing the plot\n",
    "fig.show()"
   ],
   "metadata": {
    "collapsed": false
   }
  },
  {
   "cell_type": "code",
   "execution_count": null,
   "metadata": {},
   "outputs": [],
   "source": [
    "#Gruppera på operatör\n",
    "\n",
    "karin_arytmi = data_arytmi[data_arytmi['person_name'] == 'Elmqvist Karin']\n",
    "karin_pci = data_pci[data_pci['person_name'] == 'Elmqvist Karin']\n",
    "\n",
    "#karin_pci.head()\n",
    "def get_rembox_sum(row) -> float:\n",
    "    return rembox_data.dose[row.measurement_period_start <= rembox_data.StudyDateTime <= row.measurement_period_stop].sum()\n",
    "\n",
    "karin_pci[\"dos_summa\"] = [\n",
    "    get_rembox_sum(row)\n",
    "    for row in karin_pci.itertuples()\n",
    "]"
   ]
  },
  {
   "cell_type": "code",
   "execution_count": null,
   "outputs": [],
   "source": [
    "#Gruppera på operatör\n",
    "\n",
    "micke_arytmi = data_arytmi[data_arytmi['person_name'] == 'Henriksson Mikael']\n",
    "micke_pci = data_pci[data_pci['person_name'] == 'Henriksson Mikael']\n",
    "\n",
    "#micke_pci.head()\n",
    "\n"
   ],
   "metadata": {
    "collapsed": false
   }
  },
  {
   "cell_type": "code",
   "execution_count": null,
   "metadata": {},
   "outputs": [],
   "source": [
    "fig = go.Figure()\n",
    "\n",
    "fig.add_trace(\n",
    "    go.Scatter(x=micke_arytmi.measurement_period_center,\n",
    "               y=micke_arytmi.hp10,\n",
    "               mode='markers',\n",
    "               name='Micke Arytmi')\n",
    ")\n",
    "\n",
    "fig.add_trace(\n",
    "    go.Scatter(x=micke_pci.measurement_period_center,\n",
    "               y=micke_pci.hp10,\n",
    "               mode='markers',\n",
    "               name='Micke PCI')\n",
    ")\n",
    "\n",
    "fig.update_traces(marker=dict(size=12,\n",
    "                              line=dict(width=2,\n",
    "                                        color='DarkSlateGrey')),\n",
    "                  selector=dict(mode='markers'))\n",
    "\n",
    "fig.update_layout(\n",
    "    title=\"Båldoser genom åren\",\n",
    "    xaxis_title=\"Datum (mitt i mätperiod)\",\n",
    "    yaxis_title=\"Hp(10) [mSv]\",\n",
    "    legend_title=\"Person och Arbetsplats\"\n",
    ")\n",
    "\n",
    "    \n",
    "fig.show()"
   ]
  },
  {
   "cell_type": "code",
   "execution_count": null,
   "outputs": [],
   "source": [
    "fig = go.Figure()\n",
    "\n",
    "fig.add_trace(\n",
    "    go.Scatter(x=karin_arytmi.measurement_period_center,\n",
    "               y=karin_arytmi.hp10,\n",
    "               mode='markers',\n",
    "               name='Karin Arytmi')\n",
    ")\n",
    "\n",
    "fig.add_trace(\n",
    "    go.Scatter(x=karin_pci.measurement_period_center,\n",
    "               y=karin_pci.hp10,\n",
    "               mode='markers',\n",
    "               name='Karin PCI')\n",
    ")\n",
    "\n",
    "fig.add_trace(\n",
    "    go.Scatter(x=micke_arytmi.measurement_period_center,\n",
    "               y=micke_arytmi.hp10,\n",
    "               mode='markers',\n",
    "               name='Micke Arytmi')\n",
    ")\n",
    "\n",
    "fig.add_trace(\n",
    "    go.Scatter(x=micke_pci.measurement_period_center,\n",
    "               y=micke_pci.hp10,\n",
    "               mode='markers',\n",
    "               name='Micke PCI')\n",
    ")\n",
    "\n",
    "fig.update_traces(marker=dict(size=12,\n",
    "                              line=dict(width=2,\n",
    "                                        color='DarkSlateGrey')),\n",
    "                  selector=dict(mode='markers'))\n",
    "\n",
    "fig.update_layout(\n",
    "    title=\"Båldoser genom åren\",\n",
    "    xaxis_title=\"Datum (mitt i mätperiod)\",\n",
    "    yaxis_title=\"Hp(10) [mSv]\",\n",
    "    legend_title=\"Person och Arbetsplats\"\n",
    ")\n",
    "\n",
    "fig.show()"
   ],
   "metadata": {
    "collapsed": false
   }
  },
  {
   "cell_type": "code",
   "execution_count": null,
   "metadata": {},
   "outputs": [],
   "source": [
    "data_path_alla_pci = 'C:/Users/chgr09/GIT/rvbrtg/Data/input_data/19241_allt_240119.csv'\n",
    "\n",
    "data_alla_pci = pd.read_csv(data_path_alla_pci)#, decimal=\",\")"
   ]
  },
  {
   "cell_type": "code",
   "execution_count": null,
   "outputs": [],
   "source": [
    "all_personal = data_alla_pci.name.unique()\n",
    "lst = ['DR', 'SSK', 'DR', 'DR', 'SSK', 'DR', 'SSK', 'SSK', 'SSK', 'DR', 'SSK', 'SSK', 'SSK', 'SSK', 'DR', 'Thorax', 'SSK', 'SSK', 'SSK', 'DR', 'SSK', 'SSK', 'DR', 'DR', 'SSK']\n",
    "\n",
    "categorys = pd.DataFrame(all_personal, columns=[\"name\"])\n",
    "categorys[\"roll\"] = lst\n",
    "#all_personal_categorys = all_personal.join(categorys)\n",
    "categorys\n",
    "#all_personal_categorys"
   ],
   "metadata": {
    "collapsed": false
   }
  },
  {
   "cell_type": "code",
   "execution_count": null,
   "outputs": [],
   "source": [
    "body = data_alla_pci[data_alla_pci.dosimeter_placement == 'Helkropp']\n",
    "\n",
    "body2 = body.join(categorys.set_index('name'), on='name')\n",
    "\n",
    "ssk_body = body2[body2['roll'] == 'SSK']\n",
    "\n",
    "urval = body2[body2['measurement_period_center'] >= '2022-01-01']\n",
    "\n",
    "fig = px.scatter(urval, x=\"measurement_period_center\", y=\"hp10\", color=\"name\")\n",
    "\n",
    "fig.update_xaxes(\n",
    "    dtick=\"M1\",\n",
    "    tickformat=\"%b\\n%Y\")\n",
    "\n",
    "# showing the plot\n",
    "fig.show()"
   ],
   "metadata": {
    "collapsed": false
   }
  },
  {
   "cell_type": "code",
   "execution_count": null,
   "outputs": [],
   "source": [],
   "metadata": {
    "collapsed": false
   }
  },
  {
   "cell_type": "code",
   "execution_count": null,
   "outputs": [],
   "source": [
    "from rembox_integration_tools import REMboxDataQuery\n",
    "from rembox_integration_tools.rembox_analysis import StudyColumn, SeriesColumn\n",
    "from pathlib import Path\n",
    "\n",
    "# om plotly önskas så skrivs följande hvplot.extension(\"plotly\")\n",
    "# hvplot.extension(\"bokeh\")\n",
    "\n",
    "CLIENT_ID_ENV_VAR = \"REMBOX_INT_CLIENT_ID\"\n",
    "CLIENT_PWD_ENV_VAR = \"REMBOX_INT_CLIENT_PWD\"\n",
    "TOKEN_URI = \"https://autoqa.vll.se/dpqaauth/connect/token\" #Var finns access token\n",
    "API_URI = \"https://rembox.vll.se/api\" #Var finns API:t\n",
    "ORIGIN_URI = \"https://rembox.vll.se\" #Vilken URL\n",
    "\n",
    "rembox = REMboxDataQuery(\n",
    "    client_id_environment_variable=CLIENT_ID_ENV_VAR,\n",
    "    client_secret_environment_variable=CLIENT_PWD_ENV_VAR,\n",
    "    token_uri=TOKEN_URI,\n",
    "    api_uri=API_URI,\n",
    "    origin_uri=ORIGIN_URI\n",
    ")\n",
    "\n",
    "valid_study_columns = StudyColumn()\n",
    "valid_series_columns = SeriesColumn()"
   ],
   "metadata": {
    "collapsed": false
   }
  },
  {
   "cell_type": "code",
   "execution_count": null,
   "outputs": [],
   "source": [
    "rembox.reset_filter_options()\n",
    "def get_data_from_fluoro(rembox: REMboxDataQuery) -> tuple[pd.DataFrame, pd.DataFrame]:\n",
    "\n",
    "\n",
    "    rembox.filter_options.set_inclusive_tags(\n",
    "        machine_types=[\"XASTAT\"],     # CT-CT, Fluoroscopic-XASTAT, Mobile C-arm-XAMOB, Conventional-DX, Mammography-MG, Intraoral-IO, Panoramic-PX, Dental Cone Beam CT-DCBCT, PET-PET, PET/CT-PETCT, SPECT-SPECT, SPECT/CT-SPECTCT, Nuclear Medicine-NM, Mobile X-ray-DXMOB, Conventional with fluoro-DXXA\n",
    "        machines=[\"U601\", \"U602\"]        # PCI-1, PCI-2\n",
    "    )\n",
    "\n",
    "    #rembox.filter_options.set_exclusive_tags() om jag vill ange filter där man bortser från ett visst kriterie\n",
    "\n",
    "    rembox.filter_options.patient_age_interval_include_nulls = True\n",
    "\n",
    "    rembox.filter_options.study_time_interval_start_date = \"2022-01-01T00:00:00Z\"\n",
    "    rembox.filter_options.study_time_interval_end_date = \"2024-01-01T00:00:00Z\" #Lägg till en dag till önskad tidsperiod för att matcha GUI\n",
    "\n",
    "\n",
    "    rembox.add_columns(\n",
    "        columns=[\n",
    "            valid_study_columns.AccessionNumber,\n",
    "            valid_study_columns.AcquisitionDoseAreaProductTotal,\n",
    "            valid_study_columns.AcquisitionDoseRPTotal,\n",
    "            valid_study_columns.AcquisitionPlane,\n",
    "            valid_study_columns.ConvFluoroClassifier,\n",
    "            valid_study_columns.DoseAreaProductTotal,\n",
    "            valid_study_columns.DoseMeasurementDevice,\n",
    "            valid_study_columns.DoseRPTotal,\n",
    "            valid_study_columns.FluoroDoseAreaProductTotal,\n",
    "            valid_study_columns.FluoroDoseRPTotal,\n",
    "            valid_study_columns.Id,\n",
    "            valid_study_columns.Machine,\n",
    "            valid_study_columns.PerformingPhysicianName,\n",
    "            valid_study_columns.ProcedureCode,\n",
    "            valid_study_columns.ProcedureCodeMeaning,\n",
    "            valid_study_columns.ProcedureReported,\n",
    "            valid_study_columns.ProtocolCode,\n",
    "            valid_study_columns.ProtocolCodeMeaning,\n",
    "            valid_study_columns.RequestedProcedureCode,\n",
    "            valid_study_columns.RequestedProcedureCodeMeaning,\n",
    "            valid_study_columns.StudyDateTime,\n",
    "            valid_study_columns.StudyDescription,\n",
    "            valid_study_columns.StudyId,\n",
    "            valid_study_columns.StudyInstanceUID,\n",
    "            valid_study_columns.TotalAcquisitionTime,\n",
    "            valid_study_columns.TotalFluoroTime,\n",
    "            valid_study_columns.TotalNumberOfIrradiationEvents,\n",
    "            valid_study_columns.TotalNumberOfRadiographicFrames\n",
    "        ]\n",
    "    )\n",
    "\n",
    "    return rembox.run_query()"
   ],
   "metadata": {
    "collapsed": false
   }
  },
  {
   "cell_type": "code",
   "execution_count": null,
   "outputs": [],
   "source": [
    "study_data, series_data = get_data_from_fluoro(rembox=rembox)"
   ],
   "metadata": {
    "collapsed": false
   }
  },
  {
   "cell_type": "code",
   "execution_count": null,
   "outputs": [],
   "source": [
    "study = study_data.copy() #skapa kopia av dataframe på study-nivå för att kunna behålla orginalet\n",
    "\n",
    "study.head()"
   ],
   "metadata": {
    "collapsed": false
   }
  },
  {
   "cell_type": "code",
   "execution_count": null,
   "outputs": [],
   "source": [
    "body = data_alla_pci[data_alla_pci.dosimeter_placement == 'Helkropp']\n",
    "\n",
    "jonas_pci = body[body['name'] == 'ANDERSSON, JONAS']\n",
    "\n",
    "urval_jonas_pci = jonas_pci[jonas_pci['measurement_period_center'] >= '2022-01-01']\n",
    "\n",
    "def get_rembox_sum(row) -> float:\n",
    "    return study.doseAreaProductTotal[(study['studyDateTime'] >= row.measurement_period_start) & (study['studyDateTime'] <= row.measurement_period_stop)].sum()\n",
    "\n",
    "urval_jonas_pci[\"dos_summa\"] = [\n",
    "    get_rembox_sum(row)\n",
    "    for row in urval_jonas_pci.itertuples()\n",
    "]\n",
    "\n",
    "#urval_jonas_pci\n",
    "\n",
    "def get_pd_sum(row) -> float:\n",
    "    return urval.hp10[urval.measurement_period_center == row.measurement_period_center].sum()\n",
    "\n",
    "urval_jonas_pci[\"hp10_summa\"] = [\n",
    "    get_pd_sum(row)\n",
    "    for row in urval_jonas_pci.itertuples()\n",
    "]\n",
    "\n",
    "urval_jonas_pci"
   ],
   "metadata": {
    "collapsed": false
   }
  },
  {
   "cell_type": "code",
   "execution_count": null,
   "outputs": [],
   "source": [
    "urval"
   ],
   "metadata": {
    "collapsed": false
   }
  },
  {
   "cell_type": "code",
   "execution_count": null,
   "outputs": [],
   "source": [
    "import plotly.graph_objects as go\n",
    "from plotly.subplots import make_subplots\n",
    "\n",
    "# Create figure with secondary y-axis\n",
    "fig = make_subplots(specs=[[{\"secondary_y\": True}]])\n",
    "\n",
    "# Add traces\n",
    "fig.add_trace(\n",
    "    go.Scatter(x=urval_jonas_pci.measurement_period_center,\n",
    "               y=urval_jonas_pci.hp10_summa,\n",
    "               mode='markers',\n",
    "               name='persondosimetri ssk'),\n",
    "    secondary_y=False,\n",
    ")\n",
    "\n",
    "fig.add_trace(\n",
    "    go.Scatter(x=urval_jonas_pci.measurement_period_center,\n",
    "               y=urval_jonas_pci.dos_summa,\n",
    "               mode='markers',\n",
    "               name='REMbox'),\n",
    "    secondary_y=True,\n",
    ")\n",
    "\n",
    "# Add figure title\n",
    "fig.update_layout(\n",
    "    title_text=\"Summerad Hp10 för SSK och total DAP per månad\"\n",
    ")\n",
    "\n",
    "# Set x-axis title\n",
    "fig.update_xaxes(\n",
    "    title_text=\"Date\",\n",
    "    dtick=\"M1\",\n",
    "    tickformat=\"%b\\n%Y\")\n",
    "\n",
    "# Set y-axes titles\n",
    "fig.update_yaxes(title_text=\"Hp10\", secondary_y=False)\n",
    "fig.update_yaxes(title_text=\"Average DAP\", secondary_y=True)\n",
    "\n",
    "fig.show()\n"
   ],
   "metadata": {
    "collapsed": false
   }
  }
 ],
 "metadata": {
  "kernelspec": {
   "display_name": "Python 3",
   "language": "python",
   "name": "python3"
  },
  "language_info": {
   "codemirror_mode": {
    "name": "ipython",
    "version": 3
   },
   "file_extension": ".py",
   "mimetype": "text/x-python",
   "name": "python",
   "nbconvert_exporter": "python",
   "pygments_lexer": "ipython3",
   "version": "3.7.4"
  }
 },
 "nbformat": 4,
 "nbformat_minor": 4
}
