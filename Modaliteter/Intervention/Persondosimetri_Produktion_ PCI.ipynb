{
 "cells": [
  {
   "cell_type": "markdown",
   "source": [
    "## Importer av paket och data från REMbox"
   ],
   "metadata": {
    "collapsed": false
   }
  },
  {
   "cell_type": "code",
   "execution_count": null,
   "outputs": [],
   "source": [
    "import pandas as pd \n",
    "import hvplot.pandas #noqa #plotpaket\n",
    "from datetime import datetime\n",
    "import plotly.graph_objects as go\n",
    "from plotly.subplots import make_subplots\n",
    "import plotly.express as px\n",
    "from rembox_integration_tools import REMboxDataQuery\n",
    "from rembox_integration_tools.rembox_analysis import StudyColumn, SeriesColumn\n",
    "from pathlib import Path\n",
    "\n",
    "# om plotly önskas så skrivs följande hvplot.extension(\"plotly\")\n",
    "hvplot.extension(\"bokeh\")\n",
    "\n",
    "CLIENT_ID_ENV_VAR = \"REMBOX_INT_CLIENT_ID\"\n",
    "CLIENT_PWD_ENV_VAR = \"REMBOX_INT_CLIENT_PWD\"\n",
    "TOKEN_URI = \"https://autoqa.vll.se/dpqaauth/connect/token\" #Var finns access token\n",
    "API_URI = \"https://rembox.vll.se/api\" #Var finns API:t\n",
    "ORIGIN_URI = \"https://rembox.vll.se\" #Vilken URL\n",
    "\n",
    "rembox = REMboxDataQuery(\n",
    "    client_id_environment_variable=CLIENT_ID_ENV_VAR,\n",
    "    client_secret_environment_variable=CLIENT_PWD_ENV_VAR,\n",
    "    token_uri=TOKEN_URI,\n",
    "    api_uri=API_URI,\n",
    "    origin_uri=ORIGIN_URI\n",
    ")\n",
    "\n",
    "valid_study_columns = StudyColumn()\n",
    "valid_series_columns = SeriesColumn()"
   ],
   "metadata": {
    "collapsed": false
   }
  },
  {
   "cell_type": "code",
   "execution_count": null,
   "id": "9d21fb72",
   "metadata": {},
   "outputs": [],
   "source": [
    "rembox.reset_filter_options()\n",
    "def get_data_from_fluoro(rembox: REMboxDataQuery) -> tuple[pd.DataFrame, pd.DataFrame]:\n",
    "\n",
    "    \n",
    "    rembox.filter_options.set_inclusive_tags(\n",
    "        machine_types=[\"XASTAT\"],     # CT-CT, Fluoroscopic-XASTAT, Mobile C-arm-XAMOB, Conventional-DX, Mammography-MG, Intraoral-IO, Panoramic-PX, Dental Cone Beam CT-DCBCT, PET-PET, PET/CT-PETCT, SPECT-SPECT, SPECT/CT-SPECTCT, Nuclear Medicine-NM, Mobile X-ray-DXMOB, Conventional with fluoro-DXXA\n",
    "        machines=[\"U601\", \"U602\"]        # PCI-1, PCI-2\n",
    "    )\n",
    "    \n",
    "    #rembox.filter_options.set_exclusive_tags() om jag vill ange filter där man bortser från ett visst kriterie\n",
    "\n",
    "    rembox.filter_options.patient_age_interval_include_nulls = True\n",
    "    \n",
    "    rembox.filter_options.study_time_interval_start_date = \"2022-12-01T00:00:00Z\"\n",
    "    rembox.filter_options.study_time_interval_end_date = \"2023-12-31T00:00:00Z\" #Lägg till en dag till önskad tidsperiod för att matcha GUI\n",
    "    \n",
    "    \n",
    "    rembox.add_columns(\n",
    "        columns=[\n",
    "            valid_study_columns.StudyDateTime,\n",
    "            valid_study_columns.AccessionNumber,\n",
    "            valid_study_columns.AcquisitionDoseAreaProductTotal,\n",
    "            valid_study_columns.AcquisitionDoseRPTotal,\n",
    "            valid_study_columns.AcquisitionPlane,\n",
    "            #valid_study_columns.CalibrationDate,\n",
    "            #valid_study_columns.CalibrationFactor,\n",
    "            #valid_study_columns.CalibrationProtocol,\n",
    "            #valid_study_columns.CalibrationResponsibleParty,\n",
    "            #valid_study_columns.CalibrationUncertainty,\n",
    "            #valid_study_columns.City,\n",
    "            valid_study_columns.ConvFluoroClassifier,\n",
    "            valid_study_columns.DoseAreaProductTotal,\n",
    "            valid_study_columns.DoseMeasurementDevice,\n",
    "            valid_study_columns.DoseRPTotal,\n",
    "            valid_study_columns.FluoroDoseAreaProductTotal,\n",
    "            valid_study_columns.FluoroDoseRPTotal,\n",
    "            #valid_study_columns.HasIntent,\n",
    "            #valid_study_columns.HalfValueLayer,\n",
    "            #valid_study_columns.Hospital,\n",
    "            valid_study_columns.Id,\n",
    "            valid_study_columns.Machine,\n",
    "            #valid_study_columns.MeanBodyThickness,\n",
    "            #valid_study_columns.MaximumBodyThickness,\n",
    "            #valid_study_columns.MinimumBodyThickness,\n",
    "            #valid_study_columns.PatientAge,\n",
    "            #valid_study_columns.PatientAgeUnit,\n",
    "            valid_study_columns.PatientDbId,\n",
    "            valid_study_columns.PatientId,\n",
    "            #valid_study_columns.PatientModel,\n",
    "            #valid_study_columns.PatientsBodyMassIndex,\n",
    "            #valid_study_columns.PatientsName,\n",
    "            valid_study_columns.PatientsSex,\n",
    "            #valid_study_columns.PatientsSize,\n",
    "            #valid_study_columns.PatientsSizeDate,\n",
    "            #valid_study_columns.PatientsSizeSource,\n",
    "            #valid_study_columns.PatientsWeight,\n",
    "            #valid_study_columns.PatientsWeightDate,\n",
    "            #valid_study_columns.PatientsWeightSource,\n",
    "            #valid_study_columns.PerformingPhysicianIdentificationSequence,\n",
    "            valid_study_columns.PerformingPhysicianName,\n",
    "            #valid_study_columns.PregnancyStatus,\n",
    "            valid_study_columns.ProcedureCode,\n",
    "            valid_study_columns.ProcedureCodeMeaning,\n",
    "            valid_study_columns.ProcedureReported,\n",
    "            valid_study_columns.ProtocolCode,\n",
    "            valid_study_columns.ProtocolCodeMeaning,\n",
    "            #valid_study_columns.ReferenceAuthority,\n",
    "            #valid_study_columns.ReferencedSopInstanceUid,\n",
    "            #valid_study_columns.ReferencePointDefinition,\n",
    "            #valid_study_columns.ReferencePointDefinitionCode,\n",
    "            #valid_study_columns.ReferringPhysicianIdentificationSequence,\n",
    "            #valid_study_columns.ReferringPhysiciansName,\n",
    "            valid_study_columns.RequestedProcedureCode,\n",
    "            valid_study_columns.RequestedProcedureCodeMeaning,\n",
    "            #valid_study_columns.ScopeOfAccumulation,\n",
    "            #valid_study_columns.SoftwareVersions,\n",
    "            valid_study_columns.StartOfXrayIrradiation,\n",
    "            valid_study_columns.StudyDateTime,\n",
    "            valid_study_columns.StudyDescription,\n",
    "            valid_study_columns.StudyId,\n",
    "            valid_study_columns.StudyInstanceUID,\n",
    "            valid_study_columns.TotalAcquisitionTime,\n",
    "            valid_study_columns.TotalFluoroTime,\n",
    "            valid_study_columns.TotalNumberOfIrradiationEvents,\n",
    "            valid_study_columns.TotalNumberOfRadiographicFrames,\n",
    "            valid_series_columns.AcquisitionPlaneSeries,\n",
    "            valid_series_columns.AcquisitionProtocol,\n",
    "            valid_series_columns.AcquisitionType,\n",
    "            #valid_series_columns.AnatomicalStructure,\n",
    "            #valid_series_columns.AnodeTargetMaterial,\n",
    "            #valid_series_columns.AverageXrayTubeCurrent,\n",
    "            valid_series_columns.CollimatedFieldArea,\n",
    "            valid_series_columns.CollimatedFieldHeight,\n",
    "            valid_series_columns.CollimatedFieldWidth,\n",
    "            #valid_series_columns.ColumnAngulation,\n",
    "            #valid_series_columns.CrdrMechanicalConfiguration,\n",
    "            valid_series_columns.DateTimeStarted,\n",
    "            #valid_series_columns.DerivedEffectiveDiameter,\n",
    "            #valid_series_columns.DeviationIndex,\n",
    "            #valid_series_columns.DistanceSourceToDetector,\n",
    "            #valid_series_columns.DistanceSourceToIsocenter,\n",
    "            #valid_series_columns.DistanceSourceToReferencePoint,\n",
    "            #valid_series_columns.DistanceSourceToTablePlane,\n",
    "            valid_series_columns.DoseAreaProduct,\n",
    "            valid_series_columns.DoseRP,\n",
    "            #valid_series_columns.EffectiveDose,\n",
    "            #valid_series_columns.EffectiveDoseConversionFactor,\n",
    "            valid_series_columns.EntranceExposureAtRP,\n",
    "            #valid_series_columns.ExposedRange,\n",
    "            #valid_series_columns.Exposure,\n",
    "            #valid_series_columns.ExposureIndex,\n",
    "            #valid_series_columns.ExposureTime,\n",
    "            #valid_series_columns.ExposureTimePerRotation,\n",
    "            valid_series_columns.FluoroMode,\n",
    "            #valid_series_columns.FrameOfReferenceUID,\n",
    "            #valid_series_columns.IdentificationOfTheXraySource,\n",
    "            #valid_series_columns.ImageView,\n",
    "            #valid_series_columns.ImageViewModifier,\n",
    "            #valid_series_columns.IrradiationDuration,\n",
    "            #valid_series_columns.IrradiationEventLabel,\n",
    "            #valid_series_columns.IrradiationEventType,\n",
    "            valid_series_columns.IrradiationEventUID,\n",
    "            #valid_series_columns.kVp,\n",
    "            #valid_series_columns.LabelType,\n",
    "            #valid_series_columns.Laterality,\n",
    "            #valid_series_columns.MaximumXrayTubeCurrent,\n",
    "            #valid_series_columns.MeasurementMethodDose,\n",
    "            #valid_series_columns.NominalCollimationWidth,\n",
    "            #valid_series_columns.NominalTotalCollimationWidth,\n",
    "            #valid_series_columns.NumberOfPulses,\n",
    "            #valid_series_columns.NumberOfXraySources,\n",
    "            valid_series_columns.PatientEquivalentThickness,\n",
    "            #valid_series_columns.PatientOrientation,\n",
    "            #valid_series_columns.PatientOrientationModifier,\n",
    "            #valid_series_columns.PatientTableRelationship,\n",
    "            valid_series_columns.PositionerPrimaryAngle,\n",
    "            #valid_series_columns.PositionerPrimaryEndAngle,\n",
    "            valid_series_columns.PositionerSecondaryAngle,\n",
    "            #valid_series_columns.PositionerSecondaryEndAngle,\n",
    "            #valid_series_columns.ProcedureContext,\n",
    "            #valid_series_columns.ProjectionEponymousName,\n",
    "            #valid_series_columns.PulseRate,\n",
    "            #valid_series_columns.PulseWidth,\n",
    "            #valid_series_columns.ReconstructionAlgortihm,\n",
    "            #valid_series_columns.ReferencePointDefinitionText,\n",
    "            #valid_series_columns.SpotSize,\n",
    "            #valid_series_columns.TableCradleTiltAngle,\n",
    "            #valid_series_columns.TableHeadTiltAngle,\n",
    "            #valid_series_columns.TableHeightEndPosition,\n",
    "            #valid_series_columns.TableHeightPosition,\n",
    "            #valid_series_columns.TableHorizontalRotationAngle,\n",
    "            #valid_series_columns.TableLateralEndPosition,\n",
    "            #valid_series_columns.TableLateralPosition,\n",
    "            #valid_series_columns.TableLongitudinalEndPosition,\n",
    "            #valid_series_columns.TableLongitudinalPosition,\n",
    "            #valid_series_columns.TargetExposureIndex,\n",
    "            #valid_series_columns.TargetRegion,\n",
    "            #valid_series_columns.WaterEquivalentDiameter,\n",
    "            #valid_series_columns.WedMeasurementMethod,\n",
    "            valid_series_columns.XrayFilterAluminumEquivalent,\n",
    "            valid_series_columns.XrayFilterMaterial,\n",
    "            valid_series_columns.XrayFilterThicknessMaximum,\n",
    "            valid_series_columns.XrayFilterThicknessMinimum,\n",
    "            valid_series_columns.XrayFilterType\n",
    "            #valid_series_columns.XrayGrid,\n",
    "            #valid_series_columns.XrayGridAspectRatio,\n",
    "            #valid_series_columns.XrayGridFocalDistance,\n",
    "            #valid_series_columns.XrayGridPitch,\n",
    "            #valid_series_columns.XrayModulationType,\n",
    "            #valid_series_columns.XrayTubeCurrent\n",
    "        ]\n",
    "    )\n",
    "\n",
    "    return rembox.run_query()"
   ]
  },
  {
   "cell_type": "code",
   "execution_count": null,
   "id": "a09b026b",
   "metadata": {},
   "outputs": [],
   "source": [
    "#Hämta data från REMbox\n",
    "study_data, series_data = get_data_from_fluoro(rembox=rembox)"
   ]
  },
  {
   "cell_type": "markdown",
   "source": [
    "## Kontroller av data och hantering av dataframes"
   ],
   "metadata": {
    "collapsed": false
   }
  },
  {
   "cell_type": "code",
   "execution_count": null,
   "id": "7b49419f",
   "metadata": {},
   "outputs": [],
   "source": [
    "study = study_data.copy() #skapa kopia av dataframe på study-nivå för att kunna behålla orginalet\n",
    "series = series_data.copy() #skapa kopia av dataframe på serie-nivå för att kunna behålla orginalet"
   ]
  },
  {
   "cell_type": "code",
   "execution_count": null,
   "outputs": [],
   "source": [
    "antal_pedaltramp = series[\"irradiationEventUID\"].count()\n",
    "patient_list = series[\"irradiationEventUID\"].nunique()\n",
    "\n",
    "series.drop_duplicates(subset=\"irradiationEventUID\", keep=\"first\", inplace=True)\n",
    "\n",
    "antal_unika_pedaltramp = series[\"irradiationEventUID\"].count()\n",
    "unika_patienter_list = series[\"irradiationEventUID\"].nunique()\n",
    "\n",
    "antal_studier = study[\"studyInstanceUID\"].count()\n",
    "\n",
    "\n",
    "\n",
    "\n",
    "print(antal_pedaltramp)\n",
    "print(patient_list)\n",
    "print('--------')\n",
    "print(antal_unika_pedaltramp)\n",
    "print(unika_patienter_list)\n",
    "print(antal_studier)"
   ],
   "metadata": {
    "collapsed": false
   }
  },
  {
   "cell_type": "code",
   "execution_count": null,
   "outputs": [],
   "source": [
    "series.head()"
   ],
   "metadata": {
    "collapsed": false
   }
  },
  {
   "cell_type": "markdown",
   "source": [
    "## Lägg till operatörsnamn"
   ],
   "metadata": {
    "collapsed": false
   }
  },
  {
   "cell_type": "code",
   "execution_count": null,
   "outputs": [],
   "source": [
    "#Översättningstabell från pseudo-operatörer till operatörer\n",
    "names_data_path = \"C:/Users/chgr09/GIT/rvbrtg/Data/input_data/operators_2023.xlsx\"\n",
    "names = pd.read_excel(names_data_path)\n",
    "names.columns = [\"performingPhysicianName\", \"OperatorName\"]\n",
    "study_names = study.merge(names, on = [\"performingPhysicianName\"], how = \"left\")\n",
    "\n",
    "#study_names.head()"
   ],
   "metadata": {
    "collapsed": false
   }
  },
  {
   "cell_type": "code",
   "execution_count": null,
   "outputs": [],
   "source": [
    "test = study_names.OperatorName.unique()\n",
    "\n",
    "#test"
   ],
   "metadata": {
    "collapsed": false,
    "pycharm": {
     "is_executing": true
    }
   }
  },
  {
   "cell_type": "code",
   "execution_count": null,
   "outputs": [],
   "source": [
    "#Operatörer som saknas? Export till csv för att komplettera.\n",
    "\n",
    "#study_names.to_csv(\"C:/Users/chgr09/GIT/rvbrtg/Data/output_data/Operators_missing_IR.csv\")"
   ],
   "metadata": {
    "collapsed": false
   }
  },
  {
   "cell_type": "code",
   "execution_count": null,
   "outputs": [],
   "source": [
    "# Fyll på med operatörer som saknas\n",
    "missing_names_data_path = \"C:/Users/chgr09/GIT/rvbrtg/Data/input_data/PCI_utan_operatör_2022_2023.xlsx\"\n",
    "missing_names = pd.read_excel(missing_names_data_path, header=None)\n",
    "missing_names.columns = [\"accessionNumber\", \"OperatorName\"]\n",
    "study_names = study_names.merge(missing_names, on = [\"accessionNumber\"], how = \"left\")\n",
    "\n",
    "#print(study_names[study_names.accessionNumber == 'SETUME0007821975'].OperatorName)\n",
    "#print(missing_names[missing_names.accessionNumber == 'SETUME0007821975'].OperatorName)\n",
    "\n",
    "study_names.OperatorName_x.fillna(study_names.OperatorName_y, inplace=True)\n",
    "study_names = study_names.drop('OperatorName_y', axis=1)\n",
    "study_names = study_names.rename(columns={'OperatorName_x': 'OperatorName'})\n",
    "\n",
    "#study_names[study_names.accessionNumber == 'SETUME0007821975'].head()"
   ],
   "metadata": {
    "collapsed": false
   }
  },
  {
   "cell_type": "code",
   "execution_count": null,
   "outputs": [],
   "source": [
    "#operatörer på PCI\n",
    "\n",
    "study_bjorn = study_names[study_names.OperatorName == 'Björn Pettersson']\n",
    "study_henrik = study_names[study_names.OperatorName == 'Henrik Hagström']\n",
    "study_jonas = study_names[study_names.OperatorName == 'Jonas Andersson']"
   ],
   "metadata": {
    "collapsed": false
   }
  },
  {
   "cell_type": "code",
   "execution_count": null,
   "outputs": [],
   "source": [
    "print(study_bjorn.studyInstanceUID.count())\n",
    "Bjorn = study_bjorn.groupby([\"studyDescription\"])[\"doseAreaProductTotal\"].sum().reset_index()\n",
    "Bjorn"
   ],
   "metadata": {
    "collapsed": false
   }
  },
  {
   "cell_type": "code",
   "execution_count": null,
   "outputs": [],
   "source": [
    "print(study_henrik.studyInstanceUID.count())\n",
    "Henrik = study_henrik.groupby([\"studyDescription\"])[\"doseAreaProductTotal\"].sum().reset_index()\n",
    "Henrik"
   ],
   "metadata": {
    "collapsed": false
   }
  },
  {
   "cell_type": "code",
   "execution_count": null,
   "outputs": [],
   "source": [
    "print(study_jonas.studyInstanceUID.count())\n",
    "Jonas = study_jonas.groupby([\"studyDescription\"])[\"doseAreaProductTotal\"].sum().reset_index()\n",
    "Jonas"
   ],
   "metadata": {
    "collapsed": false
   }
  },
  {
   "cell_type": "code",
   "execution_count": null,
   "outputs": [],
   "source": [
    "#Total DAP per ingreppstyp och operatör\n",
    "total_KAP_studytype = study_names.groupby(\n",
    "    [\"OperatorName\", \"studyDescription\"])[\"doseAreaProductTotal\"].sum().reset_index()\n",
    "total_KAP_studytype"
   ],
   "metadata": {
    "collapsed": false
   }
  },
  {
   "cell_type": "code",
   "execution_count": null,
   "outputs": [],
   "source": [
    "#Median DAP per ingreppstyp och operatör\n",
    "total_KAP_studytype = study_names.groupby(\n",
    "    [\"OperatorName\", \"studyDescription\"])[\"doseAreaProductTotal\"].median().reset_index()\n",
    "total_KAP_studytype"
   ],
   "metadata": {
    "collapsed": false
   }
  },
  {
   "cell_type": "markdown",
   "source": [
    "## Läs in och fusionera persondosimetri"
   ],
   "metadata": {
    "collapsed": false
   }
  },
  {
   "cell_type": "code",
   "execution_count": null,
   "outputs": [],
   "source": [
    "data_path_alla_pci = 'C:/Users/chgr09/GIT/rvbrtg/Data/input_data/19241_allt_240119.csv'\n",
    "\n",
    "data_alla_pci = pd.read_csv(data_path_alla_pci)#, decimal=\",\")\n",
    "\n",
    "data_alla_pci"
   ],
   "metadata": {
    "collapsed": false
   }
  },
  {
   "cell_type": "code",
   "execution_count": null,
   "outputs": [],
   "source": [
    "body = data_alla_pci[data_alla_pci.dosimeter_placement == 'Helkropp']\n",
    "\n",
    "jonas_pci = body[body['name'] == 'ANDERSSON, JONAS']\n",
    "\n",
    "urval_jonas_pci = jonas_pci[jonas_pci['measurement_period_center'] >= '2022-12-01']\n",
    "\n",
    "def get_rembox_sum(row) -> float:\n",
    "    return study_jonas.doseAreaProductTotal[\n",
    "        (study_jonas['studyDateTime'] >= row.measurement_period_start) & (study_jonas['studyDateTime'] <= row.measurement_period_stop)\n",
    "    ].sum()\n",
    "\n",
    "urval_jonas_pci[\"dos_summa\"] = [\n",
    "    get_rembox_sum(row)\n",
    "    for row in urval_jonas_pci.itertuples()\n",
    "]\n",
    "\n",
    "#urval_jonas_pci"
   ],
   "metadata": {
    "collapsed": false
   }
  },
  {
   "cell_type": "code",
   "execution_count": null,
   "outputs": [],
   "source": [
    "body = data_alla_pci[data_alla_pci.dosimeter_placement == 'Helkropp']\n",
    "\n",
    "bjorn_pci = body[body['name'] == 'PETTERSSON, BJÖRN']\n",
    "\n",
    "urval_bjorn_pci = bjorn_pci[bjorn_pci['measurement_period_center'] >= '2022-12-01']\n",
    "\n",
    "def get_rembox_sum(row) -> float:\n",
    "    return study_bjorn.doseAreaProductTotal[\n",
    "        (study_bjorn['studyDateTime'] >= row.measurement_period_start) & (study_bjorn['studyDateTime'] <= row.measurement_period_stop)\n",
    "    ].sum()\n",
    "\n",
    "urval_bjorn_pci[\"dos_summa\"] = [\n",
    "    get_rembox_sum(row)\n",
    "    for row in urval_bjorn_pci.itertuples()\n",
    "]\n",
    "\n",
    "#urval_bjorn_pci"
   ],
   "metadata": {
    "collapsed": false
   }
  },
  {
   "cell_type": "code",
   "execution_count": null,
   "outputs": [],
   "source": [
    "body = data_alla_pci[data_alla_pci.dosimeter_placement == 'Helkropp']\n",
    "\n",
    "henrik_pci = body[body['name'] == 'HAGSTRÖM, HENRIK']\n",
    "\n",
    "urval_henrik_pci = henrik_pci[henrik_pci['measurement_period_center'] >= '2022-12-01']\n",
    "\n",
    "def get_rembox_sum(row) -> float:\n",
    "    return study_henrik.doseAreaProductTotal[\n",
    "        (study_henrik['studyDateTime'] >= row.measurement_period_start) & (study_henrik['studyDateTime'] <= row.measurement_period_stop)\n",
    "    ].sum()\n",
    "\n",
    "urval_henrik_pci[\"dos_summa\"] = [\n",
    "    get_rembox_sum(row)\n",
    "    for row in urval_henrik_pci.itertuples()\n",
    "]\n",
    "\n",
    "#urval_henrik_pci"
   ],
   "metadata": {
    "collapsed": false
   }
  },
  {
   "cell_type": "code",
   "execution_count": null,
   "outputs": [],
   "source": [
    "\n",
    "# Create figure with secondary y-axis\n",
    "fig = make_subplots(specs=[[{\"secondary_y\": True}]])\n",
    "\n",
    "# Add traces\n",
    "fig.add_trace(\n",
    "    go.Scatter(x=urval_jonas_pci.measurement_period_center,\n",
    "               y=urval_jonas_pci.hp10,\n",
    "               mode='markers',\n",
    "               name='persondosimetri (Hp10)'),\n",
    "    secondary_y=False,\n",
    ")\n",
    "\n",
    "fig.add_trace(\n",
    "    go.Scatter(x=urval_jonas_pci.measurement_period_center,\n",
    "               y=urval_jonas_pci.dos_summa,\n",
    "               mode='markers',\n",
    "               name='DAP REMbox'),\n",
    "    secondary_y=True,\n",
    ")\n",
    "\n",
    "# Add figure title\n",
    "fig.update_layout(\n",
    "    title_text=\"Hp10 och total DAP per månad\"\n",
    ")\n",
    "\n",
    "# Set x-axis title\n",
    "fig.update_xaxes(\n",
    "    title_text=\"Date\",\n",
    "    dtick=\"M1\",\n",
    "    tickformat=\"%b\\n%Y\")\n",
    "\n",
    "# Set y-axes titles\n",
    "fig.update_yaxes(title_text=\"Hp10\", secondary_y=False)\n",
    "fig.update_yaxes(title_text=\"Average DAP\", secondary_y=True)\n",
    "\n",
    "fig.show()\n"
   ],
   "metadata": {
    "collapsed": false
   }
  },
  {
   "cell_type": "code",
   "execution_count": null,
   "outputs": [],
   "source": [
    "# Create figure with secondary y-axis\n",
    "fig = make_subplots(rows=3, cols=1, specs=[[{\"secondary_y\":True}], [{\"secondary_y\":True}], [{\"secondary_y\":True}]], shared_xaxes=True)#specs=[[{\"secondary_y\": True}]])\n",
    "\n",
    "# Add traces\n",
    "fig.add_trace(\n",
    "    go.Scatter(x=urval_jonas_pci.measurement_period_center,\n",
    "               y=urval_jonas_pci.hp10,\n",
    "               mode='markers',\n",
    "               marker_color='red',\n",
    "               name='Jonas (Hp10)'),\n",
    "    secondary_y=False,\n",
    "    row=1, col=1\n",
    ")\n",
    "\n",
    "fig.add_trace(\n",
    "    go.Scatter(x=urval_jonas_pci.measurement_period_center,\n",
    "               y=urval_jonas_pci.dos_summa,\n",
    "               mode='markers',\n",
    "               marker_color='blue',\n",
    "               name='Jonas (DAP)'),\n",
    "    secondary_y=True,\n",
    "    row=1, col=1\n",
    ")\n",
    "\n",
    "fig.add_trace(\n",
    "    go.Scatter(x=urval_bjorn_pci.measurement_period_center,\n",
    "               y=urval_bjorn_pci.hp10,\n",
    "               mode='markers',\n",
    "               marker_color='red',\n",
    "               name='Björn (Hp10)'),\n",
    "    secondary_y=False,\n",
    "    row=2, col=1\n",
    ")\n",
    "\n",
    "fig.add_trace(\n",
    "    go.Scatter(x=urval_bjorn_pci.measurement_period_center,\n",
    "               y=urval_bjorn_pci.dos_summa,\n",
    "               mode='markers',\n",
    "               marker_color='blue',\n",
    "               name='Björn (DAP)'),\n",
    "    secondary_y=True,\n",
    "    row=2, col=1\n",
    ")\n",
    "\n",
    "\n",
    "fig.add_trace(\n",
    "    go.Scatter(x=urval_henrik_pci.measurement_period_center,\n",
    "               y=urval_henrik_pci.hp10,\n",
    "               mode='markers',\n",
    "               marker_color='red',\n",
    "               name='Henrik (Hp10)'),\n",
    "    secondary_y=False,\n",
    "    row=3, col=1\n",
    ")\n",
    "\n",
    "fig.add_trace(\n",
    "    go.Scatter(x=urval_henrik_pci.measurement_period_center,\n",
    "               y=urval_henrik_pci.dos_summa,\n",
    "               mode='markers',\n",
    "               marker_color='blue',\n",
    "               name='Henrik (DAP)'),\n",
    "    secondary_y=True,\n",
    "    row=3, col=1\n",
    ")\n",
    "\n",
    "# Add figure title\n",
    "fig.update_layout(\n",
    "    height=800, width=1300,\n",
    "    title_text=\"Hp10 and total DAP per month\"\n",
    ")\n",
    "\n",
    "# Set x-axis title\n",
    "fig.update_xaxes(\n",
    "    #title_text=\"Date\",\n",
    "    dtick=\"M1\",\n",
    "    tickformat=\"%b\\n%Y\")\n",
    "\n",
    "# Set y-axes titles\n",
    "fig.update_yaxes(title_text=\"Hp10\",range=[0,1.1], secondary_y=False)\n",
    "fig.update_yaxes(title_text=\"Average DAP\",range=[0,1100], secondary_y=True)\n",
    "\n",
    "fig.show()"
   ],
   "metadata": {
    "collapsed": false
   }
  },
  {
   "cell_type": "code",
   "execution_count": null,
   "outputs": [],
   "source": [],
   "metadata": {
    "collapsed": false
   }
  },
  {
   "cell_type": "markdown",
   "source": [
    "## Analysera projektioner"
   ],
   "metadata": {
    "collapsed": false
   }
  },
  {
   "cell_type": "code",
   "execution_count": null,
   "outputs": [],
   "source": [
    "#Kontrollera vad kolumnerna heter\n",
    "#series.head()\n",
    "print(study.studyInstanceUID)\n",
    "print(\"-------------------------------\")\n",
    "print(series.studyInstanceUID)"
   ],
   "metadata": {
    "collapsed": false
   }
  },
  {
   "cell_type": "code",
   "execution_count": null,
   "outputs": [],
   "source": [
    "#Joina dataframes för att få study och series i samma dataframe\n",
    "study_series_names = study_names.merge(series, on=[\"studyInstanceUID\"], how=\"left\")\n",
    "\n",
    "study_series_names = study_series_names.drop('accessionNumber_y', axis=1)\n",
    "study_series_names = study_series_names.rename(columns={'accessionNumber_x': 'accessionNumber'})\n",
    "study_series_names = study_series_names.drop('studyId_y', axis=1)\n",
    "study_series_names = study_series_names.rename(columns={'studyId_x': 'studyId'})\n",
    "\n",
    "#Print för att kolla så att det funkade\n",
    "print(study_series_names.columns)"
   ],
   "metadata": {
    "collapsed": false
   }
  },
  {
   "cell_type": "code",
   "execution_count": null,
   "outputs": [],
   "source": [
    "series_bjorn = study_series_names[study_series_names.OperatorName == 'Björn Pettersson']\n",
    "series_henrik = study_series_names[study_series_names.OperatorName == 'Henrik Hagström']\n",
    "series_jonas = study_series_names[study_series_names.OperatorName == 'Jonas Andersson']"
   ],
   "metadata": {
    "collapsed": false
   }
  },
  {
   "cell_type": "code",
   "execution_count": null,
   "outputs": [],
   "source": [
    "fig = make_subplots(rows=2, cols=2)\n",
    "\n",
    "# Add traces\n",
    "fig.add_trace(\n",
    "    go.Scatter(x=series.positionerPrimaryAngle,\n",
    "               y=series.positionerSecondaryAngle,\n",
    "               mode='markers',\n",
    "               #marker_color='red',\n",
    "               name='All'),\n",
    "    row=1, col=1\n",
    ")\n",
    "#fig.add_trace(\n",
    "#    go.Scatter(x=series_jonas.positionerPrimaryAngle,\n",
    "#               y=series_jonas.positionerSecondaryAngle,\n",
    "#               mode='markers',\n",
    "#               #marker_color='red',\n",
    "#               name='Jonas'),\n",
    "#    row=1, col=1\n",
    "#)\n",
    "fig.add_trace(\n",
    "    go.Scatter(x=series_bjorn.positionerPrimaryAngle,\n",
    "               y=series_bjorn.positionerSecondaryAngle,\n",
    "               mode='markers',\n",
    "               #marker_color='red',\n",
    "               name='Björn'),\n",
    "    row=1, col=2\n",
    ")\n",
    "fig.add_trace(\n",
    "    go.Scatter(x=series_henrik.positionerPrimaryAngle,\n",
    "               y=series_henrik.positionerSecondaryAngle,\n",
    "               mode='markers',\n",
    "               #marker_color='red',\n",
    "               name='Henrik'),\n",
    "    row=2, col=1\n",
    ")\n",
    "fig.add_trace(\n",
    "    go.Scatter(x=series_jonas.positionerPrimaryAngle,\n",
    "               y=series_jonas.positionerSecondaryAngle,\n",
    "               mode='markers',\n",
    "               #marker_color='red',\n",
    "               name='Jonas'),\n",
    "    row=2, col=2\n",
    ")\n",
    "\n",
    "\n",
    "#fig = px.scatter(series, x='positionerPrimaryAngle', y='positionerSecondaryAngle')\n",
    "\n",
    "# Add figure title\n",
    "fig.update_layout(\n",
    "    height=1000, width=1000,\n",
    "    title_text=\"Projections used\"\n",
    ")\n",
    "\n",
    "fig.update_traces(\n",
    "    marker_size=2\n",
    ")\n",
    "\n",
    "# Add figure title\n",
    "fig.update_layout(\n",
    "    height=1000, width=1300,\n",
    "    title_text=\"Scatterplot per operator\"\n",
    ")\n",
    "\n",
    "# Set x-axis title\n",
    "fig.update_xaxes(\n",
    "    title_text=\"Primary Angle: RAO to LAO\",\n",
    "    range=[-95, 95]\n",
    ")\n",
    "\n",
    "# Set y-axes titles\n",
    "fig.update_yaxes(\n",
    "    title_text=\"Secondary Angle: CAUD to CRAN\",\n",
    "    range=[-60, 60]\n",
    ")\n",
    "\n",
    "fig.show()"
   ],
   "metadata": {
    "collapsed": false
   }
  },
  {
   "cell_type": "code",
   "execution_count": null,
   "outputs": [],
   "source": [
    "LAO_jonas_pci = series_jonas[series_jonas['positionerPrimaryAngle'] >= 80]\n",
    "\n",
    "LAO_jonas_pci"
   ],
   "metadata": {
    "collapsed": false
   }
  },
  {
   "cell_type": "code",
   "execution_count": null,
   "outputs": [],
   "source": [],
   "metadata": {
    "collapsed": false
   }
  },
  {
   "cell_type": "markdown",
   "source": [
    "## Export till csv"
   ],
   "metadata": {
    "collapsed": false
   }
  },
  {
   "cell_type": "code",
   "execution_count": null,
   "outputs": [],
   "source": [
    "#Export av data till csv\n",
    "#study_data.to_csv(\"C:/Users/chgr09/GIT/rvbrtg/Data/output_data/XA_study_2023.csv\")\n",
    "#series.to_csv(\"C:/Users/chgr09/GIT/rvbrtg/Data/output_data/U602_series_maj.csv\")\n",
    "study_jonas.to_csv(\"C:/Users/chgr09/GIT/rvbrtg/Data/output_data/study_jonas.csv\")"
   ],
   "metadata": {
    "collapsed": false
   }
  }
 ],
 "metadata": {
  "kernelspec": {
   "display_name": "Python 3 (ipykernel)",
   "language": "python",
   "name": "python3"
  },
  "language_info": {
   "codemirror_mode": {
    "name": "ipython",
    "version": 3
   },
   "file_extension": ".py",
   "mimetype": "text/x-python",
   "name": "python",
   "nbconvert_exporter": "python",
   "pygments_lexer": "ipython3",
   "version": "3.10.4"
  }
 },
 "nbformat": 4,
 "nbformat_minor": 5
}
