{
 "cells": [
  {
   "cell_type": "code",
   "execution_count": null,
   "metadata": {},
   "outputs": [],
   "source": [
    "# Importera bibliotek\n",
    "import matplotlib.pyplot as plt # plots\n",
    "import numpy as np # math\n",
    "import pandas as pd\n",
    "pd.options.display.width = 0\n",
    "import plotly.offline as py\n",
    "import plotly.figure_factory as ff\n",
    "import plotly.graph_objs as go\n",
    "from plotly.subplots import make_subplots\n",
    "import plotly.io as pio\n",
    "import plotly.express as px\n",
    "#from scipy.interpolate import interp1d #används ej i denna kod\n",
    "import IPython\n",
    "py.offline.init_notebook_mode(connected=True)\n",
    "from datetime import datetime"
   ]
  },
  {
   "cell_type": "code",
   "execution_count": null,
   "metadata": {},
   "outputs": [],
   "source": [
    "# Importera data\n",
    "data_path = 'C:/Projekt/GIT/rvbrtg/Data/input_data/Persondoser_PCI_alla.csv'\n",
    "\n",
    "data = pd.read_csv(data_path, index_col=\"id\", decimal=\",\")"
   ]
  },
  {
   "cell_type": "code",
   "execution_count": null,
   "metadata": {},
   "outputs": [],
   "source": [
    "#Kontrollera vad kolumnerna heter\n",
    "print(data.columns)\n",
    "#print(names.columns)"
   ]
  },
  {
   "cell_type": "code",
   "execution_count": null,
   "metadata": {},
   "outputs": [],
   "source": [
    "data.head()"
   ]
  },
  {
   "cell_type": "code",
   "execution_count": null,
   "metadata": {},
   "outputs": [],
   "source": [
    "#Gruppera på operatör\n",
    "\n",
    "jonas = data[data['personnel_id'] == 54]\n",
    "bjorn = data[data['personnel_id'] == 57]\n",
    "henrik = data[data['personnel_id'] == 260]\n",
    "\n",
    "#jonas.head()"
   ]
  },
  {
   "cell_type": "code",
   "execution_count": null,
   "metadata": {},
   "outputs": [],
   "source": [
    "fig = go.Figure()\n",
    "\n",
    "fig.add_trace(\n",
    "    go.Scatter(x=jonas.measurement_period_center,\n",
    "               y=jonas.hp10,\n",
    "               mode='markers',\n",
    "               name='Jonas')\n",
    ")\n",
    "\n",
    "fig.add_trace(\n",
    "    go.Scatter(x=bjorn.measurement_period_center,\n",
    "               y=bjorn.hp10,\n",
    "               mode='markers',\n",
    "               name='Björn',\n",
    "               marker=dict(\n",
    "                   opacity=0.5,))\n",
    ")\n",
    "\n",
    "fig.add_trace(\n",
    "    go.Scatter(x=henrik.measurement_period_center,\n",
    "               y=henrik.hp10,\n",
    "               mode='markers',\n",
    "               name='Henrik',\n",
    "               marker=dict(\n",
    "                   opacity=0.5,))\n",
    ")\n",
    "\n",
    "fig.update_traces(marker=dict(size=12,\n",
    "                              line=dict(width=2,\n",
    "                                        color='DarkSlateGrey')),\n",
    "                  selector=dict(mode='markers'))\n",
    "    \n",
    "fig.show()"
   ]
  },
  {
   "cell_type": "code",
   "execution_count": null,
   "metadata": {},
   "outputs": [],
   "source": []
  }
 ],
 "metadata": {
  "kernelspec": {
   "display_name": "Python 3",
   "language": "python",
   "name": "python3"
  },
  "language_info": {
   "codemirror_mode": {
    "name": "ipython",
    "version": 3
   },
   "file_extension": ".py",
   "mimetype": "text/x-python",
   "name": "python",
   "nbconvert_exporter": "python",
   "pygments_lexer": "ipython3",
   "version": "3.7.4"
  }
 },
 "nbformat": 4,
 "nbformat_minor": 4
}
