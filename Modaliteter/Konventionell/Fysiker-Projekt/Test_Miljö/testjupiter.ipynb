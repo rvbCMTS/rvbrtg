{
 "cells": [
  {
   "cell_type": "code",
   "execution_count": null,
   "metadata": {},
   "outputs": [
    {
     "ename": "SyntaxError",
     "evalue": "(unicode error) 'unicodeescape' codec can't decode bytes in position 2-3: truncated \\UXXXXXXXX escape (1963145676.py, line 4)",
     "output_type": "error",
     "traceback": [
      "\u001b[1;36m  Cell \u001b[1;32mIn[7], line 4\u001b[1;36m\u001b[0m\n\u001b[1;33m    df_Series = pd.read_pickle(\"C:\\Users\\beckm\\Documents\\GitHub\\rvbrtg\\Modaliteter\\Konventionell\\Fysiker-Projekt\\Data_24-12-05\\series_data.pkl\")\u001b[0m\n\u001b[1;37m                                                                                                                                               ^\u001b[0m\n\u001b[1;31mSyntaxError\u001b[0m\u001b[1;31m:\u001b[0m (unicode error) 'unicodeescape' codec can't decode bytes in position 2-3: truncated \\UXXXXXXXX escape\n"
     ]
    }
   ],
   "source": [
    "import pandas as pd \n",
    "\n",
    "# Load data as pickle\n",
    "df_Series = pd.read_pickle(r\"C:\\Users\\beckm\\Documents\\GitHub\\rvbrtg\\Modaliteter\\Konventionell\\Fysiker-Projekt\\Data_24-12-05\\series_data.pkl\")\n",
    "df_Study = pd.read_pickle(r\"C:\\Users\\beckm\\Documents\\GitHub\\rvbrtg\\Modaliteter\\Konventionell\\Fysiker-Projekt\\Data_24-12-05\\study_data.pkl\")\n",
    "\n",
    "# Merge data based on studyInstanceUID\n",
    "merged = pd.merge(df_Series.reset_index(), df_Study.reset_index(), on='studyInstanceUID', how=\"left\")"
   ]
  },
  {
   "cell_type": "code",
   "execution_count": null,
   "metadata": {},
   "outputs": [],
   "source": [
    "print(merged)\n",
    "# Export data as csv\n",
    "#merged.to_csv('merged_output.csv', index=False)\n",
    "\n",
    "column_name = 'acquisitionProtocol'\n",
    "counts = merged[column_name].value_counts()\n",
    "duplicates = counts[counts > 1]\n",
    "\n",
    "# Display the results\n",
    "print(f\"Unique duplicates and their counts in column '{column_name}':\")\n",
    "for value, count in duplicates.items():\n",
    "    print(f\"  Value {value} appears {count} times\")\n"
   ]
  }
 ],
 "metadata": {
  "kernelspec": {
   "display_name": ".venv",
   "language": "python",
   "name": "python3"
  },
  "language_info": {
   "codemirror_mode": {
    "name": "ipython",
    "version": 3
   },
   "file_extension": ".py",
   "mimetype": "text/x-python",
   "name": "python",
   "nbconvert_exporter": "python",
   "pygments_lexer": "ipython3",
   "version": "3.10.4"
  }
 },
 "nbformat": 4,
 "nbformat_minor": 2
}
