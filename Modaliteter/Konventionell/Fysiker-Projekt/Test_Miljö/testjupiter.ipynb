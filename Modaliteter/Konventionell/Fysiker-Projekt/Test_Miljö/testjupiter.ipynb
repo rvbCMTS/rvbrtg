{
 "cells": [
  {
   "cell_type": "code",
   "execution_count": null,
   "metadata": {},
   "outputs": [],
   "source": [
    "import pandas as pd \n",
    "\n",
    "# Load data as pickle\n",
    "df_Series = pd.read_pickle(r\"C:\\Users\\beckm\\Documents\\GitHub\\rvbrtg\\Modaliteter\\Konventionell\\Fysiker-Projekt\\Data_24-12-05\\series_data.pkl\")\n",
    "df_Study = pd.read_pickle(r\"C:\\Users\\beckm\\Documents\\GitHub\\rvbrtg\\Modaliteter\\Konventionell\\Fysiker-Projekt\\Data_24-12-05\\study_data.pkl\")\n",
    "\n",
    "# Merge data based on studyInstanceUID\n",
    "merged = pd.merge(df_Series.reset_index(), df_Study.reset_index(), on='studyInstanceUID', how=\"left\")\n",
    "\n",
    "# Extract all unique studyUIDs\n",
    "df_flags = df_Study['studyInstanceUID']\n"
   ]
  },
  {
   "cell_type": "code",
   "execution_count": null,
   "metadata": {},
   "outputs": [],
   "source": [
    "print(merged)\n",
    "# Export data as csv\n",
    "#merged.to_csv('merged_output.csv', index=False)\n",
    "olumn_name = 'acquisitionProtocol'\n",
    "counts = merged[column_name].value_counts()\n",
    "duplicates = counts[counts > 1]\n",
    "\n",
    "# Display the results\n",
    "#print(f\"Unique duplicates and their counts in column '{column_name}':\")\n",
    "#for value, count in duplicates.items():\n",
    "#    print(f\"  Value {value} appears {count} times\")\n"
   ]
  },
  {
   "cell_type": "code",
   "execution_count": null,
   "metadata": {},
   "outputs": [],
   "source": [
    "test = df_Series.iloc[7:14, 0]\n",
    "\n",
    "print(test.duplicated())\n",
    "\n",
    "# False if not a duplicate of previous cell value,\n",
    "# True if a duplicate of previous cell. "
   ]
  },
  {
   "cell_type": "code",
   "execution_count": null,
   "metadata": {},
   "outputs": [],
   "source": [
    "duplicates = merged.groupby('studyInstanceUID')['acquisitionProtocol'].apply(lambda x: x.duplicated().sum())\n",
    "\n",
    "# Identify which IDs have duplicates\n",
    "duplicate_ids = duplicates[duplicates > 0]\n",
    "if not duplicate_ids.empty:\n",
    "    print(\"Duplicate datapoints found for the following IDs:\")\n",
    "    for id, count in duplicate_ids.items():\n",
    "        print(f\"  ID {id} has {count} duplicate datapoints\")\n",
    "else:\n",
    "    print(\"No duplicates found for the selected IDs.\")"
   ]
  }
 ],
 "metadata": {
  "kernelspec": {
   "display_name": ".venv",
   "language": "python",
   "name": "python3"
  },
  "language_info": {
   "codemirror_mode": {
    "name": "ipython",
    "version": 3
   },
   "file_extension": ".py",
   "mimetype": "text/x-python",
   "name": "python",
   "nbconvert_exporter": "python",
   "pygments_lexer": "ipython3",
   "version": "3.10.4"
  }
 },
 "nbformat": 4,
 "nbformat_minor": 2
}
