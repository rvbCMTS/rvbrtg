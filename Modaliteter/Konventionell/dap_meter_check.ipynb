{
 "cells": [
  {
   "cell_type": "code",
   "id": "initial_id",
   "metadata": {
    "collapsed": true
   },
   "source": [
    "import datetime\n",
    "\n",
    "import pandas as pd\n",
    "from rembox_integration_tools import REMboxDataQuery\n",
    "from rembox_integration_tools.rembox_analysis import StudyColumn, SeriesColumn\n",
    "\n",
    "\n",
    "CLIENT_ID_ENV_VAR = \"REMBOX_INT_CLIENT_ID\"\n",
    "CLIENT_PWD_ENV_VAR = \"REMBOX_INT_CLIENT_PWD\"\n",
    "TOKEN_URI = \"https://autoqa.vll.se/dpqaauth/connect/token\"\n",
    "API_URI = \"https://rembox.vll.se/api\"\n",
    "ORIGIN_URI = \"https://rembox.vll.se\"\n",
    "\n",
    "rembox = REMboxDataQuery(\n",
    "    client_id_environment_variable=CLIENT_ID_ENV_VAR,\n",
    "    client_secret_environment_variable=CLIENT_PWD_ENV_VAR,\n",
    "    token_uri=TOKEN_URI,\n",
    "    api_uri=API_URI,\n",
    "    origin_uri=ORIGIN_URI\n",
    ")\n",
    "\n",
    "valid_study_columns = StudyColumn()\n",
    "valid_series_columns = SeriesColumn()"
   ],
   "outputs": [],
   "execution_count": null
  },
  {
   "cell_type": "code",
   "source": [
    "def get_data_from_REMbox(rembox: REMboxDataQuery) -> tuple[pd.DataFrame, pd.DataFrame]:\n",
    "    valid_study_columns = StudyColumn()\n",
    "    valid_series_columns = SeriesColumn()\n",
    "    \n",
    "    # Rax at NUS\n",
    "    rembox.filter_options.set_inclusive_tags(\n",
    "        machine_types=[\"DX\"],\n",
    "    )\n",
    "    \n",
    "    current_datetime = datetime.datetime.now(datetime.UTC)\n",
    "    start_time = current_datetime - datetime.timedelta(days=7)\n",
    "    \n",
    "    # about four month data\n",
    "    rembox.filter_options.study_time_interval_start_date = f\"{start_time.strftime('%Y-%m-%d')}T00:00:00Z\"\n",
    "    rembox.filter_options.study_time_interval_end_date = f\"{current_datetime.strftime('%Y-%m-%d')}T23:59:59Z\"\n",
    "\n",
    "    rembox.add_columns(\n",
    "        columns=[\n",
    "            valid_study_columns.StudyDateTime,\n",
    "            valid_study_columns.StudyInstanceUID,\n",
    "            valid_study_columns.AccessionNumber,\n",
    "            valid_study_columns.StudyId,\n",
    "            valid_study_columns.Machine,\n",
    "            valid_study_columns.DoseAreaProductTotal,\n",
    "            valid_study_columns.TotalNumberOfIrradiationEvents,\n",
    "            valid_study_columns.TotalNumberOfRadiographicFrames,\n",
    "        ]\n",
    "    )\n",
    "\n",
    "    return rembox.run_query()"
   ],
   "metadata": {
    "collapsed": false
   },
   "id": "3b2b3de5ff7d713a",
   "outputs": [],
   "execution_count": null
  },
  {
   "cell_type": "code",
   "source": [
    "study_data, _ = get_data_from_REMbox(rembox=rembox)"
   ],
   "metadata": {
    "collapsed": false
   },
   "id": "1d2e13314b518a98",
   "outputs": [],
   "execution_count": null
  },
  {
   "cell_type": "code",
   "source": [
    "study = study_data.copy()"
   ],
   "metadata": {
    "collapsed": false
   },
   "id": "4de4bc5cd9fda384",
   "outputs": [],
   "execution_count": null
  },
  {
   "cell_type": "code",
   "source": [
    "result = study[valid_study_columns.DoseAreaProductTotal].min()\n",
    "triggering_studies = study[study[valid_study_columns.DoseAreaProductTotal] <= 1]\n",
    "\n",
    "plot_markers = [\"circle\", \"square\", \"diamond\", \"cross\", \"x\", \"triangle\", \"pentagon\", \"hexagram\", \"star\", \"hourglass\", \"bowtie\", \"asterisk\"]\n",
    "\n",
    "plot_traces = [{\n",
    "    \"traceName\": machine,\n",
    "    \"x\": study[study[valid_study_columns.Machine] == machine][valid_study_columns.StudyDateTime].tolist(),\n",
    "    \"y\": study[study[valid_study_columns.Machine] == machine][valid_study_columns.DoseAreaProductTotal].tolist(),\n",
    "    \"tolerance\": None,\n",
    "    \"plotMarker\": f\"{plot_markers[ind // len(plot_markers)]}-open\"\n",
    "} for ind, machine in enumerate(study[valid_study_columns.Machine].unique())]\n",
    "\n",
    "outputs = []\n",
    "\n",
    "for ind, machine in enumerate(triggering_studies[valid_study_columns.Machine].unique()):\n",
    "    outputs.append({\n",
    "        \"analysisResult\": {\n",
    "            \"analysisRuleId\": \"00000000-0000-0000-0000-000000000000\",  # Ersätts med ID från jobbets meddelande\n",
    "            \"resultWithinTolerance\": result <= 0,\n",
    "            \"analysisResultJson\": {\n",
    "                \"analysisResultType\": \"string\",\n",
    "                \"accessionNumber\": study[valid_study_columns.AccessionNumber][(study[valid_study_columns.Machine] == machine) & (study[valid_study_columns.DoseAreaProductTotal] <= 1)].values[0],\n",
    "                \"studyInstanceUid\": study[valid_study_columns.StudyInstanceUID][(study[valid_study_columns.Machine] == machine) & (study[valid_study_columns.DoseAreaProductTotal] <= 1)].values[0],\n",
    "                \"analysisDateTime\": \"0001-01-01T00:00:00Z\",\n",
    "                \"analysisResultValue\": machine,\n",
    "                \"withinTolerance\": False,\n",
    "                \"analysisResultPlotTraces\": plot_traces,\n",
    "                \"plotType\": \"scatter\"\n",
    "            }\n",
    "        },\n",
    "        \"sendNotification\": ind == 0,\n",
    "        \"notificationMessage\": f\"{machine} har DAP-värde som indikerar trasig DAP-mätare\"\n",
    "    })"
   ],
   "metadata": {
    "collapsed": false
   },
   "id": "a8392ad603ac761a",
   "outputs": [],
   "execution_count": null
  },
  {
   "cell_type": "code",
   "source": [
    "print(outputs)"
   ],
   "metadata": {
    "collapsed": false
   },
   "id": "d926e1c6ae3a28a4",
   "outputs": [],
   "execution_count": null
  },
  {
   "cell_type": "code",
   "source": [
    "import json\n",
    "json.dumps(outputs[0])"
   ],
   "metadata": {
    "collapsed": false
   },
   "id": "7b6a4e8dba3d22bd",
   "outputs": [],
   "execution_count": null
  },
  {
   "cell_type": "code",
   "source": [],
   "metadata": {
    "collapsed": false
   },
   "id": "e8f8a2c43134eace",
   "outputs": [],
   "execution_count": null
  }
 ],
 "metadata": {
  "kernelspec": {
   "display_name": "Python 3",
   "language": "python",
   "name": "python3"
  },
  "language_info": {
   "codemirror_mode": {
    "name": "ipython",
    "version": 2
   },
   "file_extension": ".py",
   "mimetype": "text/x-python",
   "name": "python",
   "nbconvert_exporter": "python",
   "pygments_lexer": "ipython2",
   "version": "2.7.6"
  }
 },
 "nbformat": 4,
 "nbformat_minor": 5
}
