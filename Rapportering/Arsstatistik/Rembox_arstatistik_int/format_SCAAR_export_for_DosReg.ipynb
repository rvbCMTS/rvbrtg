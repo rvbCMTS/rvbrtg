{
 "cells": [
  {
   "cell_type": "markdown",
   "source": [
    "## Formatera data från SCAAR så output kan laddas till DosReg"
   ],
   "metadata": {
    "collapsed": false
   }
  },
  {
   "cell_type": "markdown",
   "source": [
    "Gå till https://www.ucr.uu.se/swedeheart/ och logga in med Siths-kort\n",
    "Gå till \"Rapporter\"\n",
    "Välj \"Export till Excel Angio-PCI\"\n",
    "Rapportdatum: T.ex 2022-01-01 - 2023-01-01\n",
    "Angio/PCI: Angio och PCI i följd\n",
    "Procedur/Segment: Procedur\n",
    "Klicka på \"Beställ\" och ladda ner resulterande excel-fil till input_data"
   ],
   "metadata": {
    "collapsed": false
   }
  },
  {
   "cell_type": "code",
   "execution_count": null,
   "outputs": [],
   "source": [
    "import pandas as pd\n",
    "\n",
    "# Läs in data från SCAAR\n",
    "\n",
    "SCAAR_data_path = \"C:/Projekt/GIT/rvbrtg/Data/input_data/Angio_PCI_2023.xlsx\"\n",
    "data = pd.read_excel(SCAAR_data_path)\n",
    "\n",
    "data.head()"
   ],
   "metadata": {
    "collapsed": false
   }
  },
  {
   "cell_type": "code",
   "execution_count": null,
   "outputs": [],
   "source": [
    "#Minska ner tabellen och döp om kolumner\n",
    "\n",
    "data_subset = data[[\"Kön\", \"Ålder vid procedur\", \"Längd (cm)\", \"Vikt (kg)\", \"Angiograför\", \"Punktionställe\", \"Labnamn\", \"Stråldos (µGym2)\", \"Genomlysningstid (h:mm:ss)\", ]].copy()\n",
    "\n",
    "data_subset.columns = [\"Sex\", \"Age\", \"Length_cm\", \"Weight_kg\", \"Operator\", \"Accesspoint\", \"Lab\", \"KAP_uGym2\", \"Fluorotime_h_mm_ss\"]\n",
    "\n",
    "data_subset.head()"
   ],
   "metadata": {
    "collapsed": false
   }
  },
  {
   "cell_type": "code",
   "execution_count": null,
   "outputs": [],
   "source": [
    "#Kolla datatyper. Är KAP numeriskt eller en sträng\n",
    "\n",
    "data_subset.dtypes"
   ],
   "metadata": {
    "collapsed": false
   }
  },
  {
   "cell_type": "code",
   "execution_count": null,
   "outputs": [],
   "source": [
    "#Ersätt , med . samt byt från sträng till float och konvertera från uGym2 till Gycm2\n",
    "data_subset[\"KAP_uGym2\"] = data_subset[\"KAP_uGym2\"].replace(',','.',regex=True).astype(float)\n",
    "data_subset[\"KAP_uGym2\"] = data_subset[\"KAP_uGym2\"] * 0.01\n",
    "\n",
    "data_subset.rename(columns = {\"KAP_uGym2\":\"KAP_Gycm2\"}, inplace = True)\n",
    "\n",
    "#data_subset.dtypes\n",
    "data_subset.head()"
   ],
   "metadata": {
    "collapsed": false
   }
  },
  {
   "cell_type": "code",
   "execution_count": null,
   "outputs": [],
   "source": [
    "#Printa ut antal per kön och medelvärde för KAP för att skriva in i DosReg-mall\n",
    "\n",
    "print(data_subset.groupby(\"Sex\").size())\n",
    "\n",
    "print(data_subset.groupby(\"Sex\").mean(numeric_only = True))"
   ],
   "metadata": {
    "collapsed": false
   }
  },
  {
   "cell_type": "code",
   "execution_count": null,
   "outputs": [],
   "source": [],
   "metadata": {
    "collapsed": false
   }
  }
 ],
 "metadata": {
  "kernelspec": {
   "display_name": "Python 3",
   "language": "python",
   "name": "python3"
  },
  "language_info": {
   "codemirror_mode": {
    "name": "ipython",
    "version": 2
   },
   "file_extension": ".py",
   "mimetype": "text/x-python",
   "name": "python",
   "nbconvert_exporter": "python",
   "pygments_lexer": "ipython2",
   "version": "2.7.6"
  }
 },
 "nbformat": 4,
 "nbformat_minor": 0
}
