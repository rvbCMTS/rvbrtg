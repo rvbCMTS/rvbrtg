{
 "cells": [
  {
   "cell_type": "markdown",
   "source": [
    "## Formatera data från Svenska ICD och Pacemakerregistret så output kan laddas till DosReg"
   ],
   "metadata": {
    "collapsed": false
   }
  },
  {
   "cell_type": "markdown",
   "source": [
    "Gå till https://www.pacemakerregistret.se/ och logga in med Siths-kort\n",
    "Gå till \"Statistik\" och sedan \"Rapporter\"\n",
    "För att titta på t.ex. pacemakrar,  ICD:r osv. och primärimplantationer, skall du välja \"Tom rapport\".\n",
    "Välj urval:\n",
    "Sjukhus: Norrlands Universitetssjukhus\n",
    "Patient: Alla\n",
    "Implantat: Implantattyp - Pacemaker, Interventionstyp - Implantation, Orsak - Primärimplantation\n",
    "Intervention: Alla\n",
    "Tidsperiod: Fast period - T.ex. 2022-01-01 - 2023-01-01\n",
    "Välj Excelfil längst ner på sidan och spara nerladdad fil till input_data\n",
    "Kontakta anita.fredenson@regionstockholm.se för övriga frågor eller access till registret"
   ],
   "metadata": {
    "collapsed": false
   }
  },
  {
   "cell_type": "code",
   "execution_count": null,
   "outputs": [],
   "source": [
    "import pandas as pd\n",
    "import xlrd\n",
    "\n",
    "#Importera data från PM-registret\n",
    "\n",
    "PM_data_path = \"C:/Projekt/GIT/rvbrtg/Data/input_data/svenska_pacemaker_registret_2023.xls\"\n",
    "data = pd.read_excel(PM_data_path)\n",
    "\n",
    "data.head()"
   ],
   "metadata": {
    "collapsed": false
   }
  },
  {
   "cell_type": "code",
   "execution_count": null,
   "outputs": [],
   "source": [
    "#Minska ner tabellen och döp om kolumner\n",
    "\n",
    "data_subset = data[[\"SEX\", \"BIRTHDATE\", \"OPERATOR\", \"FLUORODOSE\", \"FLUOROTIME\"]].copy()\n",
    "\n",
    "data_subset.columns = [\"Sex\", \"Birthdate\", \"Operator\", \"KAP_Gycm2\", \"Fluorotime_min\"]\n",
    "\n",
    "data_subset.head()"
   ],
   "metadata": {
    "collapsed": false
   }
  },
  {
   "cell_type": "code",
   "execution_count": null,
   "outputs": [],
   "source": [
    "#Kolla datatyper. Är KAP numeriskt eller en sträng\n",
    "\n",
    "data_subset.dtypes"
   ],
   "metadata": {
    "collapsed": false
   }
  },
  {
   "cell_type": "code",
   "execution_count": null,
   "outputs": [],
   "source": [
    "#Ta bort rader utan dosdata\n",
    "\n",
    "data_subset_KAP = data_subset.dropna(subset=[\"KAP_Gycm2\"])\n",
    "\n",
    "#data_subset.dtypes\n",
    "data_subset.head()"
   ],
   "metadata": {
    "collapsed": false
   }
  },
  {
   "cell_type": "code",
   "execution_count": null,
   "outputs": [],
   "source": [
    "#Printa ut antal per kön och medelvärde för KAP för att skriva in i DosReg-mall\n",
    "\n",
    "print(data_subset.groupby(\"Sex\").size())\n",
    "\n",
    "print(data_subset.groupby(\"Sex\").mean(numeric_only = True))"
   ],
   "metadata": {
    "collapsed": false
   }
  },
  {
   "cell_type": "code",
   "execution_count": null,
   "outputs": [],
   "source": [],
   "metadata": {
    "collapsed": false
   }
  }
 ],
 "metadata": {
  "kernelspec": {
   "display_name": "Python 3",
   "language": "python",
   "name": "python3"
  },
  "language_info": {
   "codemirror_mode": {
    "name": "ipython",
    "version": 2
   },
   "file_extension": ".py",
   "mimetype": "text/x-python",
   "name": "python",
   "nbconvert_exporter": "python",
   "pygments_lexer": "ipython2",
   "version": "2.7.6"
  }
 },
 "nbformat": 4,
 "nbformat_minor": 0
}
