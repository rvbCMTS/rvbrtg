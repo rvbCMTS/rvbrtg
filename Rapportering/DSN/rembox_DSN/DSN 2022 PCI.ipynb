{
 "cells": [
  {
   "cell_type": "code",
   "execution_count": null,
   "id": "7d785710",
   "metadata": {},
   "outputs": [],
   "source": [
    "# Importera bibliotek\n",
    "import numpy as np # math\n",
    "import pandas as pd\n",
    "from datetime import datetime\n",
    "import xlrd\n",
    "import xlwt\n",
    "import openpyxl\n",
    "import xlsxwriter\n",
    "from rembox_integration_tools import REMboxDataQuery\n",
    "from rembox_integration_tools.rembox_analysis import StudyColumn, SeriesColumn\n",
    "\n",
    "CLIENT_ID_ENV_VAR = \"REMBOX_INT_CLIENT_ID\"\n",
    "CLIENT_PWD_ENV_VAR = \"REMBOX_INT_CLIENT_PWD\"\n",
    "TOKEN_URI = \"https://autoqa.vll.se/dpqaauth/connect/token\"\n",
    "API_URI = \"https://rembox.vll.se/api\"\n",
    "ORIGIN_URI = \"https://rembox.vll.se\""
   ]
  },
  {
   "cell_type": "code",
   "execution_count": null,
   "id": "9d21fb72",
   "metadata": {},
   "outputs": [],
   "source": [
    "def get_data_from_fluoro(rembox: REMboxDataQuery) -> tuple[pd.DataFrame, pd.DataFrame]:\n",
    "    valid_study_columns = StudyColumn()\n",
    "    valid_series_columns = SeriesColumn()\n",
    "    \n",
    "    rembox.filter_options.set_inclusive_tags(\n",
    "        machine_types=[\"XASTAT\"],                # Fluro\n",
    "        machines=[\"U601\", \"U602\"]        # PCI-1, PCI-2\n",
    "    )\n",
    "\n",
    "    rembox.filter_options.patient_age_interval_include_nulls = True\n",
    "    \n",
    "    rembox.filter_options.study_time_interval_start_date = \"2022-01-01T00:00:00Z\"\n",
    "    rembox.filter_options.study_time_interval_end_date = \"2022-12-10T00:00:00Z\"\n",
    "    \n",
    "    \n",
    "    rembox.add_columns(\n",
    "        columns=[\n",
    "            valid_study_columns.StudyDateTime,\n",
    "            valid_study_columns.StudyInstanceUID,\n",
    "            valid_study_columns.StudyId,\n",
    "            valid_study_columns.Machine,\n",
    "            valid_study_columns.AccessionNumber,\n",
    "            valid_study_columns.StudyDescription,\n",
    "            valid_study_columns.PatientAge,\n",
    "            valid_study_columns.DoseAreaProductTotal,\n",
    "            valid_study_columns.FluoroDoseAreaProductTotal,\n",
    "            valid_study_columns.AcquisitionDoseAreaProductTotal,\n",
    "            valid_study_columns.DoseRPTotal,\n",
    "            valid_study_columns.FluoroDoseRPTotal,\n",
    "            valid_study_columns.AcquisitionDoseRPTotal,\n",
    "            valid_study_columns.TotalAcquisitionTime,\n",
    "            valid_study_columns.TotalFluoroTime,\n",
    "            valid_study_columns.TotalNumberOfIrradiationEvents,\n",
    "            valid_study_columns.TotalNumberOfRadiographicFrames,\n",
    "            valid_study_columns.PerformingPhysicianName,\n",
    "            valid_study_columns.PerformingPhysicianIdentificationSequence,\n",
    "            valid_study_columns.PatientDbId,\n",
    "            valid_study_columns.PatientId,\n",
    "            valid_series_columns.AcquisitionProtocol,\n",
    "            valid_series_columns.AcquisitionPlaneSeries,\n",
    "            valid_series_columns.DoseRP,\n",
    "            valid_series_columns.DateTimeStarted\n",
    "        ]\n",
    "    )\n",
    "\n",
    "    return rembox.run_query()"
   ]
  },
  {
   "cell_type": "code",
   "execution_count": null,
   "id": "a09b026b",
   "metadata": {},
   "outputs": [],
   "source": [
    "rembox = REMboxDataQuery(\n",
    "    client_id_environment_variable=CLIENT_ID_ENV_VAR,\n",
    "    client_secret_environment_variable=CLIENT_PWD_ENV_VAR,\n",
    "    token_uri=TOKEN_URI,\n",
    "    api_uri=API_URI,\n",
    "    origin_uri=ORIGIN_URI\n",
    ")\n",
    "\n",
    "study_data, series_data = get_data_from_fluoro(rembox=rembox)"
   ]
  },
  {
   "cell_type": "code",
   "execution_count": null,
   "id": "82f6601d",
   "metadata": {},
   "outputs": [],
   "source": [
    "#Kontroll av data\n",
    "study_data"
   ]
  },
  {
   "cell_type": "code",
   "execution_count": null,
   "id": "9d88f5c1",
   "metadata": {},
   "outputs": [],
   "source": [
    "#Räkna antal ingrepp och antal unika patienter\n",
    "antal = study_data['patientDbId'].count() \n",
    "patienter = study_data['patientDbId'].nunique()\n",
    "\n",
    "print(antal)\n",
    "print(patienter)"
   ]
  },
  {
   "cell_type": "code",
   "execution_count": null,
   "id": "d124a23e",
   "metadata": {},
   "outputs": [],
   "source": [
    "#Läs in export från SCAAR\n",
    "scaar_data_path = 'input_data/SCAAR_DSN_2022.xls'\n",
    "\n",
    "scaar = pd.read_excel(scaar_data_path)"
   ]
  },
  {
   "cell_type": "code",
   "execution_count": null,
   "id": "2f4b137c",
   "metadata": {},
   "outputs": [],
   "source": [
    "#kontroll av data\n",
    "scaar"
   ]
  },
  {
   "cell_type": "code",
   "execution_count": null,
   "id": "20a15208",
   "metadata": {},
   "outputs": [],
   "source": [
    "#Kontrollera vad kolumnerna heter\n",
    "print(study_data.columns)\n",
    "print(scaar.columns)\n",
    "\n",
    "#Ändra kolumn för att kunna göra en join\n",
    "scaar.rename(columns={'Pseudonymiserat id': 'patientId'}, inplace=True)\n",
    "scaar.rename(columns={'Datum för procedur': 'studyDateTime'}, inplace=True)\n",
    "\n",
    "#kontrollera att ändringen blev bra\n",
    "print(scaar.columns)"
   ]
  },
  {
   "cell_type": "code",
   "execution_count": null,
   "id": "be9df158",
   "metadata": {},
   "outputs": [],
   "source": [
    "#Skapa kolumn som kan användas för att göra en merge på både datum och personnummer i båda dataframes.\n",
    "#study_data.studyDateTime[0][:10]\n",
    "study_data[\"MergeColumn\"] = study_data.patientId + study_data.studyDateTime.str[:10]\n",
    "#koll att det funkat\n",
    "study_data[\"MergeColumn\"][0]\n"
   ]
  },
  {
   "cell_type": "code",
   "execution_count": null,
   "id": "e6ebe639",
   "metadata": {},
   "outputs": [],
   "source": [
    "#Skapa kolumn som kan användas för att göra en merge på både datum och personnummer i båda dataframes.\n",
    "scaar['studyDateTime'] = scaar['studyDateTime'].dt.strftime('%Y-%m-%d')\n",
    "scaar[\"MergeColumn\"] = scaar.patientId + scaar.studyDateTime\n",
    "#koll att det funkat\n",
    "scaar[\"MergeColumn\"][0]\n"
   ]
  },
  {
   "cell_type": "code",
   "execution_count": null,
   "id": "c3db2233",
   "metadata": {},
   "outputs": [],
   "source": [
    "#Joina dataframes\n",
    "study_data_scaar = pd.merge(study_data,scaar,how = 'inner', on = ['MergeColumn'])\n",
    "#Print för att kolla så att det funkade\n",
    "print(study_data_scaar.columns)"
   ]
  },
  {
   "cell_type": "code",
   "execution_count": null,
   "id": "96d4425d",
   "metadata": {},
   "outputs": [],
   "source": [
    "#Räkna antal ingrepp och antal unika patienter\n",
    "antal = study_data_scaar['patientDbId'].count() \n",
    "patienter = study_data_scaar['patientDbId'].nunique()\n",
    "\n",
    "print(antal)\n",
    "print(patienter)"
   ]
  },
  {
   "cell_type": "code",
   "execution_count": null,
   "id": "c1c469a0",
   "metadata": {},
   "outputs": [],
   "source": [
    "import xlwt\n",
    "import openpyxl\n",
    "import xlsxwriter\n",
    "\n",
    "writer = pd.ExcelWriter('output_data/DSN_PCI_2022_new_V2.xlsx', engine='xlsxwriter')\n",
    "study_data_scaar.to_excel(writer)\n",
    "writer.save()"
   ]
  },
  {
   "cell_type": "code",
   "execution_count": null,
   "id": "7fe31f85",
   "metadata": {},
   "outputs": [],
   "source": []
  }
 ],
 "metadata": {
  "kernelspec": {
   "display_name": "Python 3 (ipykernel)",
   "language": "python",
   "name": "python3"
  },
  "language_info": {
   "codemirror_mode": {
    "name": "ipython",
    "version": 3
   },
   "file_extension": ".py",
   "mimetype": "text/x-python",
   "name": "python",
   "nbconvert_exporter": "python",
   "pygments_lexer": "ipython3",
   "version": "3.10.4"
  }
 },
 "nbformat": 4,
 "nbformat_minor": 5
}
