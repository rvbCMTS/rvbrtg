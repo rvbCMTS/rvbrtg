{
 "cells": [
  {
   "cell_type": "markdown",
   "metadata": {
    "collapsed": false
   },
   "source": [
    "## Formatera data från SCAAR så output kan laddas till DosReg"
   ]
  },
  {
   "cell_type": "markdown",
   "metadata": {
    "collapsed": false
   },
   "source": [
    "Gå till https://www.ucr.uu.se/swedeheart/ och logga in med Siths-kort\\\n",
    "Gå till \"Rapporter\"\\\n",
    "Välj \"Export till Excel Angio-PCI\"\\\n",
    "Rapportdatum: T.ex 2024-01-01 - 2025-01-01\\\n",
    "Angio/PCI: Enbart angio\\\n",
    "Procedur/Segment: Procedur\\\n",
    "Klicka på \"Beställ\" och ladda ner resulterande excel-fil.\\\n",
    "Öppna excel-fil, radera första 3 kolumnerna \"Personnr eller motsv\", \"Typ av personnummer\" och \"Födelsedatum\" och spara till input_data.\n"
   ]
  },
  {
   "cell_type": "code",
   "execution_count": null,
   "metadata": {
    "collapsed": false
   },
   "outputs": [],
   "source": [
    "import pandas as pd\n",
    "\n",
    "# Läs in data från SCAAR\n",
    "\n",
    "SCAAR_data_path = \"C:/Projekt/GIT/rvbrtg/Data/input_data/Angio_2024.xlsx\"\n",
    "data = pd.read_excel(SCAAR_data_path)\n",
    "\n",
    "#data.head()"
   ]
  },
  {
   "cell_type": "code",
   "execution_count": 3,
   "metadata": {
    "collapsed": false
   },
   "outputs": [
    {
     "data": {
      "application/vnd.microsoft.datawrangler.viewer.v0+json": {
       "columns": [
        {
         "name": "index",
         "rawType": "int64",
         "type": "integer"
        },
        {
         "name": "Sex",
         "rawType": "object",
         "type": "string"
        },
        {
         "name": "Age",
         "rawType": "int64",
         "type": "integer"
        },
        {
         "name": "Length_cm",
         "rawType": "float64",
         "type": "float"
        },
        {
         "name": "Weight_kg",
         "rawType": "float64",
         "type": "float"
        },
        {
         "name": "Operator",
         "rawType": "object",
         "type": "string"
        },
        {
         "name": "Accesspoint",
         "rawType": "object",
         "type": "string"
        },
        {
         "name": "Lab",
         "rawType": "object",
         "type": "string"
        },
        {
         "name": "KAP_uGym2",
         "rawType": "object",
         "type": "string"
        },
        {
         "name": "Fluorotime_h_mm_ss",
         "rawType": "object",
         "type": "unknown"
        }
       ],
       "conversionMethod": "pd.DataFrame",
       "ref": "3c8d2f32-97fa-4433-871e-8b464701e73a",
       "rows": [
        [
         "0",
         "Kvinna",
         "87",
         "160.0",
         "67.0",
         "Hasslow, Jacob",
         "A radialis höger",
         "Lab 1",
         "422,00",
         "00:05:05"
        ],
        [
         "1",
         "Man",
         "86",
         "172.0",
         "90.0",
         "Pettersson, Björn",
         "A radialis vänster",
         "Lab 1",
         "1490,00",
         "00:05:37"
        ],
        [
         "2",
         "Kvinna",
         "86",
         null,
         null,
         "Andersson, Jonas",
         "A femoralis konverterad från radialis",
         "Lab 1",
         "152,00",
         "00:03:05"
        ],
        [
         "3",
         "Man",
         "86",
         "171.0",
         "75.0",
         "Hagström, Henrik",
         "A radialis höger",
         "Lab 1",
         "749,00",
         "00:04:03"
        ],
        [
         "4",
         "Man",
         "85",
         null,
         null,
         "Pettersson, Björn",
         "A radialis höger",
         "Lab 1",
         "1040,00",
         "00:06:55"
        ]
       ],
       "shape": {
        "columns": 9,
        "rows": 5
       }
      },
      "text/html": [
       "<div>\n",
       "<style scoped>\n",
       "    .dataframe tbody tr th:only-of-type {\n",
       "        vertical-align: middle;\n",
       "    }\n",
       "\n",
       "    .dataframe tbody tr th {\n",
       "        vertical-align: top;\n",
       "    }\n",
       "\n",
       "    .dataframe thead th {\n",
       "        text-align: right;\n",
       "    }\n",
       "</style>\n",
       "<table border=\"1\" class=\"dataframe\">\n",
       "  <thead>\n",
       "    <tr style=\"text-align: right;\">\n",
       "      <th></th>\n",
       "      <th>Sex</th>\n",
       "      <th>Age</th>\n",
       "      <th>Length_cm</th>\n",
       "      <th>Weight_kg</th>\n",
       "      <th>Operator</th>\n",
       "      <th>Accesspoint</th>\n",
       "      <th>Lab</th>\n",
       "      <th>KAP_uGym2</th>\n",
       "      <th>Fluorotime_h_mm_ss</th>\n",
       "    </tr>\n",
       "  </thead>\n",
       "  <tbody>\n",
       "    <tr>\n",
       "      <th>0</th>\n",
       "      <td>Kvinna</td>\n",
       "      <td>87</td>\n",
       "      <td>160.0</td>\n",
       "      <td>67.0</td>\n",
       "      <td>Hasslow, Jacob</td>\n",
       "      <td>A radialis höger</td>\n",
       "      <td>Lab 1</td>\n",
       "      <td>422,00</td>\n",
       "      <td>00:05:05</td>\n",
       "    </tr>\n",
       "    <tr>\n",
       "      <th>1</th>\n",
       "      <td>Man</td>\n",
       "      <td>86</td>\n",
       "      <td>172.0</td>\n",
       "      <td>90.0</td>\n",
       "      <td>Pettersson, Björn</td>\n",
       "      <td>A radialis vänster</td>\n",
       "      <td>Lab 1</td>\n",
       "      <td>1490,00</td>\n",
       "      <td>00:05:37</td>\n",
       "    </tr>\n",
       "    <tr>\n",
       "      <th>2</th>\n",
       "      <td>Kvinna</td>\n",
       "      <td>86</td>\n",
       "      <td>NaN</td>\n",
       "      <td>NaN</td>\n",
       "      <td>Andersson, Jonas</td>\n",
       "      <td>A femoralis konverterad från radialis</td>\n",
       "      <td>Lab 1</td>\n",
       "      <td>152,00</td>\n",
       "      <td>00:03:05</td>\n",
       "    </tr>\n",
       "    <tr>\n",
       "      <th>3</th>\n",
       "      <td>Man</td>\n",
       "      <td>86</td>\n",
       "      <td>171.0</td>\n",
       "      <td>75.0</td>\n",
       "      <td>Hagström, Henrik</td>\n",
       "      <td>A radialis höger</td>\n",
       "      <td>Lab 1</td>\n",
       "      <td>749,00</td>\n",
       "      <td>00:04:03</td>\n",
       "    </tr>\n",
       "    <tr>\n",
       "      <th>4</th>\n",
       "      <td>Man</td>\n",
       "      <td>85</td>\n",
       "      <td>NaN</td>\n",
       "      <td>NaN</td>\n",
       "      <td>Pettersson, Björn</td>\n",
       "      <td>A radialis höger</td>\n",
       "      <td>Lab 1</td>\n",
       "      <td>1040,00</td>\n",
       "      <td>00:06:55</td>\n",
       "    </tr>\n",
       "  </tbody>\n",
       "</table>\n",
       "</div>"
      ],
      "text/plain": [
       "      Sex  Age  Length_cm  Weight_kg           Operator  \\\n",
       "0  Kvinna   87      160.0       67.0     Hasslow, Jacob   \n",
       "1     Man   86      172.0       90.0  Pettersson, Björn   \n",
       "2  Kvinna   86        NaN        NaN   Andersson, Jonas   \n",
       "3     Man   86      171.0       75.0   Hagström, Henrik   \n",
       "4     Man   85        NaN        NaN  Pettersson, Björn   \n",
       "\n",
       "                             Accesspoint    Lab KAP_uGym2 Fluorotime_h_mm_ss  \n",
       "0                       A radialis höger  Lab 1    422,00           00:05:05  \n",
       "1                     A radialis vänster  Lab 1   1490,00           00:05:37  \n",
       "2  A femoralis konverterad från radialis  Lab 1    152,00           00:03:05  \n",
       "3                       A radialis höger  Lab 1    749,00           00:04:03  \n",
       "4                       A radialis höger  Lab 1   1040,00           00:06:55  "
      ]
     },
     "execution_count": 3,
     "metadata": {},
     "output_type": "execute_result"
    }
   ],
   "source": [
    "#Minska ner tabellen och döp om kolumner\n",
    "\n",
    "data_subset = data[[\"Kön\", \"Ålder vid procedur\", \"Längd (cm)\", \"Vikt (kg)\", \"Angiograför\", \"Punktionställe\", \"Labnamn\", \"Stråldos (µGym2)\", \"Genomlysningstid (h:mm:ss)\", ]].copy()\n",
    "\n",
    "data_subset.columns = [\"Sex\", \"Age\", \"Length_cm\", \"Weight_kg\", \"Operator\", \"Accesspoint\", \"Lab\", \"KAP_uGym2\", \"Fluorotime_h_mm_ss\"]\n",
    "\n",
    "data_subset.head()"
   ]
  },
  {
   "cell_type": "code",
   "execution_count": 4,
   "metadata": {
    "collapsed": false
   },
   "outputs": [
    {
     "data": {
      "text/plain": [
       "Sex                    object\n",
       "Age                     int64\n",
       "Length_cm             float64\n",
       "Weight_kg             float64\n",
       "Operator               object\n",
       "Accesspoint            object\n",
       "Lab                    object\n",
       "KAP_uGym2              object\n",
       "Fluorotime_h_mm_ss     object\n",
       "dtype: object"
      ]
     },
     "execution_count": 4,
     "metadata": {},
     "output_type": "execute_result"
    }
   ],
   "source": [
    "#Kolla datatyper. Är KAP numeriskt eller en sträng\n",
    "\n",
    "data_subset.dtypes"
   ]
  },
  {
   "cell_type": "code",
   "execution_count": 5,
   "metadata": {
    "collapsed": false
   },
   "outputs": [
    {
     "data": {
      "application/vnd.microsoft.datawrangler.viewer.v0+json": {
       "columns": [
        {
         "name": "index",
         "rawType": "int64",
         "type": "integer"
        },
        {
         "name": "Sex",
         "rawType": "object",
         "type": "string"
        },
        {
         "name": "Age",
         "rawType": "int64",
         "type": "integer"
        },
        {
         "name": "Length_cm",
         "rawType": "float64",
         "type": "float"
        },
        {
         "name": "Weight_kg",
         "rawType": "float64",
         "type": "float"
        },
        {
         "name": "Operator",
         "rawType": "object",
         "type": "string"
        },
        {
         "name": "Accesspoint",
         "rawType": "object",
         "type": "string"
        },
        {
         "name": "Lab",
         "rawType": "object",
         "type": "string"
        },
        {
         "name": "KAP_Gycm2",
         "rawType": "float64",
         "type": "float"
        },
        {
         "name": "Fluorotime_h_mm_ss",
         "rawType": "object",
         "type": "unknown"
        }
       ],
       "conversionMethod": "pd.DataFrame",
       "ref": "0c24f7e4-1453-42db-a400-6e88fda8929f",
       "rows": [
        [
         "0",
         "Kvinna",
         "87",
         "160.0",
         "67.0",
         "Hasslow, Jacob",
         "A radialis höger",
         "Lab 1",
         "4.22",
         "00:05:05"
        ],
        [
         "1",
         "Man",
         "86",
         "172.0",
         "90.0",
         "Pettersson, Björn",
         "A radialis vänster",
         "Lab 1",
         "14.9",
         "00:05:37"
        ],
        [
         "2",
         "Kvinna",
         "86",
         null,
         null,
         "Andersson, Jonas",
         "A femoralis konverterad från radialis",
         "Lab 1",
         "1.52",
         "00:03:05"
        ],
        [
         "3",
         "Man",
         "86",
         "171.0",
         "75.0",
         "Hagström, Henrik",
         "A radialis höger",
         "Lab 1",
         "7.49",
         "00:04:03"
        ],
        [
         "4",
         "Man",
         "85",
         null,
         null,
         "Pettersson, Björn",
         "A radialis höger",
         "Lab 1",
         "10.4",
         "00:06:55"
        ]
       ],
       "shape": {
        "columns": 9,
        "rows": 5
       }
      },
      "text/html": [
       "<div>\n",
       "<style scoped>\n",
       "    .dataframe tbody tr th:only-of-type {\n",
       "        vertical-align: middle;\n",
       "    }\n",
       "\n",
       "    .dataframe tbody tr th {\n",
       "        vertical-align: top;\n",
       "    }\n",
       "\n",
       "    .dataframe thead th {\n",
       "        text-align: right;\n",
       "    }\n",
       "</style>\n",
       "<table border=\"1\" class=\"dataframe\">\n",
       "  <thead>\n",
       "    <tr style=\"text-align: right;\">\n",
       "      <th></th>\n",
       "      <th>Sex</th>\n",
       "      <th>Age</th>\n",
       "      <th>Length_cm</th>\n",
       "      <th>Weight_kg</th>\n",
       "      <th>Operator</th>\n",
       "      <th>Accesspoint</th>\n",
       "      <th>Lab</th>\n",
       "      <th>KAP_Gycm2</th>\n",
       "      <th>Fluorotime_h_mm_ss</th>\n",
       "    </tr>\n",
       "  </thead>\n",
       "  <tbody>\n",
       "    <tr>\n",
       "      <th>0</th>\n",
       "      <td>Kvinna</td>\n",
       "      <td>87</td>\n",
       "      <td>160.0</td>\n",
       "      <td>67.0</td>\n",
       "      <td>Hasslow, Jacob</td>\n",
       "      <td>A radialis höger</td>\n",
       "      <td>Lab 1</td>\n",
       "      <td>4.22</td>\n",
       "      <td>00:05:05</td>\n",
       "    </tr>\n",
       "    <tr>\n",
       "      <th>1</th>\n",
       "      <td>Man</td>\n",
       "      <td>86</td>\n",
       "      <td>172.0</td>\n",
       "      <td>90.0</td>\n",
       "      <td>Pettersson, Björn</td>\n",
       "      <td>A radialis vänster</td>\n",
       "      <td>Lab 1</td>\n",
       "      <td>14.90</td>\n",
       "      <td>00:05:37</td>\n",
       "    </tr>\n",
       "    <tr>\n",
       "      <th>2</th>\n",
       "      <td>Kvinna</td>\n",
       "      <td>86</td>\n",
       "      <td>NaN</td>\n",
       "      <td>NaN</td>\n",
       "      <td>Andersson, Jonas</td>\n",
       "      <td>A femoralis konverterad från radialis</td>\n",
       "      <td>Lab 1</td>\n",
       "      <td>1.52</td>\n",
       "      <td>00:03:05</td>\n",
       "    </tr>\n",
       "    <tr>\n",
       "      <th>3</th>\n",
       "      <td>Man</td>\n",
       "      <td>86</td>\n",
       "      <td>171.0</td>\n",
       "      <td>75.0</td>\n",
       "      <td>Hagström, Henrik</td>\n",
       "      <td>A radialis höger</td>\n",
       "      <td>Lab 1</td>\n",
       "      <td>7.49</td>\n",
       "      <td>00:04:03</td>\n",
       "    </tr>\n",
       "    <tr>\n",
       "      <th>4</th>\n",
       "      <td>Man</td>\n",
       "      <td>85</td>\n",
       "      <td>NaN</td>\n",
       "      <td>NaN</td>\n",
       "      <td>Pettersson, Björn</td>\n",
       "      <td>A radialis höger</td>\n",
       "      <td>Lab 1</td>\n",
       "      <td>10.40</td>\n",
       "      <td>00:06:55</td>\n",
       "    </tr>\n",
       "  </tbody>\n",
       "</table>\n",
       "</div>"
      ],
      "text/plain": [
       "      Sex  Age  Length_cm  Weight_kg           Operator  \\\n",
       "0  Kvinna   87      160.0       67.0     Hasslow, Jacob   \n",
       "1     Man   86      172.0       90.0  Pettersson, Björn   \n",
       "2  Kvinna   86        NaN        NaN   Andersson, Jonas   \n",
       "3     Man   86      171.0       75.0   Hagström, Henrik   \n",
       "4     Man   85        NaN        NaN  Pettersson, Björn   \n",
       "\n",
       "                             Accesspoint    Lab  KAP_Gycm2 Fluorotime_h_mm_ss  \n",
       "0                       A radialis höger  Lab 1       4.22           00:05:05  \n",
       "1                     A radialis vänster  Lab 1      14.90           00:05:37  \n",
       "2  A femoralis konverterad från radialis  Lab 1       1.52           00:03:05  \n",
       "3                       A radialis höger  Lab 1       7.49           00:04:03  \n",
       "4                       A radialis höger  Lab 1      10.40           00:06:55  "
      ]
     },
     "execution_count": 5,
     "metadata": {},
     "output_type": "execute_result"
    }
   ],
   "source": [
    "#Ersätt , med . samt byt från sträng till float och konvertera från uGym2 till Gycm2\n",
    "data_subset[\"KAP_uGym2\"] = data_subset[\"KAP_uGym2\"].replace(',','.',regex=True).astype(float)\n",
    "data_subset[\"KAP_uGym2\"] = data_subset[\"KAP_uGym2\"] * 0.01\n",
    "\n",
    "data_subset.rename(columns = {\"KAP_uGym2\":\"KAP_Gycm2\"}, inplace = True)\n",
    "\n",
    "#data_subset.dtypes\n",
    "data_subset.head()"
   ]
  },
  {
   "cell_type": "code",
   "execution_count": 6,
   "metadata": {
    "collapsed": false
   },
   "outputs": [
    {
     "name": "stdout",
     "output_type": "stream",
     "text": [
      "Sex\n",
      "Kvinna    202\n",
      "Man       385\n",
      "dtype: int64\n",
      "              Age   Length_cm  Weight_kg  KAP_Gycm2\n",
      "Sex                                                \n",
      "Kvinna  69.747525  162.784173  71.707792   4.308196\n",
      "Man     67.659740  177.532609  88.934932   7.607411\n"
     ]
    }
   ],
   "source": [
    "#Printa ut antal per kön och medelvärde för KAP för att skriva in i DosReg-mall\n",
    "\n",
    "print(data_subset.groupby(\"Sex\").size())\n",
    "\n",
    "print(data_subset.groupby(\"Sex\").mean(numeric_only = True))"
   ]
  },
  {
   "cell_type": "code",
   "execution_count": null,
   "metadata": {
    "collapsed": false
   },
   "outputs": [],
   "source": []
  }
 ],
 "metadata": {
  "kernelspec": {
   "display_name": "rvbrtg",
   "language": "python",
   "name": "python3"
  },
  "language_info": {
   "codemirror_mode": {
    "name": "ipython",
    "version": 3
   },
   "file_extension": ".py",
   "mimetype": "text/x-python",
   "name": "python",
   "nbconvert_exporter": "python",
   "pygments_lexer": "ipython3",
   "version": "3.11.11"
  }
 },
 "nbformat": 4,
 "nbformat_minor": 0
}
