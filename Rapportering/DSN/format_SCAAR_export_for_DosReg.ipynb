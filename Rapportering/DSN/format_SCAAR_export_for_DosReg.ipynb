{
 "cells": [
  {
   "cell_type": "markdown",
   "metadata": {
    "collapsed": false
   },
   "source": [
    "## Formatera data från SCAAR så output kan laddas till DosReg"
   ]
  },
  {
   "cell_type": "markdown",
   "metadata": {
    "collapsed": false
   },
   "source": [
    "Gå till https://www.ucr.uu.se/swedeheart/ och logga in med Siths-kort\\\n",
    "Gå till \"Rapporter\"\\\n",
    "Välj \"Export till Excel Angio-PCI\"\\\n",
    "Rapportdatum: T.ex 2024-01-01 - 2025-01-01\\\n",
    "Angio/PCI: Enbart angio\\\n",
    "Procedur/Segment: Procedur\\\n",
    "Klicka på \"Beställ\" och ladda ner resulterande excel-fil.\\\n",
    "Öppna excel-fil, radera första 3 kolumnerna \"Personnr eller motsv\", \"Typ av personnummer\" och \"Födelsedatum\" och spara till input_data.\n"
   ]
  },
  {
   "cell_type": "code",
   "execution_count": null,
   "metadata": {
    "collapsed": false
   },
   "outputs": [],
   "source": [
    "import pandas as pd\n",
    "\n",
    "# Läs in data från SCAAR\n",
    "\n",
    "SCAAR_data_path = \"C:/Projekt/GIT/rvbrtg/Data/input_data/Angio_2024.xlsx\"\n",
    "data = pd.read_excel(SCAAR_data_path)\n",
    "\n",
    "#data.head()\n",
    "\n",
    "#Minska ner tabellen och döp om kolumner\n",
    "\n",
    "data_subset = data[[\"Kön\", \"Ålder vid procedur\", \"Datum för procedur\", \"Längd (cm)\", \"Vikt (kg)\", \"Angiograför\", \"Punktionställe\", \"Labnamn\", \"Stråldos (µGym2)\", \"Genomlysningstid (h:mm:ss)\", ]].copy()\n",
    "\n",
    "data_subset.columns = [\"Sex\", \"Age\", \"Datum\", \"Length_cm\", \"Weight_kg\", \"Operator\", \"Accesspoint\", \"Lab\", \"KAP_uGym2\", \"Fluorotime_h_mm_ss\"]\n",
    "\n",
    "#data_subset.head()\n",
    "\n",
    "#Ersätt , med . samt byt från sträng till float och konvertera från uGym2 till Gycm2\n",
    "data_subset[\"KAP_uGym2\"] = data_subset[\"KAP_uGym2\"].replace(',','.',regex=True).astype(float)\n",
    "data_subset[\"KAP_uGym2\"] = data_subset[\"KAP_uGym2\"] * 0.01\n",
    "\n",
    "data_subset.rename(columns = {\"KAP_uGym2\":\"KAP_Gycm2\"}, inplace = True)\n",
    "\n",
    "#data_subset.dtypes\n",
    "#data_subset.head()"
   ]
  },
  {
   "cell_type": "code",
   "execution_count": null,
   "metadata": {
    "collapsed": false
   },
   "outputs": [],
   "source": [
    "#Kolla datatyper. Är KAP numeriskt eller en sträng\n",
    "\n",
    "data_subset.dtypes"
   ]
  },
  {
   "cell_type": "code",
   "execution_count": null,
   "metadata": {},
   "outputs": [],
   "source": [
    "#filtrera ut data\n",
    "\n",
    "data_subset_weight = data_subset[(data_subset[\"Weight_kg\"] > 60) & (data_subset[\"Weight_kg\"] < 90)]\n",
    "\n",
    "#data_subset_weight.head()\n",
    "\n",
    "data_subset_U601 = data_subset_weight[data_subset_weight[\"Lab\"] == \"Lab 1\"]\n",
    "\n",
    "data_subset_U601['DAPdiff'] = (\n",
    "        data_subset_U601[\"KAP_Gycm2\"] - data_subset_U601.loc[:, \"KAP_Gycm2\"].median()\n",
    ").abs()\n",
    "data_subset_U601.sort_values('DAPdiff', inplace=True, ignore_index=True)\n",
    "\n",
    "\n",
    "data_subset_U602 = data_subset_weight[data_subset_weight[\"Lab\"] == \"Lab 2\"]\n",
    "\n",
    "data_subset_U602['DAPdiff'] = (\n",
    "        data_subset_U602[\"KAP_Gycm2\"] - data_subset_U602.loc[:, \"KAP_Gycm2\"].median()\n",
    ").abs()\n",
    "data_subset_U602.sort_values('DAPdiff', inplace=True, ignore_index=True)\n",
    "\n",
    "\n",
    "#data_subset_U601.head()"
   ]
  },
  {
   "cell_type": "code",
   "execution_count": null,
   "metadata": {
    "collapsed": false
   },
   "outputs": [],
   "source": [
    "#Printa ut antal per kön och medelvärde för KAP för att skriva in i DosReg-mall\n",
    "\n",
    "print(data_subset_weight.groupby(\"Sex\").size())\n",
    "\n",
    "print(data_subset_weight.groupby(\"Sex\").mean(numeric_only = True))"
   ]
  },
  {
   "cell_type": "code",
   "execution_count": null,
   "metadata": {
    "collapsed": false
   },
   "outputs": [],
   "source": [
    "# Ensure 'Fluorotime_h_mm_ss' is in string format before converting to timedelta\n",
    "data_subset_weight[\"Fluorotime_h_mm_ss\"] = data_subset_weight[\"Fluorotime_h_mm_ss\"].astype(str)\n",
    "\n",
    "# Convert 'Fluorotime_h_mm_ss' to seconds for numerical aggregation\n",
    "data_subset_weight[\"Fluorotime_seconds\"] = pd.to_timedelta(data_subset_weight[\"Fluorotime_h_mm_ss\"]).dt.total_seconds()\n",
    "\n",
    "# Group by 'Operator' and calculate mean values for specified columns\n",
    "mean_values = data_subset_weight.groupby(\"Lab\").median(numeric_only=True)[[\"Age\", \"Length_cm\", \"Weight_kg\", \"KAP_Gycm2\"]]\n",
    "\n",
    "# Add mean of 'Fluorotime_seconds' to the grouped data\n",
    "mean_values[\"Fluorotime_seconds\"] = data_subset_weight.groupby(\"Lab\")[\"Fluorotime_seconds\"].mean()\n",
    "\n",
    "# Convert 'Fluorotime_seconds' back to h:mm:ss format\n",
    "mean_values[\"Fluorotime_h_mm_ss\"] = pd.to_timedelta(mean_values[\"Fluorotime_seconds\"], unit='s')\n",
    "\n",
    "# Drop the intermediate 'Fluorotime_seconds' column\n",
    "mean_values = mean_values.drop(columns=[\"Fluorotime_seconds\"])\n",
    "\n",
    "# Display the result\n",
    "print(mean_values)"
   ]
  }
 ],
 "metadata": {
  "kernelspec": {
   "display_name": "rvbrtg",
   "language": "python",
   "name": "python3"
  },
  "language_info": {
   "codemirror_mode": {
    "name": "ipython",
    "version": 3
   },
   "file_extension": ".py",
   "mimetype": "text/x-python",
   "name": "python",
   "nbconvert_exporter": "python",
   "pygments_lexer": "ipython3",
   "version": "3.11.11"
  }
 },
 "nbformat": 4,
 "nbformat_minor": 0
}
