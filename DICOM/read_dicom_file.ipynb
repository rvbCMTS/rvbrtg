{
 "cells": [
  {
   "cell_type": "code",
   "execution_count": null,
   "id": "13f73b56-6a91-4805-9a57-e32256e68801",
   "metadata": {},
   "outputs": [],
   "source": [
    "import sys\n",
    "\n",
    "sys.path.append(\"..\")  # imports from main folder\n",
    "\n",
    "from pathlib import Path\n",
    "from utils.plot_utils import _create_colorbar, _remove_ax_ticks\n",
    "\n",
    "import matplotlib.pyplot as plt\n",
    "import numpy as np\n",
    "import pydicom"
   ]
  },
  {
   "cell_type": "code",
   "execution_count": null,
   "id": "f93132e8",
   "metadata": {},
   "outputs": [],
   "source": [
    "# load dicom file\n",
    "data_path = Path.cwd().parent / \"data\"\n",
    "file_name = \"example_image_dicom_format.dcm\"\n",
    "\n",
    "dcm_file = pydicom.dcmread(data_path / file_name)"
   ]
  },
  {
   "cell_type": "code",
   "execution_count": null,
   "id": "48fd5208",
   "metadata": {},
   "outputs": [],
   "source": [
    "# print entire dicom file\n",
    "for item in dcm_file:\n",
    "    print(item)"
   ]
  },
  {
   "cell_type": "code",
   "execution_count": null,
   "id": "8cdd7991",
   "metadata": {},
   "outputs": [],
   "source": [
    "# ways to find a single DICOM tag:\n",
    "# ex KVP (0018,0060)\n",
    "print(dcm_file.KVP)\n",
    "print(dcm_file[0x0018,0x0060])"
   ]
  },
  {
   "cell_type": "code",
   "execution_count": null,
   "id": "0098e6f9",
   "metadata": {},
   "outputs": [],
   "source": [
    "# get image matrix:\n",
    "image = dcm_file.RescaleSlope * dcm_file.pixel_array + dcm_file.RescaleIntercept\n",
    "print(f\"image loaded with shape: {image.shape}\")"
   ]
  },
  {
   "cell_type": "code",
   "execution_count": null,
   "id": "3d2157f9",
   "metadata": {},
   "outputs": [],
   "source": [
    "# plot image array\n",
    "\n",
    "fig, ax = plt.subplots(figsize=(6, 6))\n",
    "\n",
    "lims = [image.mean() - 1 * image.std(), image.mean() + 1 * image.std()]\n",
    "cmap = plt.cm.viridis\n",
    "title_plot = f\"plot with shape {image.shape}\"\n",
    "title_cbar = \"voxel\\n value\"\n",
    "\n",
    "im = ax.imshow(image, cmap=cmap, vmin=lims[0], vmax=lims[1])\n",
    "\n",
    "ax.set(title=title_plot)\n",
    "_create_colorbar(fig, im, ax, title=title_cbar)\n",
    "plt.show()"
   ]
  },
  {
   "cell_type": "code",
   "execution_count": null,
   "id": "b73fa90d",
   "metadata": {},
   "outputs": [],
   "source": []
  }
 ],
 "metadata": {
  "kernelspec": {
   "display_name": "Python 3.9.15 ('genpy')",
   "language": "python",
   "name": "python3"
  },
  "language_info": {
   "codemirror_mode": {
    "name": "ipython",
    "version": 3
   },
   "file_extension": ".py",
   "mimetype": "text/x-python",
   "name": "python",
   "nbconvert_exporter": "python",
   "pygments_lexer": "ipython3",
   "version": "3.9.15"
  },
  "vscode": {
   "interpreter": {
    "hash": "9e000b12aae1279f87cc983315f73df3d74e9d8a3dd1c3bc0616b1fcda8dee14"
   }
  }
 },
 "nbformat": 4,
 "nbformat_minor": 5
}
