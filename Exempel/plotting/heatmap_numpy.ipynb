{
 "cells": [
  {
   "cell_type": "code",
   "execution_count": null,
   "id": "13f73b56-6a91-4805-9a57-e32256e68801",
   "metadata": {},
   "outputs": [],
   "source": [
    "import sys\n",
    "\n",
    "sys.path.append(\"../..\")  # imports from main folder\n",
    "\n",
    "from pathlib import Path\n",
    "from utils.plot_utils import _create_colorbar, _remove_ax_ticks\n",
    "\n",
    "import matplotlib.pyplot as plt\n",
    "import numpy as np"
   ]
  },
  {
   "cell_type": "code",
   "execution_count": null,
   "id": "f93132e8",
   "metadata": {},
   "outputs": [],
   "source": [
    "data_path = Path.cwd().parent / \"Example data\"\n",
    "image = np.load(data_path / \"example_image_numpy_format.npy\")\n",
    "\n",
    "\n",
    "fig, ax = plt.subplots(figsize=(6, 6))\n",
    "_remove_ax_ticks(ax)\n",
    "\n",
    "\n",
    "mat = image\n",
    "lims = [None, None]\n",
    "cmap = plt.cm.gray\n",
    "title_plot = f\"plot with shape {mat.shape}\"\n",
    "title_cbar = \"unit\"\n",
    "\n",
    "im = ax.imshow(mat, cmap=cmap, vmin=lims[0], vmax=lims[1])\n",
    "\n",
    "ax.set(title=title_plot)\n",
    "_create_colorbar(fig, im, ax, title=title_cbar)\n",
    "plt.show()"
   ]
  },
  {
   "cell_type": "code",
   "execution_count": null,
   "id": "48fd5208",
   "metadata": {},
   "outputs": [],
   "source": []
  }
 ],
 "metadata": {
  "kernelspec": {
   "display_name": "Python 3.9.15 ('genpy')",
   "language": "python",
   "name": "python3"
  },
  "language_info": {
   "codemirror_mode": {
    "name": "ipython",
    "version": 3
   },
   "file_extension": ".py",
   "mimetype": "text/x-python",
   "name": "python",
   "nbconvert_exporter": "python",
   "pygments_lexer": "ipython3",
   "version": "3.9.7"
  },
  "vscode": {
   "interpreter": {
    "hash": "9e000b12aae1279f87cc983315f73df3d74e9d8a3dd1c3bc0616b1fcda8dee14"
   }
  }
 },
 "nbformat": 4,
 "nbformat_minor": 5
}
