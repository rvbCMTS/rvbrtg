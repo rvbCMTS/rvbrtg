{
 "cells": [
  {
   "cell_type": "code",
   "execution_count": null,
   "id": "13f73b56-6a91-4805-9a57-e32256e68801",
   "metadata": {},
   "outputs": [],
   "source": [
    "import sys\n",
    "\n",
    "sys.path.append(\"../..\")  # imports from main folder\n",
    "\n",
    "from pathlib import Path\n",
    "from utils.plot_utils import _create_colorbar, _remove_ax_ticks\n",
    "\n",
    "import plotly.graph_objects as go\n",
    "import numpy as np"
   ]
  },
  {
   "cell_type": "code",
   "execution_count": null,
   "id": "f93132e8",
   "metadata": {},
   "outputs": [],
   "source": [
    "data_path = Path.cwd().parent / \"Example data\"\n",
    "# load example image in numpy format\n",
    "image = np.load(data_path / \"example_image_numpy_format.npy\")\n",
    "\n",
    "# Set lims for colorscale (Sets min/max by default in None)\n",
    "lims = [None, None]\n",
    "\n",
    "# set colormap for heatmap plot:\n",
    "# available colormaps in plotly\n",
    "#\"Blackbody,Bluered,Blues,C ividis,Earth,Electric,Greens,Greys,Hot,Jet,Picnic,Portl and,Rainbow,RdBu,Reds,Viridis,YlGnBu,YlOrRd\n",
    "colormap = 'Viridis'\n",
    "\n",
    "# set True to export plot to html\n",
    "export_plot_to_html = False\n",
    "file_name = 'plotly_example_plot.html'\n",
    "\n",
    "# create heatmap\n",
    "data = go.Heatmap(\n",
    "    z=image,\n",
    "    zmin=lims[0],\n",
    "    zmax=lims[1],\n",
    "    colorscale=colormap,\n",
    "    )\n",
    "# create figure and add heatmap plot\n",
    "fig = go.Figure(data=data)\n",
    "\n",
    "# get image shape\n",
    "image_height, image_width = image.shape[0], image.shape[1]\n",
    "\n",
    "\n",
    "# update layout\n",
    "fig.update_layout(\n",
    "    # plot title\n",
    "    title='title',\n",
    "    xaxis=dict(\n",
    "        # xlabel\n",
    "        title='x-label',\n",
    "        # sets image shape to ticks\n",
    "        tickmode=\"array\",\n",
    "        tickvals=[0, image_width-1],\n",
    "    ),\n",
    "    yaxis=dict(\n",
    "        # ylabel\n",
    "        title='y-label',\n",
    "        # set scaleanchor to get proper aspect ratio\n",
    "        scaleanchor=\"x\",\n",
    "        scaleratio=1,\n",
    "        # sets image shape to ticks\n",
    "        tickmode=\"array\",\n",
    "        tickvals=[0, image_height-1],\n",
    "    ),\n",
    "    # set plot size\n",
    "    width=None,\n",
    "    height=None,\n",
    ")\n",
    "\n",
    "# export the image as html\n",
    "if export_plot_to_html:\n",
    "    fig.write_html(file_name)\n",
    "\n",
    "# plot the figure directly in jupyter\n",
    "fig.show()\n"
   ]
  },
  {
   "cell_type": "code",
   "execution_count": null,
   "id": "88414630",
   "metadata": {},
   "outputs": [],
   "source": [
    "image.shape"
   ]
  },
  {
   "cell_type": "code",
   "execution_count": null,
   "id": "023c7559",
   "metadata": {},
   "outputs": [],
   "source": []
  }
 ],
 "metadata": {
  "kernelspec": {
   "display_name": "Python 3.9.15 ('genpy')",
   "language": "python",
   "name": "python3"
  },
  "language_info": {
   "codemirror_mode": {
    "name": "ipython",
    "version": 3
   },
   "file_extension": ".py",
   "mimetype": "text/x-python",
   "name": "python",
   "nbconvert_exporter": "python",
   "pygments_lexer": "ipython3",
   "version": "3.9.7"
  },
  "vscode": {
   "interpreter": {
    "hash": "9e000b12aae1279f87cc983315f73df3d74e9d8a3dd1c3bc0616b1fcda8dee14"
   }
  }
 },
 "nbformat": 4,
 "nbformat_minor": 5
}
